{
 "cells": [
  {
   "cell_type": "markdown",
   "metadata": {
    "colab_type": "text",
    "id": "fKK1NqdSabRi"
   },
   "source": [
    "*Сегодня мы поговорим о новых типах данных: кортежах, множествах и словарях*"
   ]
  },
  {
   "cell_type": "markdown",
   "metadata": {
    "colab_type": "text",
    "id": "YPY75dCcrW7f"
   },
   "source": [
    "##**Кортеж (tuple)**\n",
    "\n",
    "это неизменяемый список.\n",
    "\n",
    "Зачем нужны кортежи, если есть списки?\n",
    "\n",
    "    1. Защита данных. Кортеж защищен от изменений, как намеренных (что плохо), так и случайных (что хорошо).\n",
    "    2. Меньший размер. Вам нужно меньше памяти, чтобы хранить данные"
   ]
  },
  {
   "cell_type": "code",
   "execution_count": 1,
   "metadata": {
    "colab": {
     "base_uri": "https://localhost:8080/",
     "height": 68
    },
    "colab_type": "code",
    "id": "XgCyWbsYr-JO",
    "outputId": "c8e3a6ab-b15e-4d77-fe6a-fa901d735aa5"
   },
   "outputs": [
    {
     "name": "stdout",
     "output_type": "stream",
     "text": [
      "\n",
      "Size of the tuple:  72 \n",
      "size of the list:  88\n"
     ]
    }
   ],
   "source": [
    "# сравним размеры в байтах\n",
    "\n",
    "a = (1, 2, 3, 4, 5, 6) # кортеж\n",
    "b = [1, 2, 3, 4, 5, 6] # лист/список\n",
    "\n",
    "print(\"\\nSize of the tuple: \",a.__sizeof__(),\"\\nsize of the list: \",b.__sizeof__()) \n",
    "\n"
   ]
  },
  {
   "cell_type": "markdown",
   "metadata": {
    "colab_type": "text",
    "id": "kwkjBl0T12UV"
   },
   "source": [
    "Давайте создадим кортеж: \n",
    "\n",
    "    1. С помощью встроенной функции tuple()\n",
    "\n"
   ]
  },
  {
   "cell_type": "code",
   "execution_count": 2,
   "metadata": {
    "colab": {
     "base_uri": "https://localhost:8080/",
     "height": 34
    },
    "colab_type": "code",
    "id": "kriHPlVcspMc",
    "outputId": "d2952c9d-bb9e-495b-982e-84a1a3195fb3"
   },
   "outputs": [
    {
     "name": "stdout",
     "output_type": "stream",
     "text": [
      "() \n",
      " <class 'tuple'>\n"
     ]
    }
   ],
   "source": [
    "a = tuple() \n",
    "\n",
    "print(a, \"\\n\",type(a))"
   ]
  },
  {
   "cell_type": "markdown",
   "metadata": {
    "colab_type": "text",
    "id": "Z1Jd5U1M7PT1"
   },
   "source": [
    "    2. С помощью литерала кортежа ()"
   ]
  },
  {
   "cell_type": "code",
   "execution_count": 3,
   "metadata": {
    "colab": {
     "base_uri": "https://localhost:8080/",
     "height": 34
    },
    "colab_type": "code",
    "id": "yLIrwtKd7P30",
    "outputId": "e51dc95e-39fb-4742-9458-2a74b56e0de6"
   },
   "outputs": [
    {
     "name": "stdout",
     "output_type": "stream",
     "text": [
      "() \n",
      " <class 'tuple'>\n"
     ]
    }
   ],
   "source": [
    "b = ()\n",
    "print(b, \"\\n\",type(b))\n"
   ]
  },
  {
   "cell_type": "markdown",
   "metadata": {
    "colab_type": "text",
    "id": "yDSTSFZz2ARR"
   },
   "source": [
    "Создаем кортеж из одного элемента:"
   ]
  },
  {
   "cell_type": "code",
   "execution_count": 4,
   "metadata": {
    "colab": {
     "base_uri": "https://localhost:8080/",
     "height": 34
    },
    "colab_type": "code",
    "id": "WJOgLwE22Nm_",
    "outputId": "48e4b74c-8156-4a12-f248-aa794bec4bdc"
   },
   "outputs": [
    {
     "name": "stdout",
     "output_type": "stream",
     "text": [
      "sljbglb ;k \n",
      " <class 'str'>\n"
     ]
    }
   ],
   "source": [
    "a = ('banana')\n",
    "print(a, \"\\n\",type(a))\n",
    "# проверим его тип "
   ]
  },
  {
   "cell_type": "markdown",
   "metadata": {
    "colab_type": "text",
    "id": "zLdrLOn87nW-"
   },
   "source": [
    "\n",
    "Получилась строка :(  \n",
    "    \n",
    "А как получить кортеж?\n",
    "\n"
   ]
  },
  {
   "cell_type": "code",
   "execution_count": 5,
   "metadata": {
    "colab": {
     "base_uri": "https://localhost:8080/",
     "height": 34
    },
    "colab_type": "code",
    "id": "KsCCXu7L73Ic",
    "outputId": "9d36152c-c53f-4fc3-878e-570d6da2a154"
   },
   "outputs": [
    {
     "name": "stdout",
     "output_type": "stream",
     "text": [
      "('sljbglb ;k',) \n",
      " <class 'tuple'>\n"
     ]
    }
   ],
   "source": [
    "a = ('banana', ) # все дело в запятой! \n",
    "\n",
    "print(a, \"\\n\",type(a))\n",
    "# проверим тип "
   ]
  },
  {
   "cell_type": "markdown",
   "metadata": {
    "colab_type": "text",
    "id": "oAtBJPku8Lnv"
   },
   "source": [
    "    3. и еще один способ задать кортеж:"
   ]
  },
  {
   "cell_type": "code",
   "execution_count": 6,
   "metadata": {
    "colab": {
     "base_uri": "https://localhost:8080/",
     "height": 34
    },
    "colab_type": "code",
    "id": "aq-kuGVJ8LHf",
    "outputId": "dcbfcb47-8000-41ba-be93-bad81d6573ab"
   },
   "outputs": [
    {
     "name": "stdout",
     "output_type": "stream",
     "text": [
      "('s',) \n",
      " <class 'tuple'>\n"
     ]
    }
   ],
   "source": [
    "a = 's', # все дело в запятой\n",
    "\n",
    "print(a, \"\\n\",type(a))\n"
   ]
  },
  {
   "cell_type": "markdown",
   "metadata": {
    "colab_type": "text",
    "id": "cZxrlN068hK3"
   },
   "source": [
    "создать кортеж из итерируемого объекта можно с помощью функции tuple()"
   ]
  },
  {
   "cell_type": "code",
   "execution_count": 165,
   "metadata": {
    "colab": {
     "base_uri": "https://localhost:8080/",
     "height": 34
    },
    "colab_type": "code",
    "id": "styHyGPj8YXC",
    "outputId": "1df38c6d-bb0a-4689-ef05-48728258dce8"
   },
   "outputs": [
    {
     "name": "stdout",
     "output_type": "stream",
     "text": [
      "[34, 78, 'banana', 100]\n",
      "(34, 78, 'banana', 100)\n"
     ]
    }
   ],
   "source": [
    "# b = list(\"hello\")\n",
    "\n",
    "my_list = [34,78,\"banana\"]\n",
    "# print(my_list)\n",
    "\n",
    "my_list.append(100)\n",
    "print(my_list)\n",
    "\n",
    "my_tuple = tuple(my_list)\n",
    "print(my_tuple)\n",
    "# my_tuple.sort()\n",
    "# print(my_tuple)\n"
   ]
  },
  {
   "cell_type": "markdown",
   "metadata": {
    "colab_type": "text",
    "id": "csvhTL2Y8uxw"
   },
   "source": [
    "### Операции с кортежами\n",
    "\n",
    "кортежам доступны все операции над списками, не изменяющие список: сложение, умножение на число, методы ```index()``` и ```count()```, можно работать с индексами и так далее."
   ]
  },
  {
   "cell_type": "code",
   "execution_count": 167,
   "metadata": {},
   "outputs": [
    {
     "name": "stdout",
     "output_type": "stream",
     "text": [
      "102\n",
      "234\n",
      "bananabananabanana\n",
      "300\n"
     ]
    }
   ],
   "source": [
    "for x in my_tuple:\n",
    "    if x != None: \n",
    "        print (x*3)"
   ]
  },
  {
   "cell_type": "markdown",
   "metadata": {
    "colab_type": "text",
    "id": "LKlVNlBfjJHx"
   },
   "source": [
    "## **Множество (set)**\n",
    "\n",
    "это тоже \"контейнер\" для данных, но в отличие от листа(списка), он содержит уникальные, не повторяющиеся элементы.\n",
    "\n",
    "Давайте создадим множество:\n",
    "\n",
    "    1. с помощью функуии set()\n",
    "\n"
   ]
  },
  {
   "cell_type": "code",
   "execution_count": 168,
   "metadata": {
    "colab": {
     "base_uri": "https://localhost:8080/",
     "height": 34
    },
    "colab_type": "code",
    "id": "BaShf-dHlOtZ",
    "outputId": "d9c58ebc-ca83-4247-8128-469b78d5ed96"
   },
   "outputs": [
    {
     "name": "stdout",
     "output_type": "stream",
     "text": [
      "{'banana', 34, 78}\n",
      "{'e', 't', 'l', ' ', 'o', 'r', 'h'}\n",
      "{'there', 'hello'}\n"
     ]
    }
   ],
   "source": [
    "print(set([34,78,\"banana\"]))\n",
    "\n",
    "print(set(\"hello there\"))\n",
    "\n",
    "tmp = \"hello there\"\n",
    "print(set(tmp.split()))"
   ]
  },
  {
   "cell_type": "markdown",
   "metadata": {},
   "source": [
    "Множества удобно использовать для удаления повторяющихся элементов:"
   ]
  },
  {
   "cell_type": "code",
   "execution_count": 169,
   "metadata": {
    "colab": {
     "base_uri": "https://localhost:8080/",
     "height": 68
    },
    "colab_type": "code",
    "id": "_EopXMulaUrO",
    "outputId": "4cc750b4-05cf-4ce7-d11c-5db466e8e7dd"
   },
   "outputs": [
    {
     "name": "stdout",
     "output_type": "stream",
     "text": [
      "{'persimmons', 'cherries', 'oranges', 'pears', 'apples', 'peaches'}\n"
     ]
    }
   ],
   "source": [
    "fruits = [\"apples\",\"peaches\",\"cherries\",\"pears\",\"oranges\",\"persimmons\"]\n",
    "# задали список, сохранили в переменную\n",
    "\n",
    "fruits.append(\"peaches\")# добавим еще больше персиков\n",
    "\n",
    "# давайте изменим тип объекта на set с помощью функции set()\n",
    "fruits = set(fruits) #применили функцию, пересохранили переменную\n",
    "\n",
    "print(fruits)"
   ]
  },
  {
   "cell_type": "markdown",
   "metadata": {
    "colab_type": "text",
    "id": "Iq05WnEfmTFK"
   },
   "source": [
    "    2. с помощью литерала {} "
   ]
  },
  {
   "cell_type": "code",
   "execution_count": 35,
   "metadata": {
    "colab": {
     "base_uri": "https://localhost:8080/",
     "height": 34
    },
    "colab_type": "code",
    "id": "p81krk1FlIDE",
    "outputId": "51ee68b9-dc02-40e3-bac1-4a0a7ae4c192"
   },
   "outputs": [
    {
     "name": "stdout",
     "output_type": "stream",
     "text": [
      "{2} <class 'set'>\n"
     ]
    }
   ],
   "source": [
    "new_set = {2}  # создали переменную, сложили в нее некоторые объекты\n",
    "# можем складывать в множество объекты разных типов: числовые, строковые, логические\n",
    "\n",
    "# давайте проверим, что new_set действительно множество\n",
    "print(new_set, type(new_set))\n"
   ]
  },
  {
   "cell_type": "markdown",
   "metadata": {
    "colab_type": "text",
    "id": "ydhwxVHInUMi"
   },
   "source": [
    "    NB! обратите внимание, что в отличие от листа, множество нельзя задать пустым литералом"
   ]
  },
  {
   "cell_type": "code",
   "execution_count": 170,
   "metadata": {
    "colab": {
     "base_uri": "https://localhost:8080/",
     "height": 51
    },
    "colab_type": "code",
    "id": "oLz-iV-1muUf",
    "outputId": "dd529d6f-583e-4235-d80f-b386115e9e72"
   },
   "outputs": [
    {
     "name": "stdout",
     "output_type": "stream",
     "text": [
      "<class 'dict'>\n"
     ]
    }
   ],
   "source": [
    "another_set = {} # создали пустое....\n",
    "\n",
    "# ....множество? Давайте проверим тип созданной переменной \n",
    "\n",
    "print(type(another_set)) \n"
   ]
  },
  {
   "cell_type": "markdown",
   "metadata": {
    "colab_type": "text",
    "id": "y4CRSI6nolqC"
   },
   "source": [
    "### Операции со множествами"
   ]
  },
  {
   "cell_type": "code",
   "execution_count": 176,
   "metadata": {
    "colab": {
     "base_uri": "https://localhost:8080/",
     "height": 34
    },
    "colab_type": "code",
    "id": "1NhqLbvingJ0",
    "outputId": "e94f1c52-6d0b-499d-fa09-8628feef48e2"
   },
   "outputs": [
    {
     "data": {
      "text/plain": [
       "4"
      ]
     },
     "execution_count": 176,
     "metadata": {},
     "output_type": "execute_result"
    }
   ],
   "source": [
    "cars = [\"BMW\",\"Toyota\",\"Bentley\",\"Jeep\",\"Jeep\"]\n",
    "\n",
    "cars = set(cars)\n",
    "\n",
    "#число элементов в множестве (размер множества).\n",
    "len(cars)"
   ]
  },
  {
   "cell_type": "code",
   "execution_count": 177,
   "metadata": {
    "colab": {
     "base_uri": "https://localhost:8080/",
     "height": 34
    },
    "colab_type": "code",
    "id": "Y6fK44Icpw9F",
    "outputId": "7f36c759-bf34-404f-e9df-d8e7a9aab051"
   },
   "outputs": [
    {
     "name": "stdout",
     "output_type": "stream",
     "text": [
      "True\n",
      "False\n"
     ]
    }
   ],
   "source": [
    "# принадлежит ли элемент множеству\n",
    "\n",
    "print(\"BMW\" in cars)\n",
    "print(\"Chevrolet\" in cars)\n"
   ]
  },
  {
   "cell_type": "markdown",
   "metadata": {
    "colab_type": "text",
    "id": "uG4DH-lYqdbb"
   },
   "source": [
    "И операции, изменяющие множество:"
   ]
  },
  {
   "cell_type": "code",
   "execution_count": 178,
   "metadata": {
    "colab": {
     "base_uri": "https://localhost:8080/",
     "height": 34
    },
    "colab_type": "code",
    "id": "KgU_LV5BA-Us",
    "outputId": "efa3c3f9-e95d-43bd-c696-d56a1c316391"
   },
   "outputs": [
    {
     "name": "stdout",
     "output_type": "stream",
     "text": [
      "{'BMW', 'Toyota', 'Bentley', 789, 'Jeep'}\n"
     ]
    }
   ],
   "source": [
    "#добавляем элемент в множество\n",
    "\n",
    "cars.add(789)\n",
    "print(cars) "
   ]
  },
  {
   "cell_type": "code",
   "execution_count": 192,
   "metadata": {
    "colab": {
     "base_uri": "https://localhost:8080/",
     "height": 34
    },
    "colab_type": "code",
    "id": "Huof99PqqGor",
    "outputId": "d5229aa9-af1b-4b0d-d7f6-4b718ca71df9"
   },
   "outputs": [
    {
     "name": "stdout",
     "output_type": "stream",
     "text": [
      "{'Citroën', 'Peugeot', 'Renault'} 3\n"
     ]
    }
   ],
   "source": [
    "# добавляем множество во множество\n",
    "french_cars = {\"Peugeot\", \"Citroën\", \"Renault\"}\n",
    "\n",
    "cars.update(french_cars)\n",
    "print(cars, len(cars))"
   ]
  },
  {
   "cell_type": "code",
   "execution_count": 180,
   "metadata": {
    "colab": {
     "base_uri": "https://localhost:8080/",
     "height": 34
    },
    "colab_type": "code",
    "id": "T85OTjscCEOo",
    "outputId": "99b35d05-58b5-4bf5-93d5-9f679f606a1c"
   },
   "outputs": [
    {
     "name": "stdout",
     "output_type": "stream",
     "text": [
      "{'BMW', 'Citroën', 'Toyota', 'Bentley', 'Renault', 789, 'Peugeot'}\n"
     ]
    }
   ],
   "source": [
    "# удаляем элемент из множества. \n",
    "cars.remove(\"Jeep\")\n",
    "print(cars)"
   ]
  },
  {
   "cell_type": "code",
   "execution_count": null,
   "metadata": {
    "colab": {
     "base_uri": "https://localhost:8080/",
     "height": 163
    },
    "colab_type": "code",
    "id": "Q1-ymgelCR7C",
    "outputId": "24660a37-05cb-4698-90cb-4924a42d95a8"
   },
   "outputs": [],
   "source": [
    "# KeyError, если такого элемента не существует.\n",
    "cars.remove()"
   ]
  },
  {
   "cell_type": "code",
   "execution_count": 181,
   "metadata": {
    "colab": {},
    "colab_type": "code",
    "id": "3myR0EyVCYhc"
   },
   "outputs": [],
   "source": [
    "# Альтернативный вариант\n",
    "\n",
    "cars.discard(\"Lamborgini\") \n",
    "# удаляет элемент, если он находится в множестве.\n",
    "# Если элемента нет, не возвращает сообщение об ошибке\n"
   ]
  },
  {
   "cell_type": "code",
   "execution_count": 182,
   "metadata": {
    "colab": {
     "base_uri": "https://localhost:8080/",
     "height": 51
    },
    "colab_type": "code",
    "id": "MtMXFJd7C6PB",
    "outputId": "2ca867f8-bf67-4cf6-c9cc-4bd1453a0fc9"
   },
   "outputs": [
    {
     "name": "stdout",
     "output_type": "stream",
     "text": [
      "{'BMW', 'Citroën', 'Toyota', 'Bentley', 'Renault', 789, 'Peugeot'}\n",
      "BMW\n"
     ]
    }
   ],
   "source": [
    "# удаляет первый элемент\n",
    "\n",
    "print(cars.pop())\n",
    "\n",
    "# запустите несколько раз, посмотрите на результат"
   ]
  },
  {
   "cell_type": "code",
   "execution_count": 184,
   "metadata": {
    "colab": {
     "base_uri": "https://localhost:8080/",
     "height": 34
    },
    "colab_type": "code",
    "id": "9D-k4CWQDJBi",
    "outputId": "01f12316-fbfb-40a1-c329-e7a069373efe"
   },
   "outputs": [
    {
     "name": "stdout",
     "output_type": "stream",
     "text": [
      "\n",
      " set()\n"
     ]
    }
   ],
   "source": [
    "# очищаем множество\n",
    "\n",
    "cars.clear()\n",
    "print(\"\\n\",cars)"
   ]
  },
  {
   "cell_type": "markdown",
   "metadata": {
    "colab_type": "text",
    "id": "xqvSy9Hyqr0Q"
   },
   "source": [
    "### Логические операции со множествами"
   ]
  },
  {
   "cell_type": "code",
   "execution_count": 185,
   "metadata": {
    "colab": {
     "base_uri": "https://localhost:8080/",
     "height": 34
    },
    "colab_type": "code",
    "id": "phO-apGeDa_7",
    "outputId": "8434ab0b-3442-4b4f-fc0c-bfbe39ff971e"
   },
   "outputs": [
    {
     "data": {
      "text/plain": [
       "{'apples', 'cherries', 'oranges', 'peaches', 'pears', 'persimmons'}"
      ]
     },
     "execution_count": 185,
     "metadata": {},
     "output_type": "execute_result"
    }
   ],
   "source": [
    "fruits # возьмем наше множество фруктов"
   ]
  },
  {
   "cell_type": "code",
   "execution_count": 186,
   "metadata": {
    "colab": {
     "base_uri": "https://localhost:8080/",
     "height": 34
    },
    "colab_type": "code",
    "id": "lm7L0evHqbVQ",
    "outputId": "e03cf812-654f-4568-b45d-03c42427fe28"
   },
   "outputs": [
    {
     "data": {
      "text/plain": [
       "True"
      ]
     },
     "execution_count": 186,
     "metadata": {},
     "output_type": "execute_result"
    }
   ],
   "source": [
    "# поиск общих элементов\n",
    "berries = {\"strawberry\", \"red currant\"}\n",
    "\n",
    "fruits.isdisjoint(berries) # True, если множества  не имеют общих элементов."
   ]
  },
  {
   "cell_type": "code",
   "execution_count": 187,
   "metadata": {
    "colab": {
     "base_uri": "https://localhost:8080/",
     "height": 34
    },
    "colab_type": "code",
    "id": "Xvl3ribkEAZH",
    "outputId": "44eb93d0-c28a-47da-db9d-c3d573bdad7e"
   },
   "outputs": [
    {
     "data": {
      "text/plain": [
       "False"
      ]
     },
     "execution_count": 187,
     "metadata": {},
     "output_type": "execute_result"
    }
   ],
   "source": [
    "# сравнение множеств\n",
    "\n",
    "fruits == berries\n",
    " # True если все элементы одного принадлежат второму"
   ]
  },
  {
   "cell_type": "code",
   "execution_count": 188,
   "metadata": {
    "colab": {
     "base_uri": "https://localhost:8080/",
     "height": 34
    },
    "colab_type": "code",
    "id": "ELuzu41lEORu",
    "outputId": "4af4b623-09cc-4858-c41d-205a66ed9837"
   },
   "outputs": [
    {
     "data": {
      "text/plain": [
       "False"
      ]
     },
     "execution_count": 188,
     "metadata": {},
     "output_type": "execute_result"
    }
   ],
   "source": [
    "# является ли подмножеством\n",
    "\n",
    "\n",
    "berries.issubset(fruits) \n",
    "\n",
    "# print(berries <= fruits) "
   ]
  },
  {
   "cell_type": "code",
   "execution_count": 59,
   "metadata": {
    "colab": {
     "base_uri": "https://localhost:8080/",
     "height": 34
    },
    "colab_type": "code",
    "id": "Nwd7FzFPEsD1",
    "outputId": "a2b2dfb4-3c7e-4f06-e35d-d7a1acde77e4"
   },
   "outputs": [
    {
     "name": "stdout",
     "output_type": "stream",
     "text": [
      "True\n"
     ]
    }
   ],
   "source": [
    "# аналогично, но в обратную сторону\n",
    "\n",
    "# fruits.issuperset(berries) \n",
    "# print(berries >= fruits)"
   ]
  },
  {
   "cell_type": "code",
   "execution_count": 190,
   "metadata": {
    "colab": {
     "base_uri": "https://localhost:8080/",
     "height": 153
    },
    "colab_type": "code",
    "id": "K2rxv2lnFD3z",
    "outputId": "d5712719-6073-4206-edc8-4acbf17a5586"
   },
   "outputs": [
    {
     "name": "stdout",
     "output_type": "stream",
     "text": [
      "{'cherries', 'oranges', 'strawberry', 'red currant', 'pears', 'peaches', 'apples', 'persimmons'}\n"
     ]
    }
   ],
   "source": [
    "# объединение нескольких множеств \n",
    "\n",
    "print(fruits.union(berries))\n",
    "\n",
    "#print(fruits | berries)"
   ]
  },
  {
   "cell_type": "code",
   "execution_count": 193,
   "metadata": {
    "colab": {
     "base_uri": "https://localhost:8080/",
     "height": 34
    },
    "colab_type": "code",
    "id": "fXN6VpSoFVQb",
    "outputId": "272c677d-f3ee-47ab-a887-fd04759aa412"
   },
   "outputs": [
    {
     "name": "stdout",
     "output_type": "stream",
     "text": [
      "set()\n",
      "{'Citroën', 'Peugeot', 'Renault'}\n"
     ]
    }
   ],
   "source": [
    "#  пересечение множеств (пустое, если нет общих элементов)\n",
    "\n",
    "print(fruits.intersection(berries))\n",
    "# print(fruits & berries)\n",
    "\n",
    "print(cars.intersection(french_cars))"
   ]
  },
  {
   "cell_type": "markdown",
   "metadata": {
    "colab_type": "text",
    "id": "zDDJ_qsdqvk-"
   },
   "source": [
    "### еще один вид множества - frozenset\n",
    "\n",
    "    set изменяемый, frozenset - нет"
   ]
  },
  {
   "cell_type": "code",
   "execution_count": 197,
   "metadata": {
    "colab": {
     "base_uri": "https://localhost:8080/",
     "height": 34
    },
    "colab_type": "code",
    "id": "1RHX7pXrq-42",
    "outputId": "dd8cc282-1f74-40c9-a1f6-e653f1055ec5"
   },
   "outputs": [
    {
     "name": "stdout",
     "output_type": "stream",
     "text": [
      "True\n"
     ]
    }
   ],
   "source": [
    "a = set(\"random\")\n",
    "\n",
    "b = frozenset('random')\n",
    "\n",
    "print(a == b) # давайте сравним множества"
   ]
  },
  {
   "cell_type": "code",
   "execution_count": 198,
   "metadata": {},
   "outputs": [
    {
     "data": {
      "text/plain": [
       "{'a', 'd', 'm', 'n', 'o', 'r'}"
      ]
     },
     "execution_count": 198,
     "metadata": {},
     "output_type": "execute_result"
    }
   ],
   "source": [
    "a.intersection(b)"
   ]
  },
  {
   "cell_type": "code",
   "execution_count": 199,
   "metadata": {
    "colab": {
     "base_uri": "https://localhost:8080/",
     "height": 34
    },
    "colab_type": "code",
    "id": "yipvU3j8G44r",
    "outputId": "7425365b-f29d-4633-e42c-62603c3a814f"
   },
   "outputs": [
    {
     "name": "stdout",
     "output_type": "stream",
     "text": [
      "{1, 'a', 'o', 'r', 'n', 'd'}\n"
     ]
    }
   ],
   "source": [
    "a.add(1) # изменим первое множество\n",
    "a.remove(\"m\")\n",
    "print(a)"
   ]
  },
  {
   "cell_type": "code",
   "execution_count": null,
   "metadata": {
    "colab": {
     "base_uri": "https://localhost:8080/",
     "height": 180
    },
    "colab_type": "code",
    "id": "fvu33GL8HR7z",
    "outputId": "d6463421-95d6-4b46-8f9b-2b551f1aec71"
   },
   "outputs": [],
   "source": [
    "b.add(\"m\")\n",
    "# мы не можем добавлять в frozenset"
   ]
  },
  {
   "cell_type": "markdown",
   "metadata": {
    "colab_type": "text",
    "id": "tlHuy58XrIXg"
   },
   "source": [
    "## **Словарь (dict)**\n",
    "\n",
    "коллекции произвольных объектов, записанные в виде пары *ключ : значение*\n",
    "(ключи уникальные, значения могут повторяться)\n",
    "\n",
    "( словари =ассоциативные массивы = хеш-таблицы)\n",
    "\n",
    "\n",
    "Давайте создадим словарь:\n",
    "\n",
    "    1. С помощью литерала:\n",
    "\n"
   ]
  },
  {
   "cell_type": "code",
   "execution_count": 79,
   "metadata": {
    "colab": {
     "base_uri": "https://localhost:8080/",
     "height": 34
    },
    "colab_type": "code",
    "id": "v7zkTUDf2aas",
    "outputId": "c5e8ba5d-70df-43ac-cf77-7a8e12d2a18c"
   },
   "outputs": [
    {
     "name": "stdout",
     "output_type": "stream",
     "text": [
      "{} <class 'dict'>\n"
     ]
    }
   ],
   "source": [
    "d = {}\n",
    "print(d, type(d))"
   ]
  },
  {
   "cell_type": "code",
   "execution_count": 201,
   "metadata": {
    "colab": {
     "base_uri": "https://localhost:8080/",
     "height": 34
    },
    "colab_type": "code",
    "id": "FWEpd9fTMCb_",
    "outputId": "3741eb49-5feb-4d2f-ea21-2777a4e0e251"
   },
   "outputs": [
    {
     "name": "stdout",
     "output_type": "stream",
     "text": [
      "{'Jane': ['London', 80, 164], 'Olga': ['Moscow', 35, 172], 'Mike': ['Spb', 80, 172]}\n"
     ]
    }
   ],
   "source": [
    "d_names = {\"Jane\":[\"London\",80, 164],'Olga': [\"Moscow\", 35, 172,], \"Mike\":[\"Spb\", 80, 172]} \n",
    "\n",
    "\n",
    "# Jane, Olga - это ключи, London, Moscow - значения\n",
    "print(d_names)"
   ]
  },
  {
   "cell_type": "markdown",
   "metadata": {
    "colab_type": "text",
    "id": "zD0WunDYNCgK"
   },
   "source": [
    "    2.  с помощью функции dict()"
   ]
  },
  {
   "cell_type": "code",
   "execution_count": 202,
   "metadata": {
    "colab": {
     "base_uri": "https://localhost:8080/",
     "height": 34
    },
    "colab_type": "code",
    "id": "OegQIs_HM9PH",
    "outputId": "0defad61-833a-4f7d-82df-c0df0ae4ea2b"
   },
   "outputs": [
    {
     "name": "stdout",
     "output_type": "stream",
     "text": [
      "{'A': 67, 'B': 903}\n"
     ]
    }
   ],
   "source": [
    "d = dict(A=67, B=903)\n",
    "print(d)"
   ]
  },
  {
   "cell_type": "markdown",
   "metadata": {
    "colab_type": "text",
    "id": "EKOrrZLqN1J7"
   },
   "source": [
    "    3. с помощью генераторов словарей (почти как генераторы списков)\n",
    "\n"
   ]
  },
  {
   "cell_type": "code",
   "execution_count": 203,
   "metadata": {
    "colab": {
     "base_uri": "https://localhost:8080/",
     "height": 34
    },
    "colab_type": "code",
    "id": "GBmRj0fxN9ls",
    "outputId": "01714a8c-5cb9-483b-ec57-ddb1194d53b3"
   },
   "outputs": [
    {
     "data": {
      "text/plain": [
       "{0: 0, 1: 1, 2: 4, 3: 9, 4: 16, 5: 25, 6: 36}"
      ]
     },
     "execution_count": 203,
     "metadata": {},
     "output_type": "execute_result"
    }
   ],
   "source": [
    "d = {a: a ** 2 for a in range(7)}\n",
    "d\n"
   ]
  },
  {
   "cell_type": "code",
   "execution_count": 206,
   "metadata": {},
   "outputs": [
    {
     "name": "stdout",
     "output_type": "stream",
     "text": [
      "[('Jane', 25), ('Oleg', 27), ('Mia', 56)]\n"
     ]
    }
   ],
   "source": [
    "a = [\"Jane\", \"Oleg\",\"Mia\"]\n",
    "b = [25,27,56]\n",
    "\n",
    "res = zip(a,b)\n",
    "\n",
    "print(list(res))"
   ]
  },
  {
   "cell_type": "code",
   "execution_count": 207,
   "metadata": {},
   "outputs": [
    {
     "ename": "StopIteration",
     "evalue": "",
     "output_type": "error",
     "traceback": [
      "\u001b[0;31m---------------------------------------------------------------------------\u001b[0m",
      "\u001b[0;31mStopIteration\u001b[0m                             Traceback (most recent call last)",
      "\u001b[0;32m<ipython-input-207-a892a5369cc9>\u001b[0m in \u001b[0;36m<module>\u001b[0;34m\u001b[0m\n\u001b[0;32m----> 1\u001b[0;31m \u001b[0mprint\u001b[0m\u001b[0;34m(\u001b[0m\u001b[0mnext\u001b[0m\u001b[0;34m(\u001b[0m\u001b[0mres\u001b[0m\u001b[0;34m)\u001b[0m\u001b[0;34m)\u001b[0m\u001b[0;34m\u001b[0m\u001b[0;34m\u001b[0m\u001b[0m\n\u001b[0m",
      "\u001b[0;31mStopIteration\u001b[0m: "
     ]
    }
   ],
   "source": [
    "print(next(res))"
   ]
  },
  {
   "cell_type": "markdown",
   "metadata": {
    "colab_type": "text",
    "id": "8dZ0JjiBNSJD"
   },
   "source": [
    "4. с помощью метода ```.fromkeys()```\n"
   ]
  },
  {
   "cell_type": "code",
   "execution_count": 209,
   "metadata": {
    "colab": {
     "base_uri": "https://localhost:8080/",
     "height": 34
    },
    "colab_type": "code",
    "id": "VFCqm0fQNNdF",
    "outputId": "9130d54d-6e84-49c1-8eec-5508372af4b8"
   },
   "outputs": [
    {
     "data": {
      "text/plain": [
       "{'Jane': ['Rio', 'Fenix']}"
      ]
     },
     "execution_count": 209,
     "metadata": {},
     "output_type": "execute_result"
    }
   ],
   "source": [
    "d = dict.fromkeys(['Jane'],[\"Rio\",\"Fenix\"])\n",
    "d"
   ]
  },
  {
   "cell_type": "code",
   "execution_count": 210,
   "metadata": {
    "colab": {
     "base_uri": "https://localhost:8080/",
     "height": 34
    },
    "colab_type": "code",
    "id": "SJEYT0FnOQ17",
    "outputId": "1aa60338-4fd6-41df-eef5-bae7248e42c4"
   },
   "outputs": [
    {
     "data": {
      "text/plain": [
       "{'a': 100, 'b': 100}"
      ]
     },
     "execution_count": 210,
     "metadata": {},
     "output_type": "execute_result"
    }
   ],
   "source": [
    "d = dict.fromkeys(['a', 'b'], 100)\n",
    "d"
   ]
  },
  {
   "cell_type": "markdown",
   "metadata": {
    "colab_type": "text",
    "id": "q3pHPiUEN-o4"
   },
   "source": [
    "А так можно получить ззначение, по ключу:"
   ]
  },
  {
   "cell_type": "code",
   "execution_count": 213,
   "metadata": {
    "colab": {
     "base_uri": "https://localhost:8080/",
     "height": 180
    },
    "colab_type": "code",
    "id": "T-ie4DV8Or3-",
    "outputId": "a9102485-bff3-4aae-fe41-d5de688719f6"
   },
   "outputs": [
    {
     "data": {
      "text/plain": [
       "'B'"
      ]
     },
     "execution_count": 213,
     "metadata": {},
     "output_type": "execute_result"
    }
   ],
   "source": [
    "d = {1: \"A\", 2: \"B\", 3: \"C\"}\n",
    "\n",
    "d[2] # достаем значение по ключу 2"
   ]
  },
  {
   "cell_type": "code",
   "execution_count": 214,
   "metadata": {
    "colab": {
     "base_uri": "https://localhost:8080/",
     "height": 34
    },
    "colab_type": "code",
    "id": "OBQcdKctOw5y",
    "outputId": "53d41beb-1009-4fe5-fd99-55791689916c"
   },
   "outputs": [
    {
     "data": {
      "text/plain": [
       "{1: 'A', 2: 'B', 3: 'C', 4: 'D'}"
      ]
     },
     "execution_count": 214,
     "metadata": {},
     "output_type": "execute_result"
    }
   ],
   "source": [
    "d[4] = \"D\" # добавляем пару, где ключ =4, а значение = D\n",
    "\n",
    "d # посмотрим на весь словарь"
   ]
  },
  {
   "cell_type": "code",
   "execution_count": 218,
   "metadata": {},
   "outputs": [
    {
     "name": "stdout",
     "output_type": "stream",
     "text": [
      "['Toronto', 35, 175]\n"
     ]
    }
   ],
   "source": [
    "# аналогично добавим новую пару в словарь с именами\n",
    "\n",
    "d_names[\"Jack\"] = [\"Toronto\",35,175]\n",
    "\n",
    "print(d_names[\"Jack\"])"
   ]
  },
  {
   "cell_type": "code",
   "execution_count": 219,
   "metadata": {},
   "outputs": [
    {
     "name": "stdout",
     "output_type": "stream",
     "text": [
      "W\n",
      "W\n",
      "{1: 'A', 2: 'W', 3: 'C', 4: 'D'}\n"
     ]
    }
   ],
   "source": [
    "# перезапишем значение по ключу \n",
    "\n",
    "print(d[2])\n",
    "d[2] = \"W\"\n",
    "print(d[2])\n",
    "print(d)"
   ]
  },
  {
   "cell_type": "markdown",
   "metadata": {
    "colab_type": "text",
    "id": "IIBoVsIkNA-4"
   },
   "source": [
    "**Итог:** \n",
    "- присвоение по новому ключу расширяет словарь;\n",
    "- присвоение по существующему ключу перезаписывает его значение;\n",
    "- попытка извлечения несуществующего ключа порождает исключение (```KeyError```)."
   ]
  },
  {
   "cell_type": "markdown",
   "metadata": {
    "colab_type": "text",
    "id": "ZTR6wZxTMWiI"
   },
   "source": [
    "### методы словарей"
   ]
  },
  {
   "cell_type": "code",
   "execution_count": 220,
   "metadata": {
    "colab": {},
    "colab_type": "code",
    "id": "nMJsPhroSpzh"
   },
   "outputs": [
    {
     "data": {
      "text/plain": [
       "{'Jane': 'London',\n",
       " 'Olga': 'Moscow',\n",
       " 'Paul': 'Paris',\n",
       " 'Ivan': 'Minsk',\n",
       " 'Anne': 'Copenhagen'}"
      ]
     },
     "execution_count": 220,
     "metadata": {},
     "output_type": "execute_result"
    }
   ],
   "source": [
    "d = {'Jane': \"London\", 'Olga': \"Moscow\",\"Paul\":\"Paris\",\"Ivan\":\"Minsk\",\"Anne\":\"Copenhagen\"}\n",
    "\n",
    "d"
   ]
  },
  {
   "cell_type": "code",
   "execution_count": 223,
   "metadata": {
    "colab": {
     "base_uri": "https://localhost:8080/",
     "height": 34
    },
    "colab_type": "code",
    "id": "GZhU7aHmQHxo",
    "outputId": "cbd4cc66-7a61-48f6-cdcd-2e437a12e82e"
   },
   "outputs": [
    {
     "name": "stdout",
     "output_type": "stream",
     "text": [
      "dict_values(['London', 'Moscow', 'Paris', 'Minsk', 'Copenhagen'])\n",
      "dict_keys(['Jane', 'Olga', 'Paul', 'Ivan', 'Anne'])\n"
     ]
    }
   ],
   "source": [
    "# так можно посмотреть все значения всех ключей в словаре\n",
    "print(d.values())\n",
    "\n",
    "# так можно посмотреть все ключи в словаре\n",
    "print(d.keys())       "
   ]
  },
  {
   "cell_type": "code",
   "execution_count": 224,
   "metadata": {
    "colab": {
     "base_uri": "https://localhost:8080/",
     "height": 34
    },
    "colab_type": "code",
    "id": "J-qIp2K0QXAJ",
    "outputId": "c5881799-c9e5-4811-e66d-d9ba240fbe76"
   },
   "outputs": [],
   "source": [
    "# значения и ключи можно сохранить в отдельный лист\n",
    "values = list(d.values())  \n",
    "\n",
    "keys = list(d.keys()) "
   ]
  },
  {
   "cell_type": "code",
   "execution_count": 225,
   "metadata": {},
   "outputs": [
    {
     "data": {
      "text/plain": [
       "5"
      ]
     },
     "execution_count": 225,
     "metadata": {},
     "output_type": "execute_result"
    }
   ],
   "source": [
    "# длина словаря -- это количество ключей\n",
    "len(d.keys())"
   ]
  },
  {
   "cell_type": "code",
   "execution_count": 226,
   "metadata": {
    "colab": {
     "base_uri": "https://localhost:8080/",
     "height": 34
    },
    "colab_type": "code",
    "id": "lOiQ2FSJQeo2",
    "outputId": "58631e3b-a0ee-40f6-f9e3-05bbd323a31e"
   },
   "outputs": [
    {
     "data": {
      "text/plain": [
       "[('Jane', 'London'),\n",
       " ('Olga', 'Moscow'),\n",
       " ('Paul', 'Paris'),\n",
       " ('Ivan', 'Minsk'),\n",
       " ('Anne', 'Copenhagen')]"
      ]
     },
     "execution_count": 226,
     "metadata": {},
     "output_type": "execute_result"
    }
   ],
   "source": [
    "# так можно посмотреть пары (ключ, значение)\n",
    "list(d.items()) "
   ]
  },
  {
   "cell_type": "code",
   "execution_count": 227,
   "metadata": {
    "colab": {
     "base_uri": "https://localhost:8080/",
     "height": 136
    },
    "colab_type": "code",
    "id": "WiY3C4j1Qmr6",
    "outputId": "71136ca8-7e89-4b3b-f12a-cc2a44e51bd7"
   },
   "outputs": [],
   "source": [
    "# расширение словаря\n",
    "new_dict = {\"Alexander\":\"Bonn\", \"Julia\":\"Madrid\"}\n",
    "\n",
    "d.update(new_dict) # обновляет словарь, добавляя пары (ключ, значение)"
   ]
  },
  {
   "cell_type": "code",
   "execution_count": 228,
   "metadata": {
    "colab": {
     "base_uri": "https://localhost:8080/",
     "height": 119
    },
    "colab_type": "code",
    "id": "HyWNwlktQ2W7",
    "outputId": "cab6d79e-01e4-4eae-b66d-582da096f0e4"
   },
   "outputs": [
    {
     "name": "stdout",
     "output_type": "stream",
     "text": [
      "London\n"
     ]
    }
   ],
   "source": [
    "print(d.pop(\"Jane\")) # удаляет ключ и возвращает значение"
   ]
  },
  {
   "cell_type": "code",
   "execution_count": 229,
   "metadata": {
    "colab": {
     "base_uri": "https://localhost:8080/",
     "height": 34
    },
    "colab_type": "code",
    "id": "CAdxOh82R04X",
    "outputId": "3cc299d6-250f-4cbd-ced9-b4cc7cd928d0"
   },
   "outputs": [
    {
     "data": {
      "text/plain": [
       "('Julia', 'Madrid')"
      ]
     },
     "execution_count": 229,
     "metadata": {},
     "output_type": "execute_result"
    }
   ],
   "source": [
    "d.popitem() # удаляет и возвращает пару (ключ, значение)"
   ]
  },
  {
   "cell_type": "code",
   "execution_count": 160,
   "metadata": {
    "colab": {
     "base_uri": "https://localhost:8080/",
     "height": 34
    },
    "colab_type": "code",
    "id": "QytfsewlSNWQ",
    "outputId": "15c8e33e-a28b-493b-c876-b8eb3f828696"
   },
   "outputs": [
    {
     "data": {
      "text/plain": [
       "'Paris'"
      ]
     },
     "execution_count": 160,
     "metadata": {},
     "output_type": "execute_result"
    }
   ],
   "source": [
    "# d[\"Paul\"] #выдает значение по ключу\n",
    "\n",
    "d.get(\"Paul\")"
   ]
  },
  {
   "cell_type": "code",
   "execution_count": 230,
   "metadata": {
    "colab": {
     "base_uri": "https://localhost:8080/",
     "height": 34
    },
    "colab_type": "code",
    "id": "9m-epn1EMXDl",
    "outputId": "1fe0e439-47b0-4b43-ac05-7fca39965330"
   },
   "outputs": [
    {
     "name": "stdout",
     "output_type": "stream",
     "text": [
      "{}\n"
     ]
    }
   ],
   "source": [
    "# а так очищаем словарь\n",
    "d.clear() \n",
    "print(d)"
   ]
  },
  {
   "cell_type": "markdown",
   "metadata": {
    "colab_type": "text",
    "id": "1euc6k4zMf7z"
   },
   "source": [
    "**C кортежами, списками, словарями и множествами можно использовать циклы for и while**"
   ]
  }
 ],
 "metadata": {
  "colab": {
   "collapsed_sections": [
    "YPY75dCcrW7f",
    "LKlVNlBfjJHx",
    "zDDJ_qsdqvk-"
   ],
   "include_colab_link": true,
   "name": "python_30Oct_2019.ipynb",
   "provenance": []
  },
  "kernelspec": {
   "display_name": "Python 3",
   "language": "python",
   "name": "python3"
  },
  "language_info": {
   "codemirror_mode": {
    "name": "ipython",
    "version": 3
   },
   "file_extension": ".py",
   "mimetype": "text/x-python",
   "name": "python",
   "nbconvert_exporter": "python",
   "pygments_lexer": "ipython3",
   "version": "3.8.2"
  }
 },
 "nbformat": 4,
 "nbformat_minor": 4
}
