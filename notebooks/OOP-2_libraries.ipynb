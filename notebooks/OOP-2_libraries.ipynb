{
 "cells": [
  {
   "cell_type": "code",
   "execution_count": 14,
   "metadata": {},
   "outputs": [],
   "source": [
    "class Preprocessing(object):\n",
    "    def __init__(self,text):\n",
    "        self.text = text\n",
    "#         self.text2 = text_words\n",
    "\n",
    "    def tokenize_default(self):\n",
    "        \n",
    "        from string import punctuation\n",
    "\n",
    "        text_words = [word.strip(punctuation) for word in self.text.split()]\n",
    "        text_words = [word.lower() for word in text_words if word]\n",
    "        \n",
    "        return text_words\n",
    "    \n",
    "    def lem_default(self, spacy_model): # 'en_core_web_sm'\n",
    "        import spacy\n",
    "        nlp = spacy.load(spacy_model)\n",
    "\n",
    "#         def lemmatizing_bow(preprocessed_text):\n",
    "\n",
    "        text_beforelemma = list(nlp(tokenize_default(self.text)))\n",
    "\n",
    "        text_lemmatized=\"\"\n",
    "\n",
    "        for token in text_beforelemma:\n",
    "            text_lemmatized=text_lemmatized+\" \" +str(token.lemma_)\n",
    "\n",
    "        text_lemmatized=text_lemmatized.replace(\"-PRON- \", \" \")\n",
    "\n",
    "        text_lemmatized=text_lemmatized.replace(\"  \", \" \")\n",
    "            \n",
    "        return text_lemmatized\n",
    "            \n",
    "    "
   ]
  },
  {
   "cell_type": "markdown",
   "metadata": {},
   "source": [
    "Давайте создадим кастомную NLP-библиотеку из всего, что мы умеем делать. \n",
    "\n",
    "Для этого создадим файл с расширением ```.py```, в который будем добавлять необходимые  классы (назовем его ```classes.py```), а в эту тетрадку будем импортировать необходимые компоненты из него\n",
    "\n",
    "*(для удобства, положим тетрадку и файл в одну директорию)*\n",
    "\n",
    "Пробовать нашу библиотеку можем на тестовом тексте (рус, англ) или на любом, который Вам нравится"
   ]
  },
  {
   "cell_type": "code",
   "execution_count": 9,
   "metadata": {},
   "outputs": [],
   "source": [
    "# ячейка импортов\n",
    "from classes import test_func, Preprocessing, Analysis, Viz"
   ]
  },
  {
   "cell_type": "code",
   "execution_count": null,
   "metadata": {},
   "outputs": [],
   "source": [
    "test_func()"
   ]
  },
  {
   "cell_type": "code",
   "execution_count": 15,
   "metadata": {},
   "outputs": [],
   "source": [
    "nlp = Preprocessing(\"HELLO! These were tests?\")\n",
    "\n",
    "# type(nlp)"
   ]
  },
  {
   "cell_type": "code",
   "execution_count": 4,
   "metadata": {},
   "outputs": [
    {
     "data": {
      "text/plain": [
       "['hello', 'these', 'were', 'tests']"
      ]
     },
     "execution_count": 4,
     "metadata": {},
     "output_type": "execute_result"
    }
   ],
   "source": [
    "# tokenized = nlp.tokenize_default()\n",
    "\n",
    "# print(tokenized)\n",
    "\n",
    "nlp.tokenize_default()"
   ]
  },
  {
   "cell_type": "code",
   "execution_count": 16,
   "metadata": {},
   "outputs": [
    {
     "ename": "NameError",
     "evalue": "name 'tokenize_default' is not defined",
     "output_type": "error",
     "traceback": [
      "\u001b[0;31m---------------------------------------------------------------------------\u001b[0m",
      "\u001b[0;31mNameError\u001b[0m                                 Traceback (most recent call last)",
      "\u001b[0;32m<ipython-input-16-57f31c5f31ff>\u001b[0m in \u001b[0;36m<module>\u001b[0;34m\u001b[0m\n\u001b[0;32m----> 1\u001b[0;31m \u001b[0mnlp\u001b[0m\u001b[0;34m.\u001b[0m\u001b[0mlem_default\u001b[0m\u001b[0;34m(\u001b[0m\u001b[0;34m'en_core_web_sm'\u001b[0m\u001b[0;34m)\u001b[0m\u001b[0;34m\u001b[0m\u001b[0;34m\u001b[0m\u001b[0m\n\u001b[0m\u001b[1;32m      2\u001b[0m \u001b[0;34m\u001b[0m\u001b[0m\n\u001b[1;32m      3\u001b[0m \u001b[0;34m\u001b[0m\u001b[0m\n\u001b[1;32m      4\u001b[0m \u001b[0;31m# nlp.lem_default('en_core_web_sm')\u001b[0m\u001b[0;34m\u001b[0m\u001b[0;34m\u001b[0m\u001b[0;34m\u001b[0m\u001b[0m\n",
      "\u001b[0;32m<ipython-input-14-e73074a88482>\u001b[0m in \u001b[0;36mlem_default\u001b[0;34m(self, spacy_model)\u001b[0m\n\u001b[1;32m     19\u001b[0m \u001b[0;31m#         def lemmatizing_bow(preprocessed_text):\u001b[0m\u001b[0;34m\u001b[0m\u001b[0;34m\u001b[0m\u001b[0;34m\u001b[0m\u001b[0m\n\u001b[1;32m     20\u001b[0m \u001b[0;34m\u001b[0m\u001b[0m\n\u001b[0;32m---> 21\u001b[0;31m         \u001b[0mtext_beforelemma\u001b[0m \u001b[0;34m=\u001b[0m \u001b[0mlist\u001b[0m\u001b[0;34m(\u001b[0m\u001b[0mnlp\u001b[0m\u001b[0;34m(\u001b[0m\u001b[0mtokenize_default\u001b[0m\u001b[0;34m(\u001b[0m\u001b[0mself\u001b[0m\u001b[0;34m.\u001b[0m\u001b[0mtext\u001b[0m\u001b[0;34m)\u001b[0m\u001b[0;34m)\u001b[0m\u001b[0;34m)\u001b[0m\u001b[0;34m\u001b[0m\u001b[0;34m\u001b[0m\u001b[0m\n\u001b[0m\u001b[1;32m     22\u001b[0m \u001b[0;34m\u001b[0m\u001b[0m\n\u001b[1;32m     23\u001b[0m         \u001b[0mtext_lemmatized\u001b[0m\u001b[0;34m=\u001b[0m\u001b[0;34m\"\"\u001b[0m\u001b[0;34m\u001b[0m\u001b[0;34m\u001b[0m\u001b[0m\n",
      "\u001b[0;31mNameError\u001b[0m: name 'tokenize_default' is not defined"
     ]
    }
   ],
   "source": [
    "nlp.lem_default('en_core_web_sm')\n",
    "    \n",
    "\n",
    "# nlp.lem_default('en_core_web_sm')"
   ]
  },
  {
   "cell_type": "markdown",
   "metadata": {},
   "source": [
    "## часть2"
   ]
  },
  {
   "cell_type": "code",
   "execution_count": null,
   "metadata": {},
   "outputs": [],
   "source": [
    "tmp = Analysis()"
   ]
  },
  {
   "cell_type": "code",
   "execution_count": null,
   "metadata": {},
   "outputs": [],
   "source": [
    "tmp2 = Viz()"
   ]
  },
  {
   "cell_type": "code",
   "execution_count": null,
   "metadata": {},
   "outputs": [],
   "source": []
  }
 ],
 "metadata": {
  "kernelspec": {
   "display_name": "Python 3",
   "language": "python",
   "name": "python3"
  },
  "language_info": {
   "codemirror_mode": {
    "name": "ipython",
    "version": 3
   },
   "file_extension": ".py",
   "mimetype": "text/x-python",
   "name": "python",
   "nbconvert_exporter": "python",
   "pygments_lexer": "ipython3",
   "version": "3.8.2"
  }
 },
 "nbformat": 4,
 "nbformat_minor": 4
}
