{
 "cells": [
  {
   "cell_type": "markdown",
   "metadata": {
    "colab_type": "text",
    "id": "W2LDC-PbXhtR"
   },
   "source": [
    "В этой тетрадке мы поговорим о способах собрать свой датасет для исследований: откуда брать данные, как их собирать и как хранить.\n",
    "\n",
    "Достаточно часто, чтобы собрать данные, нужно что-то выкачать с сайта\n",
    "\n",
    "Существует несколько библиотек(модулей) для работы с веб-страничками, сегодня мы будем использовать requests для доступа к веб-страничкам и Beautiful Soup для работы с содержимым html-документов"
   ]
  },
  {
   "cell_type": "code",
   "execution_count": 197,
   "metadata": {
    "colab": {
     "base_uri": "https://localhost:8080/",
     "height": 122
    },
    "colab_type": "code",
    "id": "ncJ-uAqjDNkC",
    "outputId": "b58e536a-5828-42b5-8cbd-ba766ee76384"
   },
   "outputs": [
    {
     "name": "stdout",
     "output_type": "stream",
     "text": [
      "Requirement already satisfied: requests in /usr/local/lib/python3.6/dist-packages (2.21.0)\n",
      "Requirement already satisfied: chardet<3.1.0,>=3.0.2 in /usr/local/lib/python3.6/dist-packages (from requests) (3.0.4)\n",
      "Requirement already satisfied: certifi>=2017.4.17 in /usr/local/lib/python3.6/dist-packages (from requests) (2019.9.11)\n",
      "Requirement already satisfied: urllib3<1.25,>=1.21.1 in /usr/local/lib/python3.6/dist-packages (from requests) (1.24.3)\n",
      "Requirement already satisfied: idna<2.9,>=2.5 in /usr/local/lib/python3.6/dist-packages (from requests) (2.8)\n"
     ]
    }
   ],
   "source": [
    "! pip3 install requests # импортируем модуль requests"
   ]
  },
  {
   "cell_type": "code",
   "execution_count": 199,
   "metadata": {
    "colab": {
     "base_uri": "https://localhost:8080/",
     "height": 34
    },
    "colab_type": "code",
    "id": "fFcBQ25GZBCO",
    "outputId": "4d52810c-2a47-486a-f79b-1ed4621c8793"
   },
   "outputs": [
    {
     "name": "stdout",
     "output_type": "stream",
     "text": [
      "Requirement already satisfied: beautifulsoup4 in /usr/local/lib/python3.6/dist-packages (4.6.3)\n"
     ]
    }
   ],
   "source": [
    "# импортируем модуль beautifulsoup, самая последняя версия - четвертая\n",
    "\n",
    "! pip3 install beautifulsoup4 "
   ]
  },
  {
   "cell_type": "code",
   "execution_count": 0,
   "metadata": {
    "colab": {},
    "colab_type": "code",
    "id": "XT5G41FYnr7a"
   },
   "outputs": [],
   "source": [
    "# импортируем модули в тетрадку\n",
    "\n",
    "import requests as rq\n",
    "\n",
    "from bs4 import BeautifulSoup"
   ]
  },
  {
   "cell_type": "markdown",
   "metadata": {
    "colab_type": "text",
    "id": "cIvQNBqUYwE8"
   },
   "source": [
    "## работаем с веб-страничками"
   ]
  },
  {
   "cell_type": "markdown",
   "metadata": {
    "colab_type": "text",
    "id": "28Oy0NnLnk0L"
   },
   "source": [
    "Мы установили и импортировали модули, теперь можем приступать к работе\n",
    "\n",
    "шаг 1. \n",
    "\n",
    "Создадим переменную ```url``` и сохраним в нее адрес какой-нибудь html-страницы\n",
    "\n",
    "например, [сайта CNN](http://lite.cnn.io/en)\n",
    "\n",
    "обратите внимание, что адрес прописываем в кавычках, как строку"
   ]
  },
  {
   "cell_type": "code",
   "execution_count": 0,
   "metadata": {
    "colab": {},
    "colab_type": "code",
    "id": "WzqN6Ss_aujY"
   },
   "outputs": [],
   "source": [
    "url = 'https://www.theguardian.com/international'"
   ]
  },
  {
   "cell_type": "markdown",
   "metadata": {
    "colab_type": "text",
    "id": "Ysgl6VmpKjxu"
   },
   "source": [
    "В модуле requests есть метод request.get(), который сохраняет ответ сервера на наш реквест. Мы применим его к переменной url, куда сохранен путь к странице. \n",
    "Сохраним результат в переменную page"
   ]
  },
  {
   "cell_type": "code",
   "execution_count": 0,
   "metadata": {
    "colab": {},
    "colab_type": "code",
    "id": "O8AH4kDxqKvF"
   },
   "outputs": [],
   "source": [
    "page = rq.get(url)"
   ]
  },
  {
   "cell_type": "code",
   "execution_count": 146,
   "metadata": {
    "colab": {
     "base_uri": "https://localhost:8080/",
     "height": 34
    },
    "colab_type": "code",
    "id": "RoT5Aj69u3eb",
    "outputId": "e2ae7620-3338-49ca-cc71-a051b4f8ec74"
   },
   "outputs": [
    {
     "data": {
      "text/plain": [
       "<Response [200]>"
      ]
     },
     "execution_count": 146,
     "metadata": {
      "tags": []
     },
     "output_type": "execute_result"
    }
   ],
   "source": [
    "page # посмотрим на код ответа, если 200, все хорошо"
   ]
  },
  {
   "cell_type": "code",
   "execution_count": 0,
   "metadata": {
    "colab": {},
    "colab_type": "code",
    "id": "i5q3w4NXuni7"
   },
   "outputs": [],
   "source": [
    "? page"
   ]
  },
  {
   "cell_type": "code",
   "execution_count": 88,
   "metadata": {
    "colab": {
     "base_uri": "https://localhost:8080/",
     "height": 34
    },
    "colab_type": "code",
    "id": "E_SbOttcp1LH",
    "outputId": "3cf0bcbb-ac2f-412e-9b67-304995f72b0a"
   },
   "outputs": [
    {
     "data": {
      "text/plain": [
       "200"
      ]
     },
     "execution_count": 88,
     "metadata": {
      "tags": []
     },
     "output_type": "execute_result"
    }
   ],
   "source": [
    "# статус-код можно вызвать, написав .status_code после page (без скобок, тк это атрибут, а не метод)\n",
    "\n",
    "page.status_code"
   ]
  },
  {
   "cell_type": "markdown",
   "metadata": {
    "colab_type": "text",
    "id": "J5Y2C39Gp0yK"
   },
   "source": [
    "код 200 сообщает, что страница загружена успешно \n",
    "*(коды, начинающиеся с 2, обычно указывают на успешное выполнение операции, а коды, начинающиеся с 4 или 5, сообщают об ошибке)*\n",
    "\n",
    "Узнать больше о кодах состояния HTTP  можно [по этой ссылке.](https://www.w3.org/Protocols/HTTP/1.1/draft-ietf-http-v11-spec-01#Status-Codes)"
   ]
  },
  {
   "cell_type": "markdown",
   "metadata": {
    "colab_type": "text",
    "id": "9Gg53fJKNObR"
   },
   "source": [
    "Следующим шагом нужно получить доступ к текстовому содержимому веб-файлов.\n",
    "\n",
    "Здесь нам поможет page.text *(или page.content, чтобы получить значение в байтах)*"
   ]
  },
  {
   "cell_type": "code",
   "execution_count": 0,
   "metadata": {
    "colab": {},
    "colab_type": "code",
    "id": "md61SNPYu_jL"
   },
   "outputs": [],
   "source": [
    "# раскомментить эту ячейку\n",
    "#page.text\n"
   ]
  },
  {
   "cell_type": "markdown",
   "metadata": {
    "colab_type": "text",
    "id": "X5cEfTSEYhcY"
   },
   "source": [
    "## работаем с текстом на страничке"
   ]
  },
  {
   "cell_type": "markdown",
   "metadata": {
    "colab_type": "text",
    "id": "vcVMhwpHNxE5"
   },
   "source": [
    "Мы получили текст страницы (со всеми html-тегами), однако его неудобно прочитать в таком виде. \n",
    "\n",
    "Здесь нам понадобится Beautiful Soup, модуль для html-парсинга: он сделает текст веб-страницы, извлеченный с помощью Requests, более читаемым, потому что создает дерево синтаксического разбора из проанализированных HTML (или XML) документов."
   ]
  },
  {
   "cell_type": "code",
   "execution_count": 0,
   "metadata": {
    "colab": {},
    "colab_type": "code",
    "id": "GOBPlBro3AQR"
   },
   "outputs": [],
   "source": [
    "soup = BeautifulSoup(page.text, 'html.parser') #сохраним результат в переменную soup"
   ]
  },
  {
   "cell_type": "code",
   "execution_count": 0,
   "metadata": {
    "colab": {},
    "colab_type": "code",
    "id": "HigX0lNr3P1Z"
   },
   "outputs": [],
   "source": [
    "#print(soup.prettify()) # показывает нашу страницу в красивом виде"
   ]
  },
  {
   "cell_type": "markdown",
   "metadata": {
    "colab_type": "text",
    "id": "O_WQYXXEUVkk"
   },
   "source": [
    "##работаем с тегами в тексте: "
   ]
  },
  {
   "cell_type": "markdown",
   "metadata": {
    "colab_type": "text",
    "id": "bVR8OVuRUaO1"
   },
   "source": [
    "предыдущие шаги позволили привести веб-страничку к виду, где содержание каждого тега написано с новой строки. \n",
    "\n",
    "Некоторые теги полезны для конкретной задачи (там текст), некоторые - не очень (например, мета-данные,картинки и тд)\n",
    "\n",
    "Извлечь один тег со страницы можно с помощью метода find_all(). Он похож на метод регулярок, с которым мы работали: он вернет все экземпляры данного тега в документе. Нужно прописать в скобках метода нужный тег. \n",
    "\n",
    "Текст содержится в разделах с тегом \\<p>\n",
    "\n",
    "ссылки - в тегах \\<a>"
   ]
  },
  {
   "cell_type": "code",
   "execution_count": 192,
   "metadata": {
    "colab": {
     "base_uri": "https://localhost:8080/",
     "height": 71
    },
    "colab_type": "code",
    "id": "N0RXeVL33W7I",
    "outputId": "03346e7c-dc54-4183-a943-35c61ba969a6"
   },
   "outputs": [
    {
     "data": {
      "text/plain": [
       "[<h1 class=\"u-h\">News, sport and opinion from the Guardian's global edition</h1>,\n",
       " <h1 class=\"dumathoin__title\"> <a class=\"adverts__logo u-text-hyphenate\" data-component=\"Labs front container | US | international | container-12 | Improving lives through business innovation | Business Call To Action | card-0 | Improving lives through business innovation\" href=\"/business-call-to-action-partnerzone\">Improving lives through business innovation</a> </h1>]"
      ]
     },
     "execution_count": 192,
     "metadata": {
      "tags": []
     },
     "output_type": "execute_result"
    }
   ],
   "source": [
    "soup.find_all('h1') \n",
    "\n",
    "# попробуйте теги head, body, title, div "
   ]
  },
  {
   "cell_type": "markdown",
   "metadata": {
    "colab_type": "text",
    "id": "N2pm6e8fV2nr"
   },
   "source": [
    "Результат метода .find_all() хранится в виде списка. \n",
    "\n",
    "Можно итерироваться элементам списка (например, первый элемент из всех с тегами \\<h1>)"
   ]
  },
  {
   "cell_type": "code",
   "execution_count": 193,
   "metadata": {
    "colab": {
     "base_uri": "https://localhost:8080/",
     "height": 54
    },
    "colab_type": "code",
    "id": "eOi_J2ChZJ6t",
    "outputId": "f2bc4a1f-52c2-4b0b-aac7-5ee0f32b365d"
   },
   "outputs": [
    {
     "data": {
      "text/plain": [
       "<h1 class=\"dumathoin__title\"> <a class=\"adverts__logo u-text-hyphenate\" data-component=\"Labs front container | US | international | container-12 | Improving lives through business innovation | Business Call To Action | card-0 | Improving lives through business innovation\" href=\"/business-call-to-action-partnerzone\">Improving lives through business innovation</a> </h1>"
      ]
     },
     "execution_count": 193,
     "metadata": {
      "tags": []
     },
     "output_type": "execute_result"
    }
   ],
   "source": [
    "soup.find_all('h1')[1]"
   ]
  },
  {
   "cell_type": "markdown",
   "metadata": {
    "colab_type": "text",
    "id": "ca4ZEbxNWYV2"
   },
   "source": [
    "метод .get_text() позволит вытащить текст из элемента:"
   ]
  },
  {
   "cell_type": "code",
   "execution_count": 191,
   "metadata": {
    "colab": {
     "base_uri": "https://localhost:8080/",
     "height": 34
    },
    "colab_type": "code",
    "id": "xUAvgbxEGVfj",
    "outputId": "94716746-a7c8-44a0-ee79-f61eaaff7f2d"
   },
   "outputs": [
    {
     "data": {
      "text/plain": [
       "' Improving lives through business innovation '"
      ]
     },
     "execution_count": 191,
     "metadata": {
      "tags": []
     },
     "output_type": "execute_result"
    }
   ],
   "source": [
    "soup.find_all('h1')[1].get_text()"
   ]
  },
  {
   "cell_type": "markdown",
   "metadata": {
    "colab_type": "text",
    "id": "tF72_zk5ak4g"
   },
   "source": [
    "## полезные ссылки"
   ]
  },
  {
   "cell_type": "markdown",
   "metadata": {
    "colab_type": "text",
    "id": "ILp0Ke2daokq"
   },
   "source": [
    "[документация requests и быстрый гайд](https://requests.readthedocs.io/en/master/user/quickstart/)\n",
    "\n",
    "\n",
    "[документация Beautiful Soup](https://www.crummy.com/software/BeautifulSoup/bs4/doc/)\n",
    "\n",
    "[text-only](https://sjmulder.nl/en/textonly.html) веб-сайты, чтобы легко начать парсить\n",
    "\n",
    "\n",
    "\n",
    "[здесь](https://www.york.ac.uk/teaching/cws/wws/webpage1.html) можно почитать про структуру html подробнее\n",
    "\n",
    "\n",
    "а [здесь](https://www.w3schools.com/html/html_examples.asp) еще и потренироваться в режиме онлайн"
   ]
  },
  {
   "cell_type": "markdown",
   "metadata": {
    "colab_type": "text",
    "id": "KZ_J5BSyog2J"
   },
   "source": [
    "## try-except"
   ]
  },
  {
   "cell_type": "markdown",
   "metadata": {
    "colab_type": "text",
    "id": "KBcqi0K1j87T"
   },
   "source": [
    "В блоке try мы выполняем инструкцию, которая может породить исключение, а в блоке except мы перехватываем их.\n",
    "\n"
   ]
  },
  {
   "cell_type": "code",
   "execution_count": 0,
   "metadata": {
    "colab": {},
    "colab_type": "code",
    "id": "XuKik8SumU32"
   },
   "outputs": [],
   "source": [
    "def divider():\n",
    "    x = float(input('Введите число:'))\n",
    "    try:\n",
    "        1/x\n",
    "    except Exception :\n",
    "        print(\"я не умею делить на 0 :( \")\n",
    "    res = 1/x\n",
    "    print('получается', res)"
   ]
  },
  {
   "cell_type": "code",
   "execution_count": 0,
   "metadata": {
    "colab": {},
    "colab_type": "code",
    "id": "liXKtYSgnWkE"
   },
   "outputs": [],
   "source": [
    "divider()"
   ]
  },
  {
   "cell_type": "markdown",
   "metadata": {
    "colab_type": "text",
    "id": "4xny9DLqkQVT"
   },
   "source": [
    "**типы эксепшонов:**\n",
    "\n",
    "все можно почитать [тут](https://airbrake.io/blog/python-exception-handling/class-hierarchy):\n",
    "\n",
    "BaseException - базовое исключение, от которого берут начало все остальные.\n",
    "\n",
    "KeyboardInterrupt - порождается при прерывании программы пользователем (обычно сочетанием клавиш Ctrl+C).\n",
    "\n",
    "StopIteration - порождается встроенной функцией next, если в итераторе больше нет элементов.\n",
    "\n",
    "ArithmeticError - арифметическая ошибка.\n",
    "\n",
    "* FloatingPointError - порождается при неудачном выполнении операции с плавающей запятой. На практике встречается нечасто.\n",
    "\n",
    "* OverflowError - возникает, когда результат арифметической операции слишком велик для представления. Не появляется при обычной работе с целыми числами (так как python поддерживает длинные числа), но может возникать в некоторых других случаях.\n",
    "\n",
    "* ZeroDivisionError - деление на ноль.\n",
    "\n",
    "AttributeError - объект не имеет данного атрибута (значения или метода).\n",
    "\n",
    "EOFError - функция наткнулась на конец файла и не смогла прочитать то, что хотела.\n",
    "\n",
    "ImportError - не удалось импортирование модуля или его атрибута.\n",
    "\n",
    "LookupError - некорректный индекс или ключ.\n",
    "\n",
    "IndexError - индекс не входит в диапазон элементов.\n",
    "\n",
    "KeyError - несуществующий ключ (в словаре, множестве или другом объекте).\n",
    "\n",
    "MemoryError - недостаточно памяти.\n",
    "\n",
    "NameError - не найдено переменной с таким именем.\n",
    "\n",
    "UnboundLocalError - сделана ссылка на локальную переменную в функции, но переменная не определена ранее.\n",
    "\n",
    "OSError - ошибка, связанная с системой.\n",
    "\n",
    "FileExistsError - попытка создания файла или директории, которая уже существует.\n",
    "\n",
    "FileNotFoundError - файл или директория не существует.\n",
    "\n",
    "InterruptedError - системный вызов прерван входящим сигналом.\n",
    "\n",
    "IsADirectoryError - ожидался файл, но это директория.\n",
    "\n",
    "NotADirectoryError - ожидалась директория, но это файл.\n",
    "\n",
    "PermissionError - не хватает прав доступа.\n",
    "\n",
    "TimeoutError - закончилось время ожидания.\n",
    "\n",
    "RuntimeError - возникает, когда исключение не попадает ни под одну из других категорий.\n",
    "\n",
    "SyntaxError - синтаксическая ошибка.\n",
    "\n",
    "IndentationError - неправильные отступы.\n",
    "\n",
    "TabError - смешивание в отступах табуляции и пробелов.\n",
    "\n",
    "SystemError - внутренняя ошибка.\n",
    "\n",
    "TypeError - операция применена к объекту несоответствующего типа.\n",
    "\n",
    "ValueError - функция получает аргумент правильного типа, но некорректного значения.\n",
    "\n",
    "UnicodeError - ошибка, связанная с кодированием / раскодированием unicode в строках.\n",
    "\n",
    "UnicodeEncodeError - исключение, связанное с кодированием unicode.\n",
    "\n",
    "UnicodeDecodeError - исключение, связанное с декодированием unicode.\n",
    "\n",
    "UnicodeTranslateError - исключение, связанное с переводом unicode.\n",
    "\n",
    "Warning - предупреждение."
   ]
  },
  {
   "cell_type": "markdown",
   "metadata": {
    "colab_type": "text",
    "id": "6FA4mcdnYIWT"
   },
   "source": [
    "## подсказки по дз"
   ]
  },
  {
   "cell_type": "code",
   "execution_count": 0,
   "metadata": {
    "colab": {},
    "colab_type": "code",
    "id": "D6kLyx_LWY5g"
   },
   "outputs": [],
   "source": [
    "# как получить список ссылок с главной страницы\n",
    "\n",
    "links = [] # пустой список, будем сюда класть ссылки\n",
    "souplist = soup.find_all('a', {'href' : True}) # находим элементы с этими параметрами, сохраняем в список\n",
    "for elem in souplist: # для элемента списка\n",
    "    links.append(elem['href']) # добавляем нужный атрибут(ссылку) в список для ссылок"
   ]
  },
  {
   "cell_type": "code",
   "execution_count": 0,
   "metadata": {
    "colab": {},
    "colab_type": "code",
    "id": "mUn9LrSDIRW5"
   },
   "outputs": [],
   "source": [
    "# как проверить дату новости\n",
    "\n",
    "import datetime as dt\n",
    "import re\n",
    "\n",
    "def get_today_date():\n",
    "    today = dt.date.today()\n",
    "    return today.strftime(\"%Y/%b/%d\")\n",
    "\n",
    "\n",
    "todayarticles = [] # складываем сюда ссылки на статьи за сегодня\n",
    "for link in links: # для каждой статьи в links\n",
    "    if re.search(get_today_date(), link) != None: # если указана дата\n",
    "        todayarticles.append(link) # добавьте в список статей\n"
   ]
  },
  {
   "cell_type": "code",
   "execution_count": 0,
   "metadata": {
    "colab": {},
    "colab_type": "code",
    "id": "L0A5kcApaeb-"
   },
   "outputs": [],
   "source": []
  }
 ],
 "metadata": {
  "colab": {
   "collapsed_sections": [],
   "include_colab_link": true,
   "name": "get_your_dataset.ipynb",
   "provenance": []
  },
  "kernelspec": {
   "display_name": "Python 3",
   "language": "python",
   "name": "python3"
  },
  "language_info": {
   "codemirror_mode": {
    "name": "ipython",
    "version": 3
   },
   "file_extension": ".py",
   "mimetype": "text/x-python",
   "name": "python",
   "nbconvert_exporter": "python",
   "pygments_lexer": "ipython3",
   "version": "3.8.2"
  }
 },
 "nbformat": 4,
 "nbformat_minor": 1
}
