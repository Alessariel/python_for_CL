{
 "cells": [
  {
   "cell_type": "markdown",
   "metadata": {
    "colab_type": "text",
    "id": "kIZidEDRSGBg"
   },
   "source": [
    "Часто нам нужно работать с файлами, операционной системой, перемещаться среди папок и тд. Для решениях этих задач, в питоне существует модуль  os. Подробнее о модуле можно почитать [тут](https://pythonworld.ru/moduli/modul-os.html). \n",
    "\n",
    "Рассмотрим основные методы"
   ]
  },
  {
   "cell_type": "code",
   "execution_count": 0,
   "metadata": {
    "colab": {},
    "colab_type": "code",
    "id": "0321FMiWSGBp"
   },
   "outputs": [],
   "source": [
    "# чтобы начать работать с модулем, его надо импортировать\n",
    "\n",
    "import os"
   ]
  },
  {
   "cell_type": "code",
   "execution_count": 0,
   "metadata": {
    "colab": {
     "base_uri": "https://localhost:8080/",
     "height": 34
    },
    "colab_type": "code",
    "id": "bFqVUATWSGBv",
    "outputId": "82899d77-2468-4c37-c5de-629454aadc91"
   },
   "outputs": [
    {
     "data": {
      "text/plain": [
       "'posix'"
      ]
     },
     "execution_count": 3,
     "metadata": {
      "tags": []
     },
     "output_type": "execute_result"
    }
   ],
   "source": [
    "#узнаем имя OS с которой работаем\n",
    "os.name"
   ]
  },
  {
   "cell_type": "code",
   "execution_count": 0,
   "metadata": {
    "colab": {
     "base_uri": "https://localhost:8080/",
     "height": 34
    },
    "colab_type": "code",
    "id": "RYsCZGBGSGB2",
    "outputId": "d29e7922-82b6-4e35-c474-8f24873398a2"
   },
   "outputs": [
    {
     "data": {
      "text/plain": [
       "'/content'"
      ]
     },
     "execution_count": 4,
     "metadata": {
      "tags": []
     },
     "output_type": "execute_result"
    }
   ],
   "source": [
    "os.getcwd() # текущая рабочая директория (cwd = current working directory)"
   ]
  },
  {
   "cell_type": "code",
   "execution_count": 0,
   "metadata": {
    "colab": {},
    "colab_type": "code",
    "id": "Dt59vqBHSGB6"
   },
   "outputs": [],
   "source": [
    "x = \"/content\""
   ]
  },
  {
   "cell_type": "code",
   "execution_count": 0,
   "metadata": {
    "colab": {
     "base_uri": "https://localhost:8080/",
     "height": 34
    },
    "colab_type": "code",
    "id": "-6u6RCLESGCA",
    "outputId": "c1a73ca5-c105-45d8-fafb-288a9a852c17"
   },
   "outputs": [
    {
     "data": {
      "text/plain": [
       "['.config', 'sample_data']"
      ]
     },
     "execution_count": 10,
     "metadata": {
      "tags": []
     },
     "output_type": "execute_result"
    }
   ],
   "source": [
    "os.listdir(x) # список файлов и директорий в папке"
   ]
  },
  {
   "cell_type": "code",
   "execution_count": 0,
   "metadata": {
    "colab": {},
    "colab_type": "code",
    "id": "o192KEJHSGCE"
   },
   "outputs": [],
   "source": [
    "os.mkdir(\"new\") # создаёт новую директорию (прописываем путь в скобках)"
   ]
  },
  {
   "cell_type": "code",
   "execution_count": 0,
   "metadata": {
    "colab": {},
    "colab_type": "code",
    "id": "pj9svtYtSGB9"
   },
   "outputs": [],
   "source": [
    "os.chdir(\"new\") # сменяет текущую рабочую директорию, путь к новой нужной указываем в скобках"
   ]
  },
  {
   "cell_type": "code",
   "execution_count": 0,
   "metadata": {
    "colab": {
     "base_uri": "https://localhost:8080/",
     "height": 34
    },
    "colab_type": "code",
    "id": "L0VYBoD6TF64",
    "outputId": "ae26aab1-aaad-4d13-d287-25e58a04a182"
   },
   "outputs": [
    {
     "data": {
      "text/plain": [
       "'/content/new'"
      ]
     },
     "execution_count": 14,
     "metadata": {
      "tags": []
     },
     "output_type": "execute_result"
    }
   ],
   "source": [
    "os.getcwd() #  проверим текущую директорию"
   ]
  },
  {
   "cell_type": "code",
   "execution_count": 0,
   "metadata": {
    "colab": {
     "base_uri": "https://localhost:8080/",
     "height": 34
    },
    "colab_type": "code",
    "id": "L8WzXb7USGCL",
    "outputId": "bc9ea53f-c98b-4569-eb2e-f4535b38bf55"
   },
   "outputs": [
    {
     "data": {
      "text/plain": [
       "[]"
      ]
     },
     "execution_count": 9,
     "metadata": {
      "tags": []
     },
     "output_type": "execute_result"
    }
   ],
   "source": [
    "os.listdir(\"/content/new\") # посмотрим, что в новой директории"
   ]
  },
  {
   "cell_type": "code",
   "execution_count": 0,
   "metadata": {
    "colab": {
     "base_uri": "https://localhost:8080/",
     "height": 34
    },
    "colab_type": "code",
    "id": "MwRp_Bt6SGCa",
    "outputId": "17ce6ead-4734-49ee-b93f-084e9b2d8821",
    "scrolled": false
   },
   "outputs": [
    {
     "data": {
      "text/plain": [
       "['.config', 'sample_data']"
      ]
     },
     "execution_count": 26,
     "metadata": {
      "tags": []
     },
     "output_type": "execute_result"
    }
   ],
   "source": [
    "#os.chdir(\"/content\")\n",
    "os.rmdir('/content/new') # удаляет пустую директорию. Чтобы удалить, из нее сначала надо выйти \n",
    "# (например, на шаг назад, это делает предыдущая строка)\n",
    "os.listdir() # посмотрим на список файлов снова,  new уже нет"
   ]
  },
  {
   "cell_type": "code",
   "execution_count": 0,
   "metadata": {
    "colab": {},
    "colab_type": "code",
    "id": "CihvMLrkSGCV"
   },
   "outputs": [],
   "source": [
    "os.remove('new') # удаляет путь к файлу."
   ]
  },
  {
   "cell_type": "code",
   "execution_count": 0,
   "metadata": {
    "colab": {},
    "colab_type": "code",
    "id": "ppZeXif6SGCd",
    "outputId": "e21ef6ae-242e-4072-a65d-dfd2c5bed512"
   },
   "outputs": [
    {
     "data": {
      "text/plain": [
       "['.DS_Store',\n",
       " '.ipynb_checkpoints',\n",
       " '06Nov_19.ipynb',\n",
       " '1.md',\n",
       " 'new',\n",
       " 'python_for_CL']"
      ]
     },
     "execution_count": 51,
     "metadata": {
      "tags": []
     },
     "output_type": "execute_result"
    }
   ],
   "source": [
    "os.listdir(x) # посмотрим на список еще раз, исчез ли new2"
   ]
  },
  {
   "cell_type": "markdown",
   "metadata": {
    "colab_type": "text",
    "id": "EKBeg_6NSGCn"
   },
   "source": [
    "###в модуле os есть свой под-модуль: os.path ( реализует некоторые полезные функции для работы с путями)"
   ]
  },
  {
   "cell_type": "code",
   "execution_count": 0,
   "metadata": {
    "colab": {},
    "colab_type": "code",
    "id": "LQ_mGKAj5gzo"
   },
   "outputs": [],
   "source": [
    "import os.path #  импортим модуль"
   ]
  },
  {
   "cell_type": "code",
   "execution_count": 0,
   "metadata": {
    "colab": {
     "base_uri": "https://localhost:8080/",
     "height": 34
    },
    "colab_type": "code",
    "id": "CWEZNUXoSGCo",
    "outputId": "8f7fd8a2-7898-4bdd-da91-e5b6f4fab965"
   },
   "outputs": [
    {
     "data": {
      "text/plain": [
       "'/content/new'"
      ]
     },
     "execution_count": 12,
     "metadata": {
      "tags": []
     },
     "output_type": "execute_result"
    }
   ],
   "source": [
    "os.path.abspath(\"new\") # возвращает нормализованный абсолютный путь"
   ]
  },
  {
   "cell_type": "code",
   "execution_count": 0,
   "metadata": {
    "colab": {
     "base_uri": "https://localhost:8080/",
     "height": 34
    },
    "colab_type": "code",
    "id": "Iu9ujbhzSGCu",
    "outputId": "72007bba-2eb8-45db-ff42-3e3ac3336268"
   },
   "outputs": [
    {
     "data": {
      "text/plain": [
       "4096"
      ]
     },
     "execution_count": 14,
     "metadata": {
      "tags": []
     },
     "output_type": "execute_result"
    }
   ],
   "source": [
    "os.path.getsize(\"new\") # размер файла в байтах"
   ]
  },
  {
   "cell_type": "code",
   "execution_count": 0,
   "metadata": {
    "colab": {
     "base_uri": "https://localhost:8080/",
     "height": 34
    },
    "colab_type": "code",
    "id": "YBcWrovC6yRj",
    "outputId": "16aca1a5-08cb-4a1a-e2b1-d08f2eb26f36"
   },
   "outputs": [
    {
     "data": {
      "text/plain": [
       "False"
      ]
     },
     "execution_count": 15,
     "metadata": {
      "tags": []
     },
     "output_type": "execute_result"
    }
   ],
   "source": [
    "os.path.isabs(\"new\") # является ли путь абсолютным"
   ]
  },
  {
   "cell_type": "code",
   "execution_count": 0,
   "metadata": {
    "colab": {
     "base_uri": "https://localhost:8080/",
     "height": 34
    },
    "colab_type": "code",
    "id": "FDhZC9Rn7tTR",
    "outputId": "ab3d9de3-9700-40c5-eb68-2bf3ef3bf48a"
   },
   "outputs": [
    {
     "data": {
      "text/plain": [
       "True"
      ]
     },
     "execution_count": 16,
     "metadata": {
      "tags": []
     },
     "output_type": "execute_result"
    }
   ],
   "source": [
    "os.path.isabs(\"/content/new\") # попробуем еще раз"
   ]
  },
  {
   "cell_type": "code",
   "execution_count": 0,
   "metadata": {
    "colab": {
     "base_uri": "https://localhost:8080/",
     "height": 34
    },
    "colab_type": "code",
    "id": "olWeC3bf6yHg",
    "outputId": "2d0bc56d-68dd-4c0c-ddc6-368197e0aced"
   },
   "outputs": [
    {
     "data": {
      "text/plain": [
       "False"
      ]
     },
     "execution_count": 18,
     "metadata": {
      "tags": []
     },
     "output_type": "execute_result"
    }
   ],
   "source": [
    "os.path.isfile(\"new\") # является ли путь файлом"
   ]
  },
  {
   "cell_type": "code",
   "execution_count": 0,
   "metadata": {
    "colab": {
     "base_uri": "https://localhost:8080/",
     "height": 34
    },
    "colab_type": "code",
    "id": "-FdpVPhx6x-G",
    "outputId": "65477a3c-86a6-44c0-c8fb-d2fb1c648c17"
   },
   "outputs": [
    {
     "data": {
      "text/plain": [
       "True"
      ]
     },
     "execution_count": 19,
     "metadata": {
      "tags": []
     },
     "output_type": "execute_result"
    }
   ],
   "source": [
    "os.path.isdir(\"new\") # является ли путь директорией(папкой)"
   ]
  },
  {
   "cell_type": "code",
   "execution_count": 0,
   "metadata": {
    "colab": {
     "base_uri": "https://localhost:8080/",
     "height": 34
    },
    "colab_type": "code",
    "id": "0qKfXUzASGCw",
    "outputId": "c6b4a06b-6ba0-402c-f5c3-9cd4eaae2535"
   },
   "outputs": [
    {
     "data": {
      "text/plain": [
       "('/content', 'new')"
      ]
     },
     "execution_count": 23,
     "metadata": {
      "tags": []
     },
     "output_type": "execute_result"
    }
   ],
   "source": [
    "os.path.split(\"/content/new\") #разбивает путь на кортеж (голова, хвост), где хвост - последний компонент пути, а голова - всё остальное. \n",
    "#Хвост никогда не начинается со слеша (если путь заканчивается слешем, то хвост пустой).\n",
    "#Если слешей в пути нет, то пустой будет голова."
   ]
  },
  {
   "cell_type": "markdown",
   "metadata": {
    "colab_type": "text",
    "id": "ovviRXtCSGC8"
   },
   "source": [
    "**А также:**\n",
    "1. [shutil](https://www.journaldev.com/20536/python-shutil-module)\n",
    "(модуль для работы с  файлами, их копирования, перемещения, удаления и тд)\n",
    "\n",
    "2. [piclke](https://www.datacamp.com/community/tutorials/pickle-python-tutorial) (модуль для сохранения и загрузки объектов)\n"
   ]
  },
  {
   "cell_type": "markdown",
   "metadata": {
    "colab_type": "text",
    "id": "pilnXnWUAgaI"
   },
   "source": [
    "## загрузка данных в колаб"
   ]
  },
  {
   "cell_type": "markdown",
   "metadata": {
    "colab_type": "text",
    "id": "hrWIEDeAAkQ_"
   },
   "source": [
    "в колабе есть смециальный модуль ```google.colab```, который позволяет загрузить файлы с компьютера. Вызовем его:"
   ]
  },
  {
   "cell_type": "code",
   "execution_count": 0,
   "metadata": {
    "colab": {
     "base_uri": "https://localhost:8080/",
     "height": 344
    },
    "colab_type": "code",
    "id": "vpNBfG9oEo9c",
    "outputId": "72f37d0a-6ca7-41a0-9c02-8332fa36087c"
   },
   "outputs": [
    {
     "data": {
      "text/html": [
       "\n",
       "     <input type=\"file\" id=\"files-96787338-e937-41d6-ae98-1c166219ed77\" name=\"files[]\" multiple disabled />\n",
       "     <output id=\"result-96787338-e937-41d6-ae98-1c166219ed77\">\n",
       "      Upload widget is only available when the cell has been executed in the\n",
       "      current browser session. Please rerun this cell to enable.\n",
       "      </output>\n",
       "      <script src=\"/nbextensions/google.colab/files.js\"></script> "
      ],
      "text/plain": [
       "<IPython.core.display.HTML object>"
      ]
     },
     "metadata": {
      "tags": []
     },
     "output_type": "display_data"
    },
    {
     "ename": "MessageError",
     "evalue": "ignored",
     "output_type": "error",
     "traceback": [
      "\u001b[0;31m---------------------------------------------------------------------------\u001b[0m",
      "\u001b[0;31mMessageError\u001b[0m                              Traceback (most recent call last)",
      "\u001b[0;32m<ipython-input-32-2aa874038ec1>\u001b[0m in \u001b[0;36m<module>\u001b[0;34m()\u001b[0m\n\u001b[1;32m      1\u001b[0m \u001b[0;32mfrom\u001b[0m \u001b[0mgoogle\u001b[0m\u001b[0;34m.\u001b[0m\u001b[0mcolab\u001b[0m \u001b[0;32mimport\u001b[0m \u001b[0mfiles\u001b[0m \u001b[0;31m#строка импорта\u001b[0m\u001b[0;34m\u001b[0m\u001b[0;34m\u001b[0m\u001b[0m\n\u001b[0;32m----> 2\u001b[0;31m \u001b[0mfiles\u001b[0m\u001b[0;34m.\u001b[0m\u001b[0mupload\u001b[0m\u001b[0;34m(\u001b[0m\u001b[0;34m)\u001b[0m \u001b[0;31m# вызов метода .upload(), который позволит загрузить данные: откроется окно загрузки\u001b[0m\u001b[0;34m\u001b[0m\u001b[0;34m\u001b[0m\u001b[0m\n\u001b[0m",
      "\u001b[0;32m/usr/local/lib/python3.6/dist-packages/google/colab/files.py\u001b[0m in \u001b[0;36mupload\u001b[0;34m()\u001b[0m\n\u001b[1;32m     62\u001b[0m   result = _output.eval_js(\n\u001b[1;32m     63\u001b[0m       'google.colab._files._uploadFiles(\"{input_id}\", \"{output_id}\")'.format(\n\u001b[0;32m---> 64\u001b[0;31m           input_id=input_id, output_id=output_id))\n\u001b[0m\u001b[1;32m     65\u001b[0m   \u001b[0mfiles\u001b[0m \u001b[0;34m=\u001b[0m \u001b[0m_collections\u001b[0m\u001b[0;34m.\u001b[0m\u001b[0mdefaultdict\u001b[0m\u001b[0;34m(\u001b[0m\u001b[0m_six\u001b[0m\u001b[0;34m.\u001b[0m\u001b[0mbinary_type\u001b[0m\u001b[0;34m)\u001b[0m\u001b[0;34m\u001b[0m\u001b[0;34m\u001b[0m\u001b[0m\n\u001b[1;32m     66\u001b[0m   \u001b[0;31m# Mapping from original filename to filename as saved locally.\u001b[0m\u001b[0;34m\u001b[0m\u001b[0;34m\u001b[0m\u001b[0;34m\u001b[0m\u001b[0m\n",
      "\u001b[0;32m/usr/local/lib/python3.6/dist-packages/google/colab/output/_js.py\u001b[0m in \u001b[0;36meval_js\u001b[0;34m(script, ignore_result)\u001b[0m\n\u001b[1;32m     37\u001b[0m   \u001b[0;32mif\u001b[0m \u001b[0mignore_result\u001b[0m\u001b[0;34m:\u001b[0m\u001b[0;34m\u001b[0m\u001b[0;34m\u001b[0m\u001b[0m\n\u001b[1;32m     38\u001b[0m     \u001b[0;32mreturn\u001b[0m\u001b[0;34m\u001b[0m\u001b[0;34m\u001b[0m\u001b[0m\n\u001b[0;32m---> 39\u001b[0;31m   \u001b[0;32mreturn\u001b[0m \u001b[0m_message\u001b[0m\u001b[0;34m.\u001b[0m\u001b[0mread_reply_from_input\u001b[0m\u001b[0;34m(\u001b[0m\u001b[0mrequest_id\u001b[0m\u001b[0;34m)\u001b[0m\u001b[0;34m\u001b[0m\u001b[0;34m\u001b[0m\u001b[0m\n\u001b[0m\u001b[1;32m     40\u001b[0m \u001b[0;34m\u001b[0m\u001b[0m\n\u001b[1;32m     41\u001b[0m \u001b[0;34m\u001b[0m\u001b[0m\n",
      "\u001b[0;32m/usr/local/lib/python3.6/dist-packages/google/colab/_message.py\u001b[0m in \u001b[0;36mread_reply_from_input\u001b[0;34m(message_id, timeout_sec)\u001b[0m\n\u001b[1;32m    104\u001b[0m         reply.get('colab_msg_id') == message_id):\n\u001b[1;32m    105\u001b[0m       \u001b[0;32mif\u001b[0m \u001b[0;34m'error'\u001b[0m \u001b[0;32min\u001b[0m \u001b[0mreply\u001b[0m\u001b[0;34m:\u001b[0m\u001b[0;34m\u001b[0m\u001b[0;34m\u001b[0m\u001b[0m\n\u001b[0;32m--> 106\u001b[0;31m         \u001b[0;32mraise\u001b[0m \u001b[0mMessageError\u001b[0m\u001b[0;34m(\u001b[0m\u001b[0mreply\u001b[0m\u001b[0;34m[\u001b[0m\u001b[0;34m'error'\u001b[0m\u001b[0;34m]\u001b[0m\u001b[0;34m)\u001b[0m\u001b[0;34m\u001b[0m\u001b[0;34m\u001b[0m\u001b[0m\n\u001b[0m\u001b[1;32m    107\u001b[0m       \u001b[0;32mreturn\u001b[0m \u001b[0mreply\u001b[0m\u001b[0;34m.\u001b[0m\u001b[0mget\u001b[0m\u001b[0;34m(\u001b[0m\u001b[0;34m'data'\u001b[0m\u001b[0;34m,\u001b[0m \u001b[0;32mNone\u001b[0m\u001b[0;34m)\u001b[0m\u001b[0;34m\u001b[0m\u001b[0;34m\u001b[0m\u001b[0m\n\u001b[1;32m    108\u001b[0m \u001b[0;34m\u001b[0m\u001b[0m\n",
      "\u001b[0;31mMessageError\u001b[0m: TypeError: Cannot read property '_uploadFiles' of undefined"
     ]
    }
   ],
   "source": [
    "from google.colab import files #строка импорта\n",
    "files.upload() # вызов метода .upload(), который позволит загрузить данные: откроется окно загрузки"
   ]
  },
  {
   "cell_type": "code",
   "execution_count": 0,
   "metadata": {
    "colab": {
     "base_uri": "https://localhost:8080/",
     "height": 34
    },
    "colab_type": "code",
    "id": "Nzc6W_CkFBSC",
    "outputId": "8b1843b2-8c29-4451-a324-88e5eee14efa"
   },
   "outputs": [
    {
     "name": "stdout",
     "output_type": "stream",
     "text": [
      "city_smells.txt  new  sample_data\n"
     ]
    }
   ],
   "source": [
    "! ls #проверяем, что файл действительно на месте"
   ]
  },
  {
   "cell_type": "markdown",
   "metadata": {
    "colab_type": "text",
    "id": "B1WOL-zjAFKU"
   },
   "source": [
    "## работа с файлами\n",
    "\n",
    "Мы оказались в нужной директории, нашли нужный файл. Теперь нам нужно с ним что-нибудь сделать.\n",
    "\n",
    "Сначала файл нужно открыть:"
   ]
  },
  {
   "cell_type": "code",
   "execution_count": 0,
   "metadata": {
    "colab": {},
    "colab_type": "code",
    "id": "_f5fP_CX91RK"
   },
   "outputs": [],
   "source": [
    "my_file = open('city_smells.txt', 'r') # воспользуемся встроенной функцией open()"
   ]
  },
  {
   "cell_type": "markdown",
   "metadata": {
    "colab_type": "text",
    "id": "AM7jQ6BKGtNQ"
   },
   "source": [
    "давайте посмотрим на аргументы функции: \n",
    "* первый = путь к файлу, который хотим открыть.\n",
    "** Путь может быть абсолютным (*полный путь от корневого каталога до конкретного места (файла, папки) в файловой системе, всегда неизменный*) или относительным (*путь к файлу/папке относительно текущего рабочего каталога пользователя или активных приложений, меняется)*\n",
    "\n",
    "* второй аргумент - это режим открытия файла: для чтения, записи, дозаписи, все вместе и тд. \n",
    "\n",
    "\n",
    "<div class=\"table-wrapper\"><table border=\"1\" class=\"docutils\"><tbody valign=\"top\"><tr><td>Режим</td><td>Обозначение</td></tr><tr><td>'r'</td><td>открытие на чтение (является значением по умолчанию).</td></tr><tr><td>'w'</td><td>открытие на запись, содержимое файла удаляется, если файла не существует, создается новый.</td></tr><tr><td>'x'</td><td>открытие на запись, если файла не существует, иначе исключение.</td></tr><tr><td>'a'</td><td>открытие на дозапись, информация добавляется в конец файла.</td></tr><tr><td>'b'</td><td>открытие в двоичном режиме.</td></tr><tr><td>'t'</td><td>открытие в текстовом режиме (является значением по умолчанию).</td></tr><tr><td>'+'</td><td>открытие на чтение и запись</td></tr></tbody></table></div>\n",
    "\n",
    "\n",
    "\n",
    "Режимы могут быть объединять: например,'ra' - открытие для чтения и  дозаписи.\n",
    "\n",
    "По умолчанию режим равен 'rt'\n",
    "\n",
    "Последний аргумент (опциональный, его можно не указывать), encoding, нужен только в текстовом режиме чтения файла. Этот аргумент задает кодировку. Чтобы стандантные .txt-файлы читались без проблем, ставим ```encoding = utf-8```\n",
    "\n",
    "\n",
    "Мы открыли файл с режимом для чтения (пока еще не читали его), сохранили в переменную значение. Давайте прочтем содержимое. Читать тоже можно несколькими методами: \n",
    "* .read()\n",
    "* .readline()\n",
    "* readlines()"
   ]
  },
  {
   "cell_type": "code",
   "execution_count": 0,
   "metadata": {
    "colab": {
     "base_uri": "https://localhost:8080/",
     "height": 734
    },
    "colab_type": "code",
    "id": "EgOC--ChGjfV",
    "outputId": "9124ae42-3aba-4fa9-9df1-4f3b0fe78d69"
   },
   "outputs": [
    {
     "name": "stdout",
     "output_type": "stream",
     "text": [
      "Тип переменной: <class 'str'> \n",
      "\n",
      "Помните запах свежевыпеченного хлеба на дождливой улочке из той булочной, в которую вы заходили в прошлом месяце?\n",
      "А как он смешался с запахом смолотого кофе?\n",
      "А запах свежескошенной травы в парке освежающим вечером после жаркого дня?\n",
      "Запахи ежеминутно сопровождают нас в городе, но они мимолетны и невидимы, поэтому часто ускользают от внимания урбанистов и исследователей городской среды.\n",
      "Группа ученых из разных университетов мира в рамках проекта Smelly Maps решила исправить эту несправедливость и занялась исследованием городских запахов.\n",
      "Самый первый и важный вопрос, с которым они столкнулись — откуда брать данные для работы? Один из очевидных ответов — собирать данные на месте при помощи так называемых «smell walks».\n",
      "Принцип прост: группа добровольцев идет по маршруту и записывает все запахи, которые чувствует по пути, отмечая конкретные места на карте.\n",
      "На основе таких прогулок и нескольких исследований был составлен «словарь запахов», который состоял из всех слов, которыми добровольцы описывали запахи во время прогулки.\n",
      "Просто, эффективно и дешево.\n",
      "Но у такого метода есть недостатки: на обход даже небольшого города несколько десятков добровольцев потратит очень много времени, а если мы хотим еще и рассмотреть динамику, этот способ не подходит совсем.\n",
      "Остается обратиться к добровольно собираемым и публикуемым в сети большим данным, а именно к данным социальных сетей.\n",
      "Взять 17 миллионов фотографий из Flickr, 5.1 миллиона снимков из публичных аккаунтов Instagram и 5.3 миллиона твитов из Твиттера, каждый из которых обладает геотегом — и с этим уже можно работать.\n",
      "Набор данных из Твиттера был очищен от ретвитов и ответов, после чего в сумме для анализа было готово 1.7 миллиона твитов.\n",
      "Тексты твитов и подписей к фотографиям был распарсен, и из всего массива слов были отобраны только те, которые имеют отношение к запахам.\n",
      "На основе этих данных был построен взвешенный граф связей между словами, в вершинах которого закреплены сами слова, а вес ребра соответствует количеству раз, когда эти два слова встречаются в одном тексте. Такой анализ выявил несколько четко определенных категорий запахов, например, «природные», «индустриальные», «еда», «выбросы/выхлопы», «мусор».\n",
      "Внутри категорий иногда можно было выделить подкатегории и определить самые часто встречающиеся слова-метки этой категории.\n",
      "Схему этих категорий можно увидеть ниже.\n",
      "Цвета выбраны не просто так.\n",
      "Исследователи нашли связи между запахами и цветами, преобладающими на анализируемых фотографиях.\n",
      "Запахи также связаны с негативными или позитивными эмоциями, например, категория «мусор» будет положительно коррелировать с негативными эмоциями, отвращением и печалью, но отрицательно — с радостью.\n",
      "\n",
      "В современных городах существуют программы мониторинга качества воздуха, позволяющие городским службам оперативно реагировать на аномалии, а обычным горожанам следить за составом воздуха, которым они дышат. Массив данных о городских запахах сравнили и с такими данными и сделали вывод о том, что данные о более низком качестве воздуха с примесями положительно коррелируют с такими категориями, как «выбросы/выхлопы», и отрицательно — с категорией «природа».\n",
      "Такой вывод кажется логичным, но теперь он доказан научно.\n",
      "\n",
      "По геотегам исследователи сделали интерактивные карты, где можно узнать, чем пахнут улицы таких городов мира, как Лондон и Барселона (два первых города, для которых были собраны и проанализированы данные).\n",
      "Есть также карты Мадрида, Рима, Милана, Нью-Йорка и еще шести крупных американских городов.\n",
      "Авторы утверждают, что список будет пополняться и дальше.\n",
      "\n",
      "Для картографирования использовались открытые данные Open Street Map, внутри которых были выделены сегменты улиц от перекрестка до перекрестка, к которым были привязаны геотеги оригинальных данных.\n",
      "На странице проекта, путешествуя по интерактивным картам, можно посмотреть соотношение запахов по каждому сегменту, например, в Барселоне на улице Бальмес запах еды преобладает:\n",
      "\n",
      "Вместе запахи складываются в комплексный и сложный ландшафт, уникальный для каждого города, и он нуждается в исследовании так же, как и ландшафт визуальный или звуковой.\n",
      "Кстати, по запросу от авторов можно получить также данные, на которых основывался проект, если есть желание исследовать их самостоятельно.\n",
      "\n",
      "Источники:\n",
      "Страница проекта Smelly Maps\n",
      "Интерактивные карты проекта\n",
      "Нелли Бурцева\n",
      "\n"
     ]
    }
   ],
   "source": [
    "read_file1 = my_file.read() # выдает весь текст как одну строку\n",
    "print(\"Тип переменной:\",type(read_file1),\"\\n\")\n",
    "print(read_file1)"
   ]
  },
  {
   "cell_type": "code",
   "execution_count": 0,
   "metadata": {
    "colab": {},
    "colab_type": "code",
    "id": "I4v3jYpfSxR4"
   },
   "outputs": [],
   "source": [
    "my_file = open('city_smells.txt', 'r') # откроем файл еще раз"
   ]
  },
  {
   "cell_type": "code",
   "execution_count": 0,
   "metadata": {
    "colab": {
     "base_uri": "https://localhost:8080/",
     "height": 85
    },
    "colab_type": "code",
    "id": "hex4Ze0gRl8q",
    "outputId": "751b6f07-4539-44c5-baec-bf72da50d170"
   },
   "outputs": [
    {
     "name": "stdout",
     "output_type": "stream",
     "text": [
      "Тип переменной: <class 'str'> \n",
      "\n",
      "Принцип прост: группа добровольцев идет по маршруту и записывает все запахи, которые чувствует по пути, отмечая конкретные места на карте.\n",
      "\n"
     ]
    }
   ],
   "source": [
    "read_file2 = my_file.readline() # читает построчно\n",
    "\n",
    "print(\"Тип переменной:\",type(read_file2),\"\\n\")\n",
    "print(read_file2)\n",
    "\n",
    "# запустите ячейку несколько раз"
   ]
  },
  {
   "cell_type": "code",
   "execution_count": 0,
   "metadata": {
    "colab": {},
    "colab_type": "code",
    "id": "hoCSMw2MSkbw"
   },
   "outputs": [],
   "source": [
    "my_file = open('city_smells.txt', 'r') # откроем файл еще раз"
   ]
  },
  {
   "cell_type": "code",
   "execution_count": 0,
   "metadata": {
    "colab": {
     "base_uri": "https://localhost:8080/",
     "height": 88
    },
    "colab_type": "code",
    "id": "tTeeg7u8TBEG",
    "outputId": "9f1ffa22-0d28-4bc2-e6bd-040fce69362b"
   },
   "outputs": [
    {
     "name": "stdout",
     "output_type": "stream",
     "text": [
      "Тип переменной: <class 'list'> \n",
      "\n",
      "['Помните запах свежевыпеченного хлеба на дождливой улочке из той булочной, в которую вы заходили в прошлом месяце?\\n', 'А как он смешался с запахом смолотого кофе?\\n', 'А запах свежескошенной травы в парке освежающим вечером после жаркого дня?\\n', 'Запахи ежеминутно сопровождают нас в городе, но они мимолетны и невидимы, поэтому часто ускользают от внимания урбанистов и исследователей городской среды.\\n', 'Группа ученых из разных университетов мира в рамках проекта Smelly Maps решила исправить эту несправедливость и занялась исследованием городских запахов.\\n', 'Самый первый и важный вопрос, с которым они столкнулись — откуда брать данные для работы? Один из очевидных ответов — собирать данные на месте при помощи так называемых «smell walks».\\n', 'Принцип прост: группа добровольцев идет по маршруту и записывает все запахи, которые чувствует по пути, отмечая конкретные места на карте.\\n', 'На основе таких прогулок и нескольких исследований был составлен «словарь запахов», который состоял из всех слов, которыми добровольцы описывали запахи во время прогулки.\\n', 'Просто, эффективно и дешево.\\n', 'Но у такого метода есть недостатки: на обход даже небольшого города несколько десятков добровольцев потратит очень много времени, а если мы хотим еще и рассмотреть динамику, этот способ не подходит совсем.\\n', 'Остается обратиться к добровольно собираемым и публикуемым в сети большим данным, а именно к данным социальных сетей.\\n', 'Взять 17 миллионов фотографий из Flickr, 5.1 миллиона снимков из публичных аккаунтов Instagram и 5.3 миллиона твитов из Твиттера, каждый из которых обладает геотегом — и с этим уже можно работать.\\n', 'Набор данных из Твиттера был очищен от ретвитов и ответов, после чего в сумме для анализа было готово 1.7 миллиона твитов.\\n', 'Тексты твитов и подписей к фотографиям был распарсен, и из всего массива слов были отобраны только те, которые имеют отношение к запахам.\\n', 'На основе этих данных был построен взвешенный граф связей между словами, в вершинах которого закреплены сами слова, а вес ребра соответствует количеству раз, когда эти два слова встречаются в одном тексте. Такой анализ выявил несколько четко определенных категорий запахов, например, «природные», «индустриальные», «еда», «выбросы/выхлопы», «мусор».\\n', 'Внутри категорий иногда можно было выделить подкатегории и определить самые часто встречающиеся слова-метки этой категории.\\n', 'Схему этих категорий можно увидеть ниже.\\n', 'Цвета выбраны не просто так.\\n', 'Исследователи нашли связи между запахами и цветами, преобладающими на анализируемых фотографиях.\\n', 'Запахи также связаны с негативными или позитивными эмоциями, например, категория «мусор» будет положительно коррелировать с негативными эмоциями, отвращением и печалью, но отрицательно — с радостью.\\n', '\\n', 'В современных городах существуют программы мониторинга качества воздуха, позволяющие городским службам оперативно реагировать на аномалии, а обычным горожанам следить за составом воздуха, которым они дышат. Массив данных о городских запахах сравнили и с такими данными и сделали вывод о том, что данные о более низком качестве воздуха с примесями положительно коррелируют с такими категориями, как «выбросы/выхлопы», и отрицательно — с категорией «природа».\\n', 'Такой вывод кажется логичным, но теперь он доказан научно.\\n', '\\n', 'По геотегам исследователи сделали интерактивные карты, где можно узнать, чем пахнут улицы таких городов мира, как Лондон и Барселона (два первых города, для которых были собраны и проанализированы данные).\\n', 'Есть также карты Мадрида, Рима, Милана, Нью-Йорка и еще шести крупных американских городов.\\n', 'Авторы утверждают, что список будет пополняться и дальше.\\n', '\\n', 'Для картографирования использовались открытые данные Open Street Map, внутри которых были выделены сегменты улиц от перекрестка до перекрестка, к которым были привязаны геотеги оригинальных данных.\\n', 'На странице проекта, путешествуя по интерактивным картам, можно посмотреть соотношение запахов по каждому сегменту, например, в Барселоне на улице Бальмес запах еды преобладает:\\n', '\\n', 'Вместе запахи складываются в комплексный и сложный ландшафт, уникальный для каждого города, и он нуждается в исследовании так же, как и ландшафт визуальный или звуковой.\\n', 'Кстати, по запросу от авторов можно получить также данные, на которых основывался проект, если есть желание исследовать их самостоятельно.\\n', '\\n', 'Источники:\\n', 'Страница проекта Smelly Maps\\n', 'Интерактивные карты проекта\\n', 'Нелли Бурцева\\n']\n"
     ]
    }
   ],
   "source": [
    "read_file3 = my_file.readlines() # возвращает лист, в котором элементы - это строки\n",
    "\n",
    "print(\"Тип переменной:\",type(read_file3),\"\\n\")\n",
    "print(read_file3)"
   ]
  },
  {
   "cell_type": "code",
   "execution_count": 0,
   "metadata": {
    "colab": {},
    "colab_type": "code",
    "id": "xXlMyf5TUuS1"
   },
   "outputs": [],
   "source": [
    "my_file.close() # не забудьте закрыть файл после прочтения!"
   ]
  },
  {
   "cell_type": "markdown",
   "metadata": {
    "colab_type": "text",
    "id": "rgJ-oIYzUGLX"
   },
   "source": [
    "С прочитанным текстом, который мы сохранили в переменную,  теперь можем делать любые операции: измерять длину слов, заменять слова, убирать пунктуацию, проводить подсчеты элементов и тд (это попробуем позже)\n",
    "\n",
    "Часть2\n",
    "Теперь попробуем создать файл и записать в него что-то:"
   ]
  },
  {
   "cell_type": "code",
   "execution_count": 0,
   "metadata": {
    "colab": {},
    "colab_type": "code",
    "id": "7xkPeSW1TPL4"
   },
   "outputs": [],
   "source": [
    "f = open('new_text.txt', 'w') # если такого файла не существовало, но создастся автоматически"
   ]
  },
  {
   "cell_type": "code",
   "execution_count": 0,
   "metadata": {
    "colab": {
     "base_uri": "https://localhost:8080/",
     "height": 34
    },
    "colab_type": "code",
    "id": "7iWl-OZnVSSQ",
    "outputId": "5429d390-03a0-4147-d0ae-14c95742e8f2"
   },
   "outputs": [
    {
     "name": "stdout",
     "output_type": "stream",
     "text": [
      "city_smells.txt  new  new_text.txt  sample_data\n"
     ]
    }
   ],
   "source": [
    "! ls"
   ]
  },
  {
   "cell_type": "code",
   "execution_count": 0,
   "metadata": {
    "colab": {
     "base_uri": "https://localhost:8080/",
     "height": 34
    },
    "colab_type": "code",
    "id": "LAu_oeDQVZKs",
    "outputId": "8c3c5c66-b78a-49a1-f0cf-26318ec1fad1"
   },
   "outputs": [
    {
     "data": {
      "text/plain": [
       "18"
      ]
     },
     "execution_count": 77,
     "metadata": {
      "tags": []
     },
     "output_type": "execute_result"
    }
   ],
   "source": [
    "f.write(\"hi this is a test\"+ '\\n')"
   ]
  },
  {
   "cell_type": "code",
   "execution_count": 0,
   "metadata": {
    "colab": {},
    "colab_type": "code",
    "id": "fdp0s-ipVqBq"
   },
   "outputs": [],
   "source": [
    "f.close() # закрыли! "
   ]
  },
  {
   "cell_type": "code",
   "execution_count": 0,
   "metadata": {
    "colab": {
     "base_uri": "https://localhost:8080/",
     "height": 34
    },
    "colab_type": "code",
    "id": "b_UFW6kdVr6C",
    "outputId": "baec79bc-913e-46fc-fe43-c2d2ea3ecf34"
   },
   "outputs": [
    {
     "data": {
      "text/plain": [
       "'hi this is a test\\n'"
      ]
     },
     "execution_count": 83,
     "metadata": {
      "tags": []
     },
     "output_type": "execute_result"
    }
   ],
   "source": [
    "# откроем и проверим, что в нем дейсвительно записан текст:\n",
    "\n",
    "f = open(\"new_text.txt\",'r')\n",
    "f = f.read()\n",
    "f"
   ]
  }
 ],
 "metadata": {
  "colab": {
   "collapsed_sections": [
    "pilnXnWUAgaI"
   ],
   "include_colab_link": true,
   "name": "09Nov_19.ipynb",
   "provenance": []
  },
  "kernelspec": {
   "display_name": "Python 3",
   "language": "python",
   "name": "python3"
  },
  "language_info": {
   "codemirror_mode": {
    "name": "ipython",
    "version": 3
   },
   "file_extension": ".py",
   "mimetype": "text/x-python",
   "name": "python",
   "nbconvert_exporter": "python",
   "pygments_lexer": "ipython3",
   "version": "3.8.2"
  }
 },
 "nbformat": 4,
 "nbformat_minor": 1
}
