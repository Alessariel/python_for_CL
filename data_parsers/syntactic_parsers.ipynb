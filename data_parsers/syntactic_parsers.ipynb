{
 "cells": [
  {
   "cell_type": "markdown",
   "metadata": {
    "colab_type": "text",
    "id": "FJQqpfFoYWLc"
   },
   "source": [
    "сегодня мы поговорим о синтаксических анализаторах: посмотрим на их функции в деталях на примере UDPipe, но в конце тетрадки вспомним про другие(обзорно) и попробуем на парктике"
   ]
  },
  {
   "cell_type": "markdown",
   "metadata": {
    "colab_type": "text",
    "id": "IJ3Cu1K-TwLW"
   },
   "source": [
    "## UDPipe"
   ]
  },
  {
   "cell_type": "markdown",
   "metadata": {
    "colab_type": "text",
    "id": "iiOE0dwxhtv_"
   },
   "source": [
    "UDPipe - это готовый пайплайн* для токенизации, частеречной разметки, лемматизации и синтаксической разметки. Работает с файлами в формате [CoNLL-U](https://universaldependencies.org/format.html#syntactic-annotation)\n",
    "<br>\n",
    "Есть как готовые [предобученные модели](https://github.com/jwijffels/udpipe.models.ud.2.0/tree/master/inst/udpipe-ud-2.0-170801), так и возможность обучить модель на своих данных (но это небыстро). \n",
    "\n",
    "Использует теги [UD-формата](https://universaldependencies.org/)\n",
    "______\n",
    "*пайплайном называют цепочку из нескольких инструментов, используемых один за другим (pipeline, от англ. pipe- труба)*"
   ]
  },
  {
   "cell_type": "markdown",
   "metadata": {},
   "source": [
    "поля в CoNLL-U формате:\n",
    "\n",
    "* ID: Word index, integer starting at 1 for each new sentence; may be a range for multiword tokens; may be a decimal number for empty nodes (decimal numbers can be lower than 1 but must be greater than 0)\n",
    "* FORM: Word form or punctuation symbol.\n",
    "* LEMMA: Lemma or stem of word form.\n",
    "* UPOS: Universal part-of-speech tag.\n",
    "* XPOS: Language-specific part-of-speech tag; underscore if not available.\n",
    "* FEATS: List of morphological features from the universal feature inventory or from a defined language-specific extension; underscore if not available.\n",
    "* HEAD: Head of the current word, which is either a value of ID or zero (0).\n",
    "* DEPREL: Universal dependency relation to the HEAD (root iff HEAD = 0) or a defined language-specific subtype of one.\n",
    "* DEPS: Enhanced dependency graph in the form of a list of head-deprel pairs.\n",
    "* MISC: Any other annotation."
   ]
  },
  {
   "cell_type": "markdown",
   "metadata": {
    "colab_type": "text",
    "id": "fcqE7FFbitjo"
   },
   "source": [
    "Так выглядит текст в CoNLL-U формате\n",
    "\n",
    "    1\tМэр\t_\tNOUN\t_\tAnimacy=Anim|Case=Nom|Gender=Masc|Number=Sing|fPOS=NOUN++\t2\tnsubj\t_\t_\n",
    "    2\tоткрыл\t_\tVERB\t_\tAspect=Perf|Gender=Masc|Mood=Ind|Number=Sing|Tense=Past|VerbForm=Fin|Voice=Act|fPOS=VERB++\t0\tROOT\t_\t_\n",
    "    3\tновый\t_\tADJ\t_\tAnimacy=Inan|Case=Acc|Degree=Pos|Gender=Masc|Number=Sing|fPOS=ADJ++\t4\tamod\t_\t_\n",
    "    4\tпарк\t_\tNOUN\t_\tAnimacy=Inan|Case=Acc|Gender=Masc|Number=Sing|fPOS=NOUN++\t2\tdobj\t_\t_\n",
    "    5\tи\t_\tCONJ\t_\tfPOS=CONJ++\t4\tcc\t_\t_\n",
    "    6\tдетскую\t_\tADJ\t_\tCase=Acc|Degree=Pos|Gender=Fem|Number=Sing|fPOS=ADJ++\t7\tamod\t_\t_\n",
    "    7\tплощадку\t_\tNOUN\t_\tAnimacy=Inan|Case=Acc|Gender=Fem|Number=Sing|fPOS=NOUN++\t4\tconj\t_\t_\n",
    "    8\t.\t_\tPUNCT\t.\tfPOS=PUNCT++.\t2\tpunct\t_\t_"
   ]
  },
  {
   "cell_type": "markdown",
   "metadata": {
    "colab_type": "text",
    "id": "6TzMKf_jT1Fm"
   },
   "source": [
    "**всякое про UDPipe**\n",
    "* [общая информация](http://ufal.mff.cuni.cz/udpipe#language_models)\n",
    "* [мануал](http://ufal.mff.cuni.cz/udpipe/users-manual)\n",
    "* [репозиторий](https://github.com/ufal/udpipe)\n",
    "* [статья с описанием архитектуры](http://ufal.mff.cuni.cz/~straka/papers/2017-conll_udpipe.pdf)\n",
    "* [онлайн-версия](http://lindat.mff.cuni.cz/services/udpipe/)\n",
    "\n"
   ]
  },
  {
   "cell_type": "markdown",
   "metadata": {
    "colab_type": "text",
    "id": "apvl_B96VdkP"
   },
   "source": [
    "### шаг1: установка библиотеки\n",
    "полная информация о разных способах установки UDPipe [здесь](http://ufal.mff.cuni.cz/udpipe/install)\n",
    "<br>\n",
    "Мы попробуем простую, установив UPpipe как специальную библиотеку для питона, через ```pip3```\n",
    "\n",
    "[документация для питонской библиотеки](https://pypi.org/project/ufal.udpipe/)"
   ]
  },
  {
   "cell_type": "code",
   "execution_count": 76,
   "metadata": {
    "colab": {
     "base_uri": "https://localhost:8080/",
     "height": 207
    },
    "colab_type": "code",
    "id": "jNPHxwb0j0OE",
    "outputId": "7d6052e8-1a5f-4d3c-d86e-d1d068560f6d"
   },
   "outputs": [
    {
     "name": "stdout",
     "output_type": "stream",
     "text": [
      "Requirement already satisfied: ufal.udpipe in /Library/Frameworks/Python.framework/Versions/3.8/lib/python3.8/site-packages (1.2.0.3)\r\n"
     ]
    }
   ],
   "source": [
    "# ячейка может выполняться долго, это нормально\n",
    "! pip3 install ufal.udpipe\n",
    "from ufal.udpipe import Model, Pipeline #импортируем нужные части из модуля"
   ]
  },
  {
   "cell_type": "markdown",
   "metadata": {
    "colab_type": "text",
    "id": "79x1gVQd9tD7"
   },
   "source": [
    "### шаг2: выбор модели\n",
    "\n",
    "Чтобы работать с UDPipe, нужно выбрать модель: уже готовую, или обучить на своих данных.\n",
    "<br>\n",
    "Мы сегодня не будем обучать новые модели (это слишком долго), а используем [готовую модель для русского](https://github.com/jwijffels/udpipe.models.ud.2.0/blob/master/inst/udpipe-ud-2.0-170801/russian-ud-2.0-170801.udpipe)"
   ]
  },
  {
   "cell_type": "code",
   "execution_count": 2,
   "metadata": {
    "colab": {
     "base_uri": "https://localhost:8080/",
     "height": 377
    },
    "colab_type": "code",
    "id": "1LIzqOtHAybz",
    "outputId": "41435ea3-8c1e-4956-f3a1-e177dca6a8c0"
   },
   "outputs": [
    {
     "name": "stdout",
     "output_type": "stream",
     "text": [
      "--2021-01-20 18:16:27--  https://github.com/jwijffels/udpipe.models.ud.2.0/blob/master/inst/udpipe-ud-2.0-170801/russian-ud-2.0-170801.udpipe?raw=true\n",
      "Resolving github.com (github.com)... 140.82.121.3\n",
      "Connecting to github.com (github.com)|140.82.121.3|:443... connected.\n",
      "HTTP request sent, awaiting response... 302 Found\n",
      "Location: https://github.com/jwijffels/udpipe.models.ud.2.0/raw/master/inst/udpipe-ud-2.0-170801/russian-ud-2.0-170801.udpipe [following]\n",
      "--2021-01-20 18:16:28--  https://github.com/jwijffels/udpipe.models.ud.2.0/raw/master/inst/udpipe-ud-2.0-170801/russian-ud-2.0-170801.udpipe\n",
      "Reusing existing connection to github.com:443.\n",
      "HTTP request sent, awaiting response... 302 Found\n",
      "Location: https://raw.githubusercontent.com/jwijffels/udpipe.models.ud.2.0/master/inst/udpipe-ud-2.0-170801/russian-ud-2.0-170801.udpipe [following]\n",
      "--2021-01-20 18:16:28--  https://raw.githubusercontent.com/jwijffels/udpipe.models.ud.2.0/master/inst/udpipe-ud-2.0-170801/russian-ud-2.0-170801.udpipe\n",
      "Resolving raw.githubusercontent.com (raw.githubusercontent.com)... 151.101.244.133\n",
      "Connecting to raw.githubusercontent.com (raw.githubusercontent.com)|151.101.244.133|:443... connected.\n",
      "HTTP request sent, awaiting response... 200 OK\n",
      "Length: 13265262 (13M) [application/octet-stream]\n",
      "Saving to: ‘model_ru.udpipe’\n",
      "\n",
      "model_ru.udpipe     100%[===================>]  12,65M  8,74MB/s    in 1,4s    \n",
      "\n",
      "2021-01-20 18:16:30 (8,74 MB/s) - ‘model_ru.udpipe’ saved [13265262/13265262]\n",
      "\n"
     ]
    }
   ],
   "source": [
    "# сохраняем в переменную UDPIPE_MODEL_FN модель, которую загружаем из репозитория UD \n",
    "UDPIPE_MODEL_FN = \"model_ru.udpipe\"\n",
    "!wget -O {UDPIPE_MODEL_FN} https://github.com/jwijffels/udpipe.models.ud.2.0/blob/master/inst/udpipe-ud-2.0-170801/russian-ud-2.0-170801.udpipe?raw=true"
   ]
  },
  {
   "cell_type": "code",
   "execution_count": 77,
   "metadata": {
    "colab": {},
    "colab_type": "code",
    "id": "4sZzFw689tEf"
   },
   "outputs": [],
   "source": [
    "model = Model.load(UDPIPE_MODEL_FN) # загружаем модель, сохраняем в переменную model"
   ]
  },
  {
   "cell_type": "code",
   "execution_count": 78,
   "metadata": {},
   "outputs": [
    {
     "name": "stdout",
     "output_type": "stream",
     "text": [
      "<Swig Object of type 'model *' at 0x7ffc845a2b70>\n"
     ]
    }
   ],
   "source": [
    "print(model)"
   ]
  },
  {
   "cell_type": "markdown",
   "metadata": {},
   "source": [
    " ### шаг3 текст"
   ]
  },
  {
   "cell_type": "code",
   "execution_count": 88,
   "metadata": {
    "colab": {
     "base_uri": "https://localhost:8080/",
     "height": 34
    },
    "colab_type": "code",
    "id": "upWpD0TX9tHR",
    "outputId": "2ba2ac75-780d-4698-af4b-6283a76da71b"
   },
   "outputs": [
    {
     "name": "stdout",
     "output_type": "stream",
     "text": [
      "Мэр открыл новый парк и детскую площадку! Это освещалось в новостях.\n"
     ]
    }
   ],
   "source": [
    "sent = \"Мэр открыл новый парк и детскую площадку! Это освещалось в новостях.\"\n",
    "print(sent)"
   ]
  },
  {
   "cell_type": "markdown",
   "metadata": {
    "colab_type": "text",
    "id": "IJch2wMgi3Jd"
   },
   "source": [
    "### шаг4: анализируем"
   ]
  },
  {
   "cell_type": "code",
   "execution_count": 86,
   "metadata": {},
   "outputs": [],
   "source": [
    "pipeline = Pipeline(model, 'generic_tokenizer', '','','')\n",
    "#функции нужно 5 аргументов,но нам важны только 2\n",
    "#сохраняем в переменную результат токенизации"
   ]
  },
  {
   "cell_type": "code",
   "execution_count": 94,
   "metadata": {
    "colab": {
     "base_uri": "https://localhost:8080/",
     "height": 275
    },
    "colab_type": "code",
    "id": "34aHBI1Y6yDr",
    "outputId": "f03e068e-f72d-45af-9bfa-b9499121ab45"
   },
   "outputs": [
    {
     "name": "stdout",
     "output_type": "stream",
     "text": [
      "<class 'str'> \n",
      "\n",
      " # newdoc\n",
      "# newpar\n",
      "# sent_id = 1\n",
      "# text = Мэр открыл новый парк и детскую площадку!\n",
      "1\tМэр\tМЭР\tNOUN\tNN\tAnimacy=Anim|Case=Nom|Gender=Masc|Number=Sing\t2\tnsubj\t_\t_\n",
      "2\tоткрыл\tОТКРЫТЬ\tVERB\tVBC\tAspect=Perf|Gender=Masc|Mood=Ind|Number=Sing|Tense=Past|VerbForm=Fin\t0\troot\t_\t_\n",
      "3\tновый\tНОВЫЙ\tADJ\tJJL\tAnimacy=Inan|Case=Acc|Gender=Masc|Number=Sing\t4\tamod\t_\t_\n",
      "4\tпарк\tПАРК\tNOUN\tNN\tAnimacy=Inan|Case=Acc|Gender=Masc|Number=Sing\t2\tobj\t_\t_\n",
      "5\tи\tИ\tCCONJ\tCC\t_\t7\tcc\t_\t_\n",
      "6\tдетскую\tдетскую\tADJ\tJJL\tAnimacy=Inan|Case=Acc|Gender=Fem|Number=Sing\t7\tamod\t_\t_\n",
      "7\tплощадку\tПЛОЩАДКА\tNOUN\tNN\tAnimacy=Inan|Case=Acc|Gender=Fem|Number=Sing\t4\tconj\t_\tSpaceAfter=No\n",
      "8\t!\t!\tPUNCT\t.\t_\t2\tpunct\t_\t_\n",
      "\n",
      "# sent_id = 2\n",
      "# text = Это освещалось в новостях.\n",
      "1\tЭто\tЭТОТ\tPRON\tDT\tAnimacy=Inan|Case=Nom|Gender=Neut|Number=Sing\t2\tnsubj\t_\t_\n",
      "2\tосвещалось\tосвещалось\tVERB\tVBC\tAspect=Imp|Gender=Neut|Mood=Ind|Number=Sing|Tense=Past|VerbForm=Fin|Voice=Mid\t0\troot\t_\t_\n",
      "3\tв\tВ\tADP\tIN\t_\t4\tcase\t_\t_\n",
      "4\tновостях\tновостях\tNOUN\tNN\tAnimacy=Inan|Case=Loc|Gender=Fem|Number=Plur\t2\tobl\t_\tSpaceAfter=No\n",
      "5\t.\t.\tPUNCT\t.\t_\t2\tpunct\t_\tSpacesAfter=\\n\n",
      "\n",
      "\n"
     ]
    }
   ],
   "source": [
    "# ud_res = []\n",
    "parsed = pipeline.process(sent) # функция process сделает синтаксический анализ, сохраняем еще раз\n",
    "\n",
    "print(type(parsed), \"\\n\\n\", parsed) # печатаем результат\n"
   ]
  },
  {
   "cell_type": "markdown",
   "metadata": {
    "colab_type": "text",
    "id": "W2_EPaHpqrmH"
   },
   "source": [
    "дефолтный теггинг иногда может быть ошибочным: теггер предсказывает морфологические свойства токена по последним четырем символам каждого слова. Он генерирует гипотезы относительно части речи и морфологических тегов этого слова, а затем отбирает лучший вариант. \n",
    "<br>\n",
    "*(можно улучшать качество, например, используя сторонний морфоанализатор и токенизатор, но это тема для отдельной пары, сегодня мы попробуем \"ванильный\" UDPipe)*"
   ]
  },
  {
   "cell_type": "markdown",
   "metadata": {
    "colab_type": "text",
    "collapsed": true,
    "id": "ffOK_R3a9tHL"
   },
   "source": [
    "# способы применения\n",
    "Зачем нужен синтаксический парсинг? \n",
    "\n",
    "Например, с помощью него можно находить в предложениях тройки субъект-глагол-объект, которые можно использовать для извлечения информации из текста."
   ]
  },
  {
   "cell_type": "markdown",
   "metadata": {
    "colab_type": "text",
    "id": "C2TajWLrJBUh"
   },
   "source": [
    "**визуализация**"
   ]
  },
  {
   "cell_type": "markdown",
   "metadata": {
    "colab_type": "text",
    "id": "ciX5remQJAkY"
   },
   "source": [
    "В nltk есть DependencyGraph, который умеет рисовать деревья (и ещё многое другое). Для того, чтобы визуализация работала корректно, ему нужна зависимость: graphviz."
   ]
  },
  {
   "cell_type": "code",
   "execution_count": 95,
   "metadata": {
    "colab": {
     "base_uri": "https://localhost:8080/",
     "height": 34
    },
    "colab_type": "code",
    "id": "htYoQ77NI-q-",
    "outputId": "871ab568-7552-4966-8878-552e4489813d"
   },
   "outputs": [
    {
     "name": "stdout",
     "output_type": "stream",
     "text": [
      "Requirement already satisfied: graphviz in /Library/Frameworks/Python.framework/Versions/3.8/lib/python3.8/site-packages (0.16)\r\n"
     ]
    }
   ],
   "source": [
    "! pip3 install graphviz\n",
    "# ! pip3 install pydot \n",
    "# ! brew install graphviz"
   ]
  },
  {
   "cell_type": "markdown",
   "metadata": {},
   "source": [
    "Бибилиотеку grapghviz нужно поставить не только через pip, но и добавить в систему ([см этот тред](https://stackoverflow.com/questions/35064304/runtimeerror-make-sure-the-graphviz-executables-are-on-your-systems-path-aft))\n",
    "\n",
    "Если возникает ошибка, попробуйте следующие команды:\n",
    "* (Win) запустите в ячейке код  \n",
    "```import os\n",
    "os.environ[\"PATH\"] += os.pathsep + 'D:/Program Files (x86)/Graphviz2.38/bin/' ```\n",
    "\n",
    "* (Mac) в терминале: ```brew install graphviz ``` (проверьте, что у Вас стоит [homebrew](https://brew.sh/))\n",
    "\n",
    "* (Linux) в терминале: ```sudo apt-get install graphviz```"
   ]
  },
  {
   "cell_type": "code",
   "execution_count": 96,
   "metadata": {
    "colab": {},
    "colab_type": "code",
    "id": "YHUFaDxzI99o"
   },
   "outputs": [],
   "source": [
    "from nltk import DependencyGraph, Tree \n",
    "# вызываем классы, которые нарисуют нам деревья зависимостей"
   ]
  },
  {
   "cell_type": "markdown",
   "metadata": {
    "colab_type": "text",
    "id": "grvoBcepI9PJ"
   },
   "source": [
    "Для построения дерева нам нужно превратить файл в conllu-формате в список\n",
    "<br> \n",
    "Еще нужно сделать тег ROOT в верхнем регистре, иначе он не находится\n",
    "\n",
    "Создадим функцию, которую попробуем на результате UDPipe"
   ]
  },
  {
   "cell_type": "code",
   "execution_count": 99,
   "metadata": {
    "colab": {},
    "colab_type": "code",
    "id": "-I8xJDF9KVKZ"
   },
   "outputs": [],
   "source": [
    "def conllu_to_list(parser_result): \n",
    "# аргумент - это conllu-файл, который получили в результате синтаксического анализа \n",
    "    sents = []\n",
    "    for sent in parser_result.split('\\n\\n'):\n",
    "        # убираем коменты\n",
    "        sent = '\\n'.join([line for line in sent.split('\\n') if not line.startswith('#')])\n",
    "        # заменяем регистр для root\n",
    "        sent = sent.replace('\\troot\\t', '\\tROOT\\t')\n",
    "        sents.append(sent)\n",
    "    return sents"
   ]
  },
  {
   "cell_type": "markdown",
   "metadata": {
    "colab_type": "text",
    "id": "j4KQhGTXQhbc"
   },
   "source": [
    "## для UDPipe"
   ]
  },
  {
   "cell_type": "code",
   "execution_count": 100,
   "metadata": {
    "colab": {},
    "colab_type": "code",
    "id": "fDB1dSkDLtSw"
   },
   "outputs": [
    {
     "name": "stdout",
     "output_type": "stream",
     "text": [
      "<class 'list'> \n",
      "\n",
      " ['1\\tМэр\\tМЭР\\tNOUN\\tNN\\tAnimacy=Anim|Case=Nom|Gender=Masc|Number=Sing\\t2\\tnsubj\\t_\\t_\\n2\\tоткрыл\\tОТКРЫТЬ\\tVERB\\tVBC\\tAspect=Perf|Gender=Masc|Mood=Ind|Number=Sing|Tense=Past|VerbForm=Fin\\t0\\tROOT\\t_\\t_\\n3\\tновый\\tНОВЫЙ\\tADJ\\tJJL\\tAnimacy=Inan|Case=Acc|Gender=Masc|Number=Sing\\t4\\tamod\\t_\\t_\\n4\\tпарк\\tПАРК\\tNOUN\\tNN\\tAnimacy=Inan|Case=Acc|Gender=Masc|Number=Sing\\t2\\tobj\\t_\\t_\\n5\\tи\\tИ\\tCCONJ\\tCC\\t_\\t7\\tcc\\t_\\t_\\n6\\tдетскую\\tдетскую\\tADJ\\tJJL\\tAnimacy=Inan|Case=Acc|Gender=Fem|Number=Sing\\t7\\tamod\\t_\\t_\\n7\\tплощадку\\tПЛОЩАДКА\\tNOUN\\tNN\\tAnimacy=Inan|Case=Acc|Gender=Fem|Number=Sing\\t4\\tconj\\t_\\tSpaceAfter=No\\n8\\t!\\t!\\tPUNCT\\t.\\t_\\t2\\tpunct\\t_\\t_', '1\\tЭто\\tЭТОТ\\tPRON\\tDT\\tAnimacy=Inan|Case=Nom|Gender=Neut|Number=Sing\\t2\\tnsubj\\t_\\t_\\n2\\tосвещалось\\tосвещалось\\tVERB\\tVBC\\tAspect=Imp|Gender=Neut|Mood=Ind|Number=Sing|Tense=Past|VerbForm=Fin|Voice=Mid\\t0\\tROOT\\t_\\t_\\n3\\tв\\tВ\\tADP\\tIN\\t_\\t4\\tcase\\t_\\t_\\n4\\tновостях\\tновостях\\tNOUN\\tNN\\tAnimacy=Inan|Case=Loc|Gender=Fem|Number=Plur\\t2\\tobl\\t_\\tSpaceAfter=No\\n5\\t.\\t.\\tPUNCT\\t.\\t_\\t2\\tpunct\\t_\\tSpacesAfter=\\\\n', '']\n"
     ]
    }
   ],
   "source": [
    "# вызовем для результата UDPipe:\n",
    "\n",
    "ud = conllu_to_list(parsed) # превратили в лист\n",
    "\n",
    "print(type(ud), \"\\n\\n\", ud)"
   ]
  },
  {
   "cell_type": "code",
   "execution_count": 104,
   "metadata": {},
   "outputs": [
    {
     "data": {
      "text/plain": [
       "''"
      ]
     },
     "execution_count": 104,
     "metadata": {},
     "output_type": "execute_result"
    }
   ],
   "source": [
    "ud[2]"
   ]
  },
  {
   "cell_type": "code",
   "execution_count": 117,
   "metadata": {
    "colab": {
     "base_uri": "https://localhost:8080/",
     "height": 544
    },
    "colab_type": "code",
    "id": "QEomREGuI7dT",
    "outputId": "8c7ee802-9ef2-4458-80c5-0369a2115631"
   },
   "outputs": [
    {
     "data": {
      "image/svg+xml": [
       "<?xml version=\"1.0\" encoding=\"UTF-8\" standalone=\"no\"?>\n",
       "<!DOCTYPE svg PUBLIC \"-//W3C//DTD SVG 1.1//EN\"\n",
       " \"http://www.w3.org/Graphics/SVG/1.1/DTD/svg11.dtd\">\n",
       "<!-- Generated by graphviz version 2.44.1 (20200629.0846)\n",
       " -->\n",
       "<!-- Title: G Pages: 1 -->\n",
       "<svg width=\"269pt\" height=\"392pt\"\n",
       " viewBox=\"0.00 0.00 268.50 392.00\" xmlns=\"http://www.w3.org/2000/svg\" xmlns:xlink=\"http://www.w3.org/1999/xlink\">\n",
       "<g id=\"graph0\" class=\"graph\" transform=\"scale(1 1) rotate(0) translate(4 388)\">\n",
       "<title>G</title>\n",
       "<polygon fill=\"white\" stroke=\"transparent\" points=\"-4,4 -4,-388 264.5,-388 264.5,4 -4,4\"/>\n",
       "<!-- 0 -->\n",
       "<g id=\"node1\" class=\"node\">\n",
       "<title>0</title>\n",
       "<text text-anchor=\"middle\" x=\"111\" y=\"-362.3\" font-family=\"Times,serif\" font-size=\"14.00\">0 (None)</text>\n",
       "</g>\n",
       "<!-- 2 -->\n",
       "<g id=\"node2\" class=\"node\">\n",
       "<title>2</title>\n",
       "<text text-anchor=\"middle\" x=\"111\" y=\"-275.3\" font-family=\"Times,serif\" font-size=\"14.00\">2 (открыл)</text>\n",
       "</g>\n",
       "<!-- 0&#45;&gt;2 -->\n",
       "<g id=\"edge1\" class=\"edge\">\n",
       "<title>0&#45;&gt;2</title>\n",
       "<path fill=\"none\" stroke=\"black\" d=\"M111,-347.8C111,-336.16 111,-320.55 111,-307.24\"/>\n",
       "<polygon fill=\"black\" stroke=\"black\" points=\"114.5,-307.18 111,-297.18 107.5,-307.18 114.5,-307.18\"/>\n",
       "<text text-anchor=\"middle\" x=\"129.5\" y=\"-318.8\" font-family=\"Times,serif\" font-size=\"14.00\">ROOT</text>\n",
       "</g>\n",
       "<!-- 1 -->\n",
       "<g id=\"node3\" class=\"node\">\n",
       "<title>1</title>\n",
       "<text text-anchor=\"middle\" x=\"31\" y=\"-188.3\" font-family=\"Times,serif\" font-size=\"14.00\">1 (Мэр)</text>\n",
       "</g>\n",
       "<!-- 2&#45;&gt;1 -->\n",
       "<g id=\"edge2\" class=\"edge\">\n",
       "<title>2&#45;&gt;1</title>\n",
       "<path fill=\"none\" stroke=\"black\" d=\"M94.31,-261C88.76,-255.31 82.59,-248.91 77,-243 69.34,-234.9 61.07,-225.97 53.68,-217.92\"/>\n",
       "<polygon fill=\"black\" stroke=\"black\" points=\"55.97,-215.24 46.64,-210.23 50.81,-219.97 55.97,-215.24\"/>\n",
       "<text text-anchor=\"middle\" x=\"92\" y=\"-231.8\" font-family=\"Times,serif\" font-size=\"14.00\">nsubj</text>\n",
       "</g>\n",
       "<!-- 4 -->\n",
       "<g id=\"node4\" class=\"node\">\n",
       "<title>4</title>\n",
       "<text text-anchor=\"middle\" x=\"111\" y=\"-188.3\" font-family=\"Times,serif\" font-size=\"14.00\">4 (парк)</text>\n",
       "</g>\n",
       "<!-- 2&#45;&gt;4 -->\n",
       "<g id=\"edge3\" class=\"edge\">\n",
       "<title>2&#45;&gt;4</title>\n",
       "<path fill=\"none\" stroke=\"black\" d=\"M111,-260.8C111,-249.16 111,-233.55 111,-220.24\"/>\n",
       "<polygon fill=\"black\" stroke=\"black\" points=\"114.5,-220.18 111,-210.18 107.5,-220.18 114.5,-220.18\"/>\n",
       "<text text-anchor=\"middle\" x=\"120\" y=\"-231.8\" font-family=\"Times,serif\" font-size=\"14.00\">obj</text>\n",
       "</g>\n",
       "<!-- 8 -->\n",
       "<g id=\"node5\" class=\"node\">\n",
       "<title>8</title>\n",
       "<text text-anchor=\"middle\" x=\"187\" y=\"-188.3\" font-family=\"Times,serif\" font-size=\"14.00\">8 (!)</text>\n",
       "</g>\n",
       "<!-- 2&#45;&gt;8 -->\n",
       "<g id=\"edge4\" class=\"edge\">\n",
       "<title>2&#45;&gt;8</title>\n",
       "<path fill=\"none\" stroke=\"black\" d=\"M126.38,-260.8C137.4,-248.47 152.42,-231.68 164.75,-217.89\"/>\n",
       "<polygon fill=\"black\" stroke=\"black\" points=\"167.59,-219.96 171.64,-210.18 162.37,-215.3 167.59,-219.96\"/>\n",
       "<text text-anchor=\"middle\" x=\"169.5\" y=\"-231.8\" font-family=\"Times,serif\" font-size=\"14.00\">punct</text>\n",
       "</g>\n",
       "<!-- 3 -->\n",
       "<g id=\"node6\" class=\"node\">\n",
       "<title>3</title>\n",
       "<text text-anchor=\"middle\" x=\"73\" y=\"-101.3\" font-family=\"Times,serif\" font-size=\"14.00\">3 (новый)</text>\n",
       "</g>\n",
       "<!-- 4&#45;&gt;3 -->\n",
       "<g id=\"edge5\" class=\"edge\">\n",
       "<title>4&#45;&gt;3</title>\n",
       "<path fill=\"none\" stroke=\"black\" d=\"M103.31,-173.8C98,-161.93 90.85,-145.93 84.82,-132.45\"/>\n",
       "<polygon fill=\"black\" stroke=\"black\" points=\"87.96,-130.88 80.68,-123.18 81.56,-133.73 87.96,-130.88\"/>\n",
       "<text text-anchor=\"middle\" x=\"110.5\" y=\"-144.8\" font-family=\"Times,serif\" font-size=\"14.00\">amod</text>\n",
       "</g>\n",
       "<!-- 7 -->\n",
       "<g id=\"node7\" class=\"node\">\n",
       "<title>7</title>\n",
       "<text text-anchor=\"middle\" x=\"174\" y=\"-101.3\" font-family=\"Times,serif\" font-size=\"14.00\">7 (площадку)</text>\n",
       "</g>\n",
       "<!-- 4&#45;&gt;7 -->\n",
       "<g id=\"edge6\" class=\"edge\">\n",
       "<title>4&#45;&gt;7</title>\n",
       "<path fill=\"none\" stroke=\"black\" d=\"M123.75,-173.8C132.8,-161.59 145.1,-144.99 155.26,-131.28\"/>\n",
       "<polygon fill=\"black\" stroke=\"black\" points=\"158.13,-133.29 161.27,-123.18 152.5,-129.13 158.13,-133.29\"/>\n",
       "<text text-anchor=\"middle\" x=\"159\" y=\"-144.8\" font-family=\"Times,serif\" font-size=\"14.00\">conj</text>\n",
       "</g>\n",
       "<!-- 5 -->\n",
       "<g id=\"node8\" class=\"node\">\n",
       "<title>5</title>\n",
       "<text text-anchor=\"middle\" x=\"130\" y=\"-14.3\" font-family=\"Times,serif\" font-size=\"14.00\">5 (и)</text>\n",
       "</g>\n",
       "<!-- 7&#45;&gt;5 -->\n",
       "<g id=\"edge7\" class=\"edge\">\n",
       "<title>7&#45;&gt;5</title>\n",
       "<path fill=\"none\" stroke=\"black\" d=\"M165.1,-86.8C158.89,-74.82 150.51,-58.62 143.49,-45.06\"/>\n",
       "<polygon fill=\"black\" stroke=\"black\" points=\"146.6,-43.45 138.89,-36.18 140.38,-46.67 146.6,-43.45\"/>\n",
       "<text text-anchor=\"middle\" x=\"161.5\" y=\"-57.8\" font-family=\"Times,serif\" font-size=\"14.00\">cc</text>\n",
       "</g>\n",
       "<!-- 6 -->\n",
       "<g id=\"node9\" class=\"node\">\n",
       "<title>6</title>\n",
       "<text text-anchor=\"middle\" x=\"218\" y=\"-14.3\" font-family=\"Times,serif\" font-size=\"14.00\">6 (детскую)</text>\n",
       "</g>\n",
       "<!-- 7&#45;&gt;6 -->\n",
       "<g id=\"edge8\" class=\"edge\">\n",
       "<title>7&#45;&gt;6</title>\n",
       "<path fill=\"none\" stroke=\"black\" d=\"M182.9,-86.8C189.11,-74.82 197.49,-58.62 204.51,-45.06\"/>\n",
       "<polygon fill=\"black\" stroke=\"black\" points=\"207.62,-46.67 209.11,-36.18 201.4,-43.45 207.62,-46.67\"/>\n",
       "<text text-anchor=\"middle\" x=\"214.5\" y=\"-57.8\" font-family=\"Times,serif\" font-size=\"14.00\">amod</text>\n",
       "</g>\n",
       "</g>\n",
       "</svg>\n"
      ],
      "text/plain": [
       "<DependencyGraph with 9 nodes>"
      ]
     },
     "metadata": {},
     "output_type": "display_data"
    },
    {
     "data": {
      "image/svg+xml": [
       "<?xml version=\"1.0\" encoding=\"UTF-8\" standalone=\"no\"?>\n",
       "<!DOCTYPE svg PUBLIC \"-//W3C//DTD SVG 1.1//EN\"\n",
       " \"http://www.w3.org/Graphics/SVG/1.1/DTD/svg11.dtd\">\n",
       "<!-- Generated by graphviz version 2.44.1 (20200629.0846)\n",
       " -->\n",
       "<!-- Title: G Pages: 1 -->\n",
       "<svg width=\"247pt\" height=\"305pt\"\n",
       " viewBox=\"0.00 0.00 246.50 305.00\" xmlns=\"http://www.w3.org/2000/svg\" xmlns:xlink=\"http://www.w3.org/1999/xlink\">\n",
       "<g id=\"graph0\" class=\"graph\" transform=\"scale(1 1) rotate(0) translate(4 301)\">\n",
       "<title>G</title>\n",
       "<polygon fill=\"white\" stroke=\"transparent\" points=\"-4,4 -4,-301 242.5,-301 242.5,4 -4,4\"/>\n",
       "<!-- 0 -->\n",
       "<g id=\"node1\" class=\"node\">\n",
       "<title>0</title>\n",
       "<text text-anchor=\"middle\" x=\"121.5\" y=\"-275.3\" font-family=\"Times,serif\" font-size=\"14.00\">0 (None)</text>\n",
       "</g>\n",
       "<!-- 2 -->\n",
       "<g id=\"node2\" class=\"node\">\n",
       "<title>2</title>\n",
       "<text text-anchor=\"middle\" x=\"121.5\" y=\"-188.3\" font-family=\"Times,serif\" font-size=\"14.00\">2 (освещалось)</text>\n",
       "</g>\n",
       "<!-- 0&#45;&gt;2 -->\n",
       "<g id=\"edge1\" class=\"edge\">\n",
       "<title>0&#45;&gt;2</title>\n",
       "<path fill=\"none\" stroke=\"black\" d=\"M121.5,-260.8C121.5,-249.16 121.5,-233.55 121.5,-220.24\"/>\n",
       "<polygon fill=\"black\" stroke=\"black\" points=\"125,-220.18 121.5,-210.18 118,-220.18 125,-220.18\"/>\n",
       "<text text-anchor=\"middle\" x=\"140\" y=\"-231.8\" font-family=\"Times,serif\" font-size=\"14.00\">ROOT</text>\n",
       "</g>\n",
       "<!-- 1 -->\n",
       "<g id=\"node3\" class=\"node\">\n",
       "<title>1</title>\n",
       "<text text-anchor=\"middle\" x=\"29.5\" y=\"-101.3\" font-family=\"Times,serif\" font-size=\"14.00\">1 (Это)</text>\n",
       "</g>\n",
       "<!-- 2&#45;&gt;1 -->\n",
       "<g id=\"edge2\" class=\"edge\">\n",
       "<title>2&#45;&gt;1</title>\n",
       "<path fill=\"none\" stroke=\"black\" d=\"M102.88,-173.8C89.29,-161.24 70.68,-144.05 55.61,-130.12\"/>\n",
       "<polygon fill=\"black\" stroke=\"black\" points=\"57.81,-127.39 48.09,-123.18 53.06,-132.53 57.81,-127.39\"/>\n",
       "<text text-anchor=\"middle\" x=\"96.5\" y=\"-144.8\" font-family=\"Times,serif\" font-size=\"14.00\">nsubj</text>\n",
       "</g>\n",
       "<!-- 4 -->\n",
       "<g id=\"node4\" class=\"node\">\n",
       "<title>4</title>\n",
       "<text text-anchor=\"middle\" x=\"121.5\" y=\"-101.3\" font-family=\"Times,serif\" font-size=\"14.00\">4 (новостях)</text>\n",
       "</g>\n",
       "<!-- 2&#45;&gt;4 -->\n",
       "<g id=\"edge3\" class=\"edge\">\n",
       "<title>2&#45;&gt;4</title>\n",
       "<path fill=\"none\" stroke=\"black\" d=\"M121.5,-173.8C121.5,-162.16 121.5,-146.55 121.5,-133.24\"/>\n",
       "<polygon fill=\"black\" stroke=\"black\" points=\"125,-133.18 121.5,-123.18 118,-133.18 125,-133.18\"/>\n",
       "<text text-anchor=\"middle\" x=\"130.5\" y=\"-144.8\" font-family=\"Times,serif\" font-size=\"14.00\">obl</text>\n",
       "</g>\n",
       "<!-- 5 -->\n",
       "<g id=\"node5\" class=\"node\">\n",
       "<title>5</title>\n",
       "<text text-anchor=\"middle\" x=\"211.5\" y=\"-101.3\" font-family=\"Times,serif\" font-size=\"14.00\">5 (.)</text>\n",
       "</g>\n",
       "<!-- 2&#45;&gt;5 -->\n",
       "<g id=\"edge4\" class=\"edge\">\n",
       "<title>2&#45;&gt;5</title>\n",
       "<path fill=\"none\" stroke=\"black\" d=\"M139.71,-173.8C153.01,-161.24 171.21,-144.05 185.96,-130.12\"/>\n",
       "<polygon fill=\"black\" stroke=\"black\" points=\"188.45,-132.59 193.31,-123.18 183.64,-127.5 188.45,-132.59\"/>\n",
       "<text text-anchor=\"middle\" x=\"188\" y=\"-144.8\" font-family=\"Times,serif\" font-size=\"14.00\">punct</text>\n",
       "</g>\n",
       "<!-- 3 -->\n",
       "<g id=\"node6\" class=\"node\">\n",
       "<title>3</title>\n",
       "<text text-anchor=\"middle\" x=\"121.5\" y=\"-14.3\" font-family=\"Times,serif\" font-size=\"14.00\">3 (в)</text>\n",
       "</g>\n",
       "<!-- 4&#45;&gt;3 -->\n",
       "<g id=\"edge5\" class=\"edge\">\n",
       "<title>4&#45;&gt;3</title>\n",
       "<path fill=\"none\" stroke=\"black\" d=\"M121.5,-86.8C121.5,-75.16 121.5,-59.55 121.5,-46.24\"/>\n",
       "<polygon fill=\"black\" stroke=\"black\" points=\"125,-46.18 121.5,-36.18 118,-46.18 125,-46.18\"/>\n",
       "<text text-anchor=\"middle\" x=\"133.5\" y=\"-57.8\" font-family=\"Times,serif\" font-size=\"14.00\">case</text>\n",
       "</g>\n",
       "</g>\n",
       "</svg>\n"
      ],
      "text/plain": [
       "<DependencyGraph with 6 nodes>"
      ]
     },
     "metadata": {},
     "output_type": "display_data"
    },
    {
     "data": {
      "image/svg+xml": [
       "<?xml version=\"1.0\" encoding=\"UTF-8\" standalone=\"no\"?>\n",
       "<!DOCTYPE svg PUBLIC \"-//W3C//DTD SVG 1.1//EN\"\n",
       " \"http://www.w3.org/Graphics/SVG/1.1/DTD/svg11.dtd\">\n",
       "<!-- Generated by graphviz version 2.44.1 (20200629.0846)\n",
       " -->\n",
       "<!-- Title: G Pages: 1 -->\n",
       "<svg width=\"73pt\" height=\"44pt\"\n",
       " viewBox=\"0.00 0.00 73.00 44.00\" xmlns=\"http://www.w3.org/2000/svg\" xmlns:xlink=\"http://www.w3.org/1999/xlink\">\n",
       "<g id=\"graph0\" class=\"graph\" transform=\"scale(1 1) rotate(0) translate(4 40)\">\n",
       "<title>G</title>\n",
       "<polygon fill=\"white\" stroke=\"transparent\" points=\"-4,4 -4,-40 69,-40 69,4 -4,4\"/>\n",
       "<!-- 0 -->\n",
       "<g id=\"node1\" class=\"node\">\n",
       "<title>0</title>\n",
       "<text text-anchor=\"middle\" x=\"32.5\" y=\"-14.3\" font-family=\"Times,serif\" font-size=\"14.00\">0 (None)</text>\n",
       "</g>\n",
       "</g>\n",
       "</svg>\n"
      ],
      "text/plain": [
       "<DependencyGraph with 1 nodes>"
      ]
     },
     "metadata": {},
     "output_type": "display_data"
    }
   ],
   "source": [
    "# нарисуем граф для UDPipe\n",
    "for elem in ud:\n",
    "    display(DependencyGraph(tree_str=elem))\n",
    "# ud_graph = DependencyGraph(tree_str=ud[x])\n",
    "\n",
    "# # print(ud_graph)\n",
    "# ud_graph"
   ]
  },
  {
   "cell_type": "markdown",
   "metadata": {},
   "source": [
    "а вот еще один способ визуализации дерева"
   ]
  },
  {
   "cell_type": "code",
   "execution_count": 108,
   "metadata": {
    "colab": {
     "base_uri": "https://localhost:8080/",
     "height": 170
    },
    "colab_type": "code",
    "id": "0IE44qCEI5hJ",
    "outputId": "25ff7648-d24d-42f4-e900-23796eae9dd8"
   },
   "outputs": [
    {
     "name": "stdout",
     "output_type": "stream",
     "text": [
      "    освещалось         \n",
      "  ______|_________      \n",
      " |      |      новостях\n",
      " |      |         |     \n",
      "Это     .         в    \n",
      "\n",
      "None\n"
     ]
    }
   ],
   "source": [
    "ud_tree = ud_graph.tree()\n",
    "\n",
    "print(ud_tree.pretty_print())"
   ]
  },
  {
   "cell_type": "code",
   "execution_count": 109,
   "metadata": {
    "colab": {
     "base_uri": "https://localhost:8080/",
     "height": 136
    },
    "colab_type": "code",
    "id": "zIG1or5OI6ck",
    "outputId": "4a3daa4f-bb7a-4ad5-d8d4-38e685242883"
   },
   "outputs": [
    {
     "data": {
      "text/plain": [
       "[(('освещалось', 'VERB'), 'nsubj', ('Это', 'PRON')),\n",
       " (('освещалось', 'VERB'), 'obl', ('новостях', 'NOUN')),\n",
       " (('новостях', 'NOUN'), 'case', ('в', 'ADP')),\n",
       " (('освещалось', 'VERB'), 'punct', ('.', 'PUNCT'))]"
      ]
     },
     "execution_count": 109,
     "metadata": {},
     "output_type": "execute_result"
    }
   ],
   "source": [
    "# посмотрим, на что вообще можно разбить предложение\n",
    "list(ud_graph.triples())"
   ]
  },
  {
   "cell_type": "markdown",
   "metadata": {
    "colab_type": "text",
    "id": "mw-xsbbRReBb"
   },
   "source": [
    "**Тройки глагол-объект-субьект:**"
   ]
  },
  {
   "cell_type": "markdown",
   "metadata": {
    "colab_type": "text",
    "id": "ZbyRYI1NReBd"
   },
   "source": [
    "Предположим, нам нужно вытащить только ту тройку, которая расскажет о предикате (сказуемом), субъекте (подлежащем) и объекте (дополнении)."
   ]
  },
  {
   "cell_type": "code",
   "execution_count": 150,
   "metadata": {
    "colab": {
     "base_uri": "https://localhost:8080/",
     "height": 34
    },
    "colab_type": "code",
    "id": "eiNpunK7ReBe",
    "outputId": "e0e1d782-d008-43e3-e16d-dab67bb9d439"
   },
   "outputs": [],
   "source": [
    "def get_sov(text): # зададим функцию, которая будет вытаскивать нужную тройку\n",
    "    \n",
    "    graph = DependencyGraph(tree_str=ud[0])\n",
    "    #ud_graph = DependencyGraph(tree_str=ud[0]) \n",
    "    sov = {} # пустой словарь, будем в него складывать ключи и значения\n",
    "    \n",
    "    for triple in graph.triples(): # для каждого триплета из всех\n",
    "        if triple[0][1] == 'VERB': # если тег первого элемента - VERB\n",
    "            sov[triple[0][0]] = {'subj':'','obj':''}\n",
    "            \n",
    "    for triple in graph.triples(): # почему\n",
    "        \n",
    "        if triple[1] == 'nsubj': # если второй элемент -- существительное\n",
    "            if triple[0][1] == 'VERB': # при этом если тег первого элемента - VERB\n",
    "                sov[triple[0][0]]['subj']  = triple[2][0] # сохраняем значение \n",
    "        elif triple[1] == 'obj': # соответственно для дополнения\n",
    "            if triple[0][1] == 'VERB':\n",
    "                sov[triple[0][0]]['obj'] = triple[2][0]\n",
    "    return sov"
   ]
  },
  {
   "cell_type": "code",
   "execution_count": 159,
   "metadata": {},
   "outputs": [
    {
     "name": "stdout",
     "output_type": "stream",
     "text": [
      "Мэр\n"
     ]
    }
   ],
   "source": [
    "graph = DependencyGraph(tree_str=ud[0])\n",
    "#ud_graph = DependencyGraph(tree_str=ud[0]) \n",
    "# sov = {} # пустой словарь, будем в него складывать ключи и значения\n",
    "    \n",
    "for triple in graph.triples(): # для каждого триплета из всех\n",
    "    print(triple[2][0])\n",
    "    break\n",
    "#     if triple[0][1] == 'VERB': # если тег первого элемента - VERB\n",
    "#             sov[triple[0][0]] = {'subj':'','obj':''}\n",
    "            \n",
    "#     for triple in graph.triples():\n",
    "#         if triple[1] == 'nsubj':"
   ]
  },
  {
   "cell_type": "markdown",
   "metadata": {},
   "source": [
    " проверим:"
   ]
  },
  {
   "cell_type": "code",
   "execution_count": 151,
   "metadata": {},
   "outputs": [
    {
     "name": "stdout",
     "output_type": "stream",
     "text": [
      "\n",
      " {'открыл': {'subj': 'Мэр', 'obj': 'парк'}}\n"
     ]
    }
   ],
   "source": [
    "sov = get_sov(sent)\n",
    "print(\"\\n\",sov)"
   ]
  },
  {
   "cell_type": "code",
   "execution_count": 152,
   "metadata": {},
   "outputs": [],
   "source": [
    "# попробуем разное расположение подлежащего и сказуемого\n",
    "test_sent = [\"Мэр открыл площадку\",\n",
    "             \"Открыл мэр площадку\",\n",
    "             \"Площадку открыл мэр\"]"
   ]
  },
  {
   "cell_type": "code",
   "execution_count": 153,
   "metadata": {},
   "outputs": [
    {
     "name": "stdout",
     "output_type": "stream",
     "text": [
      "\n",
      " {'открыл': {'subj': 'Мэр', 'obj': 'парк'}}\n",
      "\n",
      " {'открыл': {'subj': 'Мэр', 'obj': 'парк'}}\n",
      "\n",
      " {'открыл': {'subj': 'Мэр', 'obj': 'парк'}}\n"
     ]
    }
   ],
   "source": [
    "for elem in test_sent:\n",
    "    sov = get_sov(elem)\n",
    "    print(\"\\n\",sov)"
   ]
  },
  {
   "cell_type": "markdown",
   "metadata": {
    "colab_type": "text",
    "id": "cG_jarktX68x"
   },
   "source": [
    "улучшим функцию, теперь она находит однородные дополнения *(парк и площадку)*"
   ]
  },
  {
   "cell_type": "markdown",
   "metadata": {},
   "source": [
    "Нам понадобится defaultdict -- это контейнер, похожий на словарь, который при доступе по несуществующему ключу присваивает ему заданное(дефолтное) значение\n",
    "[подробнее](https://docs.python.org/3/library/collections.html#collections.defaultdict)"
   ]
  },
  {
   "cell_type": "code",
   "execution_count": 160,
   "metadata": {
    "colab": {
     "base_uri": "https://localhost:8080/",
     "height": 88
    },
    "colab_type": "code",
    "id": "A9DDccNEXrsT",
    "outputId": "f356311b-d2c5-4efc-fa60-658939021cbc"
   },
   "outputs": [],
   "source": [
    "from collections import defaultdict as dd\n",
    "\n",
    "def get_sov(text):\n",
    "    graph = DependencyGraph(tree_str=ud[0])\n",
    "\n",
    "    subjects = dd(lambda : {\"subject\": \"\", \"verb\": \"\", \"objects\": []})\n",
    "    # создаем словарь для подлежащих, в нем есть ключи но пока нулевые значения\n",
    "    \n",
    "    verbs = dd(lambda : {\"subject\": \"\", \"verb\": \"\", \"objects\": []})\n",
    "    # такой же словарь для сказуемых\n",
    "    \n",
    "    for triple in graph.triples(): # проверяем все тройки\n",
    "        if triple[1] == 'conj': # если второй элемент - союз \n",
    "            subjects[triple[0][0]][\"objects\"].append(triple[2][0])\n",
    "            # сохраняем значение в раздел \"дополнения\"\n",
    "                \n",
    "        # аналогично для существительных и глаголов\n",
    "        if triple[1] == 'nsubj': \n",
    "            if triple[0][1] == 'VERB':\n",
    "                verbs[triple[0][0]][\"subject\"] = triple[2][0]\n",
    "        if triple[1] == 'obj':\n",
    "            if triple[0][1] == 'VERB':\n",
    "                subjects[triple[2][0]][\"verb\"] = triple[0][0]\n",
    "                subjects[triple[2][0]][\"objects\"].append(triple[2][0])\n",
    "\n",
    "    \n",
    "    sovs = [] # пустой список, сюда будем складывать нужные фрагменты всего что нашли\n",
    "\n",
    "    print(subjects) # печатаем все содержимое словарей (можно закомментить)\n",
    "    \n",
    "    for v in subjects.values(): # для каждого значения в словаре подлежащих\n",
    "        for obj in v[\"objects\"]: # для каждого значения в списке дополнений\n",
    "            sovs.append((verbs[v[\"verb\"]][\"subject\"], v[\"verb\"], obj))\n",
    "            # добавляем в список соответственно\n",
    "    return sovs # возвращаем готовый список"
   ]
  },
  {
   "cell_type": "code",
   "execution_count": 157,
   "metadata": {},
   "outputs": [
    {
     "name": "stdout",
     "output_type": "stream",
     "text": [
      "hi\n"
     ]
    }
   ],
   "source": [
    "from collections import defaultdict as dd\n",
    "\n",
    "test = dd(lambda:'hi')\n",
    "test[1] = \"red\"\n",
    "test[2] = \"green\"\n",
    "\n",
    "# print(test[1])\n",
    "# print(test[2])\n",
    "print(test[3])"
   ]
  },
  {
   "cell_type": "markdown",
   "metadata": {},
   "source": [
    "проверим:"
   ]
  },
  {
   "cell_type": "code",
   "execution_count": 161,
   "metadata": {},
   "outputs": [
    {
     "name": "stdout",
     "output_type": "stream",
     "text": [
      "defaultdict(<function get_sov.<locals>.<lambda> at 0x7ffc8d066d30>, {'парк': {'subject': '', 'verb': 'открыл', 'objects': ['парк', 'площадку']}})\n",
      "\n",
      " [('Мэр', 'открыл', 'парк'), ('Мэр', 'открыл', 'площадку')]\n"
     ]
    }
   ],
   "source": [
    "sov = get_sov(sent)\n",
    "print(\"\\n\",sov)"
   ]
  },
  {
   "cell_type": "markdown",
   "metadata": {
    "colab_type": "text",
    "id": "2fhNcFP0zYYq"
   },
   "source": [
    "## идеи дальше:\n",
    "(на выбор)\n",
    "1. Выбрать текст (на русском), с которым было бы интересно поработать. Попробовать вытащить все тройки предикат-субъект-объект из выбранного текста, посмотреть на результат, проинтерпретировать\n",
    "2. Написать функцию,которая бы учитывала сложные сказуемые*(начинает уходить, устал думать)* как единый элемент (она похожа на функцию, которая собирает однородные дополнения, нам также нужно что-то сделать с тегами)\n",
    "3. попробовать предобученные модели для других языков\n",
    "4. Попробовать парсеры на предложениях с [синтаксической омонимией](https://github.com/sjut/DPO_Materials/blob/ff1341f1d82ca11a763e15d76601bd6898958323/%D0%9F%D1%80%D0%B0%D0%BA%D1%82%D0%B8%D1%87%D0%B5%D1%81%D0%BA%D0%B8%D0%B5%20%D0%B7%D0%B0%D0%BD%D1%8F%D1%82%D0%B8%D1%8F/%D1%81%D0%B8%D0%BD%D1%82_%D0%BD%D0%B5%D0%BE%D0%B4%D0%BD%D0%BE%D0%B7%D0%BD%D0%B0%D1%87%D0%BD%D0%BE%D1%81%D1%82%D1%8C.txt), проинтерпретировать результаты \n",
    "(для этого текст, который вы хотите анализировать, необходимо сохранить в переменную одним из удобных способов)"
   ]
  },
  {
   "cell_type": "markdown",
   "metadata": {
    "colab_type": "text",
    "id": "v_ZO2RZM-7ZJ"
   },
   "source": [
    "# что есть еще? \n",
    "\n",
    "более немейнстримные парсеры"
   ]
  },
  {
   "cell_type": "markdown",
   "metadata": {},
   "source": [
    "## DeepPavlov\n",
    "\n",
    "[ссылка на тетрадку с подробностями](https://github.com/nstsj/python_for_CL/blob/master/syntax_parsing/syntax_analysis_DeepPavlov.ipynb)\n"
   ]
  },
  {
   "cell_type": "markdown",
   "metadata": {
    "colab_type": "text",
    "id": "pq6mKkYnV-nE"
   },
   "source": [
    "## SyntaxNet"
   ]
  },
  {
   "cell_type": "markdown",
   "metadata": {
    "colab_type": "text",
    "id": "XhUfIPQ5ef8F"
   },
   "source": [
    "SyntaxNet — это гугловская библиотека для определения синтаксических связей (использует нейронную сеть на TensorFlow). Поддерживает 40 языков, в том числе  русский.\n",
    "\n",
    "* [документация](https://github.com/tensorflow/models/blob/master/research/syntaxnet/README.md)\n",
    "* [репозиторий на гитхабе](https://github.com/tensorflow/models/tree/master/research/syntaxnet)\n",
    "* [тьюториал](https://github.com/tensorflow/models/blob/master/research/syntaxnet/g3doc/syntaxnet-tutorial.md)\n",
    "* [ссылка на обученные модели](https://github.com/tensorflow/models/blob/master/research/syntaxnet/g3doc/universal.md)"
   ]
  },
  {
   "cell_type": "markdown",
   "metadata": {
    "colab_type": "text",
    "id": "mpzSzxbf_K2l"
   },
   "source": [
    "## Stanford Parser"
   ]
  },
  {
   "cell_type": "markdown",
   "metadata": {
    "colab_type": "text",
    "id": "LK9TRxO5_OhV"
   },
   "source": [
    "* [о проекте](https://nlp.stanford.edu/software/stanford-dependencies.shtml#Languages)\n",
    "* [о парсере](https://nlp.stanford.edu/software/lex-parser.html)\n",
    "* [питонская обертка](http://projects.csail.mit.edu/spatial/Stanford_Parser)"
   ]
  },
  {
   "cell_type": "markdown",
   "metadata": {},
   "source": [
    "## SpaCy\n",
    "\n",
    "библиотека для различных NLP-задач от (токенизации до NER и др), в том числе умеет делать [синтаксический анализ предложения в грамматике зависимостей](https://spacy.io/usage/linguistic-features#dependency-parse)"
   ]
  },
  {
   "cell_type": "code",
   "execution_count": null,
   "metadata": {},
   "outputs": [],
   "source": []
  }
 ],
 "metadata": {
  "colab": {
   "collapsed_sections": [
    "79x1gVQd9tD7",
    "IJch2wMgi3Jd",
    "rEiIcHJNV5vo",
    "j4KQhGTXQhbc",
    "CTls7y3gQrTG",
    "v_ZO2RZM-7ZJ"
   ],
   "include_colab_link": true,
   "machine_shape": "hm",
   "name": "syntactic_parsers.ipynb",
   "provenance": []
  },
  "kernelspec": {
   "display_name": "Python 3",
   "language": "python",
   "name": "python3"
  },
  "language_info": {
   "codemirror_mode": {
    "name": "ipython",
    "version": 3
   },
   "file_extension": ".py",
   "mimetype": "text/x-python",
   "name": "python",
   "nbconvert_exporter": "python",
   "pygments_lexer": "ipython3",
   "version": "3.8.2"
  }
 },
 "nbformat": 4,
 "nbformat_minor": 1
}
