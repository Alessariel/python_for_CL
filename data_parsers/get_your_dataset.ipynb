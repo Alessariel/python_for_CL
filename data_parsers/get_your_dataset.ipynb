{
  "nbformat": 4,
  "nbformat_minor": 0,
  "metadata": {
    "colab": {
      "name": "get_your_dataset.ipynb",
      "provenance": [],
      "collapsed_sections": [],
      "include_colab_link": true
    },
    "kernelspec": {
      "name": "python3",
      "display_name": "Python 3"
    }
  },
  "cells": [
    {
      "cell_type": "markdown",
      "metadata": {
        "id": "view-in-github",
        "colab_type": "text"
      },
      "source": [
        "<a href=\"https://colab.research.google.com/github/nstsj/python_for_CL/blob/master/data_parsers/get_your_dataset.ipynb\" target=\"_parent\"><img src=\"https://colab.research.google.com/assets/colab-badge.svg\" alt=\"Open In Colab\"/></a>"
      ]
    },
    {
      "cell_type": "markdown",
      "metadata": {
        "id": "W2LDC-PbXhtR",
        "colab_type": "text"
      },
      "source": [
        "В этой тетрадке мы поговорим о способах собрать свой датасет для исследований: откуда брать данные, как их собирать и как хранить.\n",
        "\n",
        "Достаточно часто, чтобы собрать данные, нужно что-то выкачать с сайта\n",
        "\n",
        "Существует несколько библиотек(модулей) для работы с веб-страничками, сегодня мы будем использовать requests для доступа к веб-страничкам и Beautiful Soup для работы с содержимым html-документов"
      ]
    },
    {
      "cell_type": "code",
      "metadata": {
        "id": "ncJ-uAqjDNkC",
        "colab_type": "code",
        "outputId": "b58e536a-5828-42b5-8cbd-ba766ee76384",
        "colab": {
          "base_uri": "https://localhost:8080/",
          "height": 122
        }
      },
      "source": [
        "! pip3 install requests # импортируем модуль requests"
      ],
      "execution_count": 197,
      "outputs": [
        {
          "output_type": "stream",
          "text": [
            "Requirement already satisfied: requests in /usr/local/lib/python3.6/dist-packages (2.21.0)\n",
            "Requirement already satisfied: chardet<3.1.0,>=3.0.2 in /usr/local/lib/python3.6/dist-packages (from requests) (3.0.4)\n",
            "Requirement already satisfied: certifi>=2017.4.17 in /usr/local/lib/python3.6/dist-packages (from requests) (2019.9.11)\n",
            "Requirement already satisfied: urllib3<1.25,>=1.21.1 in /usr/local/lib/python3.6/dist-packages (from requests) (1.24.3)\n",
            "Requirement already satisfied: idna<2.9,>=2.5 in /usr/local/lib/python3.6/dist-packages (from requests) (2.8)\n"
          ],
          "name": "stdout"
        }
      ]
    },
    {
      "cell_type": "code",
      "metadata": {
        "id": "fFcBQ25GZBCO",
        "colab_type": "code",
        "outputId": "4d52810c-2a47-486a-f79b-1ed4621c8793",
        "colab": {
          "base_uri": "https://localhost:8080/",
          "height": 34
        }
      },
      "source": [
        "# импортируем модуль beautifulsoup, самая последняя версия - четвертая\n",
        "\n",
        "! pip3 install beautifulsoup4 "
      ],
      "execution_count": 199,
      "outputs": [
        {
          "output_type": "stream",
          "text": [
            "Requirement already satisfied: beautifulsoup4 in /usr/local/lib/python3.6/dist-packages (4.6.3)\n"
          ],
          "name": "stdout"
        }
      ]
    },
    {
      "cell_type": "code",
      "metadata": {
        "id": "XT5G41FYnr7a",
        "colab_type": "code",
        "colab": {}
      },
      "source": [
        "# импортируем модули в тетрадку\n",
        "\n",
        "import requests as rq\n",
        "\n",
        "from bs4 import BeautifulSoup"
      ],
      "execution_count": 0,
      "outputs": []
    },
    {
      "cell_type": "markdown",
      "metadata": {
        "id": "cIvQNBqUYwE8",
        "colab_type": "text"
      },
      "source": [
        "## работаем с веб-страничками"
      ]
    },
    {
      "cell_type": "markdown",
      "metadata": {
        "id": "28Oy0NnLnk0L",
        "colab_type": "text"
      },
      "source": [
        "Мы установили и импортировали модули, теперь можем приступать к работе\n",
        "\n",
        "шаг 1. \n",
        "\n",
        "Создадим переменную ```url``` и сохраним в нее адрес какой-нибудь html-страницы\n",
        "\n",
        "например, [сайта CNN](http://lite.cnn.io/en)\n",
        "\n",
        "обратите внимание, что адрес прописываем в кавычках, как строку"
      ]
    },
    {
      "cell_type": "code",
      "metadata": {
        "id": "WzqN6Ss_aujY",
        "colab_type": "code",
        "colab": {}
      },
      "source": [
        "url = 'https://www.theguardian.com/international'"
      ],
      "execution_count": 0,
      "outputs": []
    },
    {
      "cell_type": "markdown",
      "metadata": {
        "id": "Ysgl6VmpKjxu",
        "colab_type": "text"
      },
      "source": [
        "В модуле requests есть метод request.get(), который сохраняет ответ сервера на наш реквест. Мы применим его к переменной url, куда сохранен путь к странице. \n",
        "Сохраним результат в переменную page"
      ]
    },
    {
      "cell_type": "code",
      "metadata": {
        "id": "O8AH4kDxqKvF",
        "colab_type": "code",
        "colab": {}
      },
      "source": [
        "page = rq.get(url)"
      ],
      "execution_count": 0,
      "outputs": []
    },
    {
      "cell_type": "code",
      "metadata": {
        "id": "RoT5Aj69u3eb",
        "colab_type": "code",
        "outputId": "e2ae7620-3338-49ca-cc71-a051b4f8ec74",
        "colab": {
          "base_uri": "https://localhost:8080/",
          "height": 34
        }
      },
      "source": [
        "page # посмотрим на код ответа, если 200, все хорошо"
      ],
      "execution_count": 146,
      "outputs": [
        {
          "output_type": "execute_result",
          "data": {
            "text/plain": [
              "<Response [200]>"
            ]
          },
          "metadata": {
            "tags": []
          },
          "execution_count": 146
        }
      ]
    },
    {
      "cell_type": "code",
      "metadata": {
        "id": "i5q3w4NXuni7",
        "colab_type": "code",
        "colab": {}
      },
      "source": [
        "? page"
      ],
      "execution_count": 0,
      "outputs": []
    },
    {
      "cell_type": "code",
      "metadata": {
        "id": "E_SbOttcp1LH",
        "colab_type": "code",
        "outputId": "3cf0bcbb-ac2f-412e-9b67-304995f72b0a",
        "colab": {
          "base_uri": "https://localhost:8080/",
          "height": 34
        }
      },
      "source": [
        "# статус-код можно вызвать, написав .status_code после page (без скобок, тк это атрибут, а не метод)\n",
        "\n",
        "page.status_code"
      ],
      "execution_count": 88,
      "outputs": [
        {
          "output_type": "execute_result",
          "data": {
            "text/plain": [
              "200"
            ]
          },
          "metadata": {
            "tags": []
          },
          "execution_count": 88
        }
      ]
    },
    {
      "cell_type": "markdown",
      "metadata": {
        "id": "J5Y2C39Gp0yK",
        "colab_type": "text"
      },
      "source": [
        "код 200 сообщает, что страница загружена успешно \n",
        "*(коды, начинающиеся с 2, обычно указывают на успешное выполнение операции, а коды, начинающиеся с 4 или 5, сообщают об ошибке)*\n",
        "\n",
        "Узнать больше о кодах состояния HTTP  можно [по этой ссылке.](https://www.w3.org/Protocols/HTTP/1.1/draft-ietf-http-v11-spec-01#Status-Codes)"
      ]
    },
    {
      "cell_type": "markdown",
      "metadata": {
        "id": "9Gg53fJKNObR",
        "colab_type": "text"
      },
      "source": [
        "Следующим шагом нужно получить доступ к текстовому содержимому веб-файлов.\n",
        "\n",
        "Здесь нам поможет page.text *(или page.content, чтобы получить значение в байтах)*"
      ]
    },
    {
      "cell_type": "code",
      "metadata": {
        "id": "md61SNPYu_jL",
        "colab_type": "code",
        "colab": {}
      },
      "source": [
        "# раскомментить эту ячейку\n",
        "#page.text\n"
      ],
      "execution_count": 0,
      "outputs": []
    },
    {
      "cell_type": "markdown",
      "metadata": {
        "id": "X5cEfTSEYhcY",
        "colab_type": "text"
      },
      "source": [
        "## работаем с текстом на страничке"
      ]
    },
    {
      "cell_type": "markdown",
      "metadata": {
        "id": "vcVMhwpHNxE5",
        "colab_type": "text"
      },
      "source": [
        "Мы получили текст страницы (со всеми html-тегами), однако его неудобно прочитать в таком виде. \n",
        "\n",
        "Здесь нам понадобится Beautiful Soup, модуль для html-парсинга: он сделает текст веб-страницы, извлеченный с помощью Requests, более читаемым, потому что создает дерево синтаксического разбора из проанализированных HTML (или XML) документов."
      ]
    },
    {
      "cell_type": "code",
      "metadata": {
        "id": "GOBPlBro3AQR",
        "colab_type": "code",
        "colab": {}
      },
      "source": [
        "soup = BeautifulSoup(page.text, 'html.parser') #сохраним результат в переменную soup"
      ],
      "execution_count": 0,
      "outputs": []
    },
    {
      "cell_type": "code",
      "metadata": {
        "id": "HigX0lNr3P1Z",
        "colab_type": "code",
        "colab": {}
      },
      "source": [
        "#print(soup.prettify()) # показывает нашу страницу в красивом виде"
      ],
      "execution_count": 0,
      "outputs": []
    },
    {
      "cell_type": "markdown",
      "metadata": {
        "id": "O_WQYXXEUVkk",
        "colab_type": "text"
      },
      "source": [
        "##работаем с тегами в тексте: "
      ]
    },
    {
      "cell_type": "markdown",
      "metadata": {
        "id": "bVR8OVuRUaO1",
        "colab_type": "text"
      },
      "source": [
        "предыдущие шаги позволили привести веб-страничку к виду, где содержание каждого тега написано с новой строки. \n",
        "\n",
        "Некоторые теги полезны для конкретной задачи (там текст), некоторые - не очень (например, мета-данные,картинки и тд)\n",
        "\n",
        "Извлечь один тег со страницы можно с помощью метода find_all(). Он похож на метод регулярок, с которым мы работали: он вернет все экземпляры данного тега в документе. Нужно прописать в скобках метода нужный тег. \n",
        "\n",
        "Текст содержится в разделах с тегом \\<p>\n",
        "\n",
        "ссылки - в тегах \\<a>"
      ]
    },
    {
      "cell_type": "code",
      "metadata": {
        "id": "N0RXeVL33W7I",
        "colab_type": "code",
        "outputId": "03346e7c-dc54-4183-a943-35c61ba969a6",
        "colab": {
          "base_uri": "https://localhost:8080/",
          "height": 71
        }
      },
      "source": [
        "soup.find_all('h1') \n",
        "\n",
        "# попробуйте теги head, body, title, div "
      ],
      "execution_count": 192,
      "outputs": [
        {
          "output_type": "execute_result",
          "data": {
            "text/plain": [
              "[<h1 class=\"u-h\">News, sport and opinion from the Guardian's global edition</h1>,\n",
              " <h1 class=\"dumathoin__title\"> <a class=\"adverts__logo u-text-hyphenate\" data-component=\"Labs front container | US | international | container-12 | Improving lives through business innovation | Business Call To Action | card-0 | Improving lives through business innovation\" href=\"/business-call-to-action-partnerzone\">Improving lives through business innovation</a> </h1>]"
            ]
          },
          "metadata": {
            "tags": []
          },
          "execution_count": 192
        }
      ]
    },
    {
      "cell_type": "markdown",
      "metadata": {
        "id": "N2pm6e8fV2nr",
        "colab_type": "text"
      },
      "source": [
        "Результат метода .find_all() хранится в виде списка. \n",
        "\n",
        "Можно итерироваться элементам списка (например, первый элемент из всех с тегами \\<h1>)"
      ]
    },
    {
      "cell_type": "code",
      "metadata": {
        "id": "eOi_J2ChZJ6t",
        "colab_type": "code",
        "colab": {
          "base_uri": "https://localhost:8080/",
          "height": 54
        },
        "outputId": "f2bc4a1f-52c2-4b0b-aac7-5ee0f32b365d"
      },
      "source": [
        "soup.find_all('h1')[1]"
      ],
      "execution_count": 193,
      "outputs": [
        {
          "output_type": "execute_result",
          "data": {
            "text/plain": [
              "<h1 class=\"dumathoin__title\"> <a class=\"adverts__logo u-text-hyphenate\" data-component=\"Labs front container | US | international | container-12 | Improving lives through business innovation | Business Call To Action | card-0 | Improving lives through business innovation\" href=\"/business-call-to-action-partnerzone\">Improving lives through business innovation</a> </h1>"
            ]
          },
          "metadata": {
            "tags": []
          },
          "execution_count": 193
        }
      ]
    },
    {
      "cell_type": "markdown",
      "metadata": {
        "id": "ca4ZEbxNWYV2",
        "colab_type": "text"
      },
      "source": [
        "метод .get_text() позволит вытащить текст из элемента:"
      ]
    },
    {
      "cell_type": "code",
      "metadata": {
        "id": "xUAvgbxEGVfj",
        "colab_type": "code",
        "colab": {
          "base_uri": "https://localhost:8080/",
          "height": 34
        },
        "outputId": "94716746-a7c8-44a0-ee79-f61eaaff7f2d"
      },
      "source": [
        "soup.find_all('h1')[1].get_text()"
      ],
      "execution_count": 191,
      "outputs": [
        {
          "output_type": "execute_result",
          "data": {
            "text/plain": [
              "' Improving lives through business innovation '"
            ]
          },
          "metadata": {
            "tags": []
          },
          "execution_count": 191
        }
      ]
    },
    {
      "cell_type": "markdown",
      "metadata": {
        "id": "tF72_zk5ak4g",
        "colab_type": "text"
      },
      "source": [
        "## полезные ссылки"
      ]
    },
    {
      "cell_type": "markdown",
      "metadata": {
        "id": "ILp0Ke2daokq",
        "colab_type": "text"
      },
      "source": [
        "[документация requests и быстрый гайд](https://requests.readthedocs.io/en/master/user/quickstart/)\n",
        "\n",
        "\n",
        "[документация Beautiful Soup](https://www.crummy.com/software/BeautifulSoup/bs4/doc/)\n",
        "\n",
        "[text-only](https://sjmulder.nl/en/textonly.html) веб-сайты, чтобы легко начать парсить\n",
        "\n",
        "\n",
        "\n",
        "[здесь](https://www.york.ac.uk/teaching/cws/wws/webpage1.html) можно почитать про структуру html подробнее\n",
        "\n",
        "\n",
        "а [здесь](https://www.w3schools.com/html/html_examples.asp) еще и потренироваться в режиме онлайн"
      ]
    },
    {
      "cell_type": "markdown",
      "metadata": {
        "id": "KZ_J5BSyog2J",
        "colab_type": "text"
      },
      "source": [
        "## try-except"
      ]
    },
    {
      "cell_type": "markdown",
      "metadata": {
        "id": "KBcqi0K1j87T",
        "colab_type": "text"
      },
      "source": [
        "В блоке try мы выполняем инструкцию, которая может породить исключение, а в блоке except мы перехватываем их.\n",
        "\n"
      ]
    },
    {
      "cell_type": "code",
      "metadata": {
        "id": "XuKik8SumU32",
        "colab_type": "code",
        "colab": {}
      },
      "source": [
        "def divider():\n",
        "    x = float(input('Введите число:'))\n",
        "    try:\n",
        "        1/x\n",
        "    except Exception :\n",
        "        print(\"я не умею делить на 0 :( \")\n",
        "    res = 1/x\n",
        "    print('получается', res)"
      ],
      "execution_count": 0,
      "outputs": []
    },
    {
      "cell_type": "code",
      "metadata": {
        "id": "liXKtYSgnWkE",
        "colab_type": "code",
        "colab": {}
      },
      "source": [
        "divider()"
      ],
      "execution_count": 0,
      "outputs": []
    },
    {
      "cell_type": "markdown",
      "metadata": {
        "id": "4xny9DLqkQVT",
        "colab_type": "text"
      },
      "source": [
        "**типы эксепшонов:**\n",
        "\n",
        "все можно почитать [тут](https://airbrake.io/blog/python-exception-handling/class-hierarchy):\n",
        "\n",
        "BaseException - базовое исключение, от которого берут начало все остальные.\n",
        "\n",
        "KeyboardInterrupt - порождается при прерывании программы пользователем (обычно сочетанием клавиш Ctrl+C).\n",
        "\n",
        "StopIteration - порождается встроенной функцией next, если в итераторе больше нет элементов.\n",
        "\n",
        "ArithmeticError - арифметическая ошибка.\n",
        "\n",
        "* FloatingPointError - порождается при неудачном выполнении операции с плавающей запятой. На практике встречается нечасто.\n",
        "\n",
        "* OverflowError - возникает, когда результат арифметической операции слишком велик для представления. Не появляется при обычной работе с целыми числами (так как python поддерживает длинные числа), но может возникать в некоторых других случаях.\n",
        "\n",
        "* ZeroDivisionError - деление на ноль.\n",
        "\n",
        "AttributeError - объект не имеет данного атрибута (значения или метода).\n",
        "\n",
        "EOFError - функция наткнулась на конец файла и не смогла прочитать то, что хотела.\n",
        "\n",
        "ImportError - не удалось импортирование модуля или его атрибута.\n",
        "\n",
        "LookupError - некорректный индекс или ключ.\n",
        "\n",
        "IndexError - индекс не входит в диапазон элементов.\n",
        "\n",
        "KeyError - несуществующий ключ (в словаре, множестве или другом объекте).\n",
        "\n",
        "MemoryError - недостаточно памяти.\n",
        "\n",
        "NameError - не найдено переменной с таким именем.\n",
        "\n",
        "UnboundLocalError - сделана ссылка на локальную переменную в функции, но переменная не определена ранее.\n",
        "\n",
        "OSError - ошибка, связанная с системой.\n",
        "\n",
        "FileExistsError - попытка создания файла или директории, которая уже существует.\n",
        "\n",
        "FileNotFoundError - файл или директория не существует.\n",
        "\n",
        "InterruptedError - системный вызов прерван входящим сигналом.\n",
        "\n",
        "IsADirectoryError - ожидался файл, но это директория.\n",
        "\n",
        "NotADirectoryError - ожидалась директория, но это файл.\n",
        "\n",
        "PermissionError - не хватает прав доступа.\n",
        "\n",
        "TimeoutError - закончилось время ожидания.\n",
        "\n",
        "RuntimeError - возникает, когда исключение не попадает ни под одну из других категорий.\n",
        "\n",
        "SyntaxError - синтаксическая ошибка.\n",
        "\n",
        "IndentationError - неправильные отступы.\n",
        "\n",
        "TabError - смешивание в отступах табуляции и пробелов.\n",
        "\n",
        "SystemError - внутренняя ошибка.\n",
        "\n",
        "TypeError - операция применена к объекту несоответствующего типа.\n",
        "\n",
        "ValueError - функция получает аргумент правильного типа, но некорректного значения.\n",
        "\n",
        "UnicodeError - ошибка, связанная с кодированием / раскодированием unicode в строках.\n",
        "\n",
        "UnicodeEncodeError - исключение, связанное с кодированием unicode.\n",
        "\n",
        "UnicodeDecodeError - исключение, связанное с декодированием unicode.\n",
        "\n",
        "UnicodeTranslateError - исключение, связанное с переводом unicode.\n",
        "\n",
        "Warning - предупреждение."
      ]
    },
    {
      "cell_type": "markdown",
      "metadata": {
        "id": "6FA4mcdnYIWT",
        "colab_type": "text"
      },
      "source": [
        "## подсказки по дз"
      ]
    },
    {
      "cell_type": "code",
      "metadata": {
        "id": "D6kLyx_LWY5g",
        "colab_type": "code",
        "colab": {}
      },
      "source": [
        "# как получить список ссылок с главной страницы\n",
        "\n",
        "links = [] # пустой список, будем сюда класть ссылки\n",
        "souplist = soup.find_all('a', {'href' : True}) # находим элементы с этими параметрами, сохраняем в список\n",
        "for elem in souplist: # для элемента списка\n",
        "    links.append(elem['href']) # добавляем нужный атрибут(ссылку) в список для ссылок"
      ],
      "execution_count": 0,
      "outputs": []
    },
    {
      "cell_type": "code",
      "metadata": {
        "id": "mUn9LrSDIRW5",
        "colab_type": "code",
        "colab": {}
      },
      "source": [
        "# как проверить дату новости\n",
        "\n",
        "import datetime as dt\n",
        "import re\n",
        "\n",
        "def get_today_date():\n",
        "    today = dt.date.today()\n",
        "    return today.strftime(\"%Y/%b/%d\")\n",
        "\n",
        "\n",
        "todayarticles = [] # складываем сюда ссылки на статьи за сегодня\n",
        "for link in links: # для каждой статьи в links\n",
        "    if re.search(get_today_date(), link) != None: # если указана дата\n",
        "        todayarticles.append(link) # добавьте в список статей\n"
      ],
      "execution_count": 0,
      "outputs": []
    },
    {
      "cell_type": "code",
      "metadata": {
        "id": "L0A5kcApaeb-",
        "colab_type": "code",
        "colab": {}
      },
      "source": [
        ""
      ],
      "execution_count": 0,
      "outputs": []
    }
  ]
}