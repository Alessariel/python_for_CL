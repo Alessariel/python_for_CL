{
 "cells": [
  {
   "cell_type": "markdown",
   "metadata": {
    "colab_type": "text",
    "ein.tags": "worksheet-0",
    "id": "cmjunHewA0wj"
   },
   "source": [
    "Exercise: find all news written today on  and parse the content of https://www.theguardian.com/international each of them into a .txt file"
   ]
  },
  {
   "cell_type": "markdown",
   "metadata": {
    "colab_type": "text",
    "id": "URe3NPE0WNar"
   },
   "source": [
    "стратегия работы:\n",
    "\n",
    "1. используйте код из тетрадки с пары или из этой (здесь то же самое, но в функциях), чтобы получить лист всех ссылок с главной страницы новостного сайта за определенный день (например, за сегодня)\n",
    "\n",
    "2. Из листа ссылок сделайте лист со ссылками только на новости (ссылки на катеогрии и другие разделы сайта не нужны)\n",
    "\n",
    "3. для каждой ссылки на новость в листе ссылок:\n",
    "    3.1. пройдите по ссылке\n",
    "    3.2. из этой веб-странички вытащите текст новости + ее заголовок\n",
    "    3.3. запишите в отдельный .txt файл\n",
    "\n",
    "4. сохраните файлы в папку"
   ]
  },
  {
   "cell_type": "code",
   "execution_count": 0,
   "metadata": {
    "autoscroll": false,
    "colab": {},
    "colab_type": "code",
    "ein.hycell": false,
    "ein.tags": "worksheet-0",
    "id": "wyX5gdEgA0wn"
   },
   "outputs": [],
   "source": [
    "import requests\n",
    "from bs4 import BeautifulSoup as bs\n",
    "import datetime as dt\n",
    "import re\n",
    "import os"
   ]
  },
  {
   "cell_type": "code",
   "execution_count": 0,
   "metadata": {
    "autoscroll": false,
    "colab": {},
    "colab_type": "code",
    "ein.hycell": false,
    "ein.tags": "worksheet-0",
    "id": "6bTjw95CA0wt"
   },
   "outputs": [],
   "source": [
    "def parsing_pipe(url):\n",
    "    req = requests.get(url)\n",
    "    content = req.content\n",
    "    soup = bs(content, 'html.parser')\n",
    "    return soup\n",
    "\n",
    "def get_today_date():\n",
    "    today = dt.date.today()\n",
    "    return today.strftime(\"%Y/%b/%d\")\n",
    "    #https://docs.python.org/2/library/datetime.html#strftime-strptime-behavior for strftime format explanation\n",
    "    \n",
    "def parse_link(soup):\n",
    "    todaynews = []\n",
    "    listlinks = soup.find_all(\"a\", {\"href\": True})\n",
    "    for link in listlinks:\n",
    "        if re.search(get_today_date(),link[\"href\"],re.I) != None:\n",
    "            todaynews.append(link[\"href\"])\n",
    "    return set(todaynews)\n",
    "        "
   ]
  },
  {
   "cell_type": "code",
   "execution_count": 0,
   "metadata": {
    "autoscroll": false,
    "colab": {},
    "colab_type": "code",
    "ein.hycell": false,
    "ein.tags": "worksheet-0",
    "id": "bL98ezEjA0ww"
   },
   "outputs": [],
   "source": [
    "url = \"https://www.theguardian.com/uk-news\"\n",
    "pagecontent = parsing_pipe(url)\n",
    "pagelist = parse_link(pagecontent)"
   ]
  },
  {
   "cell_type": "code",
   "execution_count": 0,
   "metadata": {
    "autoscroll": false,
    "colab": {},
    "colab_type": "code",
    "ein.hycell": false,
    "ein.tags": "worksheet-0",
    "id": "BKPz2d-oA0w1"
   },
   "outputs": [],
   "source": [
    "def parse_and_write_article(url, path):\n",
    "    pagesoup = parsing_pipe(url)\n",
    "    title = pagesoup.find(\"h1\").get_text()\n",
    "    #text = \" \".join([i.get_text() for i in pagesoup.find_all(\"p\")])\n",
    "    \n",
    "    with open(path + os.sep + url.rsplit(\"/\", 1)[1] + \".txt\", \"w+\", encoding = \"utf-8\") as f:\n",
    "        f.write(title + \"\\n\" + text)\n",
    "            "
   ]
  },
  {
   "cell_type": "code",
   "execution_count": 0,
   "metadata": {
    "autoscroll": false,
    "colab": {},
    "colab_type": "code",
    "ein.hycell": false,
    "ein.tags": "worksheet-0",
    "id": "00v8cqYKA0w5"
   },
   "outputs": [],
   "source": [
    "path = \".\" + os.sep + dt.date.today().strftime(\"%Y%m%d\")\n",
    "try:\n",
    "    os.mkdir(path)\n",
    "except:\n",
    "    pass\n",
    "for link in pagelist:\n",
    "    pagesoup = parse_and_write_article(link, path)"
   ]
  },
  {
   "cell_type": "code",
   "execution_count": 0,
   "metadata": {
    "autoscroll": false,
    "colab": {},
    "colab_type": "code",
    "ein.hycell": false,
    "ein.tags": "worksheet-0",
    "id": "BpMopXg6A0w9"
   },
   "outputs": [],
   "source": []
  }
 ],
 "metadata": {
  "colab": {
   "collapsed_sections": [],
   "include_colab_link": true,
   "name": "parse_guardian_dz.ipynb",
   "provenance": []
  },
  "kernelspec": {
   "display_name": "Python 3",
   "language": "python",
   "name": "python3"
  },
  "language_info": {
   "codemirror_mode": {
    "name": "ipython",
    "version": 3
   },
   "file_extension": ".py",
   "mimetype": "text/x-python",
   "name": "python",
   "nbconvert_exporter": "python",
   "pygments_lexer": "ipython3",
   "version": "3.8.2"
  },
  "name": "Untitled.ipynb"
 },
 "nbformat": 4,
 "nbformat_minor": 1
}
