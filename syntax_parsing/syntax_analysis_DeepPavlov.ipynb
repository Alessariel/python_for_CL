{
 "cells": [
  {
   "cell_type": "markdown",
   "metadata": {},
   "source": [
    "[DeepPavlov](http://docs.deeppavlov.ai/en/0.7.0/index.html) - это библиотека для решения различных NLP-задач от МФТИ, у них есть свой синтаксический анализатор\n",
    "\n",
    "[документация](http://docs.deeppavlov.ai/en/0.7.0/features/models/syntaxparser.html)\n",
    "\n",
    "модель выдает результат в CONLL-U формате и обучена на   [UD-трибанках](http://universaldependencies.org/format.html)"
   ]
  },
  {
   "cell_type": "code",
   "execution_count": null,
   "metadata": {},
   "outputs": [],
   "source": [
    "# установка (может быть долгой)\n",
    "!pip3 install deeppavlov\n",
    "!pip3 install russian-tagsets\n",
    "!python3 -m deeppavlov install syntax_ru_syntagrus_bert"
   ]
  },
  {
   "cell_type": "code",
   "execution_count": null,
   "metadata": {},
   "outputs": [],
   "source": [
    "import deeppavlov"
   ]
  },
  {
   "cell_type": "code",
   "execution_count": null,
   "metadata": {},
   "outputs": [],
   "source": [
    "# импортим модель (здесь тоже долго..)\n",
    "from deeppavlov import build_model, configs \n",
    "dpavlov_model = build_model(\"ru_syntagrus_joint_parsing\", download=True)"
   ]
  },
  {
   "cell_type": "code",
   "execution_count": null,
   "metadata": {},
   "outputs": [],
   "source": [
    "sentences = [\"Собянин открыл новый парк и детскую площадку\"]\n",
    "#model['main'].to_output_string = False\n",
    "#model['main'].output_format = 'dict'\n",
    "\n",
    "for parse in dpavlov_model(sentences): # аргумент должен быть списком\n",
    "    print(parse)"
   ]
  },
  {
   "cell_type": "markdown",
   "metadata": {
    "colab_type": "text",
    "id": "fcqE7FFbitjo"
   },
   "source": [
    "### шаг3 текст\n",
    "\n",
    "создадим какой-нибудь небольшой текст, на котором будем тестить модель:\n",
    "\n",
    "    1\tСобянин\t_\tNOUN\t_\tAnimacy=Anim|Case=Nom|Gender=Masc|Number=Sing|fPOS=NOUN++\t2\tnsubj\t_\t_\n",
    "    2\tоткрыл\t_\tVERB\t_\tAspect=Perf|Gender=Masc|Mood=Ind|Number=Sing|Tense=Past|VerbForm=Fin|Voice=Act|fPOS=VERB++\t0\tROOT\t_\t_\n",
    "    3\tновый\t_\tADJ\t_\tAnimacy=Inan|Case=Acc|Degree=Pos|Gender=Masc|Number=Sing|fPOS=ADJ++\t4\tamod\t_\t_\n",
    "    4\tпарк\t_\tNOUN\t_\tAnimacy=Inan|Case=Acc|Gender=Masc|Number=Sing|fPOS=NOUN++\t2\tdobj\t_\t_\n",
    "    5\tи\t_\tCONJ\t_\tfPOS=CONJ++\t4\tcc\t_\t_\n",
    "    6\tдетскую\t_\tADJ\t_\tCase=Acc|Degree=Pos|Gender=Fem|Number=Sing|fPOS=ADJ++\t7\tamod\t_\t_\n",
    "    7\tплощадку\t_\tNOUN\t_\tAnimacy=Inan|Case=Acc|Gender=Fem|Number=Sing|fPOS=NOUN++\t4\tconj\t_\t_\n",
    "    8\t.\t_\tPUNCT\t.\tfPOS=PUNCT++.\t2\tpunct\t_\t_"
   ]
  },
  {
   "cell_type": "markdown",
   "metadata": {},
   "source": [
    "## визуализация\n",
    "\n",
    "В nltk есть DependencyGraph, который умеет рисовать деревья (и ещё многое другое). Для того, чтобы визуализация работала корректно, ему нужна зависимость: graphviz."
   ]
  },
  {
   "cell_type": "code",
   "execution_count": null,
   "metadata": {},
   "outputs": [],
   "source": [
    "# ! pip3 install graphviz\n",
    "# ! pip3 install pydot \n",
    "# ! brew install graphviz"
   ]
  },
  {
   "cell_type": "markdown",
   "metadata": {},
   "source": [
    "Бибилиотеку grapghviz нужно поставить не только через pip, но и добавить в систему ([см этот тред](https://stackoverflow.com/questions/35064304/runtimeerror-make-sure-the-graphviz-executables-are-on-your-systems-path-aft))\n",
    "\n",
    "Если возникает ошибка, попробуйте следующие команды:\n",
    "* (Win) запустите в ячейке код  \n",
    "```import os\n",
    "os.environ[\"PATH\"] += os.pathsep + 'D:/Program Files (x86)/Graphviz2.38/bin/' ```\n",
    "\n",
    "* (Mac) в терминале: ```brew install graphviz ``` (проверьте, что у Вас стоит [homebrew](https://brew.sh/))\n",
    "\n",
    "* (Linux) в терминале: ```sudo apt-get install graphviz```"
   ]
  },
  {
   "cell_type": "code",
   "execution_count": null,
   "metadata": {},
   "outputs": [],
   "source": [
    "from nltk import DependencyGraph, Tree \n",
    "# вызываем классы, которые нарисуют нам деревья зависимостей"
   ]
  },
  {
   "cell_type": "markdown",
   "metadata": {},
   "source": [
    "Для построения дерева нам нужно превратить файл в conllu-формате в список\n",
    "<br> \n",
    "Еще нужно сделать тег ROOT в верхнем регистре, иначе он не находится\n",
    "\n",
    "Создадим функцию, которую попробуем на результате UDPipe и на результате DeepPavlov"
   ]
  },
  {
   "cell_type": "code",
   "execution_count": null,
   "metadata": {},
   "outputs": [],
   "source": [
    "def conllu_to_list(parser_result): \n",
    "# аргумент - это conllu-файл, который получили в результате синтаксического анализа \n",
    "    sents = []\n",
    "    for sent in parser_result.split('\\n\\n'):\n",
    "        # убираем коменты\n",
    "        sent = '\\n'.join([line for line in sent.split('\\n') if not line.startswith('#')])\n",
    "        # заменяем регистр для root\n",
    "        sent = sent.replace('\\troot\\t', '\\tROOT\\t')\n",
    "        sents.append(sent)\n",
    "        return sents"
   ]
  },
  {
   "cell_type": "code",
   "execution_count": null,
   "metadata": {},
   "outputs": [],
   "source": [
    "#теперь - применяем к модели deeppavlov\n",
    "\n",
    "dp = conllu_to_list(dpavlov_model(sentences)[0])"
   ]
  },
  {
   "cell_type": "code",
   "execution_count": null,
   "metadata": {},
   "outputs": [],
   "source": [
    "dp[0]"
   ]
  },
  {
   "cell_type": "code",
   "execution_count": null,
   "metadata": {},
   "outputs": [],
   "source": [
    "# нарисуем граф для DeepPavlov\n",
    "dp_graph = DependencyGraph(tree_str=dp[0])\n",
    "dp_graph"
   ]
  },
  {
   "cell_type": "code",
   "execution_count": null,
   "metadata": {},
   "outputs": [],
   "source": [
    "# дерево для DeepPavlov\n",
    "dp_tree = dp_graph.tree()\n",
    "print(dp_tree.pretty_print())"
   ]
  },
  {
   "cell_type": "code",
   "execution_count": null,
   "metadata": {},
   "outputs": [],
   "source": [
    "# посмотрим как можно разбить предложение\n",
    "list(dp_graph.triples())"
   ]
  },
  {
   "cell_type": "markdown",
   "metadata": {},
   "source": [
    "### Тройки глагол-объект-субьект:\n",
    "Предположим, нам нужно вытащить только ту тройку, которая расскажет о предикате (сказуемом), субъекте (подлежащем) и объекте (дополнении)"
   ]
  },
  {
   "cell_type": "code",
   "execution_count": null,
   "metadata": {},
   "outputs": [],
   "source": [
    "def get_sov(sent): # зададим функцию, которая будет вытаскивать нужную тройку\n",
    "    dp_graph = DependencyGraph(tree_str=dp[0]) \n",
    "    sov = {} # пустой словарь, будем в него складывать\n",
    "    for triple in graph.triples(): # для каждого триплета из всех\n",
    "        if triple:\n",
    "            if triple[0][1] == 'VERB': # если тег первого элемента - VERB\n",
    "                sov[triple[0][0]] = {'subj':'','obj':''}\n",
    "    for triple in graph.triples():\n",
    "        if triple:\n",
    "            if triple[1] == 'nsubj':\n",
    "                if triple[0][1] == 'VERB':\n",
    "                    sov[triple[0][0]]['subj']  = triple[2][0]\n",
    "            if triple[1] == 'obj':\n",
    "                if triple[0][1] == 'VERB':\n",
    "                    sov[triple[0][0]]['obj'] = triple[2][0]\n",
    "    return sov\n",
    "\n",
    "sov = get_sov(sent)\n",
    "print(sov)"
   ]
  },
  {
   "cell_type": "markdown",
   "metadata": {},
   "source": [
    "улучшим функцию, теперь она находит однородные дополнения *(парк и площадку)*"
   ]
  },
  {
   "cell_type": "code",
   "execution_count": null,
   "metadata": {},
   "outputs": [],
   "source": [
    "from collections import defaultdict as dd\n",
    "\n",
    "\n",
    "def get_sov(sent):\n",
    "    graph = DependencyGraph(tree_str=dp[0])\n",
    "\n",
    "    subjects = dd(lambda : {\"subject\": \"\", \"verb\": \"\", \"objects\": []})\n",
    "    verbs = dd(lambda : {\"subject\": \"\", \"verb\": \"\", \"objects\": []})\n",
    "    \n",
    "    for triple in graph.triples():\n",
    "        if triple:\n",
    "            \n",
    "            if triple[1] == 'conj':\n",
    "                subjects[triple[0][0]][\"objects\"].append(triple[2][0])\n",
    "                \n",
    "            if triple[1] == 'nsubj':\n",
    "                if triple[0][1] == 'VERB':\n",
    "                    verbs[triple[0][0]][\"subject\"] = triple[2][0]\n",
    "            if triple[1] == 'obj':\n",
    "                if triple[0][1] == 'VERB':\n",
    "                    subjects[triple[2][0]][\"verb\"] = triple[0][0]\n",
    "                    subjects[triple[2][0]][\"objects\"].append(triple[2][0])\n",
    "\n",
    "    \n",
    "    sovs = []\n",
    "\n",
    "    print(subjects, verbs)\n",
    "    \n",
    "    for v in subjects.values():\n",
    "        for obj in v[\"objects\"]:\n",
    "            sovs.append((verbs[v[\"verb\"]][\"subject\"], v[\"verb\"], obj))\n",
    "    return sovs\n",
    "\n",
    "sov = get_sov(sent)\n",
    "print(\"\\n\",sov[-2:])"
   ]
  }
 ],
 "metadata": {
  "kernelspec": {
   "display_name": "Python 3",
   "language": "python",
   "name": "python3"
  },
  "language_info": {
   "codemirror_mode": {
    "name": "ipython",
    "version": 3
   },
   "file_extension": ".py",
   "mimetype": "text/x-python",
   "name": "python",
   "nbconvert_exporter": "python",
   "pygments_lexer": "ipython3",
   "version": "3.8.2"
  }
 },
 "nbformat": 4,
 "nbformat_minor": 4
}
