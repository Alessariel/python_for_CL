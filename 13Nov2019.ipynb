{
  "nbformat": 4,
  "nbformat_minor": 0,
  "metadata": {
    "colab": {
      "name": "13Nov2019.ipynb",
      "provenance": [],
      "collapsed_sections": [],
      "include_colab_link": true
    },
    "kernelspec": {
      "name": "python3",
      "display_name": "Python 3"
    }
  },
  "cells": [
    {
      "cell_type": "markdown",
      "metadata": {
        "id": "view-in-github",
        "colab_type": "text"
      },
      "source": [
        "<a href=\"https://colab.research.google.com/github/nstsj/python_for_CL/blob/master/13Nov2019.ipynb\" target=\"_parent\"><img src=\"https://colab.research.google.com/assets/colab-badge.svg\" alt=\"Open In Colab\"/></a>"
      ]
    },
    {
      "cell_type": "markdown",
      "metadata": {
        "id": "jodqgEHypY9h",
        "colab_type": "text"
      },
      "source": [
        "## логика регулярных выржений и зачем они нужны"
      ]
    },
    {
      "cell_type": "markdown",
      "metadata": {
        "id": "3WzefC6ZGUri",
        "colab_type": "text"
      },
      "source": [
        "регулярное выражение — это последовательность символов, используемая для поиска и(или) замены некоторого паттерна в строке (тексте или файле) \n",
        "\n",
        "регулярные выражения хороши, когда нам нужно вытащить из текста *повторяющийся паттерн*: номер телефона, конкретную фразу, адреса и тд.\n",
        "\n",
        "<img src=\"https://imgs.xkcd.com/comics/regular_expressions.png\">"
      ]
    },
    {
      "cell_type": "markdown",
      "metadata": {
        "id": "HJoXkRLhKEvv",
        "colab_type": "text"
      },
      "source": [
        "регулярные выражения можно использовать не только в питоне! Можно везде, где поддерживается их синтаксис (например, терминал, Excel/Google Sheets, Sublime Text и тд)"
      ]
    },
    {
      "cell_type": "markdown",
      "metadata": {
        "id": "2o35qE4WKEtS",
        "colab_type": "text"
      },
      "source": [
        "* Для работы в терминале потребуется команда ```grep``` (= General Regular Expressions) [ссылка1, Eng](https://www.geeksforgeeks.org/grep-command-in-unixlinux/)  и [ссылка2, Rus](http://blog.sedicomm.com/2018/07/22/12-prakticheskih-primerov-komandy-grep-v-linux/)\n",
        "\n",
        "\n",
        "* Здесь можно посмотреть, как использовать регулярные выражения в Google Sheets ([1](https://www.distilled.net/how-to-use-regex-in-google-sheets/), [2](https://support.google.com/docs/answer/62754?hl=en) ) и в Sublime Text ([3](http://webcache.googleusercontent.com/search?q=cache:http://docs.sublimetext.info/en/latest/search_and_replace/search_and_replace_overview.html))"
      ]
    },
    {
      "cell_type": "markdown",
      "metadata": {
        "id": "BACXu7q0KEnE",
        "colab_type": "text"
      },
      "source": [
        "**онлайн-способы проверить регулярки:**\n",
        "\n",
        "[1](https://regexr.com/)\n",
        "\n",
        "[2](https://www.debuggex.com/) (не забудьте выбрать Python в выпадающем окне!)\n",
        "\n",
        "[3](https://regex101.com/r/F8dY80/3)"
      ]
    },
    {
      "cell_type": "markdown",
      "metadata": {
        "id": "INpFaKXMyL61",
        "colab_type": "text"
      },
      "source": [
        "подсказки по синтаксису регулярных выражений:\n",
        "\n"
      ]
    },
    {
      "cell_type": "markdown",
      "metadata": {
        "id": "pDFe64llXr2j",
        "colab_type": "text"
      },
      "source": [
        "<table width=\"100%\"><tbody><tr><th style=\"text-align: center;\" width=\"90\"><strong>Оператор</strong></th><th style=\"text-align: center;\" width=\"680\"><strong>Описание</strong></th></tr><tr><td width=\"90\"><tt>.</tt></td><td width=\"680\">Один любой символ, кроме новой строки <tt>\\n</tt>.</td></tr><tr><td width=\"90\"><tt>?</tt></td><td width=\"680\">0 или 1 вхождение шаблона слева</td></tr><tr><td width=\"90\"><tt>+</tt></td><td width=\"680\">1 и более вхождений шаблона слева</td></tr><tr><td width=\"90\"><tt>*</tt></td><td width=\"680\">0 и более вхождений шаблона слева</td></tr><tr><td width=\"90\"><tt>\\w</tt></td><td width=\"680\">Любая цифра или буква (<tt>\\W</tt> —&nbsp;все, кроме буквы или цифры)</td></tr><tr><td width=\"90\"><tt>\\d</tt></td><td width=\"680\">Любая цифра [0-9] (<tt>\\D</tt> —&nbsp;все, кроме цифры)</td></tr><tr><td width=\"90\"><tt>\\s</tt></td><td width=\"680\">Любой пробельный символ (<tt>\\S</tt> —&nbsp;любой непробельный символ)</td></tr><tr><td width=\"90\"><tt>\\b</tt></td><td width=\"680\">Граница слова</td></tr><tr><td width=\"90\"><tt>[..]</tt></td><td width=\"680\">Один из символов в скобках (<tt>[^..]</tt> —&nbsp;любой символ, кроме тех, что в скобках)</td></tr><tr><td width=\"90\"><tt>\\</tt></td><td width=\"680\">Экранирование специальных символов (<tt>\\.</tt> означает точку или <tt>\\+</tt> —&nbsp;знак «плюс»)</td></tr><tr><td width=\"90\"><tt>^</tt> и <tt>$</tt></td><td width=\"680\">Начало и конец строки соответственно</td></tr><tr><td width=\"90\"><tt>{n,m}</tt></td><td width=\"680\">От <tt>n</tt> до <tt>m</tt> вхождений (<tt>{,m}</tt> —&nbsp;от 0 до <tt>m</tt>)</td></tr><tr><td width=\"90\"><tt>a|b</tt></td><td width=\"680\">Соответствует <tt>a</tt> или <tt>b</tt></td></tr><tr><td width=\"90\"><tt>()</tt></td><td width=\"680\">Группирует выражение и возвращает найденный текст</td></tr><tr><td width=\"90\"><tt>\\t</tt>, <tt>\\n</tt>, <tt>\\r</tt></td><td width=\"680\">Символ табуляции, новой строки и возврата каретки соответственно</td></tr></tbody></table>\n",
        "\n",
        "\n",
        "[здесь](https://www.rexegg.com/regex-quickstart.html) развернутая таблица синтаксиса"
      ]
    },
    {
      "cell_type": "markdown",
      "metadata": {
        "id": "4prv6TmgpU3n",
        "colab_type": "text"
      },
      "source": [
        "## Регулярные выражения в питоне"
      ]
    },
    {
      "cell_type": "markdown",
      "metadata": {
        "id": "Fl18DOLrKEpC",
        "colab_type": "text"
      },
      "source": [
        "чтобы начать работать с регулярными выражениями в питоне, нам нужно импортировать модуль ``re``\n",
        "\n",
        "    import re\n",
        "\n",
        "* здесь [ссылка](https://docs.python.org/3/library/re.html) на его документацию и [ссылка на тьюториал](https://docs.python.org/3/howto/regex.html#regex-howto) \n",
        "\n",
        "а так выглядят основные функции модуля re \n",
        "\n",
        "<div class=\"table\"><table>\n",
        "<thead>\n",
        "<tr>\n",
        "<th>Функция</th>\n",
        "<th>Что делает</th>\n",
        "</tr>\n",
        "</thead>\n",
        "<tbody>\n",
        "<tr>\n",
        "<td><code>re.match(pattern, string)</code></td>\n",
        "<td>Найти по заданному шаблону <code>pattern</code> первое совпадение в начале строки<code>string</code></td>\n",
        "</tr>\n",
        "<tr>\n",
        "<td><code>re.search(pattern, string)</code></td>\n",
        "<td>Найти в строке <code>string</code> первую строчку, подходящую под шаблон <code>pattern</code> <br>ищет по всей строке, но возвращает только первое найденное совпадение</br></td>\n",
        "</tr>\n",
        "<tr>\n",
        "<td><code>re.fullmatch(pattern, string)</code></td>\n",
        "<td>Проверить, подходит ли строка <code>string</code> под шаблон <code>pattern</code></td>\n",
        "</tr>\n",
        "<tr>\n",
        "<td><code>re.split(pattern, string, maxsplit=0)</code></td>\n",
        "<td>Аналог <code>str.split()</code>, только разделение происходит по подстрокам, подходящим под шаблон <code>pattern</code></td>\n",
        "</tr>\n",
        "<tr>\n",
        "<td><code>re.findall(pattern, string)</code></td>\n",
        "<td>Найти в строке <code>string</code> все непересекающиеся шаблоны <code>pattern</code></td>\n",
        "</tr>\n",
        "<tr>\n",
        "<td><code>re.sub(pattern, replace, string)</code></td>\n",
        "<td>Заменить в строке <code>string</code> все непересекающиеся шаблоны <code>pattern</code> на <code>replace</code></td>\n",
        "</tr>\n",
        "</tbody>\n",
        "</table></div>\n",
        "\n",
        "\n",
        "Давайте попробуем!"
      ]
    },
    {
      "cell_type": "code",
      "metadata": {
        "id": "UUklQAWjxxhN",
        "colab_type": "code",
        "colab": {}
      },
      "source": [
        "import re"
      ],
      "execution_count": 0,
      "outputs": []
    },
    {
      "cell_type": "markdown",
      "metadata": {
        "id": "GJtLYetTJSW3",
        "colab_type": "text"
      },
      "source": [
        "**re.match(pattern, string)**\n",
        "\n",
        "метод ищет подстроку по заданному шаблону в начале строки "
      ]
    },
    {
      "cell_type": "code",
      "metadata": {
        "id": "M-mkKdmyJLWR",
        "colab_type": "code",
        "colab": {
          "base_uri": "https://localhost:8080/",
          "height": 34
        },
        "outputId": "7220669d-c5e1-404a-a08e-06355c3d554b"
      },
      "source": [
        "result = re.match(r'Hello', 'Hello my dear friend Amy')\n",
        "# («r» перед строкой шаблона показывает, что это «сырая» строка в Python)\n",
        "\n",
        "print (result)\n",
        "\n",
        "# попробуйте найти hello вместо Hello"
      ],
      "execution_count": 33,
      "outputs": [
        {
          "output_type": "stream",
          "text": [
            "<_sre.SRE_Match object; span=(0, 5), match='Hello'>\n"
          ],
          "name": "stdout"
        }
      ]
    },
    {
      "cell_type": "markdown",
      "metadata": {
        "id": "RSyQ68BZKjyu",
        "colab_type": "text"
      },
      "source": [
        "Строка найдена, но не показывается \"понятно\". По умолчанию, print покажет не только саму подстроку, но и мета-данные.\n",
        "\n",
        "Чтобы вывести содержимое, используем метод ```.group()```"
      ]
    },
    {
      "cell_type": "code",
      "metadata": {
        "id": "XwSoK-3wK4Rb",
        "colab_type": "code",
        "colab": {
          "base_uri": "https://localhost:8080/",
          "height": 34
        },
        "outputId": "86d59877-10a4-4f7d-d2f5-0dcdee1fbf77"
      },
      "source": [
        "print (result.group(0))"
      ],
      "execution_count": 36,
      "outputs": [
        {
          "output_type": "stream",
          "text": [
            "Hello\n"
          ],
          "name": "stdout"
        }
      ]
    },
    {
      "cell_type": "markdown",
      "metadata": {
        "id": "0T_q0k3oOY4f",
        "colab_type": "text"
      },
      "source": [
        "**re.search(pattern, string)**\n",
        "\n",
        "метод похож на match(), но ищет паттерн по всей длине строки"
      ]
    },
    {
      "cell_type": "code",
      "metadata": {
        "id": "ZgPVsxO-Nysf",
        "colab_type": "code",
        "colab": {
          "base_uri": "https://localhost:8080/",
          "height": 34
        },
        "outputId": "bbc6d4f8-4c71-4d3c-f4ee-1d48d7265839"
      },
      "source": [
        "result = re.search(r'my', 'Hello my dear friend Amy')\n",
        "print (result.group(0))"
      ],
      "execution_count": 39,
      "outputs": [
        {
          "output_type": "stream",
          "text": [
            "my\n"
          ],
          "name": "stdout"
        }
      ]
    },
    {
      "cell_type": "markdown",
      "metadata": {
        "id": "fq8kKTH4SswS",
        "colab_type": "text"
      },
      "source": [
        "**re.fullmatch(pattern, string)**\n",
        "\n",
        "проверяет, является ли паттерн полным совпадением со строкой"
      ]
    },
    {
      "cell_type": "code",
      "metadata": {
        "id": "8I0s5_ieRq4b",
        "colab_type": "code",
        "colab": {
          "base_uri": "https://localhost:8080/",
          "height": 34
        },
        "outputId": "e91cd98c-fe9d-404f-adba-d8b9d2b9f898"
      },
      "source": [
        "result = re.fullmatch(r'Hello my dear', 'Hello my dear friend Amy')\n",
        "print (result)\n",
        "#print (result.group(0))"
      ],
      "execution_count": 49,
      "outputs": [
        {
          "output_type": "stream",
          "text": [
            "None\n"
          ],
          "name": "stdout"
        }
      ]
    },
    {
      "cell_type": "markdown",
      "metadata": {
        "id": "LdVX17AJTA0Y",
        "colab_type": "text"
      },
      "source": [
        "**re.split(pattern, string, maxsplit=0)**\n",
        "\n",
        "метод разделяет строку по заданному шаблону"
      ]
    },
    {
      "cell_type": "code",
      "metadata": {
        "id": "tByLaitkTJI8",
        "colab_type": "code",
        "colab": {
          "base_uri": "https://localhost:8080/",
          "height": 34
        },
        "outputId": "0f72ecd1-f3da-4e0b-c5f6-8ec2a3ea73f4"
      },
      "source": [
        "result = re.split(r'e', 'Hello my dear friend Amy')\n",
        "print (result)"
      ],
      "execution_count": 55,
      "outputs": [
        {
          "output_type": "stream",
          "text": [
            "['H', 'llo my d', 'ar fri', 'nd Amy']\n"
          ],
          "name": "stdout"
        }
      ]
    },
    {
      "cell_type": "markdown",
      "metadata": {
        "id": "QDGPsfqpW0j4",
        "colab_type": "text"
      },
      "source": [
        "* maxsplit= - опциональный аргумент. \n",
        "* Если его указать, то разделение будет произведено не более указанного количества раз"
      ]
    },
    {
      "cell_type": "code",
      "metadata": {
        "id": "PVqvdKnkXNMj",
        "colab_type": "code",
        "colab": {
          "base_uri": "https://localhost:8080/",
          "height": 34
        },
        "outputId": "5ed9493d-b9a1-40bc-c2a2-2f13fb9ba849"
      },
      "source": [
        "result = re.split(r'e', 'Hello my dear friend Amy',maxsplit=2)\n",
        "print (result)"
      ],
      "execution_count": 59,
      "outputs": [
        {
          "output_type": "stream",
          "text": [
            "['H', 'llo my d', 'ar friend Amy']\n"
          ],
          "name": "stdout"
        }
      ]
    },
    {
      "cell_type": "markdown",
      "metadata": {
        "id": "QVbO7LXqQpVs",
        "colab_type": "text"
      },
      "source": [
        "**re.findall(pattern, string)**\n",
        "\n",
        "возвращает список всех найденных совпадений"
      ]
    },
    {
      "cell_type": "code",
      "metadata": {
        "id": "1l3YV7RDQvuK",
        "colab_type": "code",
        "colab": {
          "base_uri": "https://localhost:8080/",
          "height": 34
        },
        "outputId": "80f1d8c5-182a-4e33-9166-9683bcc1c9d7"
      },
      "source": [
        "result = re.findall(r'my', 'Hello my dear friend Amy')\n",
        "print (result) # обратите внимание, здесь мы не используем .group()"
      ],
      "execution_count": 42,
      "outputs": [
        {
          "output_type": "stream",
          "text": [
            "['my', 'my']\n"
          ],
          "name": "stdout"
        }
      ]
    },
    {
      "cell_type": "markdown",
      "metadata": {
        "id": "FBVElU_FT8Hl",
        "colab_type": "text"
      },
      "source": [
        "**re.sub(pattern, repl, string)**\n",
        "\n",
        "метод ищет шаблон в строке и заменяет его на указанную подстроку.\n",
        "\n",
        "Если шаблон не найден, строка остается неизменной."
      ]
    },
    {
      "cell_type": "code",
      "metadata": {
        "id": "kWAvfu_PT2ok",
        "colab_type": "code",
        "colab": {
          "base_uri": "https://localhost:8080/",
          "height": 34
        },
        "outputId": "f3f7f61c-5158-4b85-f59b-2ced76491f15"
      },
      "source": [
        "result = re.sub(r'Amy','Jack', 'Hello my dear friend Amy')\n",
        "print (result)"
      ],
      "execution_count": 53,
      "outputs": [
        {
          "output_type": "stream",
          "text": [
            "Hello my dear friend Jack\n"
          ],
          "name": "stdout"
        }
      ]
    },
    {
      "cell_type": "markdown",
      "metadata": {
        "id": "RKUVRQWKKEZ1",
        "colab_type": "text"
      },
      "source": [
        "## classwork"
      ]
    },
    {
      "cell_type": "markdown",
      "metadata": {
        "id": "iAU3H093Zl-M",
        "colab_type": "text"
      },
      "source": [
        "1. (```re.findall```) Напишите регулярное выражение, которое вытаскивало бы все адреса из документа **addresses.txt**\n",
        "\n",
        "\n",
        "2. (```re.findall```+ работа с файлами) Детектим прямую речь в тексте. В файле **d_speech.txt** лежит текст, в котором есть строки с прямой речью. Напишите регулярное выражение, которое вытащит все строки с прямой речью. Запишите их (питоном, не руками) в отдельный .txt файл.\n",
        "\n",
        "3. (```re.sub```) В документе **ея.txt** замените все случаи употребления строки \"язык\" на \"шашлык\""
      ]
    },
    {
      "cell_type": "code",
      "metadata": {
        "id": "oQxePOf8ermy",
        "colab_type": "code",
        "colab": {}
      },
      "source": [
        ""
      ],
      "execution_count": 0,
      "outputs": []
    }
  ]
}