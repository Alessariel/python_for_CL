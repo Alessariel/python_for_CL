{
 "cells": [
  {
   "cell_type": "markdown",
   "metadata": {},
   "source": [
    "# функции ввода/вывода, списки, условия, циклы"
   ]
  },
  {
   "cell_type": "markdown",
   "metadata": {
    "colab_type": "text",
    "id": "OtLfEjtTf88R"
   },
   "source": [
    "## функции ввода и вывода"
   ]
  },
  {
   "cell_type": "markdown",
   "metadata": {
    "colab_type": "text",
    "id": "RVp8eISaqTLp"
   },
   "source": [
    "### 1. Вывод на экран нескольких значений\n",
    "\n",
    "    Одним вызовом функции ```print ( ) ```можно печатать на экране несколько значений. Для этого перечислите их через запятую:"
   ]
  },
  {
   "cell_type": "code",
   "execution_count": 1,
   "metadata": {
    "colab": {
     "base_uri": "https://localhost:8080/",
     "height": 34
    },
    "colab_type": "code",
    "id": "E5uJKzVzeWxg",
    "outputId": "5463e600-6887-458b-c558-eccde193bdd1"
   },
   "outputs": [
    {
     "name": "stdout",
     "output_type": "stream",
     "text": [
      "Три аргумента успешно напечатаны\n"
     ]
    }
   ],
   "source": [
    "print(\"Три\",\"аргумента\",\"успешно напечатаны\")"
   ]
  },
  {
   "cell_type": "markdown",
   "metadata": {
    "colab_type": "text",
    "id": "ux6R_K_8rR3Y"
   },
   "source": [
    "    Иногда аргументы функции (любой, и принта тоже) легче разбить на несколько строк кода, это делается для удобства чтения кода:"
   ]
  },
  {
   "cell_type": "code",
   "execution_count": 2,
   "metadata": {
    "colab": {
     "base_uri": "https://localhost:8080/",
     "height": 34
    },
    "colab_type": "code",
    "id": "rXTXwIoos4_g",
    "outputId": "f5252faa-45ef-492a-9598-1b10f55a72a0"
   },
   "outputs": [
    {
     "name": "stdout",
     "output_type": "stream",
     "text": [
      "ddd Три 56 успешно напечатаны\n"
     ]
    }
   ],
   "source": [
    "x = \"ddd\"\n",
    "print(x,\"Три\", # аргументы могут быть любого типа\n",
    "      56,\n",
    "      \"успешно напечатаны\")"
   ]
  },
  {
   "cell_type": "markdown",
   "metadata": {
    "colab_type": "text",
    "id": "pRHZzBBQthM6"
   },
   "source": [
    "### 2. экранирование\n",
    "\n",
    "esсаре-последователыюсти (экранированные последовательности) позволяют вставлять в строки специальные символы.\n",
    "\n",
    "Типичную еsсаре-последовательность образуют два символа: обратный слеш (\\\\) и дополнительный символ.\n",
    "\n",
    "    Какими они бывают? \n",
    "    * \\\\\\ Обратный слеш. Выводит :\\\\\n",
    "    * \\\\' Апостроф, или одиночная кавычка. Выводит : '\n",
    "    * \\\\\" Кавычка. Выводит : \"\n",
    "    * \\n Новая строка . Перемещает курсор в начало следующей строки\n",
    "    * \\t Горизонтальный отступ - символ табуляции. Перемещает курсор вправо на один отступ\n",
    "\n",
    "Давайте попробуем напечатать строку с разными режимами экранирования\n",
    "\n",
    "NB! символы экранирования пишем внутри строки, в её кавычках"
   ]
  },
  {
   "cell_type": "code",
   "execution_count": 3,
   "metadata": {
    "colab": {
     "base_uri": "https://localhost:8080/",
     "height": 153
    },
    "colab_type": "code",
    "id": "2EBSJ26ywq3w",
    "outputId": "ddf28347-9871-431c-a3ac-526e91620abd"
   },
   "outputs": [
    {
     "name": "stdout",
     "output_type": "stream",
     "text": [
      "1: wow i can modify output now\n",
      "2: \\wow i can modify output now\n",
      "3: he said \"wow i can modify output now\"\n",
      "4: wow i can \"modify\" output now\n",
      "5: wow i can modify output now\n",
      "6: \twow i can \tmodify output \n",
      "now\n"
     ]
    }
   ],
   "source": [
    "print(\"1:\", \"wow i can modify output now\") # классика\n",
    "print(\"2:\",\"\\wow i can modify output now\") # добавили бэкслеш\n",
    "print(\"3:\",'he said \"wow i can modify output now\"') # добавили кавычки (кавычки в кавычках, we need to go deeper!)\n",
    "print(\"4:\",\"wow i can \\\"modify\\\" output now\") # еще один вариант с кавычками\n",
    "print(\"5:\",\"wow i can modify output now\") # перенос строки\n",
    "print(\"6:\",\"\\twow i can \\tmodify output \\nnow\") # табуляция\n"
   ]
  },
  {
   "cell_type": "markdown",
   "metadata": {
    "colab_type": "text",
    "id": "JXDTrGHNz8I2"
   },
   "source": [
    "3. альтернатива для ```print()```\n",
    "\n",
    "    иногда Вас может ожидать ситуация, когда Вы хотите посмотреть на данные, но печатать их полностью очень долго, а частями - неинформативно. На помощь приходит функция ```display()```. Помогает в случаях работы с большими данными"
   ]
  },
  {
   "cell_type": "code",
   "execution_count": 4,
   "metadata": {
    "cellView": "both",
    "colab": {
     "base_uri": "https://localhost:8080/",
     "height": 34
    },
    "colab_type": "code",
    "id": "y8QdaNWpz-So",
    "outputId": "02839b1e-49b1-4fec-e723-09396bd04bb1"
   },
   "outputs": [
    {
     "data": {
      "text/plain": [
       "'i am text'"
      ]
     },
     "metadata": {},
     "output_type": "display_data"
    }
   ],
   "source": [
    "text = \"i am text\" #наши данные пока не очень большие, но все впереди\n",
    "display(text)"
   ]
  },
  {
   "cell_type": "markdown",
   "metadata": {
    "colab_type": "text",
    "id": "yaUt0Chfzk_Z"
   },
   "source": [
    "Хорошо, выводить текст (красиво) мы теперь умеем. А как вводить? Для этого есть функция ```input()```\n",
    "\n",
    "Функция принимает текст, который пользователь вводит с клавиатуры. После запуска ячейки *(или нажатия Run, если Вы в PyCharm, или нажатия Enter, если вы в интерактивном режиме питона из терминала).* \n",
    "\n",
    "Результат работы функции ```input()``` -- объект типа ```str```"
   ]
  },
  {
   "cell_type": "code",
   "execution_count": 9,
   "metadata": {
    "colab": {
     "base_uri": "https://localhost:8080/",
     "height": 34
    },
    "colab_type": "code",
    "id": "GcM3830AzkF2",
    "outputId": "5600e02a-d7eb-4b83-c168-d47ccf12f8bc"
   },
   "outputs": [
    {
     "name": "stdin",
     "output_type": "stream",
     "text": [
      " hello\n"
     ]
    }
   ],
   "source": [
    "name = input()"
   ]
  },
  {
   "cell_type": "code",
   "execution_count": 12,
   "metadata": {},
   "outputs": [
    {
     "name": "stdin",
     "output_type": "stream",
     "text": [
      "Здравствуйте! Как Вас зовут?  780\n"
     ]
    }
   ],
   "source": [
    "# В инпут можно передавать свои строки, если есть необходимость:\n",
    "\n",
    "name = input(\"Здравствуйте! Как Вас зовут? \")"
   ]
  },
  {
   "cell_type": "code",
   "execution_count": 14,
   "metadata": {},
   "outputs": [
    {
     "name": "stdout",
     "output_type": "stream",
     "text": [
      "<class 'str'>\n"
     ]
    }
   ],
   "source": [
    "print(type(name))"
   ]
  },
  {
   "cell_type": "markdown",
   "metadata": {
    "colab_type": "text",
    "id": "CX-aPirI4IGC"
   },
   "source": [
    "Давайте используем это, чтобы сделать персонализированное приветствие"
   ]
  },
  {
   "cell_type": "code",
   "execution_count": 23,
   "metadata": {
    "colab": {
     "base_uri": "https://localhost:8080/",
     "height": 51
    },
    "colab_type": "code",
    "id": "rixeKn1o4XSr",
    "outputId": "0ac25497-c4cd-47b3-9848-f219b44bc815"
   },
   "outputs": [
    {
     "name": "stdin",
     "output_type": "stream",
     "text": [
      "Здравствуйте! Как Вас зовут?  N\n"
     ]
    },
    {
     "name": "stdout",
     "output_type": "stream",
     "text": [
      "Приятно познакомиться,  N\n"
     ]
    }
   ],
   "source": [
    "name = input(\"Здравствуйте! Как Вас зовут? \")\n",
    "\n",
    "print(\"Приятно познакомиться, \",name) # передаем в print() два аргумента: строка и переменная"
   ]
  },
  {
   "cell_type": "markdown",
   "metadata": {
    "colab_type": "text",
    "id": "kt2nYlkcgCnu"
   },
   "source": [
    "Отлично! Теперь мы умеем печатать и вводить информацию в виде строк, а также работать со строками с помощью стандартных методов.\n",
    "\n",
    "<img src=\"https://i.redd.it/5j65d9naeww21.png\" style=\"max-height:400px\">"
   ]
  },
  {
   "cell_type": "code",
   "execution_count": null,
   "metadata": {},
   "outputs": [],
   "source": []
  }
 ],
 "metadata": {
  "colab": {
   "collapsed_sections": [],
   "include_colab_link": true,
   "name": "26oct_19.ipynb",
   "provenance": []
  },
  "kernelspec": {
   "display_name": "Python 3",
   "language": "python",
   "name": "python3"
  },
  "language_info": {
   "codemirror_mode": {
    "name": "ipython",
    "version": 3
   },
   "file_extension": ".py",
   "mimetype": "text/x-python",
   "name": "python",
   "nbconvert_exporter": "python",
   "pygments_lexer": "ipython3",
   "version": "3.8.2"
  }
 },
 "nbformat": 4,
 "nbformat_minor": 4
}
