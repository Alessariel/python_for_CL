{
 "cells": [
  {
   "cell_type": "markdown",
   "metadata": {},
   "source": [
    "## списки\n",
    "\n",
    "изменяемые итерируемые коллекции объектов произвольных типов. Записываются в квадратных скобках ```[]```"
   ]
  },
  {
   "cell_type": "code",
   "execution_count": 1,
   "metadata": {
    "colab": {},
    "colab_type": "code",
    "id": "1chs7uBGgF7z"
   },
   "outputs": [
    {
     "name": "stdout",
     "output_type": "stream",
     "text": [
      "[5, 7.09, 'lalala']\n"
     ]
    }
   ],
   "source": [
    "my_list = [5,7.09,\"lalala\"] # в списке могут быть элементы разных типов\n",
    "\n",
    "\n",
    "print(my_list)"
   ]
  },
  {
   "cell_type": "markdown",
   "metadata": {
    "colab_type": "text",
    "id": "Ti8qZ1StKKR8"
   },
   "source": [
    "как мы можем создать лист?"
   ]
  },
  {
   "cell_type": "code",
   "execution_count": 3,
   "metadata": {},
   "outputs": [],
   "source": [
    "# способ 1: создать пустой лист и добавить в него элементы\n",
    "\n",
    "test = [] # Пустой списоr можно задать литералом []. "
   ]
  },
  {
   "cell_type": "code",
   "execution_count": 4,
   "metadata": {},
   "outputs": [
    {
     "name": "stdout",
     "output_type": "stream",
     "text": [
      "[]\n"
     ]
    }
   ],
   "source": [
    "print(test)"
   ]
  },
  {
   "cell_type": "code",
   "execution_count": 6,
   "metadata": {
    "colab": {},
    "colab_type": "code",
    "id": "aeH_8xKJWtxK"
   },
   "outputs": [
    {
     "name": "stdout",
     "output_type": "stream",
     "text": [
      "длина списка: 0\n",
      "[]\n",
      "\n",
      "шаг 2\n",
      "длина списка: 2\n",
      "['saturday', 'sunday']\n"
     ]
    }
   ],
   "source": [
    "print(\"длина списка:\",len(test)) # проверим длину\n",
    "print(test) # посмотрим на список\n",
    "\n",
    "#Давайте в него что-нибудь добавим.\n",
    "\n",
    "print(\"\\nшаг 2\") # отступ для удобства\n",
    "\n",
    "test = ['saturday',\"sunday\"]\n",
    "\n",
    "print(\"длина списка:\",len(test))\n",
    "print(test)"
   ]
  },
  {
   "cell_type": "code",
   "execution_count": 7,
   "metadata": {
    "colab": {
     "base_uri": "https://localhost:8080/",
     "height": 34
    },
    "colab_type": "code",
    "id": "uw8pm_elKN-c",
    "outputId": "d20d8f56-af6e-4ce1-89a7-5bb1d994909e"
   },
   "outputs": [
    {
     "data": {
      "text/plain": [
       "['s', 'a', 't', 'u', 'r', 'd', 'a', 'y']"
      ]
     },
     "execution_count": 7,
     "metadata": {},
     "output_type": "execute_result"
    }
   ],
   "source": [
    "# способ 2: обработать итерируемый объект встроенной функцией list()\n",
    "# строка - это итерируемый объект (ее можно раззбить на символы)\n",
    " \n",
    "list('saturday') # возвращает лист с набором элементов-символов, каждый из которых строка"
   ]
  },
  {
   "cell_type": "markdown",
   "metadata": {
    "colab_type": "text",
    "id": "R2bMV2sXXa71"
   },
   "source": [
    "### методы списков"
   ]
  },
  {
   "cell_type": "code",
   "execution_count": 129,
   "metadata": {},
   "outputs": [],
   "source": [
    "test = []"
   ]
  },
  {
   "cell_type": "markdown",
   "metadata": {},
   "source": [
    "**добавление элементов в список**"
   ]
  },
  {
   "cell_type": "code",
   "execution_count": 130,
   "metadata": {
    "colab": {
     "base_uri": "https://localhost:8080/",
     "height": 34
    },
    "colab_type": "code",
    "id": "Ru-E3cY0Xpno",
    "outputId": "17ee961f-5eba-46c3-e6ff-28c86b690fe7"
   },
   "outputs": [
    {
     "name": "stdout",
     "output_type": "stream",
     "text": [
      "['hi']\n"
     ]
    }
   ],
   "source": [
    "test.append(\"hi\")\t#Добавляет один элемент в конец списка\n",
    "print(test)"
   ]
  },
  {
   "cell_type": "code",
   "execution_count": 131,
   "metadata": {
    "colab": {
     "base_uri": "https://localhost:8080/",
     "height": 34
    },
    "colab_type": "code",
    "id": "eDkkKpPzbQmn",
    "outputId": "e2e0a0d1-f26b-4ad3-8097-95b863275361"
   },
   "outputs": [
    {
     "name": "stdout",
     "output_type": "stream",
     "text": [
      "['hi', 'Jane', 'Jack']\n"
     ]
    }
   ],
   "source": [
    "test.extend([\"Jane\",\"Jack\"])\n",
    "#Расширяет список, добавляя в конец все элементы из списка, передаенного в скобочках метода\n",
    "\n",
    "print(test)"
   ]
  },
  {
   "cell_type": "code",
   "execution_count": 132,
   "metadata": {},
   "outputs": [
    {
     "data": {
      "text/plain": [
       "['hi', 'Jane', 'Jack']"
      ]
     },
     "execution_count": 132,
     "metadata": {},
     "output_type": "execute_result"
    }
   ],
   "source": [
    "test"
   ]
  },
  {
   "cell_type": "code",
   "execution_count": 133,
   "metadata": {
    "colab": {
     "base_uri": "https://localhost:8080/",
     "height": 34
    },
    "colab_type": "code",
    "id": "YwVzP0NYbTKp",
    "outputId": "76230a3b-3791-4806-da88-4a1ad5bc5c3d"
   },
   "outputs": [
    {
     "name": "stdout",
     "output_type": "stream",
     "text": [
      "['hi', 'Jane', 'cat', 'Jack']\n"
     ]
    }
   ],
   "source": [
    "test.insert(2,\"cat\")\n",
    "# Добавляет элемент в конкретное место в списке: сначала указываем индекс, затем значение\n",
    "# добавим строку \"ice cream\" на пятое место (считая с нуля)\n",
    "\n",
    "print(test)"
   ]
  },
  {
   "cell_type": "markdown",
   "metadata": {},
   "source": [
    "**удаление элементов из списка**"
   ]
  },
  {
   "cell_type": "code",
   "execution_count": 134,
   "metadata": {},
   "outputs": [
    {
     "name": "stdout",
     "output_type": "stream",
     "text": [
      "['Jane', 'cat', 'Jack']\n"
     ]
    }
   ],
   "source": [
    "# удаление по значению элемента\n",
    "\n",
    "test.remove(\"hi\") #удаляет первое совпадающее значение \n",
    "print(test)\n",
    "\n",
    "# этот метод удобен если известно, как выглядит элемент который надо удалить"
   ]
  },
  {
   "cell_type": "code",
   "execution_count": 135,
   "metadata": {
    "colab": {
     "base_uri": "https://localhost:8080/",
     "height": 34
    },
    "colab_type": "code",
    "id": "ORhHmP_LbVBu",
    "outputId": "59e74b70-fc9d-40cb-99b6-cd3345ea454e"
   },
   "outputs": [
    {
     "name": "stdout",
     "output_type": "stream",
     "text": [
      "['Jane', 'cat']\n"
     ]
    }
   ],
   "source": [
    "# удаление элемента по его индексу\n",
    "\n",
    "del test[2] # удаляем второй (считая с нуля) элемент из списка\n",
    "print(test)"
   ]
  },
  {
   "cell_type": "code",
   "execution_count": 27,
   "metadata": {},
   "outputs": [
    {
     "name": "stdout",
     "output_type": "stream",
     "text": [
      "['Jane', 'ice cream']\n"
     ]
    }
   ],
   "source": [
    "del test[1:3] # можно удалять несколько элементов, указав интервал. Последний элемент не включается\n",
    "\n",
    "print(test)"
   ]
  },
  {
   "cell_type": "markdown",
   "metadata": {},
   "source": [
    "**доступ к индексу элемента по значению**"
   ]
  },
  {
   "cell_type": "code",
   "execution_count": 137,
   "metadata": {
    "colab": {
     "base_uri": "https://localhost:8080/",
     "height": 51
    },
    "colab_type": "code",
    "id": "4aSnm9AQbXfa",
    "outputId": "6a55fc7c-58b5-4071-90af-daaed237c407"
   },
   "outputs": [
    {
     "name": "stdout",
     "output_type": "stream",
     "text": [
      "['Jane', 'cat']\n",
      "0\n"
     ]
    }
   ],
   "source": [
    "print(test)\n",
    "print(test.index('Jane')) #посмотрим, на каком месте (считая от нуля) элемент \"Jane\"\n",
    "\n",
    "#Если таких элементов больше одного, возвращает первый подошедший\n"
   ]
  },
  {
   "cell_type": "code",
   "execution_count": 32,
   "metadata": {
    "colab": {
     "base_uri": "https://localhost:8080/",
     "height": 34
    },
    "colab_type": "code",
    "id": "HFUVPNe7bZZi",
    "outputId": "48c44eed-d797-45b9-b391-e0ea318ec4fa"
   },
   "outputs": [
    {
     "name": "stdout",
     "output_type": "stream",
     "text": [
      "2\n"
     ]
    }
   ],
   "source": [
    "test.append(\"Jane\")\n",
    "print(test.count(\"Jane\"))\t# Возвращает количество элементов со значением, заданным в скобках"
   ]
  },
  {
   "cell_type": "markdown",
   "metadata": {},
   "source": [
    "**сортировка элементов в списке**"
   ]
  },
  {
   "cell_type": "code",
   "execution_count": 139,
   "metadata": {},
   "outputs": [
    {
     "name": "stdout",
     "output_type": "stream",
     "text": [
      "['Jane', 'Jane', 'cat']\n"
     ]
    }
   ],
   "source": [
    "test.sort()\t#Сортирует список: \n",
    "# в алфавитном порядке если элементы - это строки. \n",
    "# по возрастанию, если элементы - это числа\n",
    "\n",
    "print(test)\n",
    "\n",
    "# не работает, если в в одном списке элементы разных типов"
   ]
  },
  {
   "cell_type": "code",
   "execution_count": 140,
   "metadata": {
    "colab": {
     "base_uri": "https://localhost:8080/",
     "height": 34
    },
    "colab_type": "code",
    "id": "iHq2SgvAbah0",
    "outputId": "32a4bcce-a78d-4ba3-b985-440874c50d48"
   },
   "outputs": [
    {
     "name": "stdout",
     "output_type": "stream",
     "text": [
      "[347, 88, 9, 2, 1.7, 0]\n"
     ]
    }
   ],
   "source": [
    "test2 = [1.7,9,0,347,88,2] # создадим список из элементов-чисел\n",
    "# print(test2)\n",
    "\n",
    "# test2.sort()\n",
    "# print(test2)\n",
    "\n",
    "test2.sort(reverse = True) # сортировка в обратном порядке с параметром reverse\n",
    "print(test2)"
   ]
  },
  {
   "cell_type": "code",
   "execution_count": 141,
   "metadata": {
    "colab": {
     "base_uri": "https://localhost:8080/",
     "height": 51
    },
    "colab_type": "code",
    "id": "b9rEJN3hbcEe",
    "outputId": "b31d4fa2-8ad3-4a11-bdab-9e0ff5effebf"
   },
   "outputs": [
    {
     "name": "stdout",
     "output_type": "stream",
     "text": [
      "['Jane', 'Jane', 'cat']\n",
      "['cat', 'Jane', 'Jane']\n"
     ]
    }
   ],
   "source": [
    "# можно развернуть список (из любых элементов) с помощью метода .reverse()\n",
    "print(test)\n",
    "test.reverse() #разворачивает список\n",
    "print(test)"
   ]
  },
  {
   "cell_type": "markdown",
   "metadata": {},
   "source": [
    "**очистка списка**"
   ]
  },
  {
   "cell_type": "code",
   "execution_count": 48,
   "metadata": {
    "colab": {
     "base_uri": "https://localhost:8080/",
     "height": 34
    },
    "colab_type": "code",
    "id": "K8sqmhJHbhoM",
    "outputId": "56542132-0377-4160-9bcd-1670f96a0152"
   },
   "outputs": [
    {
     "name": "stdout",
     "output_type": "stream",
     "text": [
      "[] \n",
      "длина списка =  0\n"
     ]
    }
   ],
   "source": [
    "test.clear() # очистим список от всех элементов\n",
    "print(test, \n",
    "      \"\\nдлина списка = \", len(test)) # напечатаем список и его длину\n"
   ]
  },
  {
   "cell_type": "markdown",
   "metadata": {
    "colab_type": "text",
    "id": "anf7YO01gIbP",
    "tags": []
   },
   "source": [
    "## if (оператор ветвления) \n",
    "\n",
    "Проверяет условие на правдивость. Общая схема такая: сначала ```if``` с условным выражением, далее одна или более необязательных частей ```elif```, и в конце необязательная часть ```else```.\n",
    "\n",
    "\n",
    "\n",
    "          \n",
    "<img src=\"https://cdn.programiz.com/sites/tutorial2program/files/Python_if_elif_else_statement.jpg\" style=\"max-height:500px\">\n"
   ]
  },
  {
   "cell_type": "code",
   "execution_count": 73,
   "metadata": {},
   "outputs": [
    {
     "name": "stdin",
     "output_type": "stream",
     "text": [
      "введите число, а я угадаю, четное оно или нет: 45\n"
     ]
    },
    {
     "name": "stdout",
     "output_type": "stream",
     "text": [
      "<class 'str'>\n"
     ]
    }
   ],
   "source": [
    "# пример:\n",
    "inp = input(\"введите число, а я угадаю, четное оно или нет:\")\n",
    "print(type(inp))"
   ]
  },
  {
   "cell_type": "code",
   "execution_count": 82,
   "metadata": {
    "colab": {
     "base_uri": "https://localhost:8080/",
     "height": 51
    },
    "colab_type": "code",
    "id": "qVgtREF7gKgT",
    "outputId": "57e50a1b-0eeb-4f7f-85a2-a66d932fd016"
   },
   "outputs": [
    {
     "name": "stdin",
     "output_type": "stream",
     "text": [
      "введите целое число, а я угадаю, четное оно или нет: 7\n"
     ]
    },
    {
     "name": "stdout",
     "output_type": "stream",
     "text": [
      "число 7 нечетное\n"
     ]
    }
   ],
   "source": [
    "# пример:\n",
    "inp = input(\"введите целое число, а я угадаю, четное оно или нет:\")\n",
    "\n",
    "inp = int(inp) # преобразуем строку в число\n",
    "\n",
    "# Дальше создадим условие:\n",
    "\n",
    "if inp%2 == 0:\n",
    "    print('да, число', inp,\"четное\")\n",
    "else:\n",
    "    print('число',inp, 'нечетное') "
   ]
  },
  {
   "cell_type": "code",
   "execution_count": 87,
   "metadata": {
    "colab": {
     "base_uri": "https://localhost:8080/",
     "height": 51
    },
    "colab_type": "code",
    "id": "SUHa_7YVtGSq",
    "outputId": "a42ce55c-4732-4eeb-a4ad-191598645a5f"
   },
   "outputs": [
    {
     "name": "stdin",
     "output_type": "stream",
     "text": [
      "какой кофе Вы любите?  апельсиновый сок\n"
     ]
    },
    {
     "name": "stdout",
     "output_type": "stream",
     "text": [
      "отличный выбор!\n"
     ]
    }
   ],
   "source": [
    "# диалог о кофе\n",
    "x = input(\"какой кофе Вы любите? \").lower().strip(\" )?!.\") # методами для строк нормализуем текст, убрав регистр и пунктуацию\n",
    "\n",
    "if x in [\"американо\",\"латте\",\"колдбрю\",\"капучино\",\"кемекс\"]:\n",
    "    print(\"я тоже!\")\n",
    "    \n",
    "elif x in [\"никакой\", \"никакое\",\"я не люблю кофе\"]:\n",
    "    print(\"наверное Вы любите чай!\")\n",
    "    \n",
    "else: print(\"отличный выбор!\")"
   ]
  },
  {
   "cell_type": "markdown",
   "metadata": {
    "colab_type": "text",
    "id": "5poDiBHfgLLW"
   },
   "source": [
    "## цикл while\n",
    "\n",
    "будет исполняться, пока условие истинно"
   ]
  },
  {
   "cell_type": "code",
   "execution_count": 89,
   "metadata": {
    "colab": {
     "base_uri": "https://localhost:8080/",
     "height": 102
    },
    "colab_type": "code",
    "id": "87cypz05gUlD",
    "outputId": "192a41ff-2d53-4f23-a867-ca2e6d3845b8"
   },
   "outputs": [
    {
     "name": "stdout",
     "output_type": "stream",
     "text": [
      "5\n",
      "7\n",
      "9\n",
      "11\n",
      "13\n",
      "Done!\n"
     ]
    }
   ],
   "source": [
    "i = 5 # вне цикла создали переменную, равную 5\n",
    "\n",
    "while i < 15: # начало цикла: до тех пор, пока i меньше 15\n",
    "    \n",
    "    print(i) # тело цикла: печатаем i\n",
    "    i = i + 2 # тело цикла: пересохраняем значение i, прибавив к нему 2, повторяем сначала\n",
    "print(\"Done!\")"
   ]
  },
  {
   "cell_type": "markdown",
   "metadata": {
    "colab_type": "text",
    "id": "W7UMswxs1-9M"
   },
   "source": [
    "будьте осторожны с условием ```while True: ```, этот цикл будет исполняться бесконечно"
   ]
  },
  {
   "cell_type": "code",
   "execution_count": null,
   "metadata": {
    "colab": {},
    "colab_type": "code",
    "id": "oXS40-lQ2HMA",
    "tags": []
   },
   "outputs": [],
   "source": [
    "n = 2 # вне цикла создали переменную, равную 2\n",
    "\n",
    "while n !=1: # пока n не равно единице\n",
    "    print(n) # печатем n\n",
    "    n = n + 1 #прибавляем единицу, повторяем сначала\n",
    "\n",
    "# цикл будет бесконечным, т.к. мы начали с двойки и задали условие \"пока результат не равен единице,увеличивай на 1\"\n",
    "\n",
    "#прервать выполнение можно, нажав на стоп\n"
   ]
  },
  {
   "cell_type": "markdown",
   "metadata": {
    "colab_type": "text",
    "id": "F8B_SWjegVng"
   },
   "source": [
    "## цикл for\n",
    "\n",
    "проходится по любому итерируемому объекту (например строке или списку), выполняет заданное нами действие. Действие задается в **теле цикла**\n",
    "\n",
    "<img src='https://media.geeksforgeeks.org/wp-content/uploads/20191101172216/for-loop-python.jpg'>"
   ]
  },
  {
   "cell_type": "code",
   "execution_count": 122,
   "metadata": {
    "colab": {
     "base_uri": "https://localhost:8080/",
     "height": 221
    },
    "colab_type": "code",
    "id": "gQtQSDLpgXqb",
    "outputId": "2c0b4475-5123-4675-ba6c-540f4f13cfb4"
   },
   "outputs": [
    {
     "name": "stdout",
     "output_type": "stream",
     "text": [
      "Вельш-корги\n",
      "относятся\n",
      "к\n",
      "семейству\n",
      "овчарок,\n",
      "хотя\n",
      "и\n",
      "довольно\n",
      "миниатюрных.\n"
     ]
    }
   ],
   "source": [
    "string = 'Вельш-корги относятся к семейству овчарок, хотя и довольно миниатюрных.'\n",
    "string = string.split()\n",
    "# print(string)\n",
    "\n",
    "for t in string:\n",
    "    print(t) \n"
   ]
  },
  {
   "cell_type": "markdown",
   "metadata": {},
   "source": [
    "## дополнительное \n",
    "Давайте создадим генератор фраз с помощью работы со списками, циклами и библиотеки ```random```"
   ]
  },
  {
   "cell_type": "code",
   "execution_count": 111,
   "metadata": {},
   "outputs": [],
   "source": [
    "import random # чтобы работать с библиотекой, ее надо импортировать"
   ]
  },
  {
   "cell_type": "code",
   "execution_count": 119,
   "metadata": {
    "colab": {
     "base_uri": "https://localhost:8080/",
     "height": 85
    },
    "colab_type": "code",
    "id": "sljONgJC69cL",
    "outputId": "cb7ff9b6-116a-4db3-ff0f-ca1682277fc9"
   },
   "outputs": [
    {
     "name": "stdout",
     "output_type": "stream",
     "text": [
      "They never drink coffee before 9 am because it's too difficult\n",
      "They never drink tea before 9 am because it's too risky\n",
      "They never drink wine before 9 am because it's too easy\n",
      "They never drink juice before 9 am because it's too silly\n",
      "They never drink milk before 9 am because it's too boring\n",
      "They never drink water before 9 am because it's too easy\n"
     ]
    }
   ],
   "source": [
    "# генератор фраз \n",
    "attributes = ['boring','sad','risky','silly','difficult','easy'] \n",
    "\n",
    "drinks = ['coffee','tea','wine','juice',\"milk\",\"water\"]\n",
    "\n",
    "for i in drinks: # для каждого элемента (i) в списке drinks:\n",
    "    \n",
    "    phrase = \"They never drink \"+ i +\" before 9 am because it's too \" \n",
    "    # сохраним в переменную phrase такую cтроку\n",
    "    \n",
    "    reason = random.choice(attributes) # сохраним в переменную reason рандомный выбор одного из элементов списка seq2\n",
    "    \n",
    "    result = phrase+reason\n",
    "    print(result)"
   ]
  },
  {
   "cell_type": "code",
   "execution_count": 124,
   "metadata": {},
   "outputs": [
    {
     "name": "stdout",
     "output_type": "stream",
     "text": [
      "They never drink juice before 9 am because it's too easy\n"
     ]
    }
   ],
   "source": [
    "# генератор одной фразы\n",
    "\n",
    "attributes = ['boring','sad','risky','silly','difficult','easy'] \n",
    "\n",
    "drinks = ['coffee','tea','wine','juice',\"milk\",\"water\"]\n",
    "    \n",
    "phrase = \"They never drink \"+ random.choice(drinks) +\" before 9 am because it's too \" \n",
    "\n",
    "\n",
    "reason = random.choice(attributes) \n",
    "    \n",
    "result = phrase+reason\n",
    "print(result)"
   ]
  }
 ],
 "metadata": {
  "kernelspec": {
   "display_name": "Python 3",
   "language": "python",
   "name": "python3"
  },
  "language_info": {
   "codemirror_mode": {
    "name": "ipython",
    "version": 3
   },
   "file_extension": ".py",
   "mimetype": "text/x-python",
   "name": "python",
   "nbconvert_exporter": "python",
   "pygments_lexer": "ipython3",
   "version": "3.8.2"
  }
 },
 "nbformat": 4,
 "nbformat_minor": 4
}
