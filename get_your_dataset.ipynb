{
  "nbformat": 4,
  "nbformat_minor": 0,
  "metadata": {
    "colab": {
      "name": "get_your_dataset.ipynb",
      "provenance": [],
      "collapsed_sections": [
        "cIvQNBqUYwE8",
        "X5cEfTSEYhcY",
        "KZ_J5BSyog2J"
      ],
      "include_colab_link": true
    },
    "kernelspec": {
      "name": "python3",
      "display_name": "Python 3"
    }
  },
  "cells": [
    {
      "cell_type": "markdown",
      "metadata": {
        "id": "view-in-github",
        "colab_type": "text"
      },
      "source": [
        "<a href=\"https://colab.research.google.com/github/nstsj/python_for_CL/blob/master/get_your_dataset.ipynb\" target=\"_parent\"><img src=\"https://colab.research.google.com/assets/colab-badge.svg\" alt=\"Open In Colab\"/></a>"
      ]
    },
    {
      "cell_type": "markdown",
      "metadata": {
        "id": "W2LDC-PbXhtR",
        "colab_type": "text"
      },
      "source": [
        "В этой тетрадке мы поговорим о способах собрать свой датасет для исследований: откуда брать данные, как их собирать и как хранить.\n",
        "\n",
        "Достаточно часто, чтобы собрать данные, нужно что-то выкачать с сайта\n",
        "\n",
        "Существует несколько библиотек(модулей) для работы с веб-страничками, сегодня мы будем использовать requests для доступа к веб-страничкам и Beautiful Soup для работы с содержимым html-документов"
      ]
    },
    {
      "cell_type": "code",
      "metadata": {
        "id": "ncJ-uAqjDNkC",
        "colab_type": "code",
        "outputId": "83386f18-a414-40a3-ce8e-df21c75694bb",
        "colab": {
          "base_uri": "https://localhost:8080/",
          "height": 102
        }
      },
      "source": [
        "! pip3 install requests # импортируем модуль requests"
      ],
      "execution_count": 0,
      "outputs": [
        {
          "output_type": "stream",
          "text": [
            "Requirement already satisfied: requests in /usr/local/lib/python3.6/dist-packages (2.21.0)\n",
            "Requirement already satisfied: idna<2.9,>=2.5 in /usr/local/lib/python3.6/dist-packages (from requests) (2.8)\n",
            "Requirement already satisfied: urllib3<1.25,>=1.21.1 in /usr/local/lib/python3.6/dist-packages (from requests) (1.24.3)\n",
            "Requirement already satisfied: certifi>=2017.4.17 in /usr/local/lib/python3.6/dist-packages (from requests) (2019.9.11)\n",
            "Requirement already satisfied: chardet<3.1.0,>=3.0.2 in /usr/local/lib/python3.6/dist-packages (from requests) (3.0.4)\n"
          ],
          "name": "stdout"
        }
      ]
    },
    {
      "cell_type": "code",
      "metadata": {
        "id": "fFcBQ25GZBCO",
        "colab_type": "code",
        "outputId": "386ff043-78f6-4d27-e4c7-51299e4fc9cc",
        "colab": {
          "base_uri": "https://localhost:8080/",
          "height": 34
        }
      },
      "source": [
        "# импортируем модуль beautifulsoup, самая последняя версия - четвертая\n",
        "\n",
        "! pip3 install beautifulsoup4 "
      ],
      "execution_count": 0,
      "outputs": [
        {
          "output_type": "stream",
          "text": [
            "Requirement already satisfied: beautifulsoup4 in /usr/local/lib/python3.6/dist-packages (4.6.3)\n"
          ],
          "name": "stdout"
        }
      ]
    },
    {
      "cell_type": "code",
      "metadata": {
        "id": "XT5G41FYnr7a",
        "colab_type": "code",
        "colab": {}
      },
      "source": [
        "# импортируем модули в тетрадку\n",
        "\n",
        "import requests as rq\n",
        "\n",
        "from bs4 import BeautifulSoup"
      ],
      "execution_count": 0,
      "outputs": []
    },
    {
      "cell_type": "markdown",
      "metadata": {
        "id": "cIvQNBqUYwE8",
        "colab_type": "text"
      },
      "source": [
        "## работаем с веб-страничками"
      ]
    },
    {
      "cell_type": "markdown",
      "metadata": {
        "id": "28Oy0NnLnk0L",
        "colab_type": "text"
      },
      "source": [
        "Мы установили и импортировали модули, теперь можем приступать к работе\n",
        "\n",
        "шаг 1. \n",
        "\n",
        "Создадим переменную ```url``` и сохраним в нее адрес какой-нибудь html-страницы\n",
        "\n",
        "например, [сайта CNN](http://lite.cnn.io/en)\n",
        "\n",
        "обратите внимание, что адрес прописываем в кавычках, как строку"
      ]
    },
    {
      "cell_type": "code",
      "metadata": {
        "id": "WzqN6Ss_aujY",
        "colab_type": "code",
        "colab": {}
      },
      "source": [
        "url = 'http://lite.cnn.io/en/article/h_681956a7c16e2b7463d940a46f5f729c'"
      ],
      "execution_count": 0,
      "outputs": []
    },
    {
      "cell_type": "markdown",
      "metadata": {
        "id": "Ysgl6VmpKjxu",
        "colab_type": "text"
      },
      "source": [
        "В модуле requests есть метод request.get(), который сохраняет ответ сервера на наш реквест. Мы применим его к переменной url, куда сохранен путь к странице. \n",
        "Сохраним результат в переменную page"
      ]
    },
    {
      "cell_type": "code",
      "metadata": {
        "id": "O8AH4kDxqKvF",
        "colab_type": "code",
        "colab": {}
      },
      "source": [
        "page = rq.get(url)"
      ],
      "execution_count": 0,
      "outputs": []
    },
    {
      "cell_type": "code",
      "metadata": {
        "id": "RoT5Aj69u3eb",
        "colab_type": "code",
        "outputId": "45fe780a-a5c5-46ae-9f0b-82a60ff1a3cf",
        "colab": {
          "base_uri": "https://localhost:8080/",
          "height": 34
        }
      },
      "source": [
        "page # посмотрим на код ответа, если 200, все хорошо"
      ],
      "execution_count": 24,
      "outputs": [
        {
          "output_type": "execute_result",
          "data": {
            "text/plain": [
              "<Response [200]>"
            ]
          },
          "metadata": {
            "tags": []
          },
          "execution_count": 24
        }
      ]
    },
    {
      "cell_type": "code",
      "metadata": {
        "id": "i5q3w4NXuni7",
        "colab_type": "code",
        "colab": {}
      },
      "source": [
        "? page"
      ],
      "execution_count": 0,
      "outputs": []
    },
    {
      "cell_type": "code",
      "metadata": {
        "id": "E_SbOttcp1LH",
        "colab_type": "code",
        "outputId": "0f3dfee4-1985-4f5b-b668-e1f590a69e77",
        "colab": {
          "base_uri": "https://localhost:8080/",
          "height": 34
        }
      },
      "source": [
        "# статус-код можно вызвать, написав .status_code после page (без скобок, тк это атрибут, а не метод)\n",
        "\n",
        "page.status_code"
      ],
      "execution_count": 28,
      "outputs": [
        {
          "output_type": "execute_result",
          "data": {
            "text/plain": [
              "200"
            ]
          },
          "metadata": {
            "tags": []
          },
          "execution_count": 28
        }
      ]
    },
    {
      "cell_type": "markdown",
      "metadata": {
        "id": "J5Y2C39Gp0yK",
        "colab_type": "text"
      },
      "source": [
        "код 200 сообщает, что страница загружена успешно \n",
        "*(коды, начинающиеся с 2, обычно указывают на успешное выполнение операции, а коды, начинающиеся с 4 или 5, сообщают об ошибке)*\n",
        "\n",
        "Узнать больше о кодах состояния HTTP  можно [по этой ссылке.](https://www.w3.org/Protocols/HTTP/1.1/draft-ietf-http-v11-spec-01#Status-Codes)"
      ]
    },
    {
      "cell_type": "markdown",
      "metadata": {
        "id": "9Gg53fJKNObR",
        "colab_type": "text"
      },
      "source": [
        "Следующим шагом нужно получить доступ к текстовому содержимому веб-файлов.\n",
        "\n",
        "Здесь нам поможет page.text *(или page.content, чтобы получить значение в байтах)*"
      ]
    },
    {
      "cell_type": "code",
      "metadata": {
        "id": "md61SNPYu_jL",
        "colab_type": "code",
        "outputId": "b4708feb-104a-40ad-bc50-1567d76d9c09",
        "colab": {
          "base_uri": "https://localhost:8080/",
          "height": 54
        }
      },
      "source": [
        "page.text"
      ],
      "execution_count": 32,
      "outputs": [
        {
          "output_type": "execute_result",
          "data": {
            "text/plain": [
              "'<!DOCTYPE HTML PUBLIC \"-//W3C//DTD HTML 4.01 Transitional//EN\">\\n<html><head><meta http-equiv=\"Content-Type\" content=\"text/html; charset=UTF-8\"/><meta name=\"viewport\" content=\"width=device-width, initial-scale=1\"/><link type=\"text/css\" rel=\"stylesheet\" href=\"/static/main.650c7b8fbdce6a28161cf1157d8d5800.css\"/><title data-react-helmet=\"true\">CNN - Breaking News, Latest News and Videos</title><meta data-react-helmet=\"true\" name=\"description\" content=\"View the latest news and breaking news today for U.S., world, weather, entertainment, politics and health at CNN.com.\"/></head><body><div id=\"mount\"><div><div style=\"padding:10px;\"><a href=\"/en\"><strong style=\"color:#c00;\">CNN</strong></a> | <span>11/27/2019</span> | <a href=\"/en/audioplayer\">Listen</a></div><hr/><div class=\"afe4286c\"><h2 style=\"margin-top:0px;\">Russian dairy farmers gave cows VR goggles with hopes they would be happier and make better milk</h2><div id=\"published datetime\">Updated 8:10 AM ET, Wed November 27, 2019</div><div><p>(CNN) - Virtual reality isn&#x27;t just for video games anymore. </p><p>The technology is changing industries that many people had never thought it would, such as, *checks notes*, dairy farming?</p><p>And here you thought technology couldn&#x27;t get any weirder.</p><p>A farm just outside of Moscow is testing VR glasses for its cows, it says, in an effort to increase the quantity -- and quality -- of the milk produced.</p><p>That&#x27;s according to a news release published Monday from the Ministry of Agriculture of the Moscow region. It came accompanied by photos of a cow trying out its fancy new goggles. </p><p>(We checked the date. It&#x27;s not April 1st.)</p><p>The ministry rationalizes it like this: Studies have shown that cows&#x27; environmental conditions can impact the milk produced, specifically improving its quality or increasing its quantity. </p><p>So, a team of developers, with the help of veterinarians and consultants for dairy production, made some oversized VR glasses for cows. They adapted the human versions to account for cows&#x27; different head shapes and eyesight, the news release says. And then voila! Cow VR glasses. </p><p>And what were these cows experiencing with their new VR glasses? A wild, expansive field beneath the summer sun. A cow&#x27;s (virtual) paradise. </p><p>So far, it&#x27;s unclear if the glasses have helped milk production -- further study will be needed for that. But a first test did reveal a decrease in anxiety and an increase in the emotional mood of the herd, the release said. </p><p>To be fair, if we were transported to a vast field in the summertime, our anxiety and emotional mood would be better, too.</p><p>Russian dairy farmers aren&#x27;t the only ones going the extra mile to keep their cows happy and improve product, though. Some Wagyu farmers set mood lighting, among other tricks, to keep their cows calm and producing the best beef possible. Others play them music, which one Missouri farmer says leads to better milk.  </p></div></div><hr/><div style=\"padding:10px;text-align:center;\"><p>© 2019 Cable News Network. Turner Broadcasting System, Inc. All Rights Reserved.</p><p><a href=\"/en/audioplayer\">Listen to CNN (low-bandwidth usage)</a></p><p><a href=\"//cnn.com\">Go to the full CNN experience</a></p></div></div></div><script type=\"text/javascript\">window.version = \"0.19.0\"</script><script type=\"text/javascript\">\\n                  !function(){var analytics=window.analytics=window.analytics||[];if(!analytics.initialize)if(analytics.invoked)window.console&&console.error&&console.error(\"Segment snippet included twice.\");else{analytics.invoked=!0;analytics.methods=[\"trackSubmit\",\"trackClick\",\"trackLink\",\"trackForm\",\"pageview\",\"identify\",\"reset\",\"group\",\"track\",\"ready\",\"alias\",\"debug\",\"page\",\"once\",\"off\",\"on\"];analytics.factory=function(t){return function(){var e=Array.prototype.slice.call(arguments);e.unshift(t);analytics.push(e);return analytics}};for(var t=0;t<analytics.methods.length;t++){var e=analytics.methods[t];analytics[e]=analytics.factory(e)}analytics.load=function(t){var e=document.createElement(\"script\");e.type=\"text/javascript\";e.async=!0;e.src=(\"https:\"===document.location.protocol?\"https://\":\"http://\")+\"cdn.segment.com/analytics.js/v1/\"+t+\"/analytics.min.js\";var n=document.getElementsByTagName(\"script\")[0];n.parentNode.insertBefore(e,n)};analytics.SNIPPET_VERSION=\"4.0.0\";\\n                  analytics.load(\"HQ4XgHtjPSkXgsf91YTE9roSF8D5qR0i\");\\n                  analytics.page();\\n              }}();\\n                </script></body></html>'"
            ]
          },
          "metadata": {
            "tags": []
          },
          "execution_count": 32
        }
      ]
    },
    {
      "cell_type": "markdown",
      "metadata": {
        "id": "X5cEfTSEYhcY",
        "colab_type": "text"
      },
      "source": [
        "## работаем с текстом на страничке"
      ]
    },
    {
      "cell_type": "markdown",
      "metadata": {
        "id": "vcVMhwpHNxE5",
        "colab_type": "text"
      },
      "source": [
        "Мы получили текст страницы (со всеми html-тегами), однако его неудобно прочитать в таком виде. \n",
        "\n",
        "Здесь нам понадобится Beautiful Soup, модуль для html-парсинга: он сделает текст веб-страницы, извлеченный с помощью Requests, более читаемым, потому что создает дерево синтаксического разбора из проанализированных HTML (или XML) документов."
      ]
    },
    {
      "cell_type": "code",
      "metadata": {
        "id": "GOBPlBro3AQR",
        "colab_type": "code",
        "colab": {}
      },
      "source": [
        "soup = BeautifulSoup(page.text, 'html.parser') #сохраним результат в переменную soup"
      ],
      "execution_count": 0,
      "outputs": []
    },
    {
      "cell_type": "code",
      "metadata": {
        "id": "HigX0lNr3P1Z",
        "colab_type": "code",
        "outputId": "0b5d0366-f707-4efe-b353-86d6f1a4ffde",
        "colab": {
          "base_uri": "https://localhost:8080/",
          "height": 1000
        }
      },
      "source": [
        "print(soup.prettify()) # показывает нашу страницу в красивом виде"
      ],
      "execution_count": 36,
      "outputs": [
        {
          "output_type": "stream",
          "text": [
            "<!DOCTYPE HTML PUBLIC \"-//W3C//DTD HTML 4.01 Transitional//EN\">\n",
            "<html>\n",
            " <head>\n",
            "  <meta content=\"text/html; charset=utf-8\" http-equiv=\"Content-Type\"/>\n",
            "  <meta content=\"width=device-width, initial-scale=1\" name=\"viewport\"/>\n",
            "  <link href=\"/static/main.650c7b8fbdce6a28161cf1157d8d5800.css\" rel=\"stylesheet\" type=\"text/css\"/>\n",
            "  <title data-react-helmet=\"true\">\n",
            "   CNN - Breaking News, Latest News and Videos\n",
            "  </title>\n",
            "  <meta content=\"View the latest news and breaking news today for U.S., world, weather, entertainment, politics and health at CNN.com.\" data-react-helmet=\"true\" name=\"description\"/>\n",
            " </head>\n",
            " <body>\n",
            "  <div id=\"mount\">\n",
            "   <div>\n",
            "    <div style=\"padding:10px;\">\n",
            "     <a href=\"/en\">\n",
            "      <strong style=\"color:#c00;\">\n",
            "       CNN\n",
            "      </strong>\n",
            "     </a>\n",
            "     |\n",
            "     <span>\n",
            "      11/27/2019\n",
            "     </span>\n",
            "     |\n",
            "     <a href=\"/en/audioplayer\">\n",
            "      Listen\n",
            "     </a>\n",
            "    </div>\n",
            "    <hr/>\n",
            "    <div class=\"afe4286c\">\n",
            "     <h2 style=\"margin-top:0px;\">\n",
            "      Russian dairy farmers gave cows VR goggles with hopes they would be happier and make better milk\n",
            "     </h2>\n",
            "     <div id=\"published datetime\">\n",
            "      Updated 8:10 AM ET, Wed November 27, 2019\n",
            "     </div>\n",
            "     <div>\n",
            "      <p>\n",
            "       (CNN) - Virtual reality isn't just for video games anymore.\n",
            "      </p>\n",
            "      <p>\n",
            "       The technology is changing industries that many people had never thought it would, such as, *checks notes*, dairy farming?\n",
            "      </p>\n",
            "      <p>\n",
            "       And here you thought technology couldn't get any weirder.\n",
            "      </p>\n",
            "      <p>\n",
            "       A farm just outside of Moscow is testing VR glasses for its cows, it says, in an effort to increase the quantity -- and quality -- of the milk produced.\n",
            "      </p>\n",
            "      <p>\n",
            "       That's according to a news release published Monday from the Ministry of Agriculture of the Moscow region. It came accompanied by photos of a cow trying out its fancy new goggles.\n",
            "      </p>\n",
            "      <p>\n",
            "       (We checked the date. It's not April 1st.)\n",
            "      </p>\n",
            "      <p>\n",
            "       The ministry rationalizes it like this: Studies have shown that cows' environmental conditions can impact the milk produced, specifically improving its quality or increasing its quantity.\n",
            "      </p>\n",
            "      <p>\n",
            "       So, a team of developers, with the help of veterinarians and consultants for dairy production, made some oversized VR glasses for cows. They adapted the human versions to account for cows' different head shapes and eyesight, the news release says. And then voila! Cow VR glasses.\n",
            "      </p>\n",
            "      <p>\n",
            "       And what were these cows experiencing with their new VR glasses? A wild, expansive field beneath the summer sun. A cow's (virtual) paradise.\n",
            "      </p>\n",
            "      <p>\n",
            "       So far, it's unclear if the glasses have helped milk production -- further study will be needed for that. But a first test did reveal a decrease in anxiety and an increase in the emotional mood of the herd, the release said.\n",
            "      </p>\n",
            "      <p>\n",
            "       To be fair, if we were transported to a vast field in the summertime, our anxiety and emotional mood would be better, too.\n",
            "      </p>\n",
            "      <p>\n",
            "       Russian dairy farmers aren't the only ones going the extra mile to keep their cows happy and improve product, though. Some Wagyu farmers set mood lighting, among other tricks, to keep their cows calm and producing the best beef possible. Others play them music, which one Missouri farmer says leads to better milk.\n",
            "      </p>\n",
            "     </div>\n",
            "    </div>\n",
            "    <hr/>\n",
            "    <div style=\"padding:10px;text-align:center;\">\n",
            "     <p>\n",
            "      © 2019 Cable News Network. Turner Broadcasting System, Inc. All Rights Reserved.\n",
            "     </p>\n",
            "     <p>\n",
            "      <a href=\"/en/audioplayer\">\n",
            "       Listen to CNN (low-bandwidth usage)\n",
            "      </a>\n",
            "     </p>\n",
            "     <p>\n",
            "      <a href=\"//cnn.com\">\n",
            "       Go to the full CNN experience\n",
            "      </a>\n",
            "     </p>\n",
            "    </div>\n",
            "   </div>\n",
            "  </div>\n",
            "  <script type=\"text/javascript\">\n",
            "   window.version = \"0.19.0\"\n",
            "  </script>\n",
            "  <script type=\"text/javascript\">\n",
            "   !function(){var analytics=window.analytics=window.analytics||[];if(!analytics.initialize)if(analytics.invoked)window.console&&console.error&&console.error(\"Segment snippet included twice.\");else{analytics.invoked=!0;analytics.methods=[\"trackSubmit\",\"trackClick\",\"trackLink\",\"trackForm\",\"pageview\",\"identify\",\"reset\",\"group\",\"track\",\"ready\",\"alias\",\"debug\",\"page\",\"once\",\"off\",\"on\"];analytics.factory=function(t){return function(){var e=Array.prototype.slice.call(arguments);e.unshift(t);analytics.push(e);return analytics}};for(var t=0;t<analytics.methods.length;t++){var e=analytics.methods[t];analytics[e]=analytics.factory(e)}analytics.load=function(t){var e=document.createElement(\"script\");e.type=\"text/javascript\";e.async=!0;e.src=(\"https:\"===document.location.protocol?\"https://\":\"http://\")+\"cdn.segment.com/analytics.js/v1/\"+t+\"/analytics.min.js\";var n=document.getElementsByTagName(\"script\")[0];n.parentNode.insertBefore(e,n)};analytics.SNIPPET_VERSION=\"4.0.0\";\n",
            "                  analytics.load(\"HQ4XgHtjPSkXgsf91YTE9roSF8D5qR0i\");\n",
            "                  analytics.page();\n",
            "              }}();\n",
            "  </script>\n",
            " </body>\n",
            "</html>\n"
          ],
          "name": "stdout"
        }
      ]
    },
    {
      "cell_type": "markdown",
      "metadata": {
        "id": "O_WQYXXEUVkk",
        "colab_type": "text"
      },
      "source": [
        "##работаем с тегами в тексте: "
      ]
    },
    {
      "cell_type": "markdown",
      "metadata": {
        "id": "bVR8OVuRUaO1",
        "colab_type": "text"
      },
      "source": [
        "предыдущие шаги позволили привести веб-страничку к виду, где содержание каждого тега написано с новой строки. \n",
        "\n",
        "Некоторые теги полезны для конкретной задачи (там текст), некоторые - не очень (например, мета-данные,картинки и тд)\n",
        "\n",
        "Извлечь один тег со страницы можно с помощью метода find_all(). Он похож на метод регулярок, с которым мы работали: он вернет все экземпляры данного тега в документе. Нужно прописать в скобках метода нужный тег. \n",
        "\n",
        "Текст содержится в разделах с тегом \\<p>"
      ]
    },
    {
      "cell_type": "code",
      "metadata": {
        "id": "N0RXeVL33W7I",
        "colab_type": "code",
        "outputId": "abf5cf0f-45df-474b-f126-ff47f248a59b",
        "colab": {
          "base_uri": "https://localhost:8080/",
          "height": 292
        }
      },
      "source": [
        "soup.find_all('p') \n",
        "\n",
        "# попробуйте теги head, body, title, div "
      ],
      "execution_count": 49,
      "outputs": [
        {
          "output_type": "execute_result",
          "data": {
            "text/plain": [
              "[<p>(CNN) - Virtual reality isn't just for video games anymore. </p>,\n",
              " <p>The technology is changing industries that many people had never thought it would, such as, *checks notes*, dairy farming?</p>,\n",
              " <p>And here you thought technology couldn't get any weirder.</p>,\n",
              " <p>A farm just outside of Moscow is testing VR glasses for its cows, it says, in an effort to increase the quantity -- and quality -- of the milk produced.</p>,\n",
              " <p>That's according to a news release published Monday from the Ministry of Agriculture of the Moscow region. It came accompanied by photos of a cow trying out its fancy new goggles. </p>,\n",
              " <p>(We checked the date. It's not April 1st.)</p>,\n",
              " <p>The ministry rationalizes it like this: Studies have shown that cows' environmental conditions can impact the milk produced, specifically improving its quality or increasing its quantity. </p>,\n",
              " <p>So, a team of developers, with the help of veterinarians and consultants for dairy production, made some oversized VR glasses for cows. They adapted the human versions to account for cows' different head shapes and eyesight, the news release says. And then voila! Cow VR glasses. </p>,\n",
              " <p>And what were these cows experiencing with their new VR glasses? A wild, expansive field beneath the summer sun. A cow's (virtual) paradise. </p>,\n",
              " <p>So far, it's unclear if the glasses have helped milk production -- further study will be needed for that. But a first test did reveal a decrease in anxiety and an increase in the emotional mood of the herd, the release said. </p>,\n",
              " <p>To be fair, if we were transported to a vast field in the summertime, our anxiety and emotional mood would be better, too.</p>,\n",
              " <p>Russian dairy farmers aren't the only ones going the extra mile to keep their cows happy and improve product, though. Some Wagyu farmers set mood lighting, among other tricks, to keep their cows calm and producing the best beef possible. Others play them music, which one Missouri farmer says leads to better milk.  </p>,\n",
              " <p>© 2019 Cable News Network. Turner Broadcasting System, Inc. All Rights Reserved.</p>,\n",
              " <p><a href=\"/en/audioplayer\">Listen to CNN (low-bandwidth usage)</a></p>,\n",
              " <p><a href=\"//cnn.com\">Go to the full CNN experience</a></p>]"
            ]
          },
          "metadata": {
            "tags": []
          },
          "execution_count": 49
        }
      ]
    },
    {
      "cell_type": "markdown",
      "metadata": {
        "id": "N2pm6e8fV2nr",
        "colab_type": "text"
      },
      "source": [
        "Результат метода .find_all() хранится в виде списка. \n",
        "\n",
        "Можно итерироваться элементам списка (например, третий элемент из всех с тегами \\<p>)"
      ]
    },
    {
      "cell_type": "code",
      "metadata": {
        "id": "2vGnqZog3n1U",
        "colab_type": "code",
        "outputId": "ed2a703d-2bb9-4e93-9ebe-212b9c2ea88a",
        "colab": {
          "base_uri": "https://localhost:8080/",
          "height": 54
        }
      },
      "source": [
        "soup.find_all('p')[3]"
      ],
      "execution_count": 53,
      "outputs": [
        {
          "output_type": "execute_result",
          "data": {
            "text/plain": [
              "<p>A farm just outside of Moscow is testing VR glasses for its cows, it says, in an effort to increase the quantity -- and quality -- of the milk produced.</p>"
            ]
          },
          "metadata": {
            "tags": []
          },
          "execution_count": 53
        }
      ]
    },
    {
      "cell_type": "markdown",
      "metadata": {
        "id": "ca4ZEbxNWYV2",
        "colab_type": "text"
      },
      "source": [
        "метод .get_text() позволит вытащить текст из элемента:"
      ]
    },
    {
      "cell_type": "code",
      "metadata": {
        "id": "D6kLyx_LWY5g",
        "colab_type": "code",
        "colab": {
          "base_uri": "https://localhost:8080/",
          "height": 54
        },
        "outputId": "c015eb8d-584e-44f1-d4be-679fbd2b437c"
      },
      "source": [
        "soup.find_all('p')[3].get_text()"
      ],
      "execution_count": 55,
      "outputs": [
        {
          "output_type": "execute_result",
          "data": {
            "text/plain": [
              "'A farm just outside of Moscow is testing VR glasses for its cows, it says, in an effort to increase the quantity -- and quality -- of the milk produced.'"
            ]
          },
          "metadata": {
            "tags": []
          },
          "execution_count": 55
        }
      ]
    },
    {
      "cell_type": "markdown",
      "metadata": {
        "id": "tF72_zk5ak4g",
        "colab_type": "text"
      },
      "source": [
        "## полезные ссылки"
      ]
    },
    {
      "cell_type": "markdown",
      "metadata": {
        "id": "ILp0Ke2daokq",
        "colab_type": "text"
      },
      "source": [
        "[документация requests и быстрый гайд](https://requests.readthedocs.io/en/master/user/quickstart/)\n",
        "\n",
        "\n",
        "[документация Beautiful Soup](https://www.crummy.com/software/BeautifulSoup/bs4/doc/)\n",
        "\n",
        "[text-only](https://sjmulder.nl/en/textonly.html) веб-сайты, чтобы легко начать парсить\n",
        "\n",
        "\n",
        "\n",
        "[здесь](https://www.york.ac.uk/teaching/cws/wws/webpage1.html) можно почитать про структуру html подробнее\n",
        "\n",
        "\n",
        "а [здесь](https://www.w3schools.com/html/html_examples.asp) еще и потренироваться в режиме онлайн"
      ]
    },
    {
      "cell_type": "markdown",
      "metadata": {
        "id": "KZ_J5BSyog2J",
        "colab_type": "text"
      },
      "source": [
        "## try-except"
      ]
    },
    {
      "cell_type": "markdown",
      "metadata": {
        "id": "KBcqi0K1j87T",
        "colab_type": "text"
      },
      "source": [
        "В блоке try мы выполняем инструкцию, которая может породить исключение, а в блоке except мы перехватываем их.\n",
        "\n"
      ]
    },
    {
      "cell_type": "code",
      "metadata": {
        "id": "XuKik8SumU32",
        "colab_type": "code",
        "colab": {}
      },
      "source": [
        "def divider():\n",
        "    x = float(input('Введите число:'))\n",
        "    try:\n",
        "        1/x\n",
        "    except ZeroDivisionError :\n",
        "        print(\"я не умею делить на 0 :( \")\n",
        "    res = 1/x\n",
        "    print('получается', res)\n",
        "    "
      ],
      "execution_count": 0,
      "outputs": []
    },
    {
      "cell_type": "code",
      "metadata": {
        "id": "liXKtYSgnWkE",
        "colab_type": "code",
        "colab": {}
      },
      "source": [
        "divider()"
      ],
      "execution_count": 0,
      "outputs": []
    },
    {
      "cell_type": "markdown",
      "metadata": {
        "id": "4xny9DLqkQVT",
        "colab_type": "text"
      },
      "source": [
        "**типы эксепшонов:**\n",
        "\n",
        "все можно почитать [тут](https://docs.python.org/3/tutorial/errors.html):\n",
        "\n",
        "BaseException - базовое исключение, от которого берут начало все остальные.\n",
        "\n",
        "KeyboardInterrupt - порождается при прерывании программы пользователем (обычно сочетанием клавиш Ctrl+C).\n",
        "\n",
        "StopIteration - порождается встроенной функцией next, если в итераторе больше нет элементов.\n",
        "\n",
        "ArithmeticError - арифметическая ошибка.\n",
        "\n",
        "* FloatingPointError - порождается при неудачном выполнении операции с плавающей запятой. На практике встречается нечасто.\n",
        "\n",
        "* OverflowError - возникает, когда результат арифметической операции слишком велик для представления. Не появляется при обычной работе с целыми числами (так как python поддерживает длинные числа), но может возникать в некоторых других случаях.\n",
        "\n",
        "* ZeroDivisionError - деление на ноль.\n",
        "\n",
        "AttributeError - объект не имеет данного атрибута (значения или метода).\n",
        "\n",
        "EOFError - функция наткнулась на конец файла и не смогла прочитать то, что хотела.\n",
        "\n",
        "ImportError - не удалось импортирование модуля или его атрибута.\n",
        "\n",
        "LookupError - некорректный индекс или ключ.\n",
        "\n",
        "IndexError - индекс не входит в диапазон элементов.\n",
        "\n",
        "KeyError - несуществующий ключ (в словаре, множестве или другом объекте).\n",
        "\n",
        "MemoryError - недостаточно памяти.\n",
        "\n",
        "NameError - не найдено переменной с таким именем.\n",
        "\n",
        "UnboundLocalError - сделана ссылка на локальную переменную в функции, но переменная не определена ранее.\n",
        "\n",
        "OSError - ошибка, связанная с системой.\n",
        "\n",
        "FileExistsError - попытка создания файла или директории, которая уже существует.\n",
        "\n",
        "FileNotFoundError - файл или директория не существует.\n",
        "\n",
        "InterruptedError - системный вызов прерван входящим сигналом.\n",
        "\n",
        "IsADirectoryError - ожидался файл, но это директория.\n",
        "\n",
        "NotADirectoryError - ожидалась директория, но это файл.\n",
        "\n",
        "PermissionError - не хватает прав доступа.\n",
        "\n",
        "TimeoutError - закончилось время ожидания.\n",
        "\n",
        "RuntimeError - возникает, когда исключение не попадает ни под одну из других категорий.\n",
        "\n",
        "SyntaxError - синтаксическая ошибка.\n",
        "\n",
        "IndentationError - неправильные отступы.\n",
        "\n",
        "TabError - смешивание в отступах табуляции и пробелов.\n",
        "\n",
        "SystemError - внутренняя ошибка.\n",
        "\n",
        "TypeError - операция применена к объекту несоответствующего типа.\n",
        "\n",
        "ValueError - функция получает аргумент правильного типа, но некорректного значения.\n",
        "\n",
        "UnicodeError - ошибка, связанная с кодированием / раскодированием unicode в строках.\n",
        "\n",
        "UnicodeEncodeError - исключение, связанное с кодированием unicode.\n",
        "\n",
        "UnicodeDecodeError - исключение, связанное с декодированием unicode.\n",
        "\n",
        "UnicodeTranslateError - исключение, связанное с переводом unicode.\n",
        "\n",
        "Warning - предупреждение."
      ]
    },
    {
      "cell_type": "code",
      "metadata": {
        "id": "zCfWC5ICj262",
        "colab_type": "code",
        "colab": {}
      },
      "source": [
        ""
      ],
      "execution_count": 0,
      "outputs": []
    }
  ]
}