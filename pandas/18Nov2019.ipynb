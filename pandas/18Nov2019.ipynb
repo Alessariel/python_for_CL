{
  "nbformat": 4,
  "nbformat_minor": 0,
  "metadata": {
    "colab": {
      "name": "18Nov2019.ipynb",
      "provenance": [],
      "collapsed_sections": [
        "ZESKs95y71Wy"
      ],
      "include_colab_link": true
    },
    "kernelspec": {
      "name": "python3",
      "display_name": "Python 3"
    }
  },
  "cells": [
    {
      "cell_type": "markdown",
      "metadata": {
        "id": "view-in-github",
        "colab_type": "text"
      },
      "source": [
        "<a href=\"https://colab.research.google.com/github/nstsj/python_for_CL/blob/master/18Nov2019.ipynb\" target=\"_parent\"><img src=\"https://colab.research.google.com/assets/colab-badge.svg\" alt=\"Open In Colab\"/></a>"
      ]
    },
    {
      "cell_type": "markdown",
      "metadata": {
        "id": "vCIFgt9h1Qgp",
        "colab_type": "text"
      },
      "source": [
        "###SMALL INTRO ON REGEXES"
      ]
    },
    {
      "cell_type": "code",
      "metadata": {
        "id": "Pn282YrwyduR",
        "colab_type": "code",
        "outputId": "3029d4a7-b995-4f04-848e-29505c4b9ee0",
        "colab": {
          "base_uri": "https://localhost:8080/",
          "height": 34
        }
      },
      "source": [
        "import re\n",
        "text = \"this is me, these are them, and here we are\"\n",
        "print(re.findall(r\"th(?:is|ese) (?:is|are) (?:me|you|them)(?=,)\", text))\n",
        "#(?:) is a non-capturing group (will not appear in the result) (?=) is a positive lookahead"
      ],
      "execution_count": 0,
      "outputs": [
        {
          "output_type": "stream",
          "text": [
            "['this is me', 'these are them']\n"
          ],
          "name": "stdout"
        }
      ]
    },
    {
      "cell_type": "code",
      "metadata": {
        "id": "ix8HPQNJ1ONZ",
        "colab_type": "code",
        "outputId": "e54a44fb-840e-46df-e5d0-ae243908253e",
        "colab": {
          "base_uri": "https://localhost:8080/",
          "height": 84
        }
      },
      "source": [
        "pronouns=[\"me\" , \"you\", \"them\"]\n",
        "verbs=[\"is\", \"are\"]\n",
        "determinatives=[\"this\", \"these\"]\n",
        "\n",
        "print(re.findall(\"(?:{}) (?:{}) (?:{})(?=,)\".format(\"|\".join(determinatives), \"|\".join(verbs), \"|\".join(pronouns)), text))\n",
        "print(\"a quick demonstration before and after join:\")\n",
        "print(determinatives)\n",
        "print(\" \".join(determinatives))"
      ],
      "execution_count": 0,
      "outputs": [
        {
          "output_type": "stream",
          "text": [
            "['this is me', 'these are them']\n",
            "a quick demonstration before and after join:\n",
            "['this', 'these']\n",
            "this these\n"
          ],
          "name": "stdout"
        }
      ]
    },
    {
      "cell_type": "markdown",
      "metadata": {
        "id": "LchzhkUv1OnX",
        "colab_type": "text"
      },
      "source": [
        "### PANDAS!"
      ]
    },
    {
      "cell_type": "code",
      "metadata": {
        "id": "xm8OMpR3JtQq",
        "colab_type": "code",
        "colab": {}
      },
      "source": [
        "! pip3 list # проверяем список установленных библиотек, вдруг pandas уже есть\n"
      ],
      "execution_count": 0,
      "outputs": []
    },
    {
      "cell_type": "code",
      "metadata": {
        "id": "dy_UDg8kL5Vc",
        "colab_type": "code",
        "outputId": "03e45008-9ea3-4b54-db6e-3099955cec94",
        "colab": {
          "base_uri": "https://localhost:8080/",
          "height": 101
        }
      },
      "source": [
        "! pip3 install pandas # делаем такое если pandas не найден"
      ],
      "execution_count": 0,
      "outputs": [
        {
          "output_type": "stream",
          "text": [
            "Requirement already satisfied: pandas in /usr/local/lib/python3.6/dist-packages (0.25.3)\n",
            "Requirement already satisfied: pytz>=2017.2 in /usr/local/lib/python3.6/dist-packages (from pandas) (2018.9)\n",
            "Requirement already satisfied: numpy>=1.13.3 in /usr/local/lib/python3.6/dist-packages (from pandas) (1.17.4)\n",
            "Requirement already satisfied: python-dateutil>=2.6.1 in /usr/local/lib/python3.6/dist-packages (from pandas) (2.6.1)\n",
            "Requirement already satisfied: six>=1.5 in /usr/local/lib/python3.6/dist-packages (from python-dateutil>=2.6.1->pandas) (1.12.0)\n"
          ],
          "name": "stdout"
        }
      ]
    },
    {
      "cell_type": "code",
      "metadata": {
        "id": "mu_R9WN2MFeQ",
        "colab_type": "code",
        "colab": {}
      },
      "source": [
        "import pandas as pd # теперь импортируем pandas в эту тетрадку"
      ],
      "execution_count": 0,
      "outputs": []
    },
    {
      "cell_type": "markdown",
      "metadata": {
        "id": "dDSmXeLaTh4U",
        "colab_type": "text"
      },
      "source": [
        "документация для pandas [лежит здесь](https://pandas.pydata.org/pandas-docs/stable/getting_started/tutorials.html)\n",
        "\n",
        "Основные элементы \"табличек в pandas\" - это Series и Dataframe\n",
        "\n",
        "Series - это объект, похожий на одномерный массив (как обычный список в питоне) с элементами и  индексами вдоль каждого элемента из списка. \n",
        "\n",
        "DataFrame \"собирается\" из таких Series"
      ]
    },
    {
      "cell_type": "markdown",
      "metadata": {
        "id": "YwQGRoCkO4y1",
        "colab_type": "text"
      },
      "source": [
        "*визуализация \"таблички\" в pandas* \n",
        "\n",
        "<figure class=\"captioned-images\"><div class=\"attributed-wrap\"><img alt=\"Series vs DataFrame\" class=\"img-responsive\" height=\"383\" src=\"https://storage.googleapis.com/lds-media/images/series-and-dataframe.width-1200.png\" width=\"1000\"></div></figure>\n",
        "\n",
        "Создадим Dataframe:"
      ]
    },
    {
      "cell_type": "code",
      "metadata": {
        "id": "6Vy_M6tPMQCE",
        "colab_type": "code",
        "outputId": "306f8933-4b0d-46f5-8523-6926b235af5c",
        "colab": {
          "base_uri": "https://localhost:8080/",
          "height": 166
        }
      },
      "source": [
        "# шаг 1 создадим словарь\n",
        "\n",
        "data = {\n",
        "    'apples': [3, 2, 0, 1], \n",
        "    'oranges': [0, 3, 7, 2]\n",
        "}\n",
        "\n",
        "# шаг 2 используем метод pd.DataFrame(), где аргументом подадим созданный словарь\n",
        "purchases = pd.DataFrame(data) \n",
        "\n",
        "purchases # посмотрим на датафрейм"
      ],
      "execution_count": 0,
      "outputs": [
        {
          "output_type": "execute_result",
          "data": {
            "text/html": [
              "<div>\n",
              "<style scoped>\n",
              "    .dataframe tbody tr th:only-of-type {\n",
              "        vertical-align: middle;\n",
              "    }\n",
              "\n",
              "    .dataframe tbody tr th {\n",
              "        vertical-align: top;\n",
              "    }\n",
              "\n",
              "    .dataframe thead th {\n",
              "        text-align: right;\n",
              "    }\n",
              "</style>\n",
              "<table border=\"1\" class=\"dataframe\">\n",
              "  <thead>\n",
              "    <tr style=\"text-align: right;\">\n",
              "      <th></th>\n",
              "      <th>apples</th>\n",
              "      <th>oranges</th>\n",
              "    </tr>\n",
              "  </thead>\n",
              "  <tbody>\n",
              "    <tr>\n",
              "      <th>0</th>\n",
              "      <td>3</td>\n",
              "      <td>0</td>\n",
              "    </tr>\n",
              "    <tr>\n",
              "      <th>1</th>\n",
              "      <td>2</td>\n",
              "      <td>3</td>\n",
              "    </tr>\n",
              "    <tr>\n",
              "      <th>2</th>\n",
              "      <td>0</td>\n",
              "      <td>7</td>\n",
              "    </tr>\n",
              "    <tr>\n",
              "      <th>3</th>\n",
              "      <td>1</td>\n",
              "      <td>2</td>\n",
              "    </tr>\n",
              "  </tbody>\n",
              "</table>\n",
              "</div>"
            ],
            "text/plain": [
              "   apples  oranges\n",
              "0       3        0\n",
              "1       2        3\n",
              "2       0        7\n",
              "3       1        2"
            ]
          },
          "metadata": {
            "tags": []
          },
          "execution_count": 47
        }
      ]
    },
    {
      "cell_type": "code",
      "metadata": {
        "id": "qwznpLgCPSD-",
        "colab_type": "code",
        "outputId": "6c14f85b-2f0f-4ba1-e32b-f81a261e99dd",
        "colab": {
          "base_uri": "https://localhost:8080/",
          "height": 166
        }
      },
      "source": [
        "# добавим именной индекс\n",
        "\n",
        "purchases = pd.DataFrame(data, index=['Jane', 'Robert', 'Lily', 'David'])\n",
        "\n",
        "purchases"
      ],
      "execution_count": 0,
      "outputs": [
        {
          "output_type": "execute_result",
          "data": {
            "text/html": [
              "<div>\n",
              "<style scoped>\n",
              "    .dataframe tbody tr th:only-of-type {\n",
              "        vertical-align: middle;\n",
              "    }\n",
              "\n",
              "    .dataframe tbody tr th {\n",
              "        vertical-align: top;\n",
              "    }\n",
              "\n",
              "    .dataframe thead th {\n",
              "        text-align: right;\n",
              "    }\n",
              "</style>\n",
              "<table border=\"1\" class=\"dataframe\">\n",
              "  <thead>\n",
              "    <tr style=\"text-align: right;\">\n",
              "      <th></th>\n",
              "      <th>apples</th>\n",
              "      <th>oranges</th>\n",
              "    </tr>\n",
              "  </thead>\n",
              "  <tbody>\n",
              "    <tr>\n",
              "      <th>Jane</th>\n",
              "      <td>3</td>\n",
              "      <td>0</td>\n",
              "    </tr>\n",
              "    <tr>\n",
              "      <th>Robert</th>\n",
              "      <td>2</td>\n",
              "      <td>3</td>\n",
              "    </tr>\n",
              "    <tr>\n",
              "      <th>Lily</th>\n",
              "      <td>0</td>\n",
              "      <td>7</td>\n",
              "    </tr>\n",
              "    <tr>\n",
              "      <th>David</th>\n",
              "      <td>1</td>\n",
              "      <td>2</td>\n",
              "    </tr>\n",
              "  </tbody>\n",
              "</table>\n",
              "</div>"
            ],
            "text/plain": [
              "        apples  oranges\n",
              "Jane         3        0\n",
              "Robert       2        3\n",
              "Lily         0        7\n",
              "David        1        2"
            ]
          },
          "metadata": {
            "tags": []
          },
          "execution_count": 48
        }
      ]
    },
    {
      "cell_type": "code",
      "metadata": {
        "id": "4vhYowB3TP56",
        "colab_type": "code",
        "outputId": "7c343af5-7e6a-40b7-8bb8-3af5b4957ae1",
        "colab": {
          "base_uri": "https://localhost:8080/",
          "height": 67
        }
      },
      "source": [
        "# достаем покупку по имени\n",
        "\n",
        "purchases.loc['Jane']"
      ],
      "execution_count": 0,
      "outputs": [
        {
          "output_type": "execute_result",
          "data": {
            "text/plain": [
              "apples     3\n",
              "oranges    0\n",
              "Name: Jane, dtype: int64"
            ]
          },
          "metadata": {
            "tags": []
          },
          "execution_count": 49
        }
      ]
    },
    {
      "cell_type": "code",
      "metadata": {
        "id": "sf9Q50-_pzKo",
        "colab_type": "code",
        "outputId": "c17a3626-0034-4631-aaa8-f473843c5bf6",
        "colab": {
          "base_uri": "https://localhost:8080/",
          "height": 101
        }
      },
      "source": [
        "purchases['apples'] # достаем покупателей по заголовку колонки\n"
      ],
      "execution_count": 0,
      "outputs": [
        {
          "output_type": "execute_result",
          "data": {
            "text/plain": [
              "Jane      3\n",
              "Robert    2\n",
              "Lily      0\n",
              "David     1\n",
              "Name: apples, dtype: int64"
            ]
          },
          "metadata": {
            "tags": []
          },
          "execution_count": 50
        }
      ]
    },
    {
      "cell_type": "markdown",
      "metadata": {
        "id": "6xG3z4Vov0Lq",
        "colab_type": "text"
      },
      "source": [
        "добавим новых колонок в датафрейм: (метод .assign)"
      ]
    },
    {
      "cell_type": "code",
      "metadata": {
        "id": "q68INlyOv3wA",
        "colab_type": "code",
        "outputId": "0609deea-e988-4368-dd64-355ebd87531c",
        "colab": {
          "base_uri": "https://localhost:8080/",
          "height": 166
        }
      },
      "source": [
        "purchases = purchases.assign(weekday=['Mon',\"Wed\",\"Thu\",\"Sat\"],daytime=[\"mor\",\"evn\",\"evn\",\"evn\"])\n",
        "purchases"
      ],
      "execution_count": 0,
      "outputs": [
        {
          "output_type": "execute_result",
          "data": {
            "text/html": [
              "<div>\n",
              "<style scoped>\n",
              "    .dataframe tbody tr th:only-of-type {\n",
              "        vertical-align: middle;\n",
              "    }\n",
              "\n",
              "    .dataframe tbody tr th {\n",
              "        vertical-align: top;\n",
              "    }\n",
              "\n",
              "    .dataframe thead th {\n",
              "        text-align: right;\n",
              "    }\n",
              "</style>\n",
              "<table border=\"1\" class=\"dataframe\">\n",
              "  <thead>\n",
              "    <tr style=\"text-align: right;\">\n",
              "      <th></th>\n",
              "      <th>apples</th>\n",
              "      <th>oranges</th>\n",
              "      <th>weekday</th>\n",
              "      <th>daytime</th>\n",
              "    </tr>\n",
              "  </thead>\n",
              "  <tbody>\n",
              "    <tr>\n",
              "      <th>Jane</th>\n",
              "      <td>3</td>\n",
              "      <td>0</td>\n",
              "      <td>Mon</td>\n",
              "      <td>mor</td>\n",
              "    </tr>\n",
              "    <tr>\n",
              "      <th>Robert</th>\n",
              "      <td>2</td>\n",
              "      <td>3</td>\n",
              "      <td>Wed</td>\n",
              "      <td>evn</td>\n",
              "    </tr>\n",
              "    <tr>\n",
              "      <th>Lily</th>\n",
              "      <td>0</td>\n",
              "      <td>7</td>\n",
              "      <td>Thu</td>\n",
              "      <td>evn</td>\n",
              "    </tr>\n",
              "    <tr>\n",
              "      <th>David</th>\n",
              "      <td>1</td>\n",
              "      <td>2</td>\n",
              "      <td>Sat</td>\n",
              "      <td>evn</td>\n",
              "    </tr>\n",
              "  </tbody>\n",
              "</table>\n",
              "</div>"
            ],
            "text/plain": [
              "        apples  oranges weekday daytime\n",
              "Jane         3        0     Mon     mor\n",
              "Robert       2        3     Wed     evn\n",
              "Lily         0        7     Thu     evn\n",
              "David        1        2     Sat     evn"
            ]
          },
          "metadata": {
            "tags": []
          },
          "execution_count": 51
        }
      ]
    },
    {
      "cell_type": "markdown",
      "metadata": {
        "id": "8wI7nnyOx8kt",
        "colab_type": "text"
      },
      "source": [
        "А строк? Тоже можно: (.append)"
      ]
    },
    {
      "cell_type": "code",
      "metadata": {
        "id": "S2rnWzbQx9QU",
        "colab_type": "code",
        "outputId": "f4c106ab-7d25-423c-df9e-f12f04ccf461",
        "colab": {
          "base_uri": "https://localhost:8080/",
          "height": 77
        }
      },
      "source": [
        "# шаг1 создадим новый маленький датафрейм: \n",
        " df1 = pd.DataFrame({'apples': \"3\",\n",
        "                     'oranges': '4',\n",
        "                        'weekday':\"Fri\",\n",
        "                       'daytime':\"mor\"},\n",
        "                       index=[\"Alexander\"])\n",
        " \n",
        "\n",
        "df1"
      ],
      "execution_count": 0,
      "outputs": [
        {
          "output_type": "execute_result",
          "data": {
            "text/html": [
              "<div>\n",
              "<style scoped>\n",
              "    .dataframe tbody tr th:only-of-type {\n",
              "        vertical-align: middle;\n",
              "    }\n",
              "\n",
              "    .dataframe tbody tr th {\n",
              "        vertical-align: top;\n",
              "    }\n",
              "\n",
              "    .dataframe thead th {\n",
              "        text-align: right;\n",
              "    }\n",
              "</style>\n",
              "<table border=\"1\" class=\"dataframe\">\n",
              "  <thead>\n",
              "    <tr style=\"text-align: right;\">\n",
              "      <th></th>\n",
              "      <th>apples</th>\n",
              "      <th>oranges</th>\n",
              "      <th>weekday</th>\n",
              "      <th>daytime</th>\n",
              "    </tr>\n",
              "  </thead>\n",
              "  <tbody>\n",
              "    <tr>\n",
              "      <th>Alexander</th>\n",
              "      <td>3</td>\n",
              "      <td>4</td>\n",
              "      <td>Fri</td>\n",
              "      <td>mor</td>\n",
              "    </tr>\n",
              "  </tbody>\n",
              "</table>\n",
              "</div>"
            ],
            "text/plain": [
              "          apples oranges weekday daytime\n",
              "Alexander      3       4     Fri     mor"
            ]
          },
          "metadata": {
            "tags": []
          },
          "execution_count": 52
        }
      ]
    },
    {
      "cell_type": "code",
      "metadata": {
        "id": "nWBEDV_X0rVB",
        "colab_type": "code",
        "colab": {}
      },
      "source": [
        "# шаг2 добавим новый df к старому\n",
        "purchases = purchases.append(df1)\n"
      ],
      "execution_count": 0,
      "outputs": []
    },
    {
      "cell_type": "code",
      "metadata": {
        "id": "MCuKk5Y62EMS",
        "colab_type": "code",
        "outputId": "b891ccc5-b4b8-46b5-f195-d430209c3be5",
        "colab": {
          "base_uri": "https://localhost:8080/",
          "height": 195
        }
      },
      "source": [
        "purchases # посмотрим на результат"
      ],
      "execution_count": 0,
      "outputs": [
        {
          "output_type": "execute_result",
          "data": {
            "text/html": [
              "<div>\n",
              "<style scoped>\n",
              "    .dataframe tbody tr th:only-of-type {\n",
              "        vertical-align: middle;\n",
              "    }\n",
              "\n",
              "    .dataframe tbody tr th {\n",
              "        vertical-align: top;\n",
              "    }\n",
              "\n",
              "    .dataframe thead th {\n",
              "        text-align: right;\n",
              "    }\n",
              "</style>\n",
              "<table border=\"1\" class=\"dataframe\">\n",
              "  <thead>\n",
              "    <tr style=\"text-align: right;\">\n",
              "      <th></th>\n",
              "      <th>apples</th>\n",
              "      <th>oranges</th>\n",
              "      <th>weekday</th>\n",
              "      <th>daytime</th>\n",
              "    </tr>\n",
              "  </thead>\n",
              "  <tbody>\n",
              "    <tr>\n",
              "      <th>Jane</th>\n",
              "      <td>3</td>\n",
              "      <td>0</td>\n",
              "      <td>Mon</td>\n",
              "      <td>mor</td>\n",
              "    </tr>\n",
              "    <tr>\n",
              "      <th>Robert</th>\n",
              "      <td>2</td>\n",
              "      <td>3</td>\n",
              "      <td>Wed</td>\n",
              "      <td>evn</td>\n",
              "    </tr>\n",
              "    <tr>\n",
              "      <th>Lily</th>\n",
              "      <td>0</td>\n",
              "      <td>7</td>\n",
              "      <td>Thu</td>\n",
              "      <td>evn</td>\n",
              "    </tr>\n",
              "    <tr>\n",
              "      <th>David</th>\n",
              "      <td>1</td>\n",
              "      <td>2</td>\n",
              "      <td>Sat</td>\n",
              "      <td>evn</td>\n",
              "    </tr>\n",
              "    <tr>\n",
              "      <th>Alexander</th>\n",
              "      <td>3</td>\n",
              "      <td>4</td>\n",
              "      <td>Fri</td>\n",
              "      <td>mor</td>\n",
              "    </tr>\n",
              "  </tbody>\n",
              "</table>\n",
              "</div>"
            ],
            "text/plain": [
              "          apples oranges weekday daytime\n",
              "Jane           3       0     Mon     mor\n",
              "Robert         2       3     Wed     evn\n",
              "Lily           0       7     Thu     evn\n",
              "David          1       2     Sat     evn\n",
              "Alexander      3       4     Fri     mor"
            ]
          },
          "metadata": {
            "tags": []
          },
          "execution_count": 54
        }
      ]
    },
    {
      "cell_type": "markdown",
      "metadata": {
        "id": "ZESKs95y71Wy",
        "colab_type": "text"
      },
      "source": [
        "### что делать, если добавились ненужные строки? "
      ]
    },
    {
      "cell_type": "code",
      "metadata": {
        "id": "LOScAXKZ78py",
        "colab_type": "code",
        "colab": {}
      },
      "source": [
        "# добавим Монику и Олега, они ничего не купили, потому что пришли в воскресенье вечером, магазин был закрыт\n",
        "\n",
        "purchases = purchases.append(pd.DataFrame({\n",
        "    'apples': [0,0],'oranges': [0,0],\n",
        "    'weekday':[\"Sun\",\"Sun\"],\n",
        "    'daytime':[\"evn\",\"evn\"]},\n",
        "     index=[\"Monica\",\"Oleg\"]))"
      ],
      "execution_count": 0,
      "outputs": []
    },
    {
      "cell_type": "code",
      "metadata": {
        "id": "hrM7ZOtz-f8J",
        "colab_type": "code",
        "outputId": "07a24754-088b-4914-a717-622bec6e20d4",
        "colab": {
          "base_uri": "https://localhost:8080/",
          "height": 254
        }
      },
      "source": [
        "purchases\n",
        "# теперь у нас есть Моника и Олег, а еще два раза Александр. \n",
        "# Мы хотим удалить лишние строки: Монику, Олега и один раз Александра."
      ],
      "execution_count": 0,
      "outputs": [
        {
          "output_type": "execute_result",
          "data": {
            "text/html": [
              "<div>\n",
              "<style scoped>\n",
              "    .dataframe tbody tr th:only-of-type {\n",
              "        vertical-align: middle;\n",
              "    }\n",
              "\n",
              "    .dataframe tbody tr th {\n",
              "        vertical-align: top;\n",
              "    }\n",
              "\n",
              "    .dataframe thead th {\n",
              "        text-align: right;\n",
              "    }\n",
              "</style>\n",
              "<table border=\"1\" class=\"dataframe\">\n",
              "  <thead>\n",
              "    <tr style=\"text-align: right;\">\n",
              "      <th></th>\n",
              "      <th>apples</th>\n",
              "      <th>oranges</th>\n",
              "      <th>weekday</th>\n",
              "      <th>daytime</th>\n",
              "    </tr>\n",
              "  </thead>\n",
              "  <tbody>\n",
              "    <tr>\n",
              "      <th>Jane</th>\n",
              "      <td>3</td>\n",
              "      <td>0</td>\n",
              "      <td>Mon</td>\n",
              "      <td>mor</td>\n",
              "    </tr>\n",
              "    <tr>\n",
              "      <th>Robert</th>\n",
              "      <td>2</td>\n",
              "      <td>3</td>\n",
              "      <td>Wed</td>\n",
              "      <td>evn</td>\n",
              "    </tr>\n",
              "    <tr>\n",
              "      <th>Lily</th>\n",
              "      <td>0</td>\n",
              "      <td>7</td>\n",
              "      <td>Thu</td>\n",
              "      <td>evn</td>\n",
              "    </tr>\n",
              "    <tr>\n",
              "      <th>David</th>\n",
              "      <td>1</td>\n",
              "      <td>2</td>\n",
              "      <td>Sat</td>\n",
              "      <td>evn</td>\n",
              "    </tr>\n",
              "    <tr>\n",
              "      <th>Alexander</th>\n",
              "      <td>3</td>\n",
              "      <td>4</td>\n",
              "      <td>Fri</td>\n",
              "      <td>mor</td>\n",
              "    </tr>\n",
              "    <tr>\n",
              "      <th>Monica</th>\n",
              "      <td>0</td>\n",
              "      <td>0</td>\n",
              "      <td>Sun</td>\n",
              "      <td>evn</td>\n",
              "    </tr>\n",
              "    <tr>\n",
              "      <th>Oleg</th>\n",
              "      <td>0</td>\n",
              "      <td>0</td>\n",
              "      <td>Sun</td>\n",
              "      <td>evn</td>\n",
              "    </tr>\n",
              "  </tbody>\n",
              "</table>\n",
              "</div>"
            ],
            "text/plain": [
              "          apples oranges weekday daytime\n",
              "Jane           3       0     Mon     mor\n",
              "Robert         2       3     Wed     evn\n",
              "Lily           0       7     Thu     evn\n",
              "David          1       2     Sat     evn\n",
              "Alexander      3       4     Fri     mor\n",
              "Monica         0       0     Sun     evn\n",
              "Oleg           0       0     Sun     evn"
            ]
          },
          "metadata": {
            "tags": []
          },
          "execution_count": 56
        }
      ]
    },
    {
      "cell_type": "code",
      "metadata": {
        "id": "9Wkme2a_-0mu",
        "colab_type": "code",
        "colab": {}
      },
      "source": [
        "# Удалим строки с покупками Моники и Олега\n",
        "purchases = purchases.drop([\"Monica\",\"Oleg\"])"
      ],
      "execution_count": 0,
      "outputs": []
    },
    {
      "cell_type": "code",
      "metadata": {
        "id": "WB8VMk5P6Kmy",
        "colab_type": "code",
        "colab": {}
      },
      "source": [
        "#убираем дупликаты\n",
        "purchases = purchases.drop_duplicates()"
      ],
      "execution_count": 0,
      "outputs": []
    },
    {
      "cell_type": "code",
      "metadata": {
        "id": "DviUjsLh_aAh",
        "colab_type": "code",
        "outputId": "fb3f8f5f-a162-47a2-a13d-0b8c21eb29be",
        "colab": {
          "base_uri": "https://localhost:8080/",
          "height": 195
        }
      },
      "source": [
        "# проверяем, что все хорошо: у нас больше нет ненужных строк и дубликатов\n",
        "purchases"
      ],
      "execution_count": 0,
      "outputs": [
        {
          "output_type": "execute_result",
          "data": {
            "text/html": [
              "<div>\n",
              "<style scoped>\n",
              "    .dataframe tbody tr th:only-of-type {\n",
              "        vertical-align: middle;\n",
              "    }\n",
              "\n",
              "    .dataframe tbody tr th {\n",
              "        vertical-align: top;\n",
              "    }\n",
              "\n",
              "    .dataframe thead th {\n",
              "        text-align: right;\n",
              "    }\n",
              "</style>\n",
              "<table border=\"1\" class=\"dataframe\">\n",
              "  <thead>\n",
              "    <tr style=\"text-align: right;\">\n",
              "      <th></th>\n",
              "      <th>apples</th>\n",
              "      <th>oranges</th>\n",
              "      <th>weekday</th>\n",
              "      <th>daytime</th>\n",
              "    </tr>\n",
              "  </thead>\n",
              "  <tbody>\n",
              "    <tr>\n",
              "      <th>Jane</th>\n",
              "      <td>3</td>\n",
              "      <td>0</td>\n",
              "      <td>Mon</td>\n",
              "      <td>mor</td>\n",
              "    </tr>\n",
              "    <tr>\n",
              "      <th>Robert</th>\n",
              "      <td>2</td>\n",
              "      <td>3</td>\n",
              "      <td>Wed</td>\n",
              "      <td>evn</td>\n",
              "    </tr>\n",
              "    <tr>\n",
              "      <th>Lily</th>\n",
              "      <td>0</td>\n",
              "      <td>7</td>\n",
              "      <td>Thu</td>\n",
              "      <td>evn</td>\n",
              "    </tr>\n",
              "    <tr>\n",
              "      <th>David</th>\n",
              "      <td>1</td>\n",
              "      <td>2</td>\n",
              "      <td>Sat</td>\n",
              "      <td>evn</td>\n",
              "    </tr>\n",
              "    <tr>\n",
              "      <th>Alexander</th>\n",
              "      <td>3</td>\n",
              "      <td>4</td>\n",
              "      <td>Fri</td>\n",
              "      <td>mor</td>\n",
              "    </tr>\n",
              "  </tbody>\n",
              "</table>\n",
              "</div>"
            ],
            "text/plain": [
              "          apples oranges weekday daytime\n",
              "Jane           3       0     Mon     mor\n",
              "Robert         2       3     Wed     evn\n",
              "Lily           0       7     Thu     evn\n",
              "David          1       2     Sat     evn\n",
              "Alexander      3       4     Fri     mor"
            ]
          },
          "metadata": {
            "tags": []
          },
          "execution_count": 59
        }
      ]
    },
    {
      "cell_type": "markdown",
      "metadata": {
        "id": "lhSO86cwq1ni",
        "colab_type": "text"
      },
      "source": [
        "### индексы\n",
        "Объект DataFrame имеет 2 индекса: по строкам и по столбцам."
      ]
    },
    {
      "cell_type": "code",
      "metadata": {
        "id": "brXnQmZ9q4Bo",
        "colab_type": "code",
        "outputId": "47c8b718-8f11-42ba-d1db-c57e3a1619eb",
        "colab": {
          "base_uri": "https://localhost:8080/",
          "height": 67
        }
      },
      "source": [
        "print('indices are:', purchases.index, \"\\n\")\n",
        "print('columns are:', purchases.columns)"
      ],
      "execution_count": 0,
      "outputs": [
        {
          "output_type": "stream",
          "text": [
            "indices are: Index(['Jane', 'Robert', 'Lily', 'David', 'Alexander'], dtype='object') \n",
            "\n",
            "columns are: Index(['apples', 'oranges', 'weekday', 'daytime'], dtype='object')\n"
          ],
          "name": "stdout"
        }
      ]
    },
    {
      "cell_type": "code",
      "metadata": {
        "id": "eIGCunCwro1O",
        "colab_type": "code",
        "outputId": "48de43dc-2d4b-47ec-d416-da3d6cad8f42",
        "colab": {
          "base_uri": "https://localhost:8080/",
          "height": 34
        }
      },
      "source": [
        "# пересечение индексов выдаст конкретную ячейку: ищем сколько яблок купил Роберт\n",
        "\n",
        "purchases.loc['Robert']['apples']\n"
      ],
      "execution_count": 0,
      "outputs": [
        {
          "output_type": "execute_result",
          "data": {
            "text/plain": [
              "2"
            ]
          },
          "metadata": {
            "tags": []
          },
          "execution_count": 61
        }
      ]
    },
    {
      "cell_type": "markdown",
      "metadata": {
        "id": "GxCciiSDtdu0",
        "colab_type": "text"
      },
      "source": [
        "**Доступ к строкам по индексу** можно делать несколькими способами:\n",
        "\n",
        "```.loc``` - используется для доступа по строке\n",
        "\n",
        "```.iloc``` - используется для доступа по числовому значению (начиная от 0)"
      ]
    },
    {
      "cell_type": "code",
      "metadata": {
        "id": "VU6qwcJktc37",
        "colab_type": "code",
        "outputId": "0f74852c-3340-4e28-bea8-11d7d836c8b9",
        "colab": {
          "base_uri": "https://localhost:8080/",
          "height": 101
        }
      },
      "source": [
        "purchases.loc['Jane'] # по названию индекса"
      ],
      "execution_count": 0,
      "outputs": [
        {
          "output_type": "execute_result",
          "data": {
            "text/plain": [
              "apples       3\n",
              "oranges      0\n",
              "weekday    Mon\n",
              "daytime    mor\n",
              "Name: Jane, dtype: object"
            ]
          },
          "metadata": {
            "tags": []
          },
          "execution_count": 62
        }
      ]
    },
    {
      "cell_type": "code",
      "metadata": {
        "id": "M56-coqmuR_s",
        "colab_type": "code",
        "outputId": "3a67a5e2-03a7-4314-a8a8-0b8ed522f08e",
        "colab": {
          "base_uri": "https://localhost:8080/",
          "height": 101
        }
      },
      "source": [
        "purchases.iloc[0] # по номеру строки (у первой строки нулевой индекс)\n",
        "\n",
        "# что покажет индекс -1 ? "
      ],
      "execution_count": 0,
      "outputs": [
        {
          "output_type": "execute_result",
          "data": {
            "text/plain": [
              "apples       3\n",
              "oranges      0\n",
              "weekday    Mon\n",
              "daytime    mor\n",
              "Name: Jane, dtype: object"
            ]
          },
          "metadata": {
            "tags": []
          },
          "execution_count": 63
        }
      ]
    },
    {
      "cell_type": "markdown",
      "metadata": {
        "id": "k2CDk4P4vHX1",
        "colab_type": "text"
      },
      "source": [
        "### характеристики датафрейма:"
      ]
    },
    {
      "cell_type": "code",
      "metadata": {
        "id": "JdqZWwligQB8",
        "colab_type": "code",
        "outputId": "20ce9fe4-9483-4706-8796-55bde062142e",
        "colab": {
          "base_uri": "https://localhost:8080/",
          "height": 34
        }
      },
      "source": [
        "purchases.shape"
      ],
      "execution_count": 0,
      "outputs": [
        {
          "output_type": "execute_result",
          "data": {
            "text/plain": [
              "(5, 4)"
            ]
          },
          "metadata": {
            "tags": []
          },
          "execution_count": 64
        }
      ]
    },
    {
      "cell_type": "code",
      "metadata": {
        "id": "hMwUjYOTfxTY",
        "colab_type": "code",
        "outputId": "261776da-167a-4482-bc1e-6bc34c531d1b",
        "colab": {
          "base_uri": "https://localhost:8080/",
          "height": 118
        }
      },
      "source": [
        "purchases.describe"
      ],
      "execution_count": 0,
      "outputs": [
        {
          "output_type": "execute_result",
          "data": {
            "text/plain": [
              "<bound method NDFrame.describe of           apples oranges weekday daytime\n",
              "Jane           3       0     Mon     mor\n",
              "Robert         2       3     Wed     evn\n",
              "Lily           0       7     Thu     evn\n",
              "David          1       2     Sat     evn\n",
              "Alexander      3       4     Fri     mor>"
            ]
          },
          "metadata": {
            "tags": []
          },
          "execution_count": 65
        }
      ]
    },
    {
      "cell_type": "code",
      "metadata": {
        "id": "I2NoHqkQlDmg",
        "colab_type": "code",
        "outputId": "76b74553-8219-421a-e125-563038325220",
        "colab": {
          "base_uri": "https://localhost:8080/",
          "height": 34
        }
      },
      "source": [
        "purchases.columns.values"
      ],
      "execution_count": 0,
      "outputs": [
        {
          "output_type": "execute_result",
          "data": {
            "text/plain": [
              "array(['apples', 'oranges', 'weekday', 'daytime'], dtype=object)"
            ]
          },
          "metadata": {
            "tags": []
          },
          "execution_count": 66
        }
      ]
    },
    {
      "cell_type": "markdown",
      "metadata": {
        "id": "ZDTCdrD6uhXl",
        "colab_type": "text"
      },
      "source": [
        "### Сохранение в файл и чтение из файла"
      ]
    },
    {
      "cell_type": "code",
      "metadata": {
        "id": "u-tvDza7T8ad",
        "colab_type": "code",
        "colab": {}
      },
      "source": [
        "# сохраним в .csv файл\n",
        "\n",
        "purchases.to_csv('purchases.csv')"
      ],
      "execution_count": 0,
      "outputs": []
    },
    {
      "cell_type": "code",
      "metadata": {
        "id": "1ngxJ2KtUeci",
        "colab_type": "code",
        "outputId": "94531b93-a775-42a0-88c7-5ed8e493f62b",
        "colab": {
          "base_uri": "https://localhost:8080/",
          "height": 195
        }
      },
      "source": [
        "# прочитаем файл\n",
        "\n",
        "df = pd.read_csv('purchases.csv')\n",
        "df"
      ],
      "execution_count": 0,
      "outputs": [
        {
          "output_type": "execute_result",
          "data": {
            "text/html": [
              "<div>\n",
              "<style scoped>\n",
              "    .dataframe tbody tr th:only-of-type {\n",
              "        vertical-align: middle;\n",
              "    }\n",
              "\n",
              "    .dataframe tbody tr th {\n",
              "        vertical-align: top;\n",
              "    }\n",
              "\n",
              "    .dataframe thead th {\n",
              "        text-align: right;\n",
              "    }\n",
              "</style>\n",
              "<table border=\"1\" class=\"dataframe\">\n",
              "  <thead>\n",
              "    <tr style=\"text-align: right;\">\n",
              "      <th></th>\n",
              "      <th>Unnamed: 0</th>\n",
              "      <th>apples</th>\n",
              "      <th>oranges</th>\n",
              "      <th>weekday</th>\n",
              "      <th>daytime</th>\n",
              "    </tr>\n",
              "  </thead>\n",
              "  <tbody>\n",
              "    <tr>\n",
              "      <th>0</th>\n",
              "      <td>Jane</td>\n",
              "      <td>3</td>\n",
              "      <td>0</td>\n",
              "      <td>Mon</td>\n",
              "      <td>mor</td>\n",
              "    </tr>\n",
              "    <tr>\n",
              "      <th>1</th>\n",
              "      <td>Robert</td>\n",
              "      <td>2</td>\n",
              "      <td>3</td>\n",
              "      <td>Wed</td>\n",
              "      <td>evn</td>\n",
              "    </tr>\n",
              "    <tr>\n",
              "      <th>2</th>\n",
              "      <td>Lily</td>\n",
              "      <td>0</td>\n",
              "      <td>7</td>\n",
              "      <td>Thu</td>\n",
              "      <td>evn</td>\n",
              "    </tr>\n",
              "    <tr>\n",
              "      <th>3</th>\n",
              "      <td>David</td>\n",
              "      <td>1</td>\n",
              "      <td>2</td>\n",
              "      <td>Sat</td>\n",
              "      <td>evn</td>\n",
              "    </tr>\n",
              "    <tr>\n",
              "      <th>4</th>\n",
              "      <td>Alexander</td>\n",
              "      <td>3</td>\n",
              "      <td>4</td>\n",
              "      <td>Fri</td>\n",
              "      <td>mor</td>\n",
              "    </tr>\n",
              "  </tbody>\n",
              "</table>\n",
              "</div>"
            ],
            "text/plain": [
              "  Unnamed: 0  apples  oranges weekday daytime\n",
              "0       Jane       3        0     Mon     mor\n",
              "1     Robert       2        3     Wed     evn\n",
              "2       Lily       0        7     Thu     evn\n",
              "3      David       1        2     Sat     evn\n",
              "4  Alexander       3        4     Fri     mor"
            ]
          },
          "metadata": {
            "tags": []
          },
          "execution_count": 176
        }
      ]
    },
    {
      "cell_type": "markdown",
      "metadata": {
        "id": "IgtDJfqPKYiu",
        "colab_type": "text"
      },
      "source": [
        "### фильтрация значений"
      ]
    },
    {
      "cell_type": "code",
      "metadata": {
        "id": "T9Z_y0mb8lR_",
        "colab_type": "code",
        "colab": {}
      },
      "source": [
        "df.columns = ['names','apples','oranges',\n",
        "                     'weekday','daytime']"
      ],
      "execution_count": 0,
      "outputs": []
    },
    {
      "cell_type": "code",
      "metadata": {
        "id": "IZas6n3v3KOH",
        "colab_type": "code",
        "outputId": "e4276eef-f417-4785-fa6a-24e99e84feac",
        "colab": {
          "base_uri": "https://localhost:8080/",
          "height": 106
        }
      },
      "source": [
        "df[df[\"apples\"] > 2] #фильтр на значение столбца"
      ],
      "execution_count": 0,
      "outputs": [
        {
          "output_type": "execute_result",
          "data": {
            "text/html": [
              "<div>\n",
              "<style scoped>\n",
              "    .dataframe tbody tr th:only-of-type {\n",
              "        vertical-align: middle;\n",
              "    }\n",
              "\n",
              "    .dataframe tbody tr th {\n",
              "        vertical-align: top;\n",
              "    }\n",
              "\n",
              "    .dataframe thead th {\n",
              "        text-align: right;\n",
              "    }\n",
              "</style>\n",
              "<table border=\"1\" class=\"dataframe\">\n",
              "  <thead>\n",
              "    <tr style=\"text-align: right;\">\n",
              "      <th></th>\n",
              "      <th>names</th>\n",
              "      <th>apples</th>\n",
              "      <th>oranges</th>\n",
              "      <th>weekday</th>\n",
              "      <th>daytime</th>\n",
              "    </tr>\n",
              "  </thead>\n",
              "  <tbody>\n",
              "    <tr>\n",
              "      <th>0</th>\n",
              "      <td>Jane</td>\n",
              "      <td>3</td>\n",
              "      <td>0</td>\n",
              "      <td>Mon</td>\n",
              "      <td>mor</td>\n",
              "    </tr>\n",
              "    <tr>\n",
              "      <th>4</th>\n",
              "      <td>Alexander</td>\n",
              "      <td>3</td>\n",
              "      <td>4</td>\n",
              "      <td>Fri</td>\n",
              "      <td>mor</td>\n",
              "    </tr>\n",
              "  </tbody>\n",
              "</table>\n",
              "</div>"
            ],
            "text/plain": [
              "       names  apples  oranges weekday daytime\n",
              "0       Jane       3        0     Mon     mor\n",
              "4  Alexander       3        4     Fri     mor"
            ]
          },
          "metadata": {
            "tags": []
          },
          "execution_count": 178
        }
      ]
    },
    {
      "cell_type": "code",
      "metadata": {
        "id": "zj9u8iag3Qc6",
        "colab_type": "code",
        "outputId": "c7f832c3-3aaf-4bd5-8b73-d8aee7a47b97",
        "colab": {
          "base_uri": "https://localhost:8080/",
          "height": 106
        }
      },
      "source": [
        "newdf = df[df[\"apples\"] > 2]\n",
        "newdf"
      ],
      "execution_count": 0,
      "outputs": [
        {
          "output_type": "execute_result",
          "data": {
            "text/html": [
              "<div>\n",
              "<style scoped>\n",
              "    .dataframe tbody tr th:only-of-type {\n",
              "        vertical-align: middle;\n",
              "    }\n",
              "\n",
              "    .dataframe tbody tr th {\n",
              "        vertical-align: top;\n",
              "    }\n",
              "\n",
              "    .dataframe thead th {\n",
              "        text-align: right;\n",
              "    }\n",
              "</style>\n",
              "<table border=\"1\" class=\"dataframe\">\n",
              "  <thead>\n",
              "    <tr style=\"text-align: right;\">\n",
              "      <th></th>\n",
              "      <th>names</th>\n",
              "      <th>apples</th>\n",
              "      <th>oranges</th>\n",
              "      <th>weekday</th>\n",
              "      <th>daytime</th>\n",
              "    </tr>\n",
              "  </thead>\n",
              "  <tbody>\n",
              "    <tr>\n",
              "      <th>0</th>\n",
              "      <td>Jane</td>\n",
              "      <td>3</td>\n",
              "      <td>0</td>\n",
              "      <td>Mon</td>\n",
              "      <td>mor</td>\n",
              "    </tr>\n",
              "    <tr>\n",
              "      <th>4</th>\n",
              "      <td>Alexander</td>\n",
              "      <td>3</td>\n",
              "      <td>4</td>\n",
              "      <td>Fri</td>\n",
              "      <td>mor</td>\n",
              "    </tr>\n",
              "  </tbody>\n",
              "</table>\n",
              "</div>"
            ],
            "text/plain": [
              "       names  apples  oranges weekday daytime\n",
              "0       Jane       3        0     Mon     mor\n",
              "4  Alexander       3        4     Fri     mor"
            ]
          },
          "metadata": {
            "tags": []
          },
          "execution_count": 179
        }
      ]
    },
    {
      "cell_type": "code",
      "metadata": {
        "id": "hGKBGJL13r_K",
        "colab_type": "code",
        "outputId": "ea05a1cf-4bde-4ae1-d5aa-8cfdc239dd19",
        "colab": {
          "base_uri": "https://localhost:8080/",
          "height": 136
        }
      },
      "source": [
        "df[(df[\"apples\"] > 0) & (df[\"oranges\"] > 0)] \n",
        "# & == \"and\", | == \"or\" \n",
        "# full answer:https://stackoverflow.com/questions/36921951/truth-value-of-a-series-is-ambiguous-use-a-empty-a-bool-a-item-a-any-o"
      ],
      "execution_count": 0,
      "outputs": [
        {
          "output_type": "execute_result",
          "data": {
            "text/html": [
              "<div>\n",
              "<style scoped>\n",
              "    .dataframe tbody tr th:only-of-type {\n",
              "        vertical-align: middle;\n",
              "    }\n",
              "\n",
              "    .dataframe tbody tr th {\n",
              "        vertical-align: top;\n",
              "    }\n",
              "\n",
              "    .dataframe thead th {\n",
              "        text-align: right;\n",
              "    }\n",
              "</style>\n",
              "<table border=\"1\" class=\"dataframe\">\n",
              "  <thead>\n",
              "    <tr style=\"text-align: right;\">\n",
              "      <th></th>\n",
              "      <th>names</th>\n",
              "      <th>apples</th>\n",
              "      <th>oranges</th>\n",
              "      <th>weekday</th>\n",
              "      <th>daytime</th>\n",
              "    </tr>\n",
              "  </thead>\n",
              "  <tbody>\n",
              "    <tr>\n",
              "      <th>1</th>\n",
              "      <td>Robert</td>\n",
              "      <td>2</td>\n",
              "      <td>3</td>\n",
              "      <td>Wed</td>\n",
              "      <td>evn</td>\n",
              "    </tr>\n",
              "    <tr>\n",
              "      <th>3</th>\n",
              "      <td>David</td>\n",
              "      <td>1</td>\n",
              "      <td>2</td>\n",
              "      <td>Sat</td>\n",
              "      <td>evn</td>\n",
              "    </tr>\n",
              "    <tr>\n",
              "      <th>4</th>\n",
              "      <td>Alexander</td>\n",
              "      <td>3</td>\n",
              "      <td>4</td>\n",
              "      <td>Fri</td>\n",
              "      <td>mor</td>\n",
              "    </tr>\n",
              "  </tbody>\n",
              "</table>\n",
              "</div>"
            ],
            "text/plain": [
              "       names  apples  oranges weekday daytime\n",
              "1     Robert       2        3     Wed     evn\n",
              "3      David       1        2     Sat     evn\n",
              "4  Alexander       3        4     Fri     mor"
            ]
          },
          "metadata": {
            "tags": []
          },
          "execution_count": 180
        }
      ]
    },
    {
      "cell_type": "code",
      "metadata": {
        "id": "BGTLbGLn31B-",
        "colab_type": "code",
        "colab": {}
      },
      "source": [
        "df[\"fruits\"] = df[\"apples\"] + df[\"oranges\"]"
      ],
      "execution_count": 0,
      "outputs": []
    },
    {
      "cell_type": "code",
      "metadata": {
        "id": "EeqGhpdm4cVL",
        "colab_type": "code",
        "outputId": "f6affe41-10e8-4d3e-f04c-aae2322a1a0b",
        "colab": {
          "base_uri": "https://localhost:8080/",
          "height": 195
        }
      },
      "source": [
        "df"
      ],
      "execution_count": 0,
      "outputs": [
        {
          "output_type": "execute_result",
          "data": {
            "text/html": [
              "<div>\n",
              "<style scoped>\n",
              "    .dataframe tbody tr th:only-of-type {\n",
              "        vertical-align: middle;\n",
              "    }\n",
              "\n",
              "    .dataframe tbody tr th {\n",
              "        vertical-align: top;\n",
              "    }\n",
              "\n",
              "    .dataframe thead th {\n",
              "        text-align: right;\n",
              "    }\n",
              "</style>\n",
              "<table border=\"1\" class=\"dataframe\">\n",
              "  <thead>\n",
              "    <tr style=\"text-align: right;\">\n",
              "      <th></th>\n",
              "      <th>names</th>\n",
              "      <th>apples</th>\n",
              "      <th>oranges</th>\n",
              "      <th>weekday</th>\n",
              "      <th>daytime</th>\n",
              "      <th>fruits</th>\n",
              "    </tr>\n",
              "  </thead>\n",
              "  <tbody>\n",
              "    <tr>\n",
              "      <th>0</th>\n",
              "      <td>Jane</td>\n",
              "      <td>3</td>\n",
              "      <td>0</td>\n",
              "      <td>Mon</td>\n",
              "      <td>mor</td>\n",
              "      <td>3</td>\n",
              "    </tr>\n",
              "    <tr>\n",
              "      <th>1</th>\n",
              "      <td>Robert</td>\n",
              "      <td>2</td>\n",
              "      <td>3</td>\n",
              "      <td>Wed</td>\n",
              "      <td>evn</td>\n",
              "      <td>5</td>\n",
              "    </tr>\n",
              "    <tr>\n",
              "      <th>2</th>\n",
              "      <td>Lily</td>\n",
              "      <td>0</td>\n",
              "      <td>7</td>\n",
              "      <td>Thu</td>\n",
              "      <td>evn</td>\n",
              "      <td>7</td>\n",
              "    </tr>\n",
              "    <tr>\n",
              "      <th>3</th>\n",
              "      <td>David</td>\n",
              "      <td>1</td>\n",
              "      <td>2</td>\n",
              "      <td>Sat</td>\n",
              "      <td>evn</td>\n",
              "      <td>3</td>\n",
              "    </tr>\n",
              "    <tr>\n",
              "      <th>4</th>\n",
              "      <td>Alexander</td>\n",
              "      <td>3</td>\n",
              "      <td>4</td>\n",
              "      <td>Fri</td>\n",
              "      <td>mor</td>\n",
              "      <td>7</td>\n",
              "    </tr>\n",
              "  </tbody>\n",
              "</table>\n",
              "</div>"
            ],
            "text/plain": [
              "       names  apples  oranges weekday daytime  fruits\n",
              "0       Jane       3        0     Mon     mor       3\n",
              "1     Robert       2        3     Wed     evn       5\n",
              "2       Lily       0        7     Thu     evn       7\n",
              "3      David       1        2     Sat     evn       3\n",
              "4  Alexander       3        4     Fri     mor       7"
            ]
          },
          "metadata": {
            "tags": []
          },
          "execution_count": 182
        }
      ]
    },
    {
      "cell_type": "code",
      "metadata": {
        "id": "pqvjgc9-4c5G",
        "colab_type": "code",
        "outputId": "2d94487f-67a1-412f-80ad-e28d8662bc78",
        "colab": {
          "base_uri": "https://localhost:8080/",
          "height": 34
        }
      },
      "source": [
        "print(\"apples:\", df[\"apples\"].sum(), \"oranges:\", df[\"oranges\"].sum())"
      ],
      "execution_count": 0,
      "outputs": [
        {
          "output_type": "stream",
          "text": [
            "apples: 9 oranges: 16\n"
          ],
          "name": "stdout"
        }
      ]
    },
    {
      "cell_type": "code",
      "metadata": {
        "id": "sD2jyopy4tNT",
        "colab_type": "code",
        "outputId": "ef2992da-9557-4036-adfc-615749066ef0",
        "colab": {
          "base_uri": "https://localhost:8080/",
          "height": 106
        }
      },
      "source": [
        "df[df[\"weekday\"].str.match(r\"(M|W)\")]"
      ],
      "execution_count": 0,
      "outputs": [
        {
          "output_type": "execute_result",
          "data": {
            "text/html": [
              "<div>\n",
              "<style scoped>\n",
              "    .dataframe tbody tr th:only-of-type {\n",
              "        vertical-align: middle;\n",
              "    }\n",
              "\n",
              "    .dataframe tbody tr th {\n",
              "        vertical-align: top;\n",
              "    }\n",
              "\n",
              "    .dataframe thead th {\n",
              "        text-align: right;\n",
              "    }\n",
              "</style>\n",
              "<table border=\"1\" class=\"dataframe\">\n",
              "  <thead>\n",
              "    <tr style=\"text-align: right;\">\n",
              "      <th></th>\n",
              "      <th>names</th>\n",
              "      <th>apples</th>\n",
              "      <th>oranges</th>\n",
              "      <th>weekday</th>\n",
              "      <th>daytime</th>\n",
              "      <th>fruits</th>\n",
              "    </tr>\n",
              "  </thead>\n",
              "  <tbody>\n",
              "    <tr>\n",
              "      <th>0</th>\n",
              "      <td>Jane</td>\n",
              "      <td>3</td>\n",
              "      <td>0</td>\n",
              "      <td>Mon</td>\n",
              "      <td>mor</td>\n",
              "      <td>3</td>\n",
              "    </tr>\n",
              "    <tr>\n",
              "      <th>1</th>\n",
              "      <td>Robert</td>\n",
              "      <td>2</td>\n",
              "      <td>3</td>\n",
              "      <td>Wed</td>\n",
              "      <td>evn</td>\n",
              "      <td>5</td>\n",
              "    </tr>\n",
              "  </tbody>\n",
              "</table>\n",
              "</div>"
            ],
            "text/plain": [
              "    names  apples  oranges weekday daytime  fruits\n",
              "0    Jane       3        0     Mon     mor       3\n",
              "1  Robert       2        3     Wed     evn       5"
            ]
          },
          "metadata": {
            "tags": []
          },
          "execution_count": 184
        }
      ]
    },
    {
      "cell_type": "code",
      "metadata": {
        "id": "vAXbwlhM5o51",
        "colab_type": "code",
        "outputId": "f77df1ca-90dd-44a6-c8ca-5a301f2eaae3",
        "colab": {
          "base_uri": "https://localhost:8080/",
          "height": 136
        }
      },
      "source": [
        "newdf = df.loc[0:2, [\"apples\", \"oranges\"]]\n",
        "newdf"
      ],
      "execution_count": 0,
      "outputs": [
        {
          "output_type": "execute_result",
          "data": {
            "text/html": [
              "<div>\n",
              "<style scoped>\n",
              "    .dataframe tbody tr th:only-of-type {\n",
              "        vertical-align: middle;\n",
              "    }\n",
              "\n",
              "    .dataframe tbody tr th {\n",
              "        vertical-align: top;\n",
              "    }\n",
              "\n",
              "    .dataframe thead th {\n",
              "        text-align: right;\n",
              "    }\n",
              "</style>\n",
              "<table border=\"1\" class=\"dataframe\">\n",
              "  <thead>\n",
              "    <tr style=\"text-align: right;\">\n",
              "      <th></th>\n",
              "      <th>apples</th>\n",
              "      <th>oranges</th>\n",
              "    </tr>\n",
              "  </thead>\n",
              "  <tbody>\n",
              "    <tr>\n",
              "      <th>0</th>\n",
              "      <td>3</td>\n",
              "      <td>0</td>\n",
              "    </tr>\n",
              "    <tr>\n",
              "      <th>1</th>\n",
              "      <td>2</td>\n",
              "      <td>3</td>\n",
              "    </tr>\n",
              "    <tr>\n",
              "      <th>2</th>\n",
              "      <td>0</td>\n",
              "      <td>7</td>\n",
              "    </tr>\n",
              "  </tbody>\n",
              "</table>\n",
              "</div>"
            ],
            "text/plain": [
              "   apples  oranges\n",
              "0       3        0\n",
              "1       2        3\n",
              "2       0        7"
            ]
          },
          "metadata": {
            "tags": []
          },
          "execution_count": 185
        }
      ]
    },
    {
      "cell_type": "markdown",
      "metadata": {
        "id": "sTcd4PvP9_B4",
        "colab_type": "text"
      },
      "source": [
        "### ДЗ!!!!"
      ]
    },
    {
      "cell_type": "code",
      "metadata": {
        "id": "_Wk6pwXh714y",
        "colab_type": "code",
        "colab": {}
      },
      "source": [
        "df = pd.read_csv('DZ1811.csv', encoding=\"utf-8\", sep=\";\")"
      ],
      "execution_count": 0,
      "outputs": []
    },
    {
      "cell_type": "code",
      "metadata": {
        "id": "2Wxh31H_-UMr",
        "colab_type": "code",
        "outputId": "c5c1e79c-2a9e-4d3a-83f7-b9eb1399d12d",
        "colab": {
          "base_uri": "https://localhost:8080/",
          "height": 724
        }
      },
      "source": [
        "df"
      ],
      "execution_count": 0,
      "outputs": [
        {
          "output_type": "execute_result",
          "data": {
            "text/html": [
              "<div>\n",
              "<style scoped>\n",
              "    .dataframe tbody tr th:only-of-type {\n",
              "        vertical-align: middle;\n",
              "    }\n",
              "\n",
              "    .dataframe tbody tr th {\n",
              "        vertical-align: top;\n",
              "    }\n",
              "\n",
              "    .dataframe thead th {\n",
              "        text-align: right;\n",
              "    }\n",
              "</style>\n",
              "<table border=\"1\" class=\"dataframe\">\n",
              "  <thead>\n",
              "    <tr style=\"text-align: right;\">\n",
              "      <th></th>\n",
              "      <th>Column1</th>\n",
              "      <th>listing.city</th>\n",
              "      <th>listing.neighborhood</th>\n",
              "      <th>p3_summary_title</th>\n",
              "      <th>description_locale</th>\n",
              "      <th>listing.extra_host_languages</th>\n",
              "      <th>listing.star_rating</th>\n",
              "    </tr>\n",
              "  </thead>\n",
              "  <tbody>\n",
              "    <tr>\n",
              "      <th>0</th>\n",
              "      <td>0.0</td>\n",
              "      <td>barcelona</td>\n",
              "      <td>El Besòs i el Maresme</td>\n",
              "      <td>Double Private room with breakfast near the beach</td>\n",
              "      <td>en</td>\n",
              "      <td>['en']</td>\n",
              "      <td>45.0</td>\n",
              "    </tr>\n",
              "    <tr>\n",
              "      <th>1</th>\n",
              "      <td>1.0</td>\n",
              "      <td>barcelona</td>\n",
              "      <td>Sants-Montjuïc</td>\n",
              "      <td>ROOM CENTRAL, IDEAL for CITY VISITORS</td>\n",
              "      <td>en</td>\n",
              "      <td>['en']</td>\n",
              "      <td>50.0</td>\n",
              "    </tr>\n",
              "    <tr>\n",
              "      <th>2</th>\n",
              "      <td>2.0</td>\n",
              "      <td>barcelona</td>\n",
              "      <td>Ciutat Vella</td>\n",
              "      <td>room in downtown!!</td>\n",
              "      <td>en</td>\n",
              "      <td>['en']</td>\n",
              "      <td>45.0</td>\n",
              "    </tr>\n",
              "    <tr>\n",
              "      <th>3</th>\n",
              "      <td>3.0</td>\n",
              "      <td>barcelona</td>\n",
              "      <td>Eixample</td>\n",
              "      <td>Little single room to rest in BCN</td>\n",
              "      <td>en</td>\n",
              "      <td>['it']</td>\n",
              "      <td>45.0</td>\n",
              "    </tr>\n",
              "    <tr>\n",
              "      <th>4</th>\n",
              "      <td>4.0</td>\n",
              "      <td>barcelona</td>\n",
              "      <td>La Nova Esquerra de l'Eixample</td>\n",
              "      <td>Habitación doble con balcón ideal para parejas</td>\n",
              "      <td>es</td>\n",
              "      <td>[]</td>\n",
              "      <td>45.0</td>\n",
              "    </tr>\n",
              "    <tr>\n",
              "      <th>...</th>\n",
              "      <td>...</td>\n",
              "      <td>...</td>\n",
              "      <td>...</td>\n",
              "      <td>...</td>\n",
              "      <td>...</td>\n",
              "      <td>...</td>\n",
              "      <td>...</td>\n",
              "    </tr>\n",
              "    <tr>\n",
              "      <th>3934</th>\n",
              "      <td>3930.0</td>\n",
              "      <td>rome</td>\n",
              "      <td>Roma Centro</td>\n",
              "      <td>Augustus - Elegant 2 Bedroom Apartment in Cent...</td>\n",
              "      <td>en</td>\n",
              "      <td>[]</td>\n",
              "      <td>NaN</td>\n",
              "    </tr>\n",
              "    <tr>\n",
              "      <th>3935</th>\n",
              "      <td>3931.0</td>\n",
              "      <td>rome</td>\n",
              "      <td>Trastevere</td>\n",
              "      <td>Your Mansion In Rome Villa Sospisio</td>\n",
              "      <td>it</td>\n",
              "      <td>['de', 'en', 'fr']</td>\n",
              "      <td>NaN</td>\n",
              "    </tr>\n",
              "    <tr>\n",
              "      <th>3936</th>\n",
              "      <td>3932.0</td>\n",
              "      <td>rome</td>\n",
              "      <td>Ponte</td>\n",
              "      <td>Via Giulia by ONEFINESTAY</td>\n",
              "      <td>en</td>\n",
              "      <td>['en', 'es', 'fr', 'pt']</td>\n",
              "      <td>NaN</td>\n",
              "    </tr>\n",
              "    <tr>\n",
              "      <th>3937</th>\n",
              "      <td>3933.0</td>\n",
              "      <td>rome</td>\n",
              "      <td>Roma Centro</td>\n",
              "      <td>Spanish Steps square Lux property</td>\n",
              "      <td>en</td>\n",
              "      <td>[]</td>\n",
              "      <td>50.0</td>\n",
              "    </tr>\n",
              "    <tr>\n",
              "      <th>3938</th>\n",
              "      <td>3934.0</td>\n",
              "      <td>rome</td>\n",
              "      <td>NaN</td>\n",
              "      <td>ROME VILLA SWIMMING POOL GARDEN 8KM TO CITY CE...</td>\n",
              "      <td>en</td>\n",
              "      <td>['de', 'en', 'es', 'fr']</td>\n",
              "      <td>NaN</td>\n",
              "    </tr>\n",
              "  </tbody>\n",
              "</table>\n",
              "<p>3939 rows × 7 columns</p>\n",
              "</div>"
            ],
            "text/plain": [
              "      Column1 listing.city  ... listing.extra_host_languages listing.star_rating\n",
              "0         0.0    barcelona  ...                       ['en']                45.0\n",
              "1         1.0    barcelona  ...                       ['en']                50.0\n",
              "2         2.0    barcelona  ...                       ['en']                45.0\n",
              "3         3.0    barcelona  ...                       ['it']                45.0\n",
              "4         4.0    barcelona  ...                           []                45.0\n",
              "...       ...          ...  ...                          ...                 ...\n",
              "3934   3930.0         rome  ...                           []                 NaN\n",
              "3935   3931.0         rome  ...           ['de', 'en', 'fr']                 NaN\n",
              "3936   3932.0         rome  ...     ['en', 'es', 'fr', 'pt']                 NaN\n",
              "3937   3933.0         rome  ...                           []                50.0\n",
              "3938   3934.0         rome  ...     ['de', 'en', 'es', 'fr']                 NaN\n",
              "\n",
              "[3939 rows x 7 columns]"
            ]
          },
          "metadata": {
            "tags": []
          },
          "execution_count": 217
        }
      ]
    },
    {
      "cell_type": "code",
      "metadata": {
        "id": "CInwjgGn_HuA",
        "colab_type": "code",
        "outputId": "89d4083f-4620-4940-e8c4-d2e80daa7120",
        "colab": {
          "base_uri": "https://localhost:8080/",
          "height": 657
        }
      },
      "source": [
        "df.dropna()"
      ],
      "execution_count": 0,
      "outputs": [
        {
          "output_type": "execute_result",
          "data": {
            "text/html": [
              "<div>\n",
              "<style scoped>\n",
              "    .dataframe tbody tr th:only-of-type {\n",
              "        vertical-align: middle;\n",
              "    }\n",
              "\n",
              "    .dataframe tbody tr th {\n",
              "        vertical-align: top;\n",
              "    }\n",
              "\n",
              "    .dataframe thead th {\n",
              "        text-align: right;\n",
              "    }\n",
              "</style>\n",
              "<table border=\"1\" class=\"dataframe\">\n",
              "  <thead>\n",
              "    <tr style=\"text-align: right;\">\n",
              "      <th></th>\n",
              "      <th>Column1</th>\n",
              "      <th>listing.city</th>\n",
              "      <th>listing.neighborhood</th>\n",
              "      <th>p3_summary_title</th>\n",
              "      <th>description_locale</th>\n",
              "      <th>listing.extra_host_languages</th>\n",
              "      <th>listing.star_rating</th>\n",
              "    </tr>\n",
              "  </thead>\n",
              "  <tbody>\n",
              "    <tr>\n",
              "      <th>0</th>\n",
              "      <td>0.0</td>\n",
              "      <td>barcelona</td>\n",
              "      <td>El Besòs i el Maresme</td>\n",
              "      <td>Double Private room with breakfast near the beach</td>\n",
              "      <td>en</td>\n",
              "      <td>['en']</td>\n",
              "      <td>45.0</td>\n",
              "    </tr>\n",
              "    <tr>\n",
              "      <th>1</th>\n",
              "      <td>1.0</td>\n",
              "      <td>barcelona</td>\n",
              "      <td>Sants-Montjuïc</td>\n",
              "      <td>ROOM CENTRAL, IDEAL for CITY VISITORS</td>\n",
              "      <td>en</td>\n",
              "      <td>['en']</td>\n",
              "      <td>50.0</td>\n",
              "    </tr>\n",
              "    <tr>\n",
              "      <th>2</th>\n",
              "      <td>2.0</td>\n",
              "      <td>barcelona</td>\n",
              "      <td>Ciutat Vella</td>\n",
              "      <td>room in downtown!!</td>\n",
              "      <td>en</td>\n",
              "      <td>['en']</td>\n",
              "      <td>45.0</td>\n",
              "    </tr>\n",
              "    <tr>\n",
              "      <th>3</th>\n",
              "      <td>3.0</td>\n",
              "      <td>barcelona</td>\n",
              "      <td>Eixample</td>\n",
              "      <td>Little single room to rest in BCN</td>\n",
              "      <td>en</td>\n",
              "      <td>['it']</td>\n",
              "      <td>45.0</td>\n",
              "    </tr>\n",
              "    <tr>\n",
              "      <th>4</th>\n",
              "      <td>4.0</td>\n",
              "      <td>barcelona</td>\n",
              "      <td>La Nova Esquerra de l'Eixample</td>\n",
              "      <td>Habitación doble con balcón ideal para parejas</td>\n",
              "      <td>es</td>\n",
              "      <td>[]</td>\n",
              "      <td>45.0</td>\n",
              "    </tr>\n",
              "    <tr>\n",
              "      <th>...</th>\n",
              "      <td>...</td>\n",
              "      <td>...</td>\n",
              "      <td>...</td>\n",
              "      <td>...</td>\n",
              "      <td>...</td>\n",
              "      <td>...</td>\n",
              "      <td>...</td>\n",
              "    </tr>\n",
              "    <tr>\n",
              "      <th>3912</th>\n",
              "      <td>3908.0</td>\n",
              "      <td>rome</td>\n",
              "      <td>Trastevere</td>\n",
              "      <td>Raffinato B&amp;B Roma centro</td>\n",
              "      <td>it</td>\n",
              "      <td>[]</td>\n",
              "      <td>50.0</td>\n",
              "    </tr>\n",
              "    <tr>\n",
              "      <th>3913</th>\n",
              "      <td>3909.0</td>\n",
              "      <td>rome</td>\n",
              "      <td>Roma Centro</td>\n",
              "      <td>Old Rome 4BR 3BA panoramic terrace</td>\n",
              "      <td>en</td>\n",
              "      <td>['en', 'es', 'fr', 'he', 'ar']</td>\n",
              "      <td>50.0</td>\n",
              "    </tr>\n",
              "    <tr>\n",
              "      <th>3915</th>\n",
              "      <td>3911.0</td>\n",
              "      <td>rome</td>\n",
              "      <td>Aurelio</td>\n",
              "      <td>Your holiday next to St. Peter</td>\n",
              "      <td>en</td>\n",
              "      <td>['en', 'fr']</td>\n",
              "      <td>45.0</td>\n",
              "    </tr>\n",
              "    <tr>\n",
              "      <th>3922</th>\n",
              "      <td>3918.0</td>\n",
              "      <td>rome</td>\n",
              "      <td>Roma Centro</td>\n",
              "      <td>Assunta Domus - Elegant Suite</td>\n",
              "      <td>en</td>\n",
              "      <td>[]</td>\n",
              "      <td>45.0</td>\n",
              "    </tr>\n",
              "    <tr>\n",
              "      <th>3937</th>\n",
              "      <td>3933.0</td>\n",
              "      <td>rome</td>\n",
              "      <td>Roma Centro</td>\n",
              "      <td>Spanish Steps square Lux property</td>\n",
              "      <td>en</td>\n",
              "      <td>[]</td>\n",
              "      <td>50.0</td>\n",
              "    </tr>\n",
              "  </tbody>\n",
              "</table>\n",
              "<p>3100 rows × 7 columns</p>\n",
              "</div>"
            ],
            "text/plain": [
              "      Column1 listing.city  ...    listing.extra_host_languages listing.star_rating\n",
              "0         0.0    barcelona  ...                          ['en']                45.0\n",
              "1         1.0    barcelona  ...                          ['en']                50.0\n",
              "2         2.0    barcelona  ...                          ['en']                45.0\n",
              "3         3.0    barcelona  ...                          ['it']                45.0\n",
              "4         4.0    barcelona  ...                              []                45.0\n",
              "...       ...          ...  ...                             ...                 ...\n",
              "3912   3908.0         rome  ...                              []                50.0\n",
              "3913   3909.0         rome  ...  ['en', 'es', 'fr', 'he', 'ar']                50.0\n",
              "3915   3911.0         rome  ...                    ['en', 'fr']                45.0\n",
              "3922   3918.0         rome  ...                              []                45.0\n",
              "3937   3933.0         rome  ...                              []                50.0\n",
              "\n",
              "[3100 rows x 7 columns]"
            ]
          },
          "metadata": {
            "tags": []
          },
          "execution_count": 218
        }
      ]
    },
    {
      "cell_type": "markdown",
      "metadata": {
        "id": "6tNlQH7UA5D3",
        "colab_type": "text"
      },
      "source": [
        "### HOW TO EXTRACT TEXT FROM COLUMNS?"
      ]
    },
    {
      "cell_type": "code",
      "metadata": {
        "id": "HzcPj-VuATwj",
        "colab_type": "code",
        "outputId": "5fcdd972-3ec1-4ea2-b538-6521260407e6",
        "colab": {
          "base_uri": "https://localhost:8080/",
          "height": 218
        }
      },
      "source": [
        "df[\"p3_summary_title\"] #this is a pandas series"
      ],
      "execution_count": 0,
      "outputs": [
        {
          "output_type": "execute_result",
          "data": {
            "text/plain": [
              "0       Double Private room with breakfast near the beach\n",
              "1                   ROOM CENTRAL, IDEAL for CITY VISITORS\n",
              "2                                      room in downtown!!\n",
              "3                       Little single room to rest in BCN\n",
              "4          Habitación doble con balcón ideal para parejas\n",
              "                              ...                        \n",
              "3934    Augustus - Elegant 2 Bedroom Apartment in Cent...\n",
              "3935                  Your Mansion In Rome Villa Sospisio\n",
              "3936                            Via Giulia by ONEFINESTAY\n",
              "3937                    Spanish Steps square Lux property\n",
              "3938    ROME VILLA SWIMMING POOL GARDEN 8KM TO CITY CE...\n",
              "Name: p3_summary_title, Length: 3939, dtype: object"
            ]
          },
          "metadata": {
            "tags": []
          },
          "execution_count": 225
        }
      ]
    },
    {
      "cell_type": "code",
      "metadata": {
        "id": "Qa4-GgDZAcr2",
        "colab_type": "code",
        "outputId": "0153293c-fe8e-412a-9fa0-646c3175f035",
        "colab": {
          "base_uri": "https://localhost:8080/",
          "height": 84
        }
      },
      "source": [
        "df[\"p3_summary_title\"].values #this is a numpy array"
      ],
      "execution_count": 0,
      "outputs": [
        {
          "output_type": "execute_result",
          "data": {
            "text/plain": [
              "array(['Double Private room with breakfast near the beach',\n",
              "       'ROOM CENTRAL, IDEAL for CITY VISITORS', 'room in downtown!!', ...,\n",
              "       'Via Giulia by ONEFINESTAY', 'Spanish Steps square Lux property',\n",
              "       'ROME VILLA SWIMMING POOL GARDEN 8KM TO CITY CENTRE'], dtype=object)"
            ]
          },
          "metadata": {
            "tags": []
          },
          "execution_count": 226
        }
      ]
    },
    {
      "cell_type": "code",
      "metadata": {
        "id": "6KB9H7SUApz7",
        "colab_type": "code",
        "outputId": "5dc105ac-c4bb-42b9-8f6e-341654178e24",
        "colab": {
          "base_uri": "https://localhost:8080/",
          "height": 1000
        }
      },
      "source": [
        "list(df[\"p3_summary_title\"].values) #this is a python list"
      ],
      "execution_count": 0,
      "outputs": [
        {
          "output_type": "execute_result",
          "data": {
            "text/plain": [
              "['Double Private room with breakfast near the beach',\n",
              " 'ROOM CENTRAL, IDEAL for CITY VISITORS',\n",
              " 'room in downtown!!',\n",
              " 'Little single room to rest in BCN',\n",
              " 'Habitación doble con balcón ideal para parejas',\n",
              " 'Habitación para una persona 日租房',\n",
              " 'Amazing quiet Double room',\n",
              " \"Backpacker's Room in SAGRADA FAMILIA\",\n",
              " 'Private room in a perfect location/breakfast free1',\n",
              " 'Cozy room at the city center',\n",
              " 'Habitacion privada cerca de playa y metro.',\n",
              " 'Nice cheap and centric room',\n",
              " 'Double room gracia IIffzźzss',\n",
              " 'Rest as at home! Bcn...',\n",
              " 'Small single Room+WiFi+CENTRE',\n",
              " 'Soleada Habit. exterior terraza, en el centro BCN',\n",
              " 'Single bedroom',\n",
              " 'Double big and sunny \"blue\" room',\n",
              " 'cozy and sunny single room',\n",
              " \"Habitación en L'Eixample Esquerra\",\n",
              " 'Loft barato en centro **wifi i fira',\n",
              " 'Small room in hearth of Born',\n",
              " 'Llave particular.En Gran Via Glorias y Torre Agbar',\n",
              " 'Excelente y céntrica Room/terraza single/doble',\n",
              " 'Alquiler habitaciòn individual.B',\n",
              " 'Habitación cerca de Sants Estaciò',\n",
              " 'A PERFECT ROOM FOR RENT CENTER BCN',\n",
              " 'MAGNIFICENT DOUBLE ROOM IN SANTS',\n",
              " 'Pleasant room, Plaza España.',\n",
              " 'Habitación cerca a Sagrada Familia',\n",
              " 'Quiet & bright room in lively area',\n",
              " 'Single room with sunny balcony and desk.',\n",
              " 'Económico y muy Céntrico',\n",
              " 'Shared apartment in downtown Barcelona.',\n",
              " 'Room in the ❤️ of Barcelona',\n",
              " 'AN ADVENTURE IN BARCELONA 2',\n",
              " 'Oferta 19€ !!Camp Nou ^_^日借家',\n",
              " 'Easy going, Simple, Room for One in El Born',\n",
              " 'Central and beautiful doble room in Eixample',\n",
              " '1 Room INDIVIDUAL in Barcelona',\n",
              " 'BIG ROOM IN THE CENTRE OF BARCELONA',\n",
              " 'Glorias y Pueblo Nuevo. Con llave particular.',\n",
              " 'Nice & cozy private double room',\n",
              " 'Plz REAL (Square)10  /R3. PENTHOUSE',\n",
              " 'A well-lit bedroom with charm',\n",
              " 'Barcelona close to Sagrada Familia',\n",
              " 'Centric Apartment in Barcelona',\n",
              " 'ROOM with SUNSHINE AND BALCONY',\n",
              " 'SUNNY ROOM WITH BALCONY',\n",
              " 'Loft/Estudio',\n",
              " 'Central Room + Private Bathroom!',\n",
              " 'Comfort - Double Balcony',\n",
              " 'Room in amazing flat Born-Centre',\n",
              " 'Single room for woman in front Sagrada Familia',\n",
              " 'superb location bcn',\n",
              " '1. Downtown Barcelona double room',\n",
              " 'Single Room+Balcony BCN Center (only 1 guest).',\n",
              " 'Beautiful room in Universitatcenter',\n",
              " 'Private Double Room in BCN Centre!!',\n",
              " 'Comfortable private  bedroom in center of BCN!',\n",
              " 'Barcelona Beach House 1',\n",
              " 'Doble room in historic center city',\n",
              " 'Nice room CITY CENTER',\n",
              " 'comfortable room beside sants stat.',\n",
              " 'Single Room near Ramblas, Breakfast',\n",
              " 'Centric Apartment in Barcelona 2',\n",
              " 'Comfort - Triple Room',\n",
              " 'Double room with terrace in attic!',\n",
              " 'Rooms Monjuic Poble Sec',\n",
              " 'The best view of Sagrada Familia',\n",
              " 'sunny, large room in sagrada família',\n",
              " 'Habitación Privada en Barcelona Sants',\n",
              " 'AMPLE ROOM FOR 3 AT THE GOTHIC QUARTER WITH A/A',\n",
              " 'Cozy single/tween room. Private bath.+breakfast.',\n",
              " 'Lovely room with galery Eixample',\n",
              " 'Single room Sagrada Familia',\n",
              " 'Sunny room near the sea, Fort Pienc',\n",
              " 'DOUBLE ROOM IN GOTHIC NEIGHBORHOOD',\n",
              " 'Big Room & Perfect Location',\n",
              " 'Barcelona Beach House 2',\n",
              " 'Plz REAL (Square)10  /R2. PENTHOUSE',\n",
              " 'DOUBLE ROOM INDEPENDENT + BALCONY',\n",
              " 'Very economic double room.',\n",
              " '1- An oasis in Barcelona Centre',\n",
              " 'RAMBLAS [ROOM 4-PAX] in terrace apartment',\n",
              " 'Sagrada Familia brand new flat',\n",
              " 'Discover the Old City from Bright & Airy Bedroom in El Born',\n",
              " 'LOFT-STYLE BEACH FLAT',\n",
              " 'At the heart of Barcelona. Gracia.',\n",
              " 'BCN center / private bathroom - king bed',\n",
              " 'Lovely room in downtown BCN w/private bathroom',\n",
              " 'Walk everywhere!Brand new apartWIFI',\n",
              " 'The VERY Center/Private bathroom.',\n",
              " 'Bedroom + private living + glazed balcony',\n",
              " 'BEST LOCATION - EL BORN',\n",
              " 'ROMANTIC Apartment WIFI in center',\n",
              " 'Modernist flat Downtown Casa Estapé | Barcelona',\n",
              " 'Penthouse Loft in Heart of Bcn',\n",
              " 'Double Room in El vaixell de paper',\n",
              " 'AMAZING & BRIGHT IN EIXAMPLE',\n",
              " '18 m2 room amazing flat Born-centre',\n",
              " 'Room with PRIVATE LIVINGROOM and BATH in center',\n",
              " 'Room in a sunny terraced penthouse',\n",
              " 'Centric Double Room, private bath',\n",
              " 'Quiet Well connected Pl. España',\n",
              " 'Nice & Cozy Apartment in Gracia',\n",
              " 'Central space for 3 w/private bathroom',\n",
              " 'Beautiful room in downtown BCN w/private bathroom',\n",
              " '4 PERSON ROOM',\n",
              " 'AMAZING & BRIGHT IN EIXAMPLE BEIGE',\n",
              " 'Stunning vintage room with AC (old town)',\n",
              " 'SUPER CENTRAL DOUBLE ROOM!!',\n",
              " 'Cool&Centric Apartment',\n",
              " 'Flat near Sagrada Family and Gracia',\n",
              " 'Balcony for three, W/ private bathroom',\n",
              " 'Gorgeous room in central Barcelona',\n",
              " 'Penthouse Double Room+Balc@♥ of BCN',\n",
              " 'CENTRIC & TERRACE & NEW apartment in Barcelona',\n",
              " 'Cozy/elegant in the VERY center.',\n",
              " 'Huge@Rambla: bright & comfy. Perfect location',\n",
              " 'BARCELONA GOTICO ,great location',\n",
              " 'Charming little cottage',\n",
              " 'Close to Parc Güell and Metro',\n",
              " 'Central Room + Private Bathroom!',\n",
              " 'Huge Room cerca Plaza Catalunya w/private bathroom',\n",
              " 'INCREDIBLE VIEW front Sagrada Familia+PRIV.BALCONY',\n",
              " 'Habitación grande y luminosa',\n",
              " 'BCN Center big room with balcony!',\n",
              " 'BCN center / balcony - ensuite bathroom',\n",
              " 'NEW!! CENTER.CLEAN.COMFORT. WIFI.',\n",
              " 'Views Sunny Pl. España Connected',\n",
              " 'Soak Up the Iberian Sun on Penthouse Terrace',\n",
              " 'EN-SUITE ROOM with PRIVATE BATHROOM',\n",
              " 'Renovated & Vintage en Barcelona',\n",
              " 'White-Airy Attic Apartment with Huge Private Leafy Terrace',\n",
              " '⭐Penthouse Suite w/ Private Bathroom and Terrace⭐',\n",
              " 'Stylish loft in the heart of BCN',\n",
              " 'Principal B&Bcn - Beautiful room with balcony 9',\n",
              " 'SAN&SUN, design loft in city center',\n",
              " 'Past Meets Present in this Stunning Flat near the Beach',\n",
              " 'APARTAMENT IN BARCELONA CENTRE',\n",
              " 'LUXURY PENTHOUSE WITH PRIV. TERRACE',\n",
              " 'Stunning room with en-suite bathroom AC (old town)',\n",
              " 'Cozy apartment in the centre of Gracia',\n",
              " 'Charming, central, new. Best value',\n",
              " 'Preciosa suite con increibles vistas',\n",
              " 'BARCELONA FIFTEEN twin studio',\n",
              " 'Modern & Cozy Apartment in Gràcia',\n",
              " 'Double apartment - Independència ABAPART',\n",
              " 'PRIVATE SUITE: 2 BEDROOMS, 1 BATHROOM AND TERRACE',\n",
              " \"Charming place @ Heart of Barcelona's Old City\",\n",
              " 'COZY COMFORTABLE APARTMENT WELLOCATED AND PARKING',\n",
              " '3 rooms, 2 bathrooms in the touristic city centre',\n",
              " 'Beautiful apartment in the center',\n",
              " 'Cozy Apartment Diagonal',\n",
              " 'New apartment near Sagrada Familia',\n",
              " 'Cool & Quaint Loft in Barcelona!',\n",
              " 'Bohemian Dreams at a Plant-filled Design Loft near the Beach',\n",
              " 'Amplio loft de diseño vintage cerca de Montjuïc',\n",
              " 'Amazing views, centric apt w/terrac',\n",
              " 'Double room -The moods Catedral (great location)',\n",
              " 'Scenic Mountain Views from Sant Gervasi-Galvany',\n",
              " 'WIFI Nice apartment 10mn SagFamilia',\n",
              " 'Quiet & lovely  5\" to the beach',\n",
              " 'Tiny Double Room',\n",
              " 'Special duplex in Sagrada Familia',\n",
              " 'New center Penthouse with terrace',\n",
              " 'Colorful Apartment with Private Leafy Balcony',\n",
              " '3 bedrooms, central, bright, Sagrada Familia, AC',\n",
              " 'Modern apartment near the beach',\n",
              " 'Design&Centric in Sagrada Familia',\n",
              " 'Apartamento nuevo junto a Plaça Espanya y la Fira',\n",
              " 'Standard studio in Paral Lel',\n",
              " 'Barceloneta Beach & Sight Apartment',\n",
              " 'Beautiful apartment in the center',\n",
              " 'Poble Sec, feel like at home!',\n",
              " 'BARCELONA FIFTEEN LUXURY STUDIO',\n",
              " 'Cozy Apartment Sagrada Familia',\n",
              " 'SAGRADA FAMILIA VIEW STUDIO-LOFT',\n",
              " 'Atic with great views',\n",
              " \"Gaudí's Mansard (Sag. Familia) WIFI\",\n",
              " 'PLAZA CATALUÑA/LAS RAMBLAS DESIGN AP',\n",
              " 'Stylish loft II in the heart of BCN',\n",
              " 'Stylish and quiet next to Plaça Catalunya!',\n",
              " 'Gracia : Cosy & modern apartment with AC & WIFI !!',\n",
              " 'FANTASTIC20m2TerraceVIEW-@800m BEACH/BORN/GOTIC',\n",
              " 'Cozy apartment  perfect situation - metro & WIFI',\n",
              " 'Penthouse Barcelona, very central',\n",
              " 'Design&Balcony in Sagrada Familia',\n",
              " 'Fantastic penthouse in Bcn Center',\n",
              " 'DESIGN APARTMENT IN BARCELONA',\n",
              " 'BacRou, design loft near the sea',\n",
              " 'Modernist&Chic Eixample apartment',\n",
              " 'Lugaris Beach Business Apartment',\n",
              " 'Amazing apartment WIFI in center',\n",
              " 'Romantic apartment',\n",
              " 'Sunny, central, AC, charming flat with balcony 3',\n",
              " 'Studio & terrace / magical views',\n",
              " 'Unique Luxury Designer Apartment',\n",
              " 'Near the beach, 2-bedroom, 2-bathroom, pool, AC',\n",
              " 'Studio with Catalan Design Near Sagrada Familia',\n",
              " 'PENTHOUSE TOP VIEWS BARCELONA APARTMENT',\n",
              " 'Private Terrace in Poblenou',\n",
              " 'Rural Chic Inspired Apartment with Terrace',\n",
              " 'Apartament Barcelona Centre - Flat',\n",
              " 'Lovely duplex penthouse in the Gracia.',\n",
              " 'Penthouse with private terrace',\n",
              " 'Bohemian Flat with Rooftop Terrace near La Pedrera',\n",
              " 'Apartment-terrace with amazing view HUTB-009273',\n",
              " 'Bohemian-Inspired Loft by the Beach',\n",
              " 'Classy&Central Eixample apartment',\n",
              " 'Modernist apartment, chic and calm',\n",
              " 'Pool, garden, central, stylish, AC',\n",
              " 'Nice Apartment in Sagrada Familia',\n",
              " 'New flat in Center -Paseo de Gracia',\n",
              " 'Gaudí Views- Suite with View in BCN',\n",
              " 'Descubre el art nouveau a través de este piso cercano a la Plaza de España',\n",
              " 'Quiet family apartment in the center',\n",
              " 'Bcn Turistica Piso  Sagrada Familia',\n",
              " 'Sophisticated Flat in Trendy Poble Sec',\n",
              " 'Vintage Concept Flat in Chic Neighbourhood',\n",
              " 'PenthouseSuite with Private Terrace',\n",
              " 'Sagrada Oasis • Homecelona Apartments',\n",
              " 'SUNNY STUDIO WITH  SPA & TERRACE',\n",
              " 'Beautiful apartment by Pl Catalunya',\n",
              " 'Stylish apartment B near Plaza cat',\n",
              " 'Disfruta del sol, las vistas y el descanso en este apartamento con terraza.',\n",
              " 'Fully equipped studio with kitchenette & bathroom',\n",
              " 'Redeveloped Historic Apartment with Balcony',\n",
              " \"Sunny Loft in Barcelona 5' walk to the beach\",\n",
              " 'QUIET GORGEOUS  STUDIO 75 sqm in the  CITY CENTER',\n",
              " 'NICE PENTHOUSE IN SAGRADA FAMILIA',\n",
              " 'Redesigned Apartment with Exclusive Rooftop Terrace',\n",
              " 'Mediterranean-Chic Apartment Steps from the Beach',\n",
              " 'Cosy 1 bed with terrace',\n",
              " 'AMAZING PENTHOUSE RAMBLAS! DAILY CLEANING!',\n",
              " 'Attic with terrace',\n",
              " 'STUNNING APARTMENT IN GOTHIC',\n",
              " 'Sagrada Familia Apartment',\n",
              " 'Near the beach, pool, AC, 2 bedrooms, 2 bathrooms',\n",
              " 'Elegant Apartment in City Center',\n",
              " 'Have Breakfast on the Balcony of a Chic City Home',\n",
              " 'Apartment with terrace in Barcelona',\n",
              " 'Apartamento único en Poble Sec!',\n",
              " 'Amazing Apartment Plaza Catalunya',\n",
              " 'Apartamento urbano, tranquilo y chic cerca del Paseo de Gracia',\n",
              " 'Central, stylish, garden, pool, AC',\n",
              " 'Boutique Terrace : Private Terrace, wifi & aircon',\n",
              " 'Sagrada Familia II',\n",
              " 'Renovated Modern Apartment with Cathedral Views',\n",
              " 'Gràcia, Cocoon Apartment',\n",
              " '1 Habitación con terraza en Gràcia',\n",
              " 'Terrace with PARKING!!!',\n",
              " 'Designer LOFT in the very center',\n",
              " 'Rustic apartment with terrace BCN',\n",
              " 'Seduction in the Heart of Eixample, Warm, Cozi, Central.',\n",
              " 'Plaza España/Montjuich',\n",
              " 'Incredible Lounge terrace best area',\n",
              " 'Nice Apartment in  Sagrada Familia',\n",
              " 'Piso con estilo propio y vistas a la Sagrada Familia',\n",
              " 'Stunning Apartment W Large Terrace',\n",
              " 'Apartment next to Montjuïc B',\n",
              " '.Designer LOFT in the heart of BCN.',\n",
              " 'Terrace, Paseo de Gracia!!!!!',\n",
              " 'Very central design apartment, Bcn',\n",
              " 'Stylish apartment A in city center',\n",
              " 'Design apartment in the city center',\n",
              " 'Exclusive&Classy flat 2 min from Paseo de Gracia',\n",
              " 'Centric Sunny Top Floor + Terrace',\n",
              " 'Relaxed, Spacious Loft with Jetted Tub',\n",
              " 'Deluxe Penthouse with Fantastic Terrace - Sagrada Familia',\n",
              " 'Walk to Paseo de Gracia from a Bright, Cheery Flat',\n",
              " 'Design&Cozy infront Sagrada Familia',\n",
              " 'Spacious Flat Close to Ramblas',\n",
              " 'Sunny, central, AC, charming flat with balcony 1',\n",
              " 'Cheerful, Modern Apartment in Sant Antoni',\n",
              " 'Near the beach, 3-bedroom, 2-bathroom, pool, AC',\n",
              " 'Luxury suite with private terrace Placa Catalunya',\n",
              " 'Renovated Vintage High-Rise with Balcony',\n",
              " 'Private terrace, chic & central. Rambla Catalunya',\n",
              " 'Central Borne close to the beach and las Ramblas',\n",
              " 'Find Calm at a Neutral City Sanctuary with Sleek Style',\n",
              " 'Great location for 8 people - M42',\n",
              " 'Charming & Sunny with Terrace steps to Old town.',\n",
              " 'Relax in a Chic, Modern Apartment near Park Güell',\n",
              " 'Very spacious, elegant, central, Rambla Catalunya',\n",
              " 'Sunny Mediterranean Apartment with Balcony in Poble Sec',\n",
              " 'Downtown 15min.walking Pl.Catalunya',\n",
              " '⭐Bright apt at Rambla de Catalunya⭐¦',\n",
              " 'AWESOME PENTHOUSE ❤ GREAT VIEW',\n",
              " 'Chic Apt. 2min from Paseo de Gracia & Las Ramblas',\n",
              " 'Central cozy apartment 3B/ROOM BCN',\n",
              " 'Exclusive terrasse, central BCN',\n",
              " 'Barcelona·COLON·SEA·RAMBLAS views',\n",
              " 'Bohemian duplex penthouse in Barcelona',\n",
              " 'Luxury apartment near to Plaza cat.',\n",
              " 'AMAZING 2 BED. WITH PRIVATE TERRACE',\n",
              " 'Charming & very cosy Atico w/Wifi',\n",
              " 'The Little Old Palace in the Borne',\n",
              " 'NICE DUPLEX OVERLOOKING THE BEACH',\n",
              " 'Picasso Terrace by Cocoon Barcelona',\n",
              " 'Penthouse with sunny terrace, 3 p',\n",
              " 'Stroll to Sagrada Familia from a Sunlit Apartment',\n",
              " 'Cozy Apartment near to Plaza España',\n",
              " '★ GAUDI LUXURY by Cocoon Barcelona',\n",
              " 'Magnificent 1 bedroom apt',\n",
              " 'Walk to Paseo de Gracia from a Stylish&Sunny flat',\n",
              " 'Paseo de Gracia, best location *Bcn*',\n",
              " 'Quiet & Family, sea views near Ramblas',\n",
              " 'Luxury. 10th floor. Paseo de Gracia',\n",
              " 'Near the beach, pool,  AC, 3 bedrooms, 2 bathrooms',\n",
              " 'Stylish Apartment near the Sagrada Familia',\n",
              " 'Luxury apartment in Sagrada Familia',\n",
              " 'Elegant, Contemporary Oasis in the Heart of Barcelona',\n",
              " 'Bright&Modernist in the city center.',\n",
              " 'Chic&Calm in Modernist Center',\n",
              " 'Stylish, bright, central, close to Sagrada Familia',\n",
              " 'Explore Sant Antoni from a Modern Penthouse',\n",
              " 'Comfortable, rooftop terrace, spacious, central',\n",
              " 'Relax on the Deck of a Bright Eixample Apartment',\n",
              " 'Central, comfortable for groups',\n",
              " 'Rambla Catalunya big penthouse',\n",
              " 'Modern bright apartment, with huge terrace !',\n",
              " 'Sagrada Familia I',\n",
              " 'NEW DUPLEX PENTHOUSE LAS RAMBLAS',\n",
              " 'PENTHOUSE PANORAMIC VIEW',\n",
              " 'Amazing Loft in BCN Center (B0132)',\n",
              " 'Arc de Triomf cheerful two bedroom with terrace',\n",
              " 'yök Casa A, 4 people live like a local!',\n",
              " 'Chic terrace, sunny, central, AC, charming flat',\n",
              " 'Penthouse with Terrace near Paseo de Gracia',\n",
              " 'Aribau Apartment Top renovated',\n",
              " 'MIRADOR 3 Bedroom Apartment Port Vell',\n",
              " '3 BEDROOMS WIFI CENTRIC APTM',\n",
              " 'APARTMENT WITH GARDEN &PRIVATE POOL',\n",
              " 'Central with pool 8 people - M41',\n",
              " 'New Boutique apartment in center',\n",
              " 'Fantastic and Best City Center Location',\n",
              " 'Barcelona central modernist architecture +terrace',\n",
              " 'Bright, Renovated Apartment near Sagrada Familia Cathedral',\n",
              " 'Great Design apartment in Barcelona center',\n",
              " '3 bedr and Magnificent Terrace near Plz Catalunya',\n",
              " 'Stylish, 2 bedrooms, central, shared terrace, AC',\n",
              " 'Brand new luxury apartment in the city center',\n",
              " 'Estética clásica y piezas de diseño en un céntrico piso barcelonés',\n",
              " 'BARCELONA CITY CENTRE CHARM',\n",
              " 'Chic, very central, bright. Rambla Catalunya, AC',\n",
              " 'Exclusive flat for an excellent stay next Gaudi',\n",
              " 'Apartment in Born - Carders',\n",
              " 'Central Plaza 2r+2b',\n",
              " 'Penthouse with terrace in Rambla Catalunya -Centre',\n",
              " \"Art House Viladomat—A Bright Apartment that's a Visual Feast\",\n",
              " 'Oriental Design apartment',\n",
              " 'Barcelona Feeling Suite44 2bd Swimming Pool Center',\n",
              " 'Bright, fun, balcony, near the Sagrada Familia',\n",
              " 'Sunny, central, AC, charming flat with balcony 2',\n",
              " 'Central, terrace, 3 bedrooms -M51',\n",
              " 'Central, comfortable - Ramblas 31',\n",
              " 'CITY CENTRE APOLO LOFT  4 BEDROOMS, near Ramblas',\n",
              " 'GREAT APARTMENT IN THE EIXAMPLE',\n",
              " 'Attic in Paseo de Gracia',\n",
              " 'Near the beach, 2 bedrooms, 2 bathrooms, pool, AC',\n",
              " 'Spectacular penthouse in the center',\n",
              " 'Stroll to Passeig de Gràcia from Uniquely Designed Flat',\n",
              " 'Stylish, spacious, central, shared rooftop terrace',\n",
              " 'Vintage-Inspired Apartment near Passeig de Gracia',\n",
              " 'PENTHOUSE IN VILLA-OLIMPICA',\n",
              " 'MODERNISM&LUXURY&DESIGN IN CENTER',\n",
              " 'Stylish and comfortable apartment in heart of BCN',\n",
              " 'Large Luxurious Central Apartment',\n",
              " 'yök Casa B, luxury local eco design',\n",
              " 'Elegant, bright, 3 bedrooms, Sagrada Familia, AC',\n",
              " 'AVINYO B APARTMENT',\n",
              " 'Central Flat near Sagrada Família and Metro',\n",
              " 'The Paseo Colon Apartment',\n",
              " 'Casa Valeta, Barcelona',\n",
              " 'Ramblas 3 bedrooms Attic Pz.Reial Gothic',\n",
              " 'TETUAN Apartment Very central 3 bed/3 bath Terraza',\n",
              " 'Charming Duplex in Glories HUTB007821',\n",
              " 'Central Apartment in Traditional Catalan Building',\n",
              " 'Cozy apartment up to 6 guests',\n",
              " 'Alójate en una casa típica del barrio de Gràcia con un amplio patio interior',\n",
              " \"Amazing views & sunny, 5' Ramblas/Sea\",\n",
              " 'Charming Aptment Center 2bed+2bath',\n",
              " 'MONTJUIC FOUNTAINS II APARTMENT',\n",
              " 'Sea and city views downtown',\n",
              " 'Lovely & Elegant Apartment in Eixample 1-2',\n",
              " 'Elegant Apartment Overlooking the Iconic Paseo de Gracia',\n",
              " '2 bedrooms, 2 baths, private terrace, central, AC',\n",
              " '1 bedroom private rooftop terrace with Free Wi-Fi',\n",
              " 'Amazing loft in Grácia close to Sagrada Familia',\n",
              " '2 Luxury bedroom apartment',\n",
              " 'Nice and quiet 2 bedroom apartment',\n",
              " 'Cobi apartment. Disfruta de Barcelona desde este fantástico apartamento.',\n",
              " 'UNIQUE Stylish Townhouse BCN Centre',\n",
              " 'SUMMERTIME BCN a oasis in Gracia',\n",
              " 'CENTRAL SANT ANTONI APARTMENT',\n",
              " 'Modern 3 bedrooms, family stay!',\n",
              " 'Lovely apartment. Renovated in 2016.',\n",
              " '3 Bedroom with terrace',\n",
              " 'Amazing 3 bedroom near Pl Catalunya',\n",
              " 'LUXURY ATTIC WITH PRIVATE TERRACE NEAR CENTRE',\n",
              " 'Near the beach, pool, 3-bedroom, 2-bathroom, AC',\n",
              " 'Exquisito apartamento con espacios abiertos y luz',\n",
              " 'Contemporary Apartment with Private Patio',\n",
              " \"Our house: Architects' flat.\",\n",
              " 'Bright and Open Apartment near Sant Antoni',\n",
              " 'Charming and Central Apartment',\n",
              " 'Amazing 3 bed large APT  2 patios',\n",
              " 'Batllo Luxury  in prime location',\n",
              " 'Panoramic Suite Luxury with Jacuzzi',\n",
              " 'Bright, elegant, 3 bedrooms, Sagrada Familia, AC',\n",
              " 'Luxury Paseo de Gracia Penthouse',\n",
              " 'Kick Back on the Terrace of a Classic Home',\n",
              " 'Incredible for 16 in pl Catalunya!',\n",
              " 'PASEO DE GRACIA DOMUS SUPERLUXURY',\n",
              " 'Serviced Minimalist Apartment with Private Balcony',\n",
              " 'Trendy & Luminous Apartment in the City Center',\n",
              " 'Luxurious, bright, spacious Plaza Catalunya',\n",
              " 'Gorgeous appartment by the beach   HUTB 007415',\n",
              " 'Beautiful balconies and 3 bedrooms in Eixample',\n",
              " 'Excellent! Centric beautififul apartment *Bcn*',\n",
              " 'Central 3 bedroom, family stay!',\n",
              " 'Apartamento Gaudir, con inspiraciones modernistas. Luminoso, céntrico y seguro.',\n",
              " 'Beautiful apartment in city center',\n",
              " 'THE SILVER HOUSE: see the sky',\n",
              " '3 bedroom flat in Barri Gotic',\n",
              " 'COZY RAMBLA CATALUÑA HUTB-001410',\n",
              " '1416 - THE GREEN BLOOMING APARTMENT',\n",
              " '4 Bedrooms 5 bathrooms in eixample',\n",
              " 'GREAT PENTHOUSE PANORAMIC TERRACE SAGRADA FAMILIA',\n",
              " 'Sea views / Port vell & COLON',\n",
              " 'Chic Apartment Gran de Gracia',\n",
              " 'Penthouse con terraza Plaza España',\n",
              " 'Great Apartment 300 meters from la Fira MWC !!!',\n",
              " 'Big terrace apt in Gotic Quarter',\n",
              " 'Pelayo attic Deluxe H4 - BCN54',\n",
              " 'Luxury 3 bedroom 2 bathroom',\n",
              " \"CHARMING DUPLEX IN BARCELONA'S HEART\",\n",
              " 'Huge and Classy Barcelona centre',\n",
              " 'Magnificent Penthouse with Sun Terrace and View',\n",
              " \"King's Place City Center\",\n",
              " 'Perfect apartment just at Downtown',\n",
              " 'BCN Luxury',\n",
              " 'GranVia Terrace',\n",
              " 'Central Luxury Penthouse 6 guests (3 Bedrooms) AG',\n",
              " 'Spacious 3 bedroom in city center',\n",
              " 'Executive Cataluña 4,   5 bedrooms',\n",
              " 'Luxurious 4 bedroom in Eixample',\n",
              " 'Centric Design Apartment',\n",
              " 'Spacious and central apartment',\n",
              " 'DUPLEX DE LUXE AMB JARDI I GARATGE',\n",
              " 'Relax in the Garden Room at a Bright City Retreat',\n",
              " 'Ramblas & Paseo de Gracia WITH LOCKER',\n",
              " 'yök Casa C, your own little Hotel',\n",
              " 'Penthouse Plaza Catalunya 8 /best location in BCN',\n",
              " 'Stylish Spacious Serviced Apartment near El Born',\n",
              " 'Luxury penthouse, private terrace, pool, gym, AC',\n",
              " 'Beautiful apartment in front of Sagrada Familia',\n",
              " 'Eliseos Luxury Apartment HUTB-001281',\n",
              " \"Allotja't en un elegant i lluminós pis modernista al costat de Passeig de Gràcia\",\n",
              " 'VIDRE HOME PLAZA REAL on LAS RAMBLAS',\n",
              " 'Fantastic design apartment close to Las Ramblas',\n",
              " 'Plaza Catalunya Love 2',\n",
              " 'SUPERIOR 4 BEDROOM APARTMENT',\n",
              " 'Spacious and bright apt for 8 near Sagrada Familia',\n",
              " 'TYCHE Apartment',\n",
              " 'Amazing penthouse with terrace at Rambla Catalunya',\n",
              " 'Happy People Sagrada Familia Gaudi Luxury 8 people Apartment next to the monument',\n",
              " 'BEACHFRONT SEAVIEWS APARTMENT',\n",
              " 'Glamorous 5-bedroom apartment by Paseo de Gracia',\n",
              " 'Villa Olimpica Beach',\n",
              " 'AWESOME SEA VIEWS IN BARCELONA',\n",
              " 'SEALONA CENTER II',\n",
              " 'Fantastic big Apartment with Balcony!',\n",
              " '2427 - AB Plaça Catalunya 3-4 - Luxury 2-Bedroom Apartment, Steps from Plaça de Catalunya',\n",
              " 'Serennia Deluxe 4 bedrooms',\n",
              " 'FOUR-BEDROOM APARTMENT NEAR GRACIA',\n",
              " 'Arenas View Luxuary Plaza de España',\n",
              " 'SENSATIONAL high apartment with spacious terrace',\n",
              " 'SUPERIOR 4 BEDROOM APARTMENT',\n",
              " 'SUPERIOR 4 BEDROOM APARTMENT',\n",
              " 'SUPERIOR 4 BEDROOM APARTMENT',\n",
              " 'CLASSIC APARTMENT RAMBLA CATALUNYA',\n",
              " 'BEACH HOUSE: brigth triplex in Olympic Villlage',\n",
              " 'CHIC VALENCIA',\n",
              " 'Central Townhouse Barcelona',\n",
              " 'Stylish Apartment C in city center',\n",
              " 'Magnificent Modernist Apartment in Heart of the City',\n",
              " 'Central Duplex with Private Terrace',\n",
              " 'Gorgeous Pg de Gracia Casa Batllo',\n",
              " 'Old-time-charm apartment with patio!',\n",
              " 'Elegant central ,4 rooms 4 bathrooms, balconies',\n",
              " 'Vela Luxury Apartment HUTB-001280',\n",
              " 'Amazing Terrace Apt',\n",
              " '★★★★★Eixample Deluxe Apartment(HUTB-003499)',\n",
              " 'Central penthouse with terrace Placa Catalunya I',\n",
              " 'Big and nice in Pl Catalunya for 12',\n",
              " 'Artistic Family-Friendly Apartment in a Trendy Neighborhood',\n",
              " 'Modern Penthouse with Views to La Pedrera',\n",
              " '(20% off deal) LaMimosa by Pg Gràcia 3BR/2 baths',\n",
              " 'LetsgoBarcelona Paseo de Gracia Duplex',\n",
              " 'Art House City Centre Universitat',\n",
              " 'Luxury 4 bed/5 bath flat, 5 min from Pg de Gracia',\n",
              " 'Central luxury apartment with chillout terrace B10',\n",
              " 'Luxury 2 Bed, 3 Bath Apt + Terrace',\n",
              " 'Happy people Ramblas Harbour Duplex for 6 people',\n",
              " 'Pelayo attic Deluxe H2-BCN54',\n",
              " '2717 - AB Girona Apartment 02 - Luxury 4-bedroom Triplex Apartment near Passeig de Gràcia',\n",
              " 'AMAZING MODERN FLAT IN HISTORICAL BUILDING',\n",
              " 'ESPARDENYA',\n",
              " 'SPACIOUS CLASSIC APARTMENT NEXT TO PLAZA CATALUNYA',\n",
              " 'ASTONISHING sea view from 20th floor and pool!',\n",
              " 'PLAZA CATALUNYA MODERN APARTMENT',\n",
              " 'Grand Central Apartment (150m2, 5 bedrooms)',\n",
              " 'Beach Apartment with Furnished Terrace',\n",
              " '137. Hércules Grande 62',\n",
              " 'VINTAGE MEETING POINT',\n",
              " '2428 - AB Plaça Catalunya 1-2 - Modern Apartment with a Balcony, Steps from Plaça de Catalunya',\n",
              " 'Amazing apartment. Paseo de Gracia.',\n",
              " 'The Central Place Premium Terrace',\n",
              " 'Catamaran in city center',\n",
              " \"3BR L'Eixample home with Sunlit Terrace and Views\",\n",
              " 'Floor for 8 | POOL + Sauna in Sagrada Familia',\n",
              " 'Sunny terrace penthouse by Camp Nou Free Nespresso',\n",
              " 'Exquisit Renovated Flat City Center',\n",
              " 'Central penthouse with terrace Placa Catalunya II',\n",
              " 'Great family Apartment in Chic area of Barcelona',\n",
              " '112. Futbol B32 Apartment',\n",
              " '134. Hércules Grande 52',\n",
              " 'Luxury aprtmnt w/personal assistant',\n",
              " 'Julieta Luxury Apartment HUTB-005297',\n",
              " 'Super bright and spacious flat in the city center',\n",
              " 'Luxury modernism 5 bedroom',\n",
              " 'Stay In Bcn Suites-Rambla Catalunya',\n",
              " 'GREAT CENTRAL ART NOUVEAU APARTMENT',\n",
              " 'STUNNING sea view + pool Barcelona!',\n",
              " 'Sagrada Familia area for 17 people',\n",
              " 'Large apartment on Rambla Catalunya (HUTB-005863)',\n",
              " 'Apart. 4-6 Balcony Ramblas',\n",
              " 'Modern Duplex Apartment in the Heart of Barcelona',\n",
              " 'Sagrada Familia area for 14 people',\n",
              " 'BIG APARTMENT NEXT TO LA PEDRERA',\n",
              " '1920 - AB Paral·lel Apartment 3 - Incredible 6-Bedroom Apartment on Avinguda del Paral·lel',\n",
              " 'Gorgeous Arago312 Penthouse with Large Terrace',\n",
              " 'Stunning Retreat with Amazing Cathedral Views',\n",
              " 'Superior Apartment Passeig de Gracia with Views',\n",
              " 'Room for rent Mobile World Congress',\n",
              " 'Enjoy Sagrada Familia! | Apartment for 8 + Pool',\n",
              " 'Happy People Ramblas Harbour Amazing Duplex',\n",
              " 'ELEGANT APARTMENT IN THE HEART OF BARCELONA B375',\n",
              " 'Stunning new 3 bdr penthouse in the old city.',\n",
              " 'Big and stylish flat 3 bedroom apt for MWC',\n",
              " 'Two bedrooms apartment',\n",
              " 'Secluded historic villa surrounded by nature',\n",
              " 'Placa Catalunya penthouse panoramic city views',\n",
              " 'FANTASTIC MODERN HOUSE NEAR PLAZA ESPAÑA',\n",
              " 'APARTMENT IN SANT ANTONI, EIXAMPLE (BHM1-1050)',\n",
              " 'DEG65 Family friendly near Sagrada Familia!',\n",
              " 'BRIGHT APARTMENT TO RENT IN EIXAMPLE (BHM2-073)',\n",
              " '5 Bedroom Villa with swimming pool + sea views',\n",
              " 'BRIGHT AND COZY APARTMENT IN EIXAMPLE - 1050',\n",
              " 'Luxury 4-bedroom 3-bathroom, pool, gym, sauna, AC',\n",
              " 'Luxury 4-bedroom 3-bathroom, pool, gym, sauna & AC',\n",
              " 'Luxury and location 10 people - M43',\n",
              " 'Pull up an Orange Dining Chair at a Deluxe Eixample Home',\n",
              " 'Luxury apartment with terrace',\n",
              " '888 Beachfront Apartment w/Pool & Terrace II',\n",
              " 'Luxury, 5 bedrooms, 10 people -M33',\n",
              " 'Piso de lujo con cinco dormitorios, piscina y sauna',\n",
              " 'Luxurious and open, with private rooftop -M61',\n",
              " 'Central Stylish, 4 rooms 4 bathrooms, balconies',\n",
              " 'Huge luxury flat near Plza Cat. Sleeps 12- Coli 23',\n",
              " 'Valentina Luxury Apartment HUTB-010004',\n",
              " 'Luminosity Stylish family house center Barcelona',\n",
              " 'Gorgeous Apartment, 4 rooms 4 bathrooms,balconies',\n",
              " 'Ramblas Luxury Apartment,',\n",
              " 'Luxury 5 bedroom 4 bath, pool, terrace, gym, sauna',\n",
              " 'Modern Luxury 4 bedroom apartment up to 7',\n",
              " 'Apartment La Rambla 5 Bedrooms',\n",
              " 'Pool + Sauna | LUXURY for 6 in Sagrada Familia',\n",
              " 'CENTRAL DUPLEX PLAZA CATALUNYA',\n",
              " 'Spacious, bright, central. AC. Rambla Catalunya',\n",
              " '043. Provença Apartment',\n",
              " 'Spectacular Central Terrace Apartment 1309',\n",
              " 'Victoria City Center 2',\n",
              " 'Large Apartment in La Rambla',\n",
              " '2163 - AB Casa Saltor P-2 - Luxury 3-Bedroom City Centre Apartment with a Private Terrace',\n",
              " '4 Bedroom apartment, perfect for families~',\n",
              " 'Design Apartment, 4 rooms 4 bathrooms, balconies',\n",
              " 'Ideal apt w/ balcony for families~',\n",
              " 'Spacious Business Apartment Passeig de Gracia',\n",
              " 'El Pianista',\n",
              " 'Spacious 7 Bedroom Barcelona City Center',\n",
              " 'Happy people Ramblas Harbour Duplex for 6 people',\n",
              " 'Apartment with Views to Rambla Catalunya',\n",
              " 'Luxurious sail yacht in Barcelona',\n",
              " '45m2 Suite with separate lounge, complementary breakfast, at Hotel OD Barcelona *****',\n",
              " 'Luxury 4-bedroom 3-bath, terrace, pool, gym, sauna',\n",
              " 'THEVINTAGERENTALS Delux 5 bedrooms Pg de Gracia',\n",
              " 'Luxury 5 bed 4 bath, terrace, pool, gym & sauna',\n",
              " 'Luxury 5 bed 4 bath, terrace, pool, gym, sauna, AC',\n",
              " 'Luxury 4 bed 3 bath, terrace, pool, gym, sauna, AC',\n",
              " 'Luxury, comfort, Bcn views  -M53',\n",
              " 'Luxury 5 bed 4 bath, pool, terrace, AC, gym, sauna',\n",
              " 'Central luxury penthouse with huge private terrace',\n",
              " 'Contemporary Penthouse Apartment near Paseo De Gracia',\n",
              " 'Plaça Catalunya Views Classical Apartment',\n",
              " 'Colourful Designer Apartment in the Center of Barcelona',\n",
              " 'APARTMENT RAMBLAS penthouse 52B',\n",
              " 'Penthouse with huge terrace at Rambla Catalunya',\n",
              " 'LUXURY 3BR Apt. NEXT to Passeig de Gràcia',\n",
              " 'Amazing Apartment Next The Famous La Rambla 13B',\n",
              " 'Gaudi Luxury 4 bedroom apartment B429',\n",
              " 'Alojamento en barrio de Gracia..',\n",
              " 'Elegant  3- bedroom apartment (monthly rental)',\n",
              " 'FANCY APARTMENT IN EIXAMPLE - 050',\n",
              " 'Beautiful apart w/balcony in centre in Las Ramblas',\n",
              " 'MODERN DUPLEX PLAZA CATALUNYA',\n",
              " 'SPACIOUS APARTMENT IN EIXAMPLE (BHM1-050)',\n",
              " '1814 - AB Sagrada Família Cartagena - Stylish Apartment with a Balcony near the Beautiful Sagrada Família',\n",
              " '2460 - AB Park Guell Apartment 5-1 - Modern 1-Bedroom Apartment near Park Güell with a Balcony',\n",
              " 'Amazing and Bright Loft near Las Ramblas',\n",
              " 'Green House. House with a pool.',\n",
              " 'SAGRADA FAMILIA APARTMENT',\n",
              " 'Amazing penthouse with private pool at the centre of Barcelona',\n",
              " 'Luxury 2 bedroom apartment on Paseo de Gracia',\n",
              " 'Luxury Penthouses 2',\n",
              " 'Sunny penthouse w/terrace BIG GROUP',\n",
              " 'Splendid & Superb Park Güell House',\n",
              " 'Best Exclusive 6-bedroom Apartment in Barcelona',\n",
              " 'Modernist style apartment in the most central location',\n",
              " 'Serennia Comfort II 4 bedrooms apartment',\n",
              " 'House with garden',\n",
              " 'Beautiful House in Paseo de Gracia',\n",
              " 'Amazing!!!  3 bedrooms + 2 bathroom +  Style',\n",
              " 'POOL-LOFT',\n",
              " 'Serennia Deluxe 5 bedrooms Apart',\n",
              " 'Centric Design Flat near Passeig de Gràcia',\n",
              " 'Luxury Apartment 3BR close to Passeig de Gracia',\n",
              " '020. Alcam Plaza Cataluña',\n",
              " 'Autèntic Monumental 32',\n",
              " 'Beautiful and fresh apartment next to P. de Gracia',\n",
              " 'BATLLO · Lujoso piso de 3 habitaciones cerca de Casa Batlló',\n",
              " '389 - AB Sagrada Familia 32',\n",
              " 'CHIC HOUSE WITH TERRACE NEAR PLAZA ESPAÑA - 1098',\n",
              " 'Happy people Ramblas Harbour Duplex for 6 people',\n",
              " 'SEN07 Very bright & spacious in Paseo de Gracia!',\n",
              " 'Big double room, balcony, Paseo de Gracia Hotel',\n",
              " 'Apartment with 3 bedrooms',\n",
              " 'SA415 Huge Classic near Sagrada Familia',\n",
              " 'Spectacular modernist apartment of 5 minutes from Plaça Catalunya',\n",
              " 'Luxury flat close to La Fira, ideal for the MWC',\n",
              " 'JOVI´s House, espacio exclusivo para 1 a 4 amigos',\n",
              " 'Entire 3 room appartment ** MWC 2019**',\n",
              " 'Lujoso apartamento con terraza y tres dormitorios junto a Casa Batlló',\n",
              " 'Luxury Penthouses 1',\n",
              " 'Spectacular penthouse with terrace next to the sea',\n",
              " 'Catalunya Palace Apartment,',\n",
              " 'Luxury Vela',\n",
              " '536 - Exclusive Pl. Catalunya Lux Apartment',\n",
              " 'pool terrace apartment near the sea',\n",
              " 'DIAGONAL MAR IN FRONT OF CCIB AND FORUM',\n",
              " '4 BED+10 PEOPLE+MODERN+CITY CENTER',\n",
              " 'Central Palacete, Terrace, next to Paseo de Gracia',\n",
              " 'APARTMENT FOR LARGE GROUPS IN THE CITY CENTER',\n",
              " 'Amazing apartment with terrace',\n",
              " 'AMAZING SEA VIEW APARTMENT',\n",
              " 'Luxury 3 bedroom apartment on Paseo de Gracia',\n",
              " 'Classic 7 room apartment in the center',\n",
              " 'Luxury 4 Bedroom with La Pedrera Views',\n",
              " 'the dream house',\n",
              " 'Elegante y amplio ático con gran terraza junto a la Diagonal',\n",
              " 'Luxury Eliseos',\n",
              " 'SANTS ESTACIÓN HABITACION',\n",
              " 'Sencillo y acogedor.. para que más!!',\n",
              " 'EXCLUSIVE APARTMENT WITH PRIVATE TERRACE (BHM1-1036)',\n",
              " 'Private Rooms 28 people, Sagrada Familia',\n",
              " '5 BED+10 PEOPLE+MODERN+CITY CENTER',\n",
              " 'EXCLUSIVE FLAT WITH PRIVATE TERRACE .PLAZA ESPAÑA',\n",
              " 'Stay in the trees@2bed ap. next to Arco de Triunfo',\n",
              " 'Casa familiar 2',\n",
              " 'Diagonal Mar apartments',\n",
              " 'SUNNY & MODERNIST APARTMENT FOR GROUPS IN CENTER',\n",
              " 'Magnificent apartment near Plaza Espanya',\n",
              " 'POOL & BEACH Apartments',\n",
              " 'Great and Spacious Apartment',\n",
              " 'Brand New Apartment Barcelona',\n",
              " 'New Great Large Centric Flat',\n",
              " 'playa_bigroom_ramblas/bairrogotic',\n",
              " '4 BED+9 PEOPLE+LUXURY+CITY CENTER',\n",
              " 'sf5 5FLATS BY SAGRADA FAMILIA-GAUDI',\n",
              " 'sf3b 3FLATS BY SAGRADA FAMILIA-GAUDI',\n",
              " 'ri234 GREAT GROUPFLAT - GOTHIC AREA',\n",
              " 'Cosy Apartment Hospital Clinic',\n",
              " 'Villa modernista, jardin y piscina',\n",
              " 'Wide apartment in magical Barri Gotic area',\n",
              " 'HOUSE WITH TERRACE (BHM1-1098)',\n",
              " 'Yurbban Suite Terrace, Breakfast Included',\n",
              " '5 BED+12 PEOPLE+MODERN+CITY CENTER',\n",
              " 'Vera Luxury Apartment 32 NIGHTS MINIMUM STAY',\n",
              " '3 Br Luxury beach apt with Pool',\n",
              " \"Designer's three bedroom apartment with terrace\",\n",
              " 'Mini apartment with terrace garden',\n",
              " 'STYLISH EIXAMPLE luxury in the center, big terrace',\n",
              " 'House with pool in Heart Gracia!',\n",
              " 'SPACIOUS APARTMENT NEXT TO PLAZA CATALUNYA - B427',\n",
              " 'Exclusive 4 bedroom duplex penthouse in Barcelona center',\n",
              " '1922 - AB Beach Views Apartment - Free Parking - Bright 1-Bedroom Apartment with Sea Views, just Steps from the Beach',\n",
              " 'casa',\n",
              " 'Fifth and luxury penthouse high area Barcelona',\n",
              " 'Amazing house w/pool and garden-Barcelona center!',\n",
              " 'The FAIRMILE Yacht Barcelone',\n",
              " 'Bright,new apt near Paseo de Gracia¦',\n",
              " 'Large attic in a very central location',\n",
              " 'Gaudi 15 apartment',\n",
              " 'Charming 2bed 2bath w/Sunny Terrace 10min to tube',\n",
              " 'RO102 Huge and cozy sea views in the city centre!',\n",
              " 'The Joyce  HUTB001418',\n",
              " 'SI264 Nice & cozy next to Sagrada Familia!!',\n",
              " 'La Rosa Beautiful apartment',\n",
              " 'STYLISH EXECUTIVE ROOM NEAR SAGRADA FAMILIA',\n",
              " 'Apartment for 9 people',\n",
              " 'PR474 Beautiful in face Sagrada Familia',\n",
              " 'Light & colour!! 2 bedroom apartment in Gracia',\n",
              " 'MODERN AND STYLISH APARTMENT IN DOWNTOWN',\n",
              " 'THE HIPSTEL PARALLEL APARTMENT 2-3 PEOPLE',\n",
              " 'CARMEN SUNNY BEACHFRONT POOL',\n",
              " 'Double room with balcony BCN center',\n",
              " 'Barcelona Multi-unit building',\n",
              " 'Luxury apartment in Paseo Gracia facing Casa Mila',\n",
              " 'Habitaciones dobles en Sants - Les Corts',\n",
              " '5-BEDROOM PLAZA CATALUNYA LUX',\n",
              " 'Superior Deluxe Six-bedroom Apartment',\n",
              " 'TERRACE IN PLAZA DE CATALUÑA',\n",
              " 'Duplex Pelayo Attic Deluxe - BCN54',\n",
              " 'Penthouse Balmes',\n",
              " '.Warehouse: The Loft',\n",
              " 'Brand New Loft',\n",
              " 'Loft: The Warehouse.',\n",
              " 'Loft: The Warehouse',\n",
              " 'Warehouse: The Loft',\n",
              " 'chs123 LARGE GROUPFLAT, LAS RAMBLAS-FIRA BARCELONA',\n",
              " 'Luxury *****apt. GODÓ Paseo de Gracia- Casa Batlló',\n",
              " 'LUXURY PASEO DE GRACIA CASA BATLLO',\n",
              " 'Apart in centre of BCN in Las Ramblas with balcony',\n",
              " 'Exquisite, Palatial Home in Eixample',\n",
              " 'See Rambla de Catalunya from an Opulent Apartment',\n",
              " 'Big apartment with Private Terrace for up to 8¦',\n",
              " 'UNIQUE PASEO DE GRACIA CASA BATLLÓ',\n",
              " 'NEW Exclusive house with swimming pool in center',\n",
              " 'Barcelona CASA VILARO an oasis in the city',\n",
              " '1900 - AB Montserrat Comfort Apartment 1-2 - Traditional 2-Bedroom Apartment in a Quiet Neighbourhood',\n",
              " 'Luxury Palacete',\n",
              " 'Luxury yacht to spend a unique night in Barcelona',\n",
              " 'Night in a wooden vintage sailboat',\n",
              " 'Luxury yacht charter Astondoa 58',\n",
              " 'Olympic Port apartments',\n",
              " '6fs HAPPY 6FLATSGROUP! CLOSE TO LA SAGRADA FAMILIA',\n",
              " 'sf6 6FLATS BY SAGRADA FAMILIA-GAUDI',\n",
              " 'Centro de Barcelona habitación con pequeña terrasa',\n",
              " 'Located in Eixample 5min from Paseo de Gracia!',\n",
              " 'Luminosa habitacion con cama individual en Gracia!',\n",
              " 'Hostal para 28 personas: USO PRIVADO',\n",
              " 'Superb Aparment First Line Sea',\n",
              " '3 beach olimpic apartments',\n",
              " 'FRONT BEACH Apartments',\n",
              " 'Penthouse Panorama Barcelona',\n",
              " '2 Bedrooms 2 baths Sant Pau',\n",
              " 'Alquiler de habitaciones',\n",
              " 'DOUBLE ROOM rent for 1 month  (from 15 of july)',\n",
              " 'Apartment in Rambla Cataluña for groups w/Balcony',\n",
              " 'The Forty Six',\n",
              " 'SUPER! 2 bedrooms and 2 bathrooms apartment',\n",
              " 'Penthouse Selva De Mar',\n",
              " 'Mulighed for at bo på fastligger båd i marina',\n",
              " 'Lightly apartment sea views',\n",
              " 'GREAT APARTMENT WITH TERRACE',\n",
              " 'Spectacular Grand Suite with private rooftop pool at Hotel OD Barcelona ***** - breakfast included.',\n",
              " 'THE FORTYSIX*****  LUXURY APART. PASSEIG DE GRACIA',\n",
              " 'Luxury Yacht Barcelona',\n",
              " '1405 - LUXURY BEACH TERRACE APARTME',\n",
              " 'Sagrada Familia area for 31 people',\n",
              " 'Placa Catalunya gran duplex',\n",
              " 'Comoda habitacion con cama doble en Gracia!',\n",
              " \"Design Winner on Barcelona's Fashion Boulevard\",\n",
              " 'Luxury Valencia',\n",
              " 'Stay with style and enjoy BARCELONA',\n",
              " '-Tower Suite - Panoramic views of Barcelona (9)',\n",
              " 'Spectacular sea view penthouse',\n",
              " 'Villa w/sea & mountain views/BCN 20 min by car.',\n",
              " 'Barcelona suite 360 views (10)',\n",
              " 'Ático exclusivo Barcelona',\n",
              " 'Exclusive apartment in Diagonal Mar',\n",
              " 'Luxury Valentina',\n",
              " 'Huge & bright double bed room with terrace!',\n",
              " 'Esplendida habitacion con cama doble en Gracia!',\n",
              " 'Enorme habitacion con cama doble y terraza!',\n",
              " 'Luxury apartment 3 min to the beach',\n",
              " 'FLAT LUXE DIAGONAL MAR (BEACH)',\n",
              " 'Home Away From Home',\n",
              " 'Yacht in Barcelona by the beach',\n",
              " 'Triplex Pelayo Deluxe - BCN54',\n",
              " 'Luxury Yacht Barcelona Port Olimpic',\n",
              " 'Double Luxury Penthouses',\n",
              " 'Sleeps 20 off Paseo de Gracia',\n",
              " 'Casa Verde, luxury country house and private pool',\n",
              " 'AMAZING PENTHOUSE W/ VIEWS APARTMENT|',\n",
              " 'LUXURY MOTOR YACHT in the heart of Barcelona.',\n",
              " 'First&Only',\n",
              " 'Paradise Seaside Unique House сlose to Barcelona',\n",
              " '4 OLYMPIC DIAGONAL APARTMENTS',\n",
              " 'Penthouse Illa De La Llum',\n",
              " 'Resplendent Villa with Pool and Jacuzzi in Barcelona City',\n",
              " 'Sleeps 24 off Paseo de Gracia with sunny terrace',\n",
              " 'Luxury Villa with private pool, club and more !',\n",
              " 'MODERNIST APARTMENT FOR GROUPS IN CITY CENTER',\n",
              " 'Palau de la Musica Apartment 3H #2',\n",
              " 'Lovely and modern 1-Bed Apt in the city centre.',\n",
              " 'Urban Garden',\n",
              " 'Modern Luxury Yacht in Barcelona',\n",
              " 'Lujoso apartamento ideal familias (8 pax)',\n",
              " 'Gorgeous 3Bed 2 min to tube in charming Clot',\n",
              " 'Fabulous apartment sea view',\n",
              " 'Happy People Sagrada Familia Gaudi Amazing luxury apartment for 8 People',\n",
              " '3 bedrooms flat in gracia',\n",
              " 'Nice apartment close to Sagrada Familia-Padilla',\n",
              " 'Charming 1Bed in BCN City Center 4min to tube',\n",
              " '(A) Hotel Arts Barcelona 1 Bedroom Penthouse',\n",
              " 'PRECIOSO PISO EN CAMP NOU',\n",
              " \"Cozy, Charming 2 bed in Barcelona's City Center\",\n",
              " 'Hotel Arts Barcelona - One Bedroom Penthouse',\n",
              " 'Modern and Stylish 4 Bed Apt in Passeig de Gràcia',\n",
              " 'Elegant boat',\n",
              " 'Double Room Next to',\n",
              " 'LUXRY PENTHOUSE POOL',\n",
              " 'Beautiful Triple Room at Vincci Gala ****',\n",
              " 'Santa Ana House..',\n",
              " 'BREATHTAKING PENTHOUSE POOL-1406',\n",
              " 'LUXURY COMPLEX APARTMENT',\n",
              " 'WOW 3 bedroom and 2 bathrooms near Sant Pau',\n",
              " 'Bed in 12-Bed Dorm',\n",
              " 'Habitación Doble Atico Cerca Centro',\n",
              " 'Hotel Arts Barcelona -Two Bedroom Penthouse',\n",
              " 'Happy People Sagrada Familia Amazing Luxury apartment for 6',\n",
              " 'Villa Victoria',\n",
              " 'Single bedroom near London Stratford',\n",
              " 'The Muse Haus I - Golden Boy',\n",
              " 'Wilmot Close',\n",
              " 'The Muse Haus II - Terrace Side Rm',\n",
              " 'Double bedroom in old East London',\n",
              " 'The Muse Haus I - White Elephant',\n",
              " 'Comfy, Clean London room.',\n",
              " 'Clean cosy London room...',\n",
              " 'Double room with TV+WiFi  in London',\n",
              " 'Quiet Double room',\n",
              " '1 Single Room in Central London',\n",
              " 'A lovely  room',\n",
              " 'Nice & Equipped Double Bedroom in Dollis Hill! BR2',\n",
              " 'Alexia Hyde Park',\n",
              " 'Cosy Double Room near Excel Exhibition/ Zone 2',\n",
              " 'Single bedroom in a family home',\n",
              " 'Single bedroom, close to station - WOMEN ONLY!',\n",
              " 'Spacious Double room in Holloway, London',\n",
              " '4. SINGLE ROOM NEXT TO CITY CENTER',\n",
              " 'Travellers Stop Off- Private Room  (Free Parking )',\n",
              " 'Tiny and quiet room - on top of public transport!',\n",
              " 'NYC STYLE 1500 Sqft PENTHOUSE LOFT - 50ft to Tube',\n",
              " '10mins to center/2mins to station.4',\n",
              " 'Cosy Double room, Holloway, London',\n",
              " 'Bed in the Heart of Camden Town',\n",
              " 'North London Property with garden',\n",
              " 'Cosy, Clean London room.',\n",
              " 'Single bedroom in old East London',\n",
              " 'Spacious Stylish Double Bedroom in old East London',\n",
              " 'The Muse Haus I - Pink Lady',\n",
              " 'Warm & Cosy London room..',\n",
              " 'Safestay London E&C 6 Bed Dorm Ensuite',\n",
              " 'Sofa close to central London - TV and Wi-Fi inc.',\n",
              " 'Bed in the Heart of Camden 2',\n",
              " 'SUPER VALUE, PRETTY & SAFE, EASY ACCESS TO CENTRE',\n",
              " 'The Muse Haus I - Silver Spoon',\n",
              " 'Great Sunny Room nr Notting Hill',\n",
              " 'Regents park double room. The best.',\n",
              " 'Cosy room in Russell Square, Shared.',\n",
              " 'Lovely Double in Islington Near tube. Zone 2',\n",
              " 'The Chocolate Room in Trendy Zone 2',\n",
              " 'Monks Cell with Single Bed and Desk',\n",
              " 'Spacious room in heart of Brixton',\n",
              " 'The Muse Haus I - Blue Moon',\n",
              " 'Spacious Modern Loft nr Notting Hill',\n",
              " 'Double Room 04 - near Tower of London & Shoreditch',\n",
              " 'Loft Room in E London in Family Home - women only',\n",
              " 'Lovely double bedroom close to the city centre',\n",
              " 'Beautiful Cozy Room in Family Home',\n",
              " 'A tranquil comfortable single bedroom',\n",
              " 'SINGLE ROOM FOR 1 PERSON',\n",
              " 'Vintage Oasis&Single Room&Peace',\n",
              " 'Lovely room in lovely house',\n",
              " 'Hoxton/Shoreditch with City Views',\n",
              " \"Beautiful Bedroom in St John's Wood\",\n",
              " 'Shoreditch quiet elegant home',\n",
              " 'Cosy room in the Heart of Camden',\n",
              " 'Bright double near station in Peckham/Nunhead',\n",
              " 'Cosy Small Double Room on Quiet Street in Brixton',\n",
              " 'Large Modern Dbl Room w/heated floors.Near Centre.',\n",
              " '2. Private Ensuite Room',\n",
              " 'Private Room in Zone 2 Limehouse London',\n",
              " 'Quiet double bed & private bathroom',\n",
              " 'Big room for 1,2, or 3  People',\n",
              " 'Close to London Eye & Big Ben (BRM)',\n",
              " 'Spacious Double Room, conveniently Located.',\n",
              " 'A late Victorian house 1',\n",
              " 'Cosy Clean Room with fast wi-fi and television',\n",
              " 'Single Bedroom in comfy Central London aptmt',\n",
              " 'London house with en-suite rooms 5',\n",
              " 'Cozy Room 1 min from Battersea park(if you sprint)',\n",
              " 'King Size Bed very central and no additional fees.',\n",
              " 'Single Room in Designer Flat',\n",
              " 'Cosy room in South London',\n",
              " 'Single Room in Trendy Neighbourhood',\n",
              " 'Stylish room /10 mins to Big Ben',\n",
              " 'Ely Cottage room B',\n",
              " 'Bright, Comfortable Room in Hospitable, Gay Household',\n",
              " 'BIG BEN VINTAGE ROOM Nr2!',\n",
              " 'Right by the Thames with Great View',\n",
              " 'Piccadilly Circus 4.2 Cute Double Room',\n",
              " 'Superb victorian accomodation in Kensington',\n",
              " 'Micks Mansion',\n",
              " 'Large Master Bedroom in Westminster',\n",
              " 'Waterloo Heights',\n",
              " 'Double Room 01 - near Tower of London & Shoreditch',\n",
              " 'COSY DOUBLE ROOM in the Heart of London | SOHO',\n",
              " 'Cute Central West Kensington Room',\n",
              " 'Spacious Double Room in Central London',\n",
              " 'Beautiful Large Room in Family Home',\n",
              " 'Double Room 08 - near Tower of London & Shoreditch',\n",
              " 'Large & lovely room in Victorian house near tube',\n",
              " 'Bright, Large, Clean Room: Waterloo',\n",
              " 'Cosy double room in Camden',\n",
              " 'Nottinghill Gate Small Double Room',\n",
              " 'Bright clean single rm w/ balcony!',\n",
              " 'Stylish house close to river thames',\n",
              " 'Large Double room private bath near Kilburn tube',\n",
              " 'Quiet haven with private ensuite and breakfast!',\n",
              " 'Private studio own entrance, ensuite & kitchenette',\n",
              " 'Piccadilly Soho, Small Cosy Room, Top Location (3)',\n",
              " '16 min walk to London Eye + Balcony',\n",
              " 'Cozy double in modern apartment',\n",
              " 'LONDON COOL STUDIO, 5 min to tube',\n",
              " 'Cosy Single Bedroom in Westminster',\n",
              " 'Bright room in Artists house',\n",
              " 'Lovely Double ensuite-room in Chelsea (ZONE 1)',\n",
              " 'An excellent central London Room',\n",
              " '17 minutes walk to Big Ben (US)',\n",
              " 'Large Clean Double w/Private WC + Shower in room',\n",
              " 'Ely Cottage room S',\n",
              " 'The Muse Haus II - Riverside Room',\n",
              " 'BIG BEN VINTAGE ROOM Nr1!',\n",
              " 'Large, Clean, Bright Room: Waterloo',\n",
              " 'Cute Second Home in West Kensington',\n",
              " \"**CENTRAL** Comfy Artist's Home in Camden.\",\n",
              " 'Chic Room with Bath and Kitchenette Living Area',\n",
              " 'Double with Kitchenette',\n",
              " 'Cosy Dble in Kings Cross Houseshare',\n",
              " 'Brand new studio in Victoria 8A',\n",
              " 'En-suite Dbl @ Kings Cross Houshare',\n",
              " 'The Muse Haus I - Black Sheep',\n",
              " 'Sleep in a Room in Central  Apartment',\n",
              " 'Bright Private Room SoHo (A)',\n",
              " 'Entire Flat on Portobello Road',\n",
              " 'Flat - Spitafields',\n",
              " 'The Muse Haus II - Balcony Room',\n",
              " 'Double room in Quiet Clerkenwell Loft Apartment',\n",
              " 'Piccadilly Circus 4.3 Cute Double Room',\n",
              " 'Gorgeous London garden apartment',\n",
              " 'CHELSEA, Cosy Room, Private Bathroom!',\n",
              " 'Room with En Suite in a Calming, Airy Home',\n",
              " 'Cosy Victorian 1 bed apartment',\n",
              " 'Trendy and very central 1 bedroom',\n",
              " 'Amazing room in former embassy',\n",
              " 'London Luxury Apartment#1 Zone 1 On Promo',\n",
              " 'INDEPENDENT COSY LITTLE HOUSE IN CENTRAL LONDON',\n",
              " 'Double Rm in Architect Designed Apt',\n",
              " 'Canary Wharf Immaculate Apt for 2',\n",
              " '0A3- LONDON ROOM WITH PRIVATE BATHROOM / Harrods',\n",
              " 'Georgian Townhouse in Holborn!',\n",
              " 'London Studio Apartment#32 Zone 1 On Promo',\n",
              " 'Central London Apt by Marble Arch, Buses & Metro.',\n",
              " 'Room in Designer House Notting Hill',\n",
              " 'Cosy, Enchanting Coach House in Telegraph Hill',\n",
              " 'Private Room Penthouse Shaftesbury Avenue (2)',\n",
              " 'Nice Studio close to London Bridge',\n",
              " 'Massive room in Leicester Square +Free Breakfast',\n",
              " 'Warm cosy cabin in houseboat near Kings Cross',\n",
              " 'Charming Coach House , East London',\n",
              " 'Central West End Large Double Room',\n",
              " 'Cosy and Inviting Private Top-Floor Room in Parsons Green',\n",
              " 'Private Ensuite Bedroom & Bath in Paddington',\n",
              " 'More than just a room! Bed & Breakfast',\n",
              " ...]"
            ]
          },
          "metadata": {
            "tags": []
          },
          "execution_count": 228
        }
      ]
    },
    {
      "cell_type": "code",
      "metadata": {
        "id": "As8sOKx5ApIO",
        "colab_type": "code",
        "colab": {}
      },
      "source": [
        ""
      ],
      "execution_count": 0,
      "outputs": []
    }
  ]
}
