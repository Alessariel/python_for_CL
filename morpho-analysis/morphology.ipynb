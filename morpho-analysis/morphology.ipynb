{
 "cells": [
  {
   "cell_type": "markdown",
   "metadata": {
    "colab_type": "text",
    "id": "qUCeat3VZWY6"
   },
   "source": [
    "Сегодня мы поговорим о морфологических анализаторах для русского языка. Важно отметить, что (в основном) для каждого естественного языка нужен свой морфоанализатор.\n",
    "\n",
    "* шаг 1: установим пайморфи и майстем"
   ]
  },
  {
   "cell_type": "code",
   "execution_count": 1,
   "metadata": {
    "colab": {
     "base_uri": "https://localhost:8080/",
     "height": 326
    },
    "colab_type": "code",
    "collapsed": true,
    "id": "tP2ugs4qYMIO",
    "outputId": "21a7fa9d-c127-43b8-9f60-2f804e38aa9d"
   },
   "outputs": [
    {
     "name": "stdout",
     "output_type": "stream",
     "text": [
      "Requirement already satisfied: pymystem3==0.1.10 in /Library/Frameworks/Python.framework/Versions/3.8/lib/python3.8/site-packages (0.1.10)\n",
      "Requirement already satisfied: requests in /Library/Frameworks/Python.framework/Versions/3.8/lib/python3.8/site-packages (from pymystem3==0.1.10) (2.24.0)\n",
      "Requirement already satisfied: certifi>=2017.4.17 in /Library/Frameworks/Python.framework/Versions/3.8/lib/python3.8/site-packages (from requests->pymystem3==0.1.10) (2020.4.5.2)\n",
      "Requirement already satisfied: chardet<4,>=3.0.2 in /Library/Frameworks/Python.framework/Versions/3.8/lib/python3.8/site-packages (from requests->pymystem3==0.1.10) (3.0.4)\n",
      "Requirement already satisfied: idna<3,>=2.5 in /Library/Frameworks/Python.framework/Versions/3.8/lib/python3.8/site-packages (from requests->pymystem3==0.1.10) (2.10)\n",
      "Requirement already satisfied: urllib3!=1.25.0,!=1.25.1,<1.26,>=1.21.1 in /Library/Frameworks/Python.framework/Versions/3.8/lib/python3.8/site-packages (from requests->pymystem3==0.1.10) (1.25.10)\n",
      "\u001b[33mWARNING: You are using pip version 20.3; however, version 20.3.3 is available.\n",
      "You should consider upgrading via the '/Library/Frameworks/Python.framework/Versions/3.8/bin/python3.8 -m pip install --upgrade pip' command.\u001b[0m\n",
      "Requirement already satisfied: pymorphy2[fast] in /Library/Frameworks/Python.framework/Versions/3.8/lib/python3.8/site-packages (0.9.1)\n",
      "Requirement already satisfied: pymorphy2-dicts-ru<3.0,>=2.4 in /Library/Frameworks/Python.framework/Versions/3.8/lib/python3.8/site-packages (from pymorphy2[fast]) (2.4.417127.4579844)\n",
      "Requirement already satisfied: docopt>=0.6 in /Library/Frameworks/Python.framework/Versions/3.8/lib/python3.8/site-packages (from pymorphy2[fast]) (0.6.2)\n",
      "Requirement already satisfied: dawg-python>=0.7.1 in /Library/Frameworks/Python.framework/Versions/3.8/lib/python3.8/site-packages (from pymorphy2[fast]) (0.7.2)\n",
      "Requirement already satisfied: DAWG>=0.8 in /Library/Frameworks/Python.framework/Versions/3.8/lib/python3.8/site-packages (from pymorphy2[fast]) (0.8.0)\n",
      "Requirement already satisfied: pymorphy2-dicts-ru<3.0,>=2.4 in /Library/Frameworks/Python.framework/Versions/3.8/lib/python3.8/site-packages (from pymorphy2[fast]) (2.4.417127.4579844)\n",
      "Requirement already satisfied: docopt>=0.6 in /Library/Frameworks/Python.framework/Versions/3.8/lib/python3.8/site-packages (from pymorphy2[fast]) (0.6.2)\n",
      "Requirement already satisfied: dawg-python>=0.7.1 in /Library/Frameworks/Python.framework/Versions/3.8/lib/python3.8/site-packages (from pymorphy2[fast]) (0.7.2)\n",
      "\u001b[33mWARNING: You are using pip version 20.3; however, version 20.3.3 is available.\n",
      "You should consider upgrading via the '/Library/Frameworks/Python.framework/Versions/3.8/bin/python3.8 -m pip install --upgrade pip' command.\u001b[0m\n"
     ]
    }
   ],
   "source": [
    "!pip install pymystem3==0.1.10\n",
    "!pip install pymorphy2[fast]"
   ]
  },
  {
   "cell_type": "code",
   "execution_count": 2,
   "metadata": {
    "colab": {
     "base_uri": "https://localhost:8080/",
     "height": 54
    },
    "colab_type": "code",
    "id": "K_EYd7mJanYb",
    "outputId": "41b8f3a1-b8fd-42e9-a8a5-020f05b952df"
   },
   "outputs": [],
   "source": [
    "# импорты\n",
    "from pymorphy2 import MorphAnalyzer\n",
    "from pymystem3 import Mystem\n",
    "\n",
    "# сохраняем класс в переменную\n",
    "mystem = Mystem() \n",
    "morph = MorphAnalyzer() "
   ]
  },
  {
   "cell_type": "code",
   "execution_count": 3,
   "metadata": {
    "colab": {},
    "colab_type": "code",
    "id": "sAm6HB5hfS-A"
   },
   "outputs": [],
   "source": [
    "# сэмпл-текст, на котором все будем пробовать\n",
    "text = \"\"\"Система состоит из камеры и программного обеспечения, которое анализирует фотографию.\n",
    " Суть технологии — сопоставление лиц, попавших в объектив, с изображениями из базы данных\"\"\""
   ]
  },
  {
   "cell_type": "markdown",
   "metadata": {
    "colab_type": "text",
    "id": "BBDkyu6kdeQO"
   },
   "source": [
    "## нормализация"
   ]
  },
  {
   "cell_type": "markdown",
   "metadata": {
    "colab_type": "text",
    "id": "YJ05gNGxkY4I"
   },
   "source": [
    "давайте приведем текст к нижнему регистру"
   ]
  },
  {
   "cell_type": "code",
   "execution_count": 4,
   "metadata": {
    "colab": {
     "base_uri": "https://localhost:8080/",
     "height": 54
    },
    "colab_type": "code",
    "id": "y1dUzBYcdiNk",
    "outputId": "0c1efc14-36f9-4361-b796-52a4aacf31f8"
   },
   "outputs": [
    {
     "data": {
      "text/plain": [
       "'система состоит из камеры и программного обеспечения, которое анализирует фотографию.\\n суть технологии — сопоставление лиц, попавших в объектив, с изображениями из базы данных'"
      ]
     },
     "execution_count": 4,
     "metadata": {},
     "output_type": "execute_result"
    }
   ],
   "source": [
    "text = text.lower()\n",
    "text"
   ]
  },
  {
   "cell_type": "markdown",
   "metadata": {
    "colab_type": "text",
    "id": "hr9pnX59bD3Q"
   },
   "source": [
    "## токенизация"
   ]
  },
  {
   "cell_type": "markdown",
   "metadata": {
    "colab_type": "text",
    "id": "5evdBA7CkeRC"
   },
   "source": [
    "иногда текст нужно предварительно разбить на токены, отдельные элементы. Токенизаторов много, каждый делает это, руководствуясь своими правилами\n",
    "\n",
    "* токенизация нужна, если морофоанализатор не умеет токенизировать сам (Mystem умеет, pymorphy не умеет)"
   ]
  },
  {
   "cell_type": "code",
   "execution_count": 5,
   "metadata": {
    "colab": {},
    "colab_type": "code",
    "id": "B0E_YZ0KarCA"
   },
   "outputs": [
    {
     "data": {
      "text/plain": [
       "['система',\n",
       " 'состоит',\n",
       " 'из',\n",
       " 'камеры',\n",
       " 'и',\n",
       " 'программного',\n",
       " 'обеспечения',\n",
       " 'которое',\n",
       " 'анализирует',\n",
       " 'фотографию',\n",
       " 'суть',\n",
       " 'технологии',\n",
       " 'сопоставление',\n",
       " 'лиц',\n",
       " 'попавших',\n",
       " 'в',\n",
       " 'объектив',\n",
       " 'с',\n",
       " 'изображениями',\n",
       " 'из',\n",
       " 'базы',\n",
       " 'данных']"
      ]
     },
     "execution_count": 5,
     "metadata": {},
     "output_type": "execute_result"
    }
   ],
   "source": [
    "# попробуем токенизацию от модуля gensim\n",
    "from gensim.utils import tokenize\n",
    "\n",
    "list(tokenize(text))"
   ]
  },
  {
   "cell_type": "code",
   "execution_count": 6,
   "metadata": {
    "colab": {},
    "colab_type": "code",
    "id": "VTGeMdVzb1h9"
   },
   "outputs": [],
   "source": [
    "#  еще можно токенизировать функциями из модуля nltk\n",
    "\n",
    "from nltk.tokenize import word_tokenize, wordpunct_tokenize # попробуем две функции"
   ]
  },
  {
   "cell_type": "code",
   "execution_count": 7,
   "metadata": {
    "colab": {
     "base_uri": "https://localhost:8080/",
     "height": 34
    },
    "colab_type": "code",
    "id": "PdAFdQp3cIuu",
    "outputId": "bfbf7c74-5c27-409f-d5c2-43c549156ed8"
   },
   "outputs": [
    {
     "data": {
      "text/plain": [
       "['O', \"'\", 'Brian', ',', 'Ростов', '-', 'на', '-', 'Дону', ',', 'обычноеслово']"
      ]
     },
     "execution_count": 7,
     "metadata": {},
     "output_type": "execute_result"
    }
   ],
   "source": [
    "wordpunct_tokenize(\"O'Brian, Ростов-на-Дону, обычноеслово\")"
   ]
  },
  {
   "cell_type": "code",
   "execution_count": 17,
   "metadata": {
    "colab": {
     "base_uri": "https://localhost:8080/",
     "height": 68
    },
    "colab_type": "code",
    "id": "7n8P5o8RgFd9",
    "outputId": "aa7219c3-a1d6-4fe0-f06b-8f531f30fd15"
   },
   "outputs": [
    {
     "data": {
      "text/plain": [
       "True"
      ]
     },
     "execution_count": 17,
     "metadata": {},
     "output_type": "execute_result"
    }
   ],
   "source": [
    "import nltk\n",
    "import ssl\n",
    "\n",
    "try:\n",
    "    _create_unverified_https_context = ssl._create_unverified_context\n",
    "except AttributeError:\n",
    "    pass\n",
    "else:\n",
    "    ssl._create_default_https_context = _create_unverified_https_context\n",
    "\n",
    "\n",
    "import nltk\n",
    "nltk.download(\"punkt\", quiet=True)\n",
    "nltk.download(\"stopwords\", quiet=True)"
   ]
  },
  {
   "cell_type": "code",
   "execution_count": 18,
   "metadata": {},
   "outputs": [
    {
     "data": {
      "text/plain": [
       "[\"O'Brian\", ',', 'Ростов-на-Дону', ',', 'обычноеслово']"
      ]
     },
     "execution_count": 18,
     "metadata": {},
     "output_type": "execute_result"
    }
   ],
   "source": [
    "\n",
    "word_tokenize(\"O'Brian, Ростов-на-Дону, обычноеслово\")"
   ]
  },
  {
   "cell_type": "markdown",
   "metadata": {
    "colab_type": "text",
    "id": "myoMhGgKjk1d"
   },
   "source": [
    "## лемматизация и морфоанализ"
   ]
  },
  {
   "cell_type": "markdown",
   "metadata": {
    "colab_type": "text",
    "id": "FK0Zwx3FSfug"
   },
   "source": [
    "### Mystem"
   ]
  },
  {
   "cell_type": "markdown",
   "metadata": {
    "colab_type": "text",
    "id": "Uei-SLNwSfuh"
   },
   "source": [
    "\n",
    "Майстем работает немного лучше и сам токенизирует,\n",
    "поэтому можно ему подавать сырой текст."
   ]
  },
  {
   "cell_type": "code",
   "execution_count": 19,
   "metadata": {
    "colab": {
     "base_uri": "https://localhost:8080/",
     "height": 88
    },
    "colab_type": "code",
    "id": "uDQbEwUaSfui",
    "outputId": "2397f16d-2559-40d5-dddc-e5dcb37bb524"
   },
   "outputs": [
    {
     "name": "stdout",
     "output_type": "stream",
     "text": [
      "система состоит из камеры и программного обеспечения, которое анализирует фотографию.\n",
      " суть технологии — сопоставление лиц, попавших в объектив, с изображениями из базы данных\n",
      "['система', ' ', 'состоять', ' ', 'из', ' ', 'камера', ' ', 'и', ' ', 'программный', ' ', 'обеспечение', ', ', 'который', ' ', 'анализировать', ' ', 'фотография', '.', '\\n', ' ', 'суть', ' ', 'технология', ' — ', 'сопоставление', ' ', 'лицо', ', ', 'попадать', ' ', 'в', ' ', 'объектив', ', ', 'с', ' ', 'изображение', ' ', 'из', ' ', 'база', ' ', 'данные', '\\n']\n"
     ]
    }
   ],
   "source": [
    "# сначала лемматизируем слова методом .lemmatize()\n",
    "print(text)\n",
    "print(mystem.lemmatize(text))\n"
   ]
  },
  {
   "cell_type": "code",
   "execution_count": 22,
   "metadata": {
    "colab": {},
    "colab_type": "code",
    "id": "4foA60oJSfur"
   },
   "outputs": [],
   "source": [
    "# метод .analyze() даст грамматическую информацию о словах\n",
    "words_analyzed = mystem.analyze(text)"
   ]
  },
  {
   "cell_type": "markdown",
   "metadata": {
    "colab_type": "text",
    "id": "I-AaAvpyLcsI"
   },
   "source": [
    "этот метод возвращает список словарей\n",
    "\n",
    "\n",
    "каждый словарь имеет либо одно поле 'text' (когда попался пробел или пунктуация) или text и analysis\n",
    "\n",
    "* в analysis снова список словарей с вариантами разбора (первый самый вероятный)\n",
    "* поля в analysis - 'gr' - грамматическая информация, 'lex' - лемма\n",
    "* analysis - может быть пустым списком"
   ]
  },
  {
   "cell_type": "code",
   "execution_count": 30,
   "metadata": {
    "colab": {},
    "colab_type": "code",
    "id": "j8dvucDvL9Be"
   },
   "outputs": [
    {
     "name": "stdout",
     "output_type": "stream",
     "text": [
      "объект типа <class 'list'> \n",
      " длина:  46 \n",
      " [{'analysis': [{'lex': 'система', 'wt': 1, 'gr': 'S,жен,неод=им,ед'}], 'text': 'система'}, {'text': ' '}, {'analysis': [{'lex': 'состоять', 'wt': 1, 'gr': 'V,несов,нп=непрош,ед,изъяв,3-л'}], 'text': 'состоит'}, {'text': ' '}, {'analysis': [{'lex': 'из', 'wt': 1, 'gr': 'PR='}], 'text': 'из'}, {'text': ' '}, {'analysis': [{'lex': 'камера', 'wt': 1, 'gr': 'S,жен,неод=(вин,мн|род,ед|им,мн)'}], 'text': 'камеры'}, {'text': ' '}, {'analysis': [{'lex': 'и', 'wt': 0.9999770522, 'gr': 'CONJ='}], 'text': 'и'}, {'text': ' '}, {'analysis': [{'lex': 'программный', 'wt': 1, 'gr': 'A=(вин,ед,полн,муж,од|род,ед,полн,муж|род,ед,полн,сред)'}], 'text': 'программного'}, {'text': ' '}, {'analysis': [{'lex': 'обеспечение', 'wt': 1, 'gr': 'S,сред,неод=(вин,мн|род,ед|им,мн)'}], 'text': 'обеспечения'}, {'text': ', '}, {'analysis': [{'lex': 'который', 'wt': 1, 'gr': 'APRO=(вин,ед,сред|им,ед,сред)'}], 'text': 'которое'}, {'text': ' '}, {'analysis': [{'lex': 'анализировать', 'wt': 1, 'gr': 'V,несов,пе=непрош,ед,изъяв,3-л'}], 'text': 'анализирует'}, {'text': ' '}, {'analysis': [{'lex': 'фотография', 'wt': 1, 'gr': 'S,жен,неод=вин,ед'}], 'text': 'фотографию'}, {'text': '.'}, {'text': '\\n'}, {'text': ' '}, {'analysis': [{'lex': 'суть', 'wt': 0.9472598433, 'gr': 'S,жен,неод=(вин,ед|им,ед)'}], 'text': 'суть'}, {'text': ' '}, {'analysis': [{'lex': 'технология', 'wt': 1, 'gr': 'S,жен,неод=(пр,ед|вин,мн|дат,ед|род,ед|им,мн)'}], 'text': 'технологии'}, {'text': ' — '}, {'analysis': [{'lex': 'сопоставление', 'wt': 1, 'gr': 'S,сред,неод=(вин,ед|им,ед)'}], 'text': 'сопоставление'}, {'text': ' '}, {'analysis': [{'lex': 'лицо', 'wt': 0.5673576593, 'gr': 'S,сред,неод=род,мн'}], 'text': 'лиц'}, {'text': ', '}, {'analysis': [{'lex': 'попадать', 'wt': 0.9701525569, 'gr': 'V,нп=(прош,пр,мн,прич,полн,сов,действ|прош,род,мн,прич,полн,сов,действ|прош,вин,мн,прич,полн,сов,действ,од)'}], 'text': 'попавших'}, {'text': ' '}, {'analysis': [{'lex': 'в', 'wt': 0.9999917746, 'gr': 'PR='}], 'text': 'в'}, {'text': ' '}, {'analysis': [{'lex': 'объектив', 'wt': 1, 'gr': 'S,муж,неод=(вин,ед|им,ед)'}], 'text': 'объектив'}, {'text': ', '}, {'analysis': [{'lex': 'с', 'wt': 0.9999778271, 'gr': 'PR='}], 'text': 'с'}, {'text': ' '}, {'analysis': [{'lex': 'изображение', 'wt': 1, 'gr': 'S,сред,неод=твор,мн'}], 'text': 'изображениями'}, {'text': ' '}, {'analysis': [{'lex': 'из', 'wt': 1, 'gr': 'PR='}], 'text': 'из'}, {'text': ' '}, {'analysis': [{'lex': 'база', 'wt': 0.9869075418, 'gr': 'S,жен,неод=(вин,мн|род,ед|им,мн)'}], 'text': 'базы'}, {'text': ' '}, {'analysis': [{'lex': 'данные', 'wt': 0.9271318316, 'gr': 'S,мн,неод=(пр|род)'}], 'text': 'данных'}, {'text': '\\n'}]\n"
     ]
    }
   ],
   "source": [
    "print(\"объект типа\", type(words_analyzed),\"\\n\",\n",
    "      \"длина: \", len(words_analyzed),\"\\n\",\n",
    "      words_analyzed) # посмотрим на анализ и теги"
   ]
  },
  {
   "cell_type": "code",
   "execution_count": 31,
   "metadata": {
    "colab": {
     "base_uri": "https://localhost:8080/",
     "height": 85
    },
    "colab_type": "code",
    "id": "zbbCXnFbSfuw",
    "outputId": "cd7f46c2-9582-470f-a874-7156a090d98f"
   },
   "outputs": [
    {
     "name": "stdout",
     "output_type": "stream",
     "text": [
      "Слово -  система\n",
      "Разбор слова -  {'lex': 'система', 'wt': 1, 'gr': 'S,жен,неод=им,ед'}\n",
      "Лемма слова -  система\n",
      "Грамматическая информация слова -  S,жен,неод=им,ед\n"
     ]
    }
   ],
   "source": [
    "# сделаем все красиво с индексами и доступом по ключам\n",
    "\n",
    "print('Слово - ', words_analized[0]['text'])\n",
    "print('Разбор слова - ', words_analized[0]['analysis'][0])\n",
    "print('Лемма слова - ', words_analized[0]['analysis'][0]['lex'])\n",
    "print('Грамматическая информация слова - ', words_analized[0]['analysis'][0]['gr'])"
   ]
  },
  {
   "cell_type": "code",
   "execution_count": 32,
   "metadata": {
    "colab": {
     "base_uri": "https://localhost:8080/",
     "height": 187
    },
    "colab_type": "code",
    "id": "FHs_zUYySfuz",
    "outputId": "f5472fb6-d873-45a1-bc09-34d14eca00c6"
   },
   "outputs": [
    {
     "data": {
      "text/plain": [
       "['система',\n",
       " 'состоять',\n",
       " 'из',\n",
       " 'камера',\n",
       " 'и',\n",
       " 'программный',\n",
       " 'обеспечение',\n",
       " 'который',\n",
       " 'анализировать',\n",
       " 'фотография']"
      ]
     },
     "execution_count": 32,
     "metadata": {},
     "output_type": "execute_result"
    }
   ],
   "source": [
    "#леммы можно достать в одну строчку\n",
    "[parse['analysis'][0]['lex'] for parse in words_analized if parse.get('analysis')][:10]"
   ]
  },
  {
   "cell_type": "code",
   "execution_count": 33,
   "metadata": {
    "colab": {},
    "colab_type": "code",
    "id": "G_9QmDvEi-2y"
   },
   "outputs": [
    {
     "data": {
      "text/plain": [
       "['система',\n",
       " 'состоять',\n",
       " 'из',\n",
       " 'камера',\n",
       " 'и',\n",
       " 'программный',\n",
       " 'обеспечение',\n",
       " 'который',\n",
       " 'анализировать',\n",
       " 'фотография']"
      ]
     },
     "execution_count": 33,
     "metadata": {},
     "output_type": "execute_result"
    }
   ],
   "source": [
    "# то же самое, что в предыдущей ячейке, но циклом\n",
    "res = []\n",
    "for parse in words_analized:\n",
    "    if parse.get('analysis'):\n",
    "        res.append(parse['analysis'][0]['lex'])\n",
    "\n",
    "res[:10]"
   ]
  },
  {
   "cell_type": "markdown",
   "metadata": {
    "colab_type": "text",
    "id": "prpnW0kWjtdg"
   },
   "source": [
    "#### дополнительные возможности Mystem"
   ]
  },
  {
   "cell_type": "markdown",
   "metadata": {
    "colab_type": "text",
    "id": "U8fThMyuSfu2"
   },
   "source": [
    "Mystem умеет разбивать текст на предложения, но через питоновский интерфейс это сделать не получится. Нужно скачать mystem отсюда - https://yandex.ru/dev/mystem/ и использовать в командной строке"
   ]
  },
  {
   "cell_type": "markdown",
   "metadata": {
    "colab_type": "text",
    "id": "iInXST2ASfvF"
   },
   "source": [
    "Недостатки Mystem: это продукт Яндекса с некоторыми ограничениями на использование, больше он не развивается."
   ]
  },
  {
   "cell_type": "markdown",
   "metadata": {
    "colab_type": "text",
    "id": "xmGbPTt9SfvH"
   },
   "source": [
    "### Pymorphy"
   ]
  },
  {
   "cell_type": "markdown",
   "metadata": {
    "colab_type": "text",
    "id": "AmEOXgExSfvK"
   },
   "source": [
    "Pymorphy - открытый и развивается (можно поучаствовать на гитхабе)\n",
    "\n",
    "Ссылка на репозиторий: https://github.com/kmike/pymorphy2\n",
    "\n",
    "Попробуйте сразу установить быструю версию (команда для терминала ```pip3 install pymorphy2[fast]```)\n",
    "\n",
    "* [документация pymorphy](https://pythonhosted.org/pymorphy/)"
   ]
  },
  {
   "cell_type": "markdown",
   "metadata": {
    "colab_type": "text",
    "id": "kacinkpvSfvL"
   },
   "source": [
    "У него нет втстроенной токенизации и он расценивает всё как слово. Когда есть несколько вариантов, он выдает их с вероятностостями, которые расчитатны на корпусе со снятой неоднозначностью. Это лучше стемминга, но хуже майстема."
   ]
  },
  {
   "cell_type": "code",
   "execution_count": 42,
   "metadata": {
    "colab": {},
    "colab_type": "code",
    "id": "vLAH4hFGSfvM"
   },
   "outputs": [],
   "source": [
    "# основная функция - pymorphy.parse\n",
    "words_analyzed = [morph.parse(token) for token in word_tokenize(text)]"
   ]
  },
  {
   "cell_type": "code",
   "execution_count": 43,
   "metadata": {
    "colab": {},
    "colab_type": "code",
    "id": "Xczi9QqikC3w"
   },
   "outputs": [
    {
     "data": {
      "text/plain": [
       "[[Parse(word='система', tag=OpencorporaTag('NOUN,inan,femn sing,nomn'), normal_form='система', score=1.0, methods_stack=((DictionaryAnalyzer(), 'система', 55, 0),))],\n",
       " [Parse(word='состоит', tag=OpencorporaTag('VERB,impf,intr sing,3per,pres,indc'), normal_form='состоять', score=1.0, methods_stack=((DictionaryAnalyzer(), 'состоит', 2269, 5),))],\n",
       " [Parse(word='из', tag=OpencorporaTag('PREP'), normal_form='из', score=0.999673, methods_stack=((DictionaryAnalyzer(), 'из', 393, 0),)),\n",
       "  Parse(word='из', tag=OpencorporaTag('NOUN,anim,femn,Name plur,gent'), normal_form='иза', score=0.000163, methods_stack=((DictionaryAnalyzer(), 'из', 69, 8),)),\n",
       "  Parse(word='из', tag=OpencorporaTag('NOUN,anim,femn,Name plur,accs'), normal_form='иза', score=0.000163, methods_stack=((DictionaryAnalyzer(), 'из', 69, 10),))],\n",
       " [Parse(word='камеры', tag=OpencorporaTag('NOUN,inan,femn sing,gent'), normal_form='камера', score=0.484848, methods_stack=((DictionaryAnalyzer(), 'камеры', 55, 1),)),\n",
       "  Parse(word='камеры', tag=OpencorporaTag('NOUN,inan,femn plur,nomn'), normal_form='камера', score=0.272727, methods_stack=((DictionaryAnalyzer(), 'камеры', 55, 7),)),\n",
       "  Parse(word='камеры', tag=OpencorporaTag('NOUN,inan,femn plur,accs'), normal_form='камера', score=0.242424, methods_stack=((DictionaryAnalyzer(), 'камеры', 55, 10),))],\n",
       " [Parse(word='и', tag=OpencorporaTag('CONJ'), normal_form='и', score=0.998263, methods_stack=((DictionaryAnalyzer(), 'и', 20, 0),)),\n",
       "  Parse(word='и', tag=OpencorporaTag('PRCL'), normal_form='и', score=0.000306, methods_stack=((DictionaryAnalyzer(), 'и', 22, 0),)),\n",
       "  Parse(word='и', tag=OpencorporaTag('INTJ'), normal_form='и', score=0.000204, methods_stack=((DictionaryAnalyzer(), 'и', 21, 0),)),\n",
       "  Parse(word='и', tag=OpencorporaTag('NOUN,anim,masc,Fixd,Abbr sing,nomn'), normal_form='и', score=0.000102, methods_stack=((DictionaryAnalyzer(), 'и', 3289, 0),)),\n",
       "  Parse(word='и', tag=OpencorporaTag('NOUN,anim,masc,Fixd,Abbr sing,gent'), normal_form='и', score=0.000102, methods_stack=((DictionaryAnalyzer(), 'и', 3289, 1),)),\n",
       "  Parse(word='и', tag=OpencorporaTag('NOUN,anim,masc,Fixd,Abbr sing,datv'), normal_form='и', score=0.000102, methods_stack=((DictionaryAnalyzer(), 'и', 3289, 2),)),\n",
       "  Parse(word='и', tag=OpencorporaTag('NOUN,anim,masc,Fixd,Abbr sing,accs'), normal_form='и', score=0.000102, methods_stack=((DictionaryAnalyzer(), 'и', 3289, 3),)),\n",
       "  Parse(word='и', tag=OpencorporaTag('NOUN,anim,masc,Fixd,Abbr sing,ablt'), normal_form='и', score=0.000102, methods_stack=((DictionaryAnalyzer(), 'и', 3289, 4),)),\n",
       "  Parse(word='и', tag=OpencorporaTag('NOUN,anim,masc,Fixd,Abbr sing,loct'), normal_form='и', score=0.000102, methods_stack=((DictionaryAnalyzer(), 'и', 3289, 5),)),\n",
       "  Parse(word='и', tag=OpencorporaTag('NOUN,anim,masc,Fixd,Abbr plur,nomn'), normal_form='и', score=0.000102, methods_stack=((DictionaryAnalyzer(), 'и', 3289, 6),)),\n",
       "  Parse(word='и', tag=OpencorporaTag('NOUN,anim,masc,Fixd,Abbr plur,gent'), normal_form='и', score=0.000102, methods_stack=((DictionaryAnalyzer(), 'и', 3289, 7),)),\n",
       "  Parse(word='и', tag=OpencorporaTag('NOUN,anim,masc,Fixd,Abbr plur,datv'), normal_form='и', score=0.000102, methods_stack=((DictionaryAnalyzer(), 'и', 3289, 8),)),\n",
       "  Parse(word='и', tag=OpencorporaTag('NOUN,anim,masc,Fixd,Abbr plur,accs'), normal_form='и', score=0.000102, methods_stack=((DictionaryAnalyzer(), 'и', 3289, 9),)),\n",
       "  Parse(word='и', tag=OpencorporaTag('NOUN,anim,masc,Fixd,Abbr plur,ablt'), normal_form='и', score=0.000102, methods_stack=((DictionaryAnalyzer(), 'и', 3289, 10),)),\n",
       "  Parse(word='и', tag=OpencorporaTag('NOUN,anim,masc,Fixd,Abbr plur,loct'), normal_form='и', score=0.000102, methods_stack=((DictionaryAnalyzer(), 'и', 3289, 11),))],\n",
       " [Parse(word='программного', tag=OpencorporaTag('ADJF neut,sing,gent'), normal_form='программный', score=0.961538, methods_stack=((DictionaryAnalyzer(), 'программного', 35, 15),)),\n",
       "  Parse(word='программного', tag=OpencorporaTag('ADJF masc,sing,gent'), normal_form='программный', score=0.01923, methods_stack=((DictionaryAnalyzer(), 'программного', 35, 1),)),\n",
       "  Parse(word='программного', tag=OpencorporaTag('ADJF anim,masc,sing,accs'), normal_form='программный', score=0.01923, methods_stack=((DictionaryAnalyzer(), 'программного', 35, 3),))],\n",
       " [Parse(word='обеспечения', tag=OpencorporaTag('NOUN,inan,neut sing,gent'), normal_form='обеспечение', score=0.987421, methods_stack=((DictionaryAnalyzer(), 'обеспечения', 77, 2),)),\n",
       "  Parse(word='обеспечения', tag=OpencorporaTag('NOUN,inan,neut plur,nomn'), normal_form='обеспечение', score=0.006289, methods_stack=((DictionaryAnalyzer(), 'обеспечения', 77, 13),)),\n",
       "  Parse(word='обеспечения', tag=OpencorporaTag('NOUN,inan,neut plur,accs'), normal_form='обеспечение', score=0.006289, methods_stack=((DictionaryAnalyzer(), 'обеспечения', 77, 18),))],\n",
       " [Parse(word=',', tag=OpencorporaTag('PNCT'), normal_form=',', score=1.0, methods_stack=((PunctuationAnalyzer(score=0.9), ','),))],\n",
       " [Parse(word='которое', tag=OpencorporaTag('ADJF,Subx,Apro,Anph neut,sing,nomn'), normal_form='который', score=0.595238, methods_stack=((DictionaryAnalyzer(), 'которое', 1867, 13),)),\n",
       "  Parse(word='которое', tag=OpencorporaTag('ADJF,Subx,Apro,Anph neut,sing,accs'), normal_form='который', score=0.404761, methods_stack=((DictionaryAnalyzer(), 'которое', 1867, 16),))],\n",
       " [Parse(word='анализирует', tag=OpencorporaTag('VERB,impf,tran sing,3per,pres,indc'), normal_form='анализировать', score=1.0, methods_stack=((DictionaryAnalyzer(), 'анализирует', 171, 5),))],\n",
       " [Parse(word='фотографию', tag=OpencorporaTag('NOUN,inan,femn sing,accs'), normal_form='фотография', score=1.0, methods_stack=((DictionaryAnalyzer(), 'фотографию', 41, 3),))],\n",
       " [Parse(word='.', tag=OpencorporaTag('PNCT'), normal_form='.', score=1.0, methods_stack=((PunctuationAnalyzer(score=0.9), '.'),))],\n",
       " [Parse(word='суть', tag=OpencorporaTag('VERB,impf,intr plur,3per,pres,indc,Arch'), normal_form='быть', score=0.525, methods_stack=((DictionaryAnalyzer(), 'суть', 620, 2),)),\n",
       "  Parse(word='суть', tag=OpencorporaTag('NOUN,inan,femn sing,nomn'), normal_form='суть', score=0.35, methods_stack=((DictionaryAnalyzer(), 'суть', 13, 0),)),\n",
       "  Parse(word='суть', tag=OpencorporaTag('NOUN,inan,femn sing,accs'), normal_form='суть', score=0.125, methods_stack=((DictionaryAnalyzer(), 'суть', 13, 3),))],\n",
       " [Parse(word='технологии', tag=OpencorporaTag('NOUN,inan,femn plur,nomn'), normal_form='технология', score=0.379746, methods_stack=((DictionaryAnalyzer(), 'технологии', 41, 7),)),\n",
       "  Parse(word='технологии', tag=OpencorporaTag('NOUN,inan,femn sing,gent'), normal_form='технология', score=0.265822, methods_stack=((DictionaryAnalyzer(), 'технологии', 41, 1),)),\n",
       "  Parse(word='технологии', tag=OpencorporaTag('NOUN,inan,femn plur,accs'), normal_form='технология', score=0.240506, methods_stack=((DictionaryAnalyzer(), 'технологии', 41, 10),)),\n",
       "  Parse(word='технологии', tag=OpencorporaTag('NOUN,inan,femn sing,datv'), normal_form='технология', score=0.063291, methods_stack=((DictionaryAnalyzer(), 'технологии', 41, 2),)),\n",
       "  Parse(word='технологии', tag=OpencorporaTag('NOUN,inan,femn sing,loct'), normal_form='технология', score=0.050632, methods_stack=((DictionaryAnalyzer(), 'технологии', 41, 6),))],\n",
       " [Parse(word='—', tag=OpencorporaTag('PNCT'), normal_form='—', score=1.0, methods_stack=((PunctuationAnalyzer(score=0.9), '—'),))],\n",
       " [Parse(word='сопоставление', tag=OpencorporaTag('NOUN,inan,neut sing,nomn'), normal_form='сопоставление', score=0.5, methods_stack=((DictionaryAnalyzer(), 'сопоставление', 77, 0),)),\n",
       "  Parse(word='сопоставление', tag=OpencorporaTag('NOUN,inan,neut sing,accs'), normal_form='сопоставление', score=0.5, methods_stack=((DictionaryAnalyzer(), 'сопоставление', 77, 6),))],\n",
       " [Parse(word='лиц', tag=OpencorporaTag('NOUN,anim,neut plur,gent'), normal_form='лицо', score=0.696048, methods_stack=((DictionaryAnalyzer(), 'лиц', 517, 7),)),\n",
       "  Parse(word='лиц', tag=OpencorporaTag('NOUN,anim,neut plur,accs'), normal_form='лицо', score=0.279635, methods_stack=((DictionaryAnalyzer(), 'лиц', 517, 9),)),\n",
       "  Parse(word='лиц', tag=OpencorporaTag('NOUN,inan,neut plur,gent'), normal_form='лицо', score=0.024316, methods_stack=((DictionaryAnalyzer(), 'лиц', 54, 7),))],\n",
       " [Parse(word=',', tag=OpencorporaTag('PNCT'), normal_form=',', score=1.0, methods_stack=((PunctuationAnalyzer(score=0.9), ','),))],\n",
       " [Parse(word='попавших', tag=OpencorporaTag('PRTF,perf,intr,past,actv plur,gent'), normal_form='попасть', score=0.3333333333333333, methods_stack=((DictionaryAnalyzer(), 'попавших', 956, 36),)),\n",
       "  Parse(word='попавших', tag=OpencorporaTag('PRTF,perf,intr,past,actv anim,plur,accs'), normal_form='попасть', score=0.3333333333333333, methods_stack=((DictionaryAnalyzer(), 'попавших', 956, 38),)),\n",
       "  Parse(word='попавших', tag=OpencorporaTag('PRTF,perf,intr,past,actv plur,loct'), normal_form='попасть', score=0.3333333333333333, methods_stack=((DictionaryAnalyzer(), 'попавших', 956, 41),))],\n",
       " [Parse(word='в', tag=OpencorporaTag('PREP'), normal_form='в', score=0.999327, methods_stack=((DictionaryAnalyzer(), 'в', 393, 0),)),\n",
       "  Parse(word='в', tag=OpencorporaTag('NOUN,inan,masc,Fixd,Abbr sing,gent'), normal_form='в', score=0.000249, methods_stack=((DictionaryAnalyzer(), 'в', 349, 1),)),\n",
       "  Parse(word='в', tag=OpencorporaTag('NOUN,inan,masc,Fixd,Abbr sing,loct'), normal_form='в', score=5.7e-05, methods_stack=((DictionaryAnalyzer(), 'в', 349, 5),)),\n",
       "  Parse(word='в', tag=OpencorporaTag('NOUN,inan,masc,Fixd,Abbr sing,nomn'), normal_form='в', score=1.9e-05, methods_stack=((DictionaryAnalyzer(), 'в', 349, 0),)),\n",
       "  Parse(word='в', tag=OpencorporaTag('NOUN,inan,masc,Fixd,Abbr sing,datv'), normal_form='в', score=1.9e-05, methods_stack=((DictionaryAnalyzer(), 'в', 349, 2),)),\n",
       "  Parse(word='в', tag=OpencorporaTag('NOUN,inan,masc,Fixd,Abbr sing,accs'), normal_form='в', score=1.9e-05, methods_stack=((DictionaryAnalyzer(), 'в', 349, 3),)),\n",
       "  Parse(word='в', tag=OpencorporaTag('NOUN,inan,masc,Fixd,Abbr sing,ablt'), normal_form='в', score=1.9e-05, methods_stack=((DictionaryAnalyzer(), 'в', 349, 4),)),\n",
       "  Parse(word='в', tag=OpencorporaTag('NOUN,inan,masc,Fixd,Abbr plur,nomn'), normal_form='в', score=1.9e-05, methods_stack=((DictionaryAnalyzer(), 'в', 349, 6),)),\n",
       "  Parse(word='в', tag=OpencorporaTag('NOUN,inan,masc,Fixd,Abbr plur,gent'), normal_form='в', score=1.9e-05, methods_stack=((DictionaryAnalyzer(), 'в', 349, 7),)),\n",
       "  Parse(word='в', tag=OpencorporaTag('NOUN,inan,masc,Fixd,Abbr plur,datv'), normal_form='в', score=1.9e-05, methods_stack=((DictionaryAnalyzer(), 'в', 349, 8),)),\n",
       "  Parse(word='в', tag=OpencorporaTag('NOUN,inan,masc,Fixd,Abbr plur,accs'), normal_form='в', score=1.9e-05, methods_stack=((DictionaryAnalyzer(), 'в', 349, 9),)),\n",
       "  Parse(word='в', tag=OpencorporaTag('NOUN,inan,masc,Fixd,Abbr plur,ablt'), normal_form='в', score=1.9e-05, methods_stack=((DictionaryAnalyzer(), 'в', 349, 10),)),\n",
       "  Parse(word='в', tag=OpencorporaTag('NOUN,inan,masc,Fixd,Abbr plur,loct'), normal_form='в', score=1.9e-05, methods_stack=((DictionaryAnalyzer(), 'в', 349, 11),))],\n",
       " [Parse(word='объектив', tag=OpencorporaTag('NOUN,inan,masc sing,nomn'), normal_form='объектив', score=0.75, methods_stack=((DictionaryAnalyzer(), 'объектив', 34, 0),)),\n",
       "  Parse(word='объектив', tag=OpencorporaTag('NOUN,inan,masc sing,accs'), normal_form='объектив', score=0.25, methods_stack=((DictionaryAnalyzer(), 'объектив', 34, 3),))],\n",
       " [Parse(word=',', tag=OpencorporaTag('PNCT'), normal_form=',', score=1.0, methods_stack=((PunctuationAnalyzer(score=0.9), ','),))],\n",
       " [Parse(word='с', tag=OpencorporaTag('PREP'), normal_form='с', score=0.997625, methods_stack=((DictionaryAnalyzer(), 'с', 393, 0),)),\n",
       "  Parse(word='с', tag=OpencorporaTag('NOUN,inan,femn,Fixd,Abbr plur,nomn'), normal_form='с', score=0.000407, methods_stack=((DictionaryAnalyzer(), 'с', 214, 6),)),\n",
       "  Parse(word='с', tag=OpencorporaTag('PRCL'), normal_form='с', score=0.000271, methods_stack=((DictionaryAnalyzer(), 'с', 22, 0),)),\n",
       "  Parse(word='с', tag=OpencorporaTag('NOUN,inan,femn,Fixd,Abbr sing,nomn'), normal_form='с', score=6.7e-05, methods_stack=((DictionaryAnalyzer(), 'с', 214, 0),)),\n",
       "  Parse(word='с', tag=OpencorporaTag('NOUN,inan,femn,Fixd,Abbr sing,gent'), normal_form='с', score=6.7e-05, methods_stack=((DictionaryAnalyzer(), 'с', 214, 1),)),\n",
       "  Parse(word='с', tag=OpencorporaTag('NOUN,inan,femn,Fixd,Abbr sing,datv'), normal_form='с', score=6.7e-05, methods_stack=((DictionaryAnalyzer(), 'с', 214, 2),)),\n",
       "  Parse(word='с', tag=OpencorporaTag('NOUN,inan,femn,Fixd,Abbr sing,accs'), normal_form='с', score=6.7e-05, methods_stack=((DictionaryAnalyzer(), 'с', 214, 3),)),\n",
       "  Parse(word='с', tag=OpencorporaTag('NOUN,inan,femn,Fixd,Abbr sing,ablt'), normal_form='с', score=6.7e-05, methods_stack=((DictionaryAnalyzer(), 'с', 214, 4),)),\n",
       "  Parse(word='с', tag=OpencorporaTag('NOUN,inan,femn,Fixd,Abbr sing,loct'), normal_form='с', score=6.7e-05, methods_stack=((DictionaryAnalyzer(), 'с', 214, 5),)),\n",
       "  Parse(word='с', tag=OpencorporaTag('NOUN,inan,femn,Fixd,Abbr plur,gent'), normal_form='с', score=6.7e-05, methods_stack=((DictionaryAnalyzer(), 'с', 214, 7),)),\n",
       "  Parse(word='с', tag=OpencorporaTag('NOUN,inan,femn,Fixd,Abbr plur,datv'), normal_form='с', score=6.7e-05, methods_stack=((DictionaryAnalyzer(), 'с', 214, 8),)),\n",
       "  Parse(word='с', tag=OpencorporaTag('NOUN,inan,femn,Fixd,Abbr plur,accs'), normal_form='с', score=6.7e-05, methods_stack=((DictionaryAnalyzer(), 'с', 214, 9),)),\n",
       "  Parse(word='с', tag=OpencorporaTag('NOUN,inan,femn,Fixd,Abbr plur,ablt'), normal_form='с', score=6.7e-05, methods_stack=((DictionaryAnalyzer(), 'с', 214, 10),)),\n",
       "  Parse(word='с', tag=OpencorporaTag('NOUN,inan,femn,Fixd,Abbr plur,loct'), normal_form='с', score=6.7e-05, methods_stack=((DictionaryAnalyzer(), 'с', 214, 11),)),\n",
       "  Parse(word='с', tag=OpencorporaTag('NOUN,inan,neut,Fixd,Abbr sing,nomn'), normal_form='с', score=6.7e-05, methods_stack=((DictionaryAnalyzer(), 'с', 812, 0),)),\n",
       "  Parse(word='с', tag=OpencorporaTag('NOUN,inan,neut,Fixd,Abbr sing,gent'), normal_form='с', score=6.7e-05, methods_stack=((DictionaryAnalyzer(), 'с', 812, 1),)),\n",
       "  Parse(word='с', tag=OpencorporaTag('NOUN,inan,neut,Fixd,Abbr sing,datv'), normal_form='с', score=6.7e-05, methods_stack=((DictionaryAnalyzer(), 'с', 812, 2),)),\n",
       "  Parse(word='с', tag=OpencorporaTag('NOUN,inan,neut,Fixd,Abbr sing,accs'), normal_form='с', score=6.7e-05, methods_stack=((DictionaryAnalyzer(), 'с', 812, 3),)),\n",
       "  Parse(word='с', tag=OpencorporaTag('NOUN,inan,neut,Fixd,Abbr sing,ablt'), normal_form='с', score=6.7e-05, methods_stack=((DictionaryAnalyzer(), 'с', 812, 4),)),\n",
       "  Parse(word='с', tag=OpencorporaTag('NOUN,inan,neut,Fixd,Abbr sing,loct'), normal_form='с', score=6.7e-05, methods_stack=((DictionaryAnalyzer(), 'с', 812, 5),)),\n",
       "  Parse(word='с', tag=OpencorporaTag('NOUN,inan,neut,Fixd,Abbr plur,nomn'), normal_form='с', score=6.7e-05, methods_stack=((DictionaryAnalyzer(), 'с', 812, 6),)),\n",
       "  Parse(word='с', tag=OpencorporaTag('NOUN,inan,neut,Fixd,Abbr plur,gent'), normal_form='с', score=6.7e-05, methods_stack=((DictionaryAnalyzer(), 'с', 812, 7),)),\n",
       "  Parse(word='с', tag=OpencorporaTag('NOUN,inan,neut,Fixd,Abbr plur,datv'), normal_form='с', score=6.7e-05, methods_stack=((DictionaryAnalyzer(), 'с', 812, 8),)),\n",
       "  Parse(word='с', tag=OpencorporaTag('NOUN,inan,neut,Fixd,Abbr plur,accs'), normal_form='с', score=6.7e-05, methods_stack=((DictionaryAnalyzer(), 'с', 812, 9),)),\n",
       "  Parse(word='с', tag=OpencorporaTag('NOUN,inan,neut,Fixd,Abbr plur,ablt'), normal_form='с', score=6.7e-05, methods_stack=((DictionaryAnalyzer(), 'с', 812, 10),)),\n",
       "  Parse(word='с', tag=OpencorporaTag('NOUN,inan,neut,Fixd,Abbr plur,loct'), normal_form='с', score=6.7e-05, methods_stack=((DictionaryAnalyzer(), 'с', 812, 11),))],\n",
       " [Parse(word='изображениями', tag=OpencorporaTag('NOUN,inan,neut plur,ablt'), normal_form='изображение', score=1.0, methods_stack=((DictionaryAnalyzer(), 'изображениями', 77, 20),))],\n",
       " [Parse(word='из', tag=OpencorporaTag('PREP'), normal_form='из', score=0.999673, methods_stack=((DictionaryAnalyzer(), 'из', 393, 0),)),\n",
       "  Parse(word='из', tag=OpencorporaTag('NOUN,anim,femn,Name plur,gent'), normal_form='иза', score=0.000163, methods_stack=((DictionaryAnalyzer(), 'из', 69, 8),)),\n",
       "  Parse(word='из', tag=OpencorporaTag('NOUN,anim,femn,Name plur,accs'), normal_form='иза', score=0.000163, methods_stack=((DictionaryAnalyzer(), 'из', 69, 10),))],\n",
       " [Parse(word='базы', tag=OpencorporaTag('NOUN,inan,femn sing,gent'), normal_form='база', score=0.76, methods_stack=((DictionaryAnalyzer(), 'базы', 55, 1),)),\n",
       "  Parse(word='базы', tag=OpencorporaTag('NOUN,inan,femn plur,nomn'), normal_form='база', score=0.12, methods_stack=((DictionaryAnalyzer(), 'базы', 55, 7),)),\n",
       "  Parse(word='базы', tag=OpencorporaTag('NOUN,inan,femn plur,accs'), normal_form='база', score=0.093333, methods_stack=((DictionaryAnalyzer(), 'базы', 55, 10),)),\n",
       "  Parse(word='базы', tag=OpencorporaTag('NOUN,inan,masc plur,nomn'), normal_form='баз', score=0.013333, methods_stack=((DictionaryAnalyzer(), 'базы', 112, 7),)),\n",
       "  Parse(word='базы', tag=OpencorporaTag('NOUN,inan,masc plur,accs'), normal_form='баз', score=0.013333, methods_stack=((DictionaryAnalyzer(), 'базы', 112, 10),))],\n",
       " [Parse(word='данных', tag=OpencorporaTag('NOUN,inan,GNdr,Pltm plur,gent'), normal_form='данные', score=0.889908, methods_stack=((DictionaryAnalyzer(), 'данных', 154, 1),)),\n",
       "  Parse(word='данных', tag=OpencorporaTag('NOUN,inan,GNdr,Pltm plur,loct'), normal_form='данные', score=0.055045, methods_stack=((DictionaryAnalyzer(), 'данных', 154, 5),)),\n",
       "  Parse(word='данных', tag=OpencorporaTag('PRTF,perf,tran,past,pssv plur,gent'), normal_form='дать', score=0.009174, methods_stack=((DictionaryAnalyzer(), 'данных', 884, 63),)),\n",
       "  Parse(word='данных', tag=OpencorporaTag('PRTF,perf,tran,past,pssv anim,plur,accs'), normal_form='дать', score=0.009174, methods_stack=((DictionaryAnalyzer(), 'данных', 884, 65),)),\n",
       "  Parse(word='данных', tag=OpencorporaTag('PRTF,perf,tran,past,pssv plur,loct'), normal_form='дать', score=0.009174, methods_stack=((DictionaryAnalyzer(), 'данных', 884, 68),)),\n",
       "  Parse(word='данных', tag=OpencorporaTag('ADJF,Apro plur,gent'), normal_form='данный', score=0.009174, methods_stack=((DictionaryAnalyzer(), 'данных', 1306, 20),)),\n",
       "  Parse(word='данных', tag=OpencorporaTag('ADJF,Apro anim,plur,accs'), normal_form='данный', score=0.009174, methods_stack=((DictionaryAnalyzer(), 'данных', 1306, 23),)),\n",
       "  Parse(word='данных', tag=OpencorporaTag('ADJF,Apro plur,loct'), normal_form='данный', score=0.009174, methods_stack=((DictionaryAnalyzer(), 'данных', 1306, 25),))]]"
      ]
     },
     "execution_count": 43,
     "metadata": {},
     "output_type": "execute_result"
    }
   ],
   "source": [
    "words_analyzed"
   ]
  },
  {
   "cell_type": "code",
   "execution_count": 45,
   "metadata": {
    "colab": {
     "base_uri": "https://localhost:8080/",
     "height": 88
    },
    "colab_type": "code",
    "id": "7EmhCkUfSfvT",
    "outputId": "2bcfb5e1-05f5-4312-a988-88cec85b0806"
   },
   "outputs": [
    {
     "data": {
      "text/plain": [
       "[Parse(word='печь', tag=OpencorporaTag('NOUN,inan,femn sing,nomn'), normal_form='печь', score=0.571428, methods_stack=((DictionaryAnalyzer(), 'печь', 2223, 0),)),\n",
       " Parse(word='печь', tag=OpencorporaTag('INFN,impf,tran'), normal_form='печь', score=0.285714, methods_stack=((DictionaryAnalyzer(), 'печь', 2456, 0),)),\n",
       " Parse(word='печь', tag=OpencorporaTag('NOUN,inan,femn sing,accs'), normal_form='печь', score=0.142857, methods_stack=((DictionaryAnalyzer(), 'печь', 2223, 3),))]"
      ]
     },
     "execution_count": 45,
     "metadata": {},
     "output_type": "execute_result"
    }
   ],
   "source": [
    "morph.parse(\"печь\") # пример с морфологической неоднозначностью"
   ]
  },
  {
   "cell_type": "markdown",
   "metadata": {
    "colab_type": "text",
    "id": "LpQ98mZtNf2w"
   },
   "source": [
    "Она похожа на analyze в майстеме только возвращает список объектов Parse\n",
    "* Первый в списке - самый вероятный разбор (у каждого есть score)\n",
    "* Информация достается через атрибут (Parse.word)\n",
    "* Грамматическая информация хранится в объекте OpencorporaTag и из него удобно доставать\n",
    "части речи или другие категории"
   ]
  },
  {
   "cell_type": "code",
   "execution_count": 47,
   "metadata": {
    "colab": {
     "base_uri": "https://localhost:8080/",
     "height": 173
    },
    "colab_type": "code",
    "id": "2MVvEeqmSfvX",
    "outputId": "cd878f2e-44ed-4c03-93f8-c44fca964d58"
   },
   "outputs": [
    {
     "name": "stdout",
     "output_type": "stream",
     "text": [
      "Первое слово -  система\n",
      "Разбор первого слова -  Parse(word='система', tag=OpencorporaTag('NOUN,inan,femn sing,nomn'), normal_form='система', score=1.0, methods_stack=((DictionaryAnalyzer(), 'система', 55, 0),))\n",
      "Лемма первого слова -  система\n",
      "Грамматическая информация первого слова -  NOUN,inan,femn sing,nomn\n",
      "Часть речи первого слова -  NOUN\n",
      "Род первого слова -  femn\n",
      "Число первого слова -  sing\n",
      "Падеж первого слова -  nomn\n"
     ]
    }
   ],
   "source": [
    "# сделаем красиво и тут\n",
    "print('Первое слово - ', words_analyzed[0][0].word)\n",
    "print('Разбор первого слова - ', words_analyzed[0][0])\n",
    "print('Лемма первого слова - ', words_analyzed[0][0].normal_form)\n",
    "print('Грамматическая информация первого слова - ', words_analyzed[0][0].tag)\n",
    "print('Часть речи первого слова - ', words_analyzed[0][0].tag.POS)\n",
    "print('Род первого слова - ', words_analyzed[0][0].tag.gender)\n",
    "print('Число первого слова - ', words_analyzed[0][0].tag.number)\n",
    "print('Падеж первого слова - ', words_analyzed[0][0].tag.case)"
   ]
  },
  {
   "cell_type": "markdown",
   "metadata": {
    "colab_type": "text",
    "id": "lY4sSWT-UCE7"
   },
   "source": [
    "### что можно дальше"
   ]
  },
  {
   "cell_type": "markdown",
   "metadata": {
    "colab_type": "text",
    "id": "HRYDeot6UKym"
   },
   "source": [
    "Pymorphy и Mystem - не единственные морфоанализаторы для русского языка. Можно, например, посмотреть на [RNNmorph](https://github.com/IlyaGusev/rnnmorph) и [deeppavlov](http://docs.deeppavlov.ai/en/master/features/models/morphotagger.html).\n",
    "\n",
    "А еще есть исследование, где сравнивали морфоанализаторы для русского  ([краткая версия](http://web-corpora.net/wsgi/mystemplus.wsgi/mystemplus/compare_table/), [статья](http://www.dialog-21.ru/media/3473/dereza.pdf))\n",
    "\n",
    " "
   ]
  }
 ],
 "metadata": {
  "colab": {
   "collapsed_sections": [
    "prpnW0kWjtdg"
   ],
   "include_colab_link": true,
   "name": "morphology.ipynb",
   "provenance": []
  },
  "kernelspec": {
   "display_name": "Python 3",
   "language": "python",
   "name": "python3"
  },
  "language_info": {
   "codemirror_mode": {
    "name": "ipython",
    "version": 3
   },
   "file_extension": ".py",
   "mimetype": "text/x-python",
   "name": "python",
   "nbconvert_exporter": "python",
   "pygments_lexer": "ipython3",
   "version": "3.8.2"
  }
 },
 "nbformat": 4,
 "nbformat_minor": 1
}
